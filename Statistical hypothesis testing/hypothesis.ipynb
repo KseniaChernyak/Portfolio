{
 "cells": [
  {
   "cell_type": "markdown",
   "metadata": {},
   "source": [
    "# АНАЛИЗ ГИПОТЕЗ"
   ]
  },
  {
   "cell_type": "markdown",
   "metadata": {},
   "source": [
    "## **Задачи проекта**\n",
    "\n",
    "Как аналитик крупного интернет-магазина необходимо проанализировать выдвинутые вместе с отделом маркетинга гипотезы для увеличения выручки.\n",
    "\n",
    "В первой части проекта изучим выдвинутые гипотезы и приоритизируем гипотезы методами ICE и RICE, состоящих из 3х (и в случае RICE 4х) компонентов: \n",
    "Reach — скольких пользователей затронет изменение, которое хотим внести;\n",
    "Impact — насколько сильно изменение повлияет на пользователей, их опыт и удовлетворение от продукта;\n",
    "Confidence — насколько мы уверены, что это изменение повлияет на пользователей именно так; \n",
    "Efforts — сколько стоит протестировать эту гипотезу.\n",
    "\n",
    "Во второй части проекта изучим таблицы с результатами проведенного A/B-теста. Таблица с заказами 'orders' и таблица с пользователями 'visitors' с указанием групп A/B-теста. Оценим результаты A/B-теста визуально и выясним, есть ли в данных выбросы.\n",
    "Посчитаем статистическую значимость различий в среднем числе заказов на пользователя и среднем чеке между группами по «сырым» данным — без удаления аномальных пользователей.\n",
    "Сформулируем гипотезы. Нулевая: различий в среднем количестве заказов между группами нет. Альтернативная: различия в среднем между группами есть."
   ]
  },
  {
   "cell_type": "markdown",
   "metadata": {},
   "source": [
    "## **Часть 1. Приоритизация гипотез**\n",
    "\n",
    "Изучим данные в таблице 'hypothesis' с 9-ю выдвинутыми гипотезами по увеличению выручки интернет-магазина с указанными параметрами Reach, Impact, Confidence, Effort."
   ]
  },
  {
   "cell_type": "markdown",
   "metadata": {},
   "source": [
    "### **Изучение данных**"
   ]
  },
  {
   "cell_type": "code",
   "execution_count": 1,
   "metadata": {},
   "outputs": [],
   "source": [
    "import pandas as pd\n",
    "import datetime as dt\n",
    "import scipy.stats as stats\n",
    "import numpy as np\n",
    "import matplotlib.pyplot as plt\n",
    "from pandas.plotting import register_matplotlib_converters\n",
    "import warnings\n",
    "# конвертеры, которые позволяют использовать типы pandas в matplotlib  \n",
    "register_matplotlib_converters()"
   ]
  },
  {
   "cell_type": "code",
   "execution_count": 2,
   "metadata": {},
   "outputs": [],
   "source": [
    "data = pd.read_csv('/datasets/hypothesis.csv', sep=',')"
   ]
  },
  {
   "cell_type": "code",
   "execution_count": 3,
   "metadata": {},
   "outputs": [
    {
     "name": "stdout",
     "output_type": "stream",
     "text": [
      "<class 'pandas.core.frame.DataFrame'>\n",
      "RangeIndex: 9 entries, 0 to 8\n",
      "Data columns (total 5 columns):\n",
      " #   Column      Non-Null Count  Dtype \n",
      "---  ------      --------------  ----- \n",
      " 0   Hypothesis  9 non-null      object\n",
      " 1   Reach       9 non-null      int64 \n",
      " 2   Impact      9 non-null      int64 \n",
      " 3   Confidence  9 non-null      int64 \n",
      " 4   Efforts     9 non-null      int64 \n",
      "dtypes: int64(4), object(1)\n",
      "memory usage: 488.0+ bytes\n"
     ]
    }
   ],
   "source": [
    "data.info()"
   ]
  },
  {
   "cell_type": "code",
   "execution_count": 4,
   "metadata": {},
   "outputs": [],
   "source": [
    "pd.set_option('display.max_columns', None)\n",
    "pd.options.display.max_colwidth = 150"
   ]
  },
  {
   "cell_type": "code",
   "execution_count": 5,
   "metadata": {},
   "outputs": [
    {
     "data": {
      "text/html": [
       "<div>\n",
       "<style scoped>\n",
       "    .dataframe tbody tr th:only-of-type {\n",
       "        vertical-align: middle;\n",
       "    }\n",
       "\n",
       "    .dataframe tbody tr th {\n",
       "        vertical-align: top;\n",
       "    }\n",
       "\n",
       "    .dataframe thead th {\n",
       "        text-align: right;\n",
       "    }\n",
       "</style>\n",
       "<table border=\"1\" class=\"dataframe\">\n",
       "  <thead>\n",
       "    <tr style=\"text-align: right;\">\n",
       "      <th></th>\n",
       "      <th>Hypothesis</th>\n",
       "      <th>Reach</th>\n",
       "      <th>Impact</th>\n",
       "      <th>Confidence</th>\n",
       "      <th>Efforts</th>\n",
       "    </tr>\n",
       "  </thead>\n",
       "  <tbody>\n",
       "    <tr>\n",
       "      <th>0</th>\n",
       "      <td>Добавить два новых канала привлечения трафика, что позволит привлекать на 30% больше пользователей</td>\n",
       "      <td>3</td>\n",
       "      <td>10</td>\n",
       "      <td>8</td>\n",
       "      <td>6</td>\n",
       "    </tr>\n",
       "    <tr>\n",
       "      <th>1</th>\n",
       "      <td>Запустить собственную службу доставки, что сократит срок доставки заказов</td>\n",
       "      <td>2</td>\n",
       "      <td>5</td>\n",
       "      <td>4</td>\n",
       "      <td>10</td>\n",
       "    </tr>\n",
       "    <tr>\n",
       "      <th>2</th>\n",
       "      <td>Добавить блоки рекомендаций товаров на сайт интернет магазина, чтобы повысить конверсию и средний чек заказа</td>\n",
       "      <td>8</td>\n",
       "      <td>3</td>\n",
       "      <td>7</td>\n",
       "      <td>3</td>\n",
       "    </tr>\n",
       "    <tr>\n",
       "      <th>3</th>\n",
       "      <td>Изменить структура категорий, что увеличит конверсию, т.к. пользователи быстрее найдут нужный товар</td>\n",
       "      <td>8</td>\n",
       "      <td>3</td>\n",
       "      <td>3</td>\n",
       "      <td>8</td>\n",
       "    </tr>\n",
       "    <tr>\n",
       "      <th>4</th>\n",
       "      <td>Изменить цвет фона главной страницы, чтобы увеличить вовлеченность пользователей</td>\n",
       "      <td>3</td>\n",
       "      <td>1</td>\n",
       "      <td>1</td>\n",
       "      <td>1</td>\n",
       "    </tr>\n",
       "    <tr>\n",
       "      <th>5</th>\n",
       "      <td>Добавить страницу отзывов клиентов о магазине, что позволит увеличить количество заказов</td>\n",
       "      <td>3</td>\n",
       "      <td>2</td>\n",
       "      <td>2</td>\n",
       "      <td>3</td>\n",
       "    </tr>\n",
       "    <tr>\n",
       "      <th>6</th>\n",
       "      <td>Показать на главной странице баннеры с актуальными акциями и распродажами, чтобы увеличить конверсию</td>\n",
       "      <td>5</td>\n",
       "      <td>3</td>\n",
       "      <td>8</td>\n",
       "      <td>3</td>\n",
       "    </tr>\n",
       "    <tr>\n",
       "      <th>7</th>\n",
       "      <td>Добавить форму подписки на все основные страницы, чтобы собрать базу клиентов для email-рассылок</td>\n",
       "      <td>10</td>\n",
       "      <td>7</td>\n",
       "      <td>8</td>\n",
       "      <td>5</td>\n",
       "    </tr>\n",
       "    <tr>\n",
       "      <th>8</th>\n",
       "      <td>Запустить акцию, дающую скидку на товар в день рождения</td>\n",
       "      <td>1</td>\n",
       "      <td>9</td>\n",
       "      <td>9</td>\n",
       "      <td>5</td>\n",
       "    </tr>\n",
       "  </tbody>\n",
       "</table>\n",
       "</div>"
      ],
      "text/plain": [
       "                                                                                                     Hypothesis  \\\n",
       "0            Добавить два новых канала привлечения трафика, что позволит привлекать на 30% больше пользователей   \n",
       "1                                     Запустить собственную службу доставки, что сократит срок доставки заказов   \n",
       "2  Добавить блоки рекомендаций товаров на сайт интернет магазина, чтобы повысить конверсию и средний чек заказа   \n",
       "3           Изменить структура категорий, что увеличит конверсию, т.к. пользователи быстрее найдут нужный товар   \n",
       "4                              Изменить цвет фона главной страницы, чтобы увеличить вовлеченность пользователей   \n",
       "5                      Добавить страницу отзывов клиентов о магазине, что позволит увеличить количество заказов   \n",
       "6          Показать на главной странице баннеры с актуальными акциями и распродажами, чтобы увеличить конверсию   \n",
       "7              Добавить форму подписки на все основные страницы, чтобы собрать базу клиентов для email-рассылок   \n",
       "8                                                       Запустить акцию, дающую скидку на товар в день рождения   \n",
       "\n",
       "   Reach  Impact  Confidence  Efforts  \n",
       "0      3      10           8        6  \n",
       "1      2       5           4       10  \n",
       "2      8       3           7        3  \n",
       "3      8       3           3        8  \n",
       "4      3       1           1        1  \n",
       "5      3       2           2        3  \n",
       "6      5       3           8        3  \n",
       "7     10       7           8        5  \n",
       "8      1       9           9        5  "
      ]
     },
     "execution_count": 5,
     "metadata": {},
     "output_type": "execute_result"
    }
   ],
   "source": [
    "data"
   ]
  },
  {
   "cell_type": "code",
   "execution_count": 6,
   "metadata": {},
   "outputs": [],
   "source": [
    "#Приведем названия столбцов к нижнему регистру\n",
    "data.columns = data.columns.str.lower()"
   ]
  },
  {
   "cell_type": "markdown",
   "metadata": {},
   "source": [
    "### **Фреймворк ICE для приоритизации гипотез**"
   ]
  },
  {
   "cell_type": "code",
   "execution_count": 7,
   "metadata": {},
   "outputs": [],
   "source": [
    "#Посчитаем ICE для гипотез. Добавим полученные значения ICE к существующей таблице. Новый столбец назовем ICE.\n",
    "data['ICE'] = (data['impact']*data['confidence'])/data['efforts']"
   ]
  },
  {
   "cell_type": "code",
   "execution_count": 8,
   "metadata": {},
   "outputs": [
    {
     "data": {
      "text/html": [
       "<div>\n",
       "<style scoped>\n",
       "    .dataframe tbody tr th:only-of-type {\n",
       "        vertical-align: middle;\n",
       "    }\n",
       "\n",
       "    .dataframe tbody tr th {\n",
       "        vertical-align: top;\n",
       "    }\n",
       "\n",
       "    .dataframe thead th {\n",
       "        text-align: right;\n",
       "    }\n",
       "</style>\n",
       "<table border=\"1\" class=\"dataframe\">\n",
       "  <thead>\n",
       "    <tr style=\"text-align: right;\">\n",
       "      <th></th>\n",
       "      <th>hypothesis</th>\n",
       "      <th>ICE</th>\n",
       "    </tr>\n",
       "  </thead>\n",
       "  <tbody>\n",
       "    <tr>\n",
       "      <th>8</th>\n",
       "      <td>Запустить акцию, дающую скидку на товар в день рождения</td>\n",
       "      <td>16.200000</td>\n",
       "    </tr>\n",
       "    <tr>\n",
       "      <th>0</th>\n",
       "      <td>Добавить два новых канала привлечения трафика, что позволит привлекать на 30% больше пользователей</td>\n",
       "      <td>13.333333</td>\n",
       "    </tr>\n",
       "    <tr>\n",
       "      <th>7</th>\n",
       "      <td>Добавить форму подписки на все основные страницы, чтобы собрать базу клиентов для email-рассылок</td>\n",
       "      <td>11.200000</td>\n",
       "    </tr>\n",
       "    <tr>\n",
       "      <th>6</th>\n",
       "      <td>Показать на главной странице баннеры с актуальными акциями и распродажами, чтобы увеличить конверсию</td>\n",
       "      <td>8.000000</td>\n",
       "    </tr>\n",
       "    <tr>\n",
       "      <th>2</th>\n",
       "      <td>Добавить блоки рекомендаций товаров на сайт интернет магазина, чтобы повысить конверсию и средний чек заказа</td>\n",
       "      <td>7.000000</td>\n",
       "    </tr>\n",
       "    <tr>\n",
       "      <th>1</th>\n",
       "      <td>Запустить собственную службу доставки, что сократит срок доставки заказов</td>\n",
       "      <td>2.000000</td>\n",
       "    </tr>\n",
       "    <tr>\n",
       "      <th>5</th>\n",
       "      <td>Добавить страницу отзывов клиентов о магазине, что позволит увеличить количество заказов</td>\n",
       "      <td>1.333333</td>\n",
       "    </tr>\n",
       "    <tr>\n",
       "      <th>3</th>\n",
       "      <td>Изменить структура категорий, что увеличит конверсию, т.к. пользователи быстрее найдут нужный товар</td>\n",
       "      <td>1.125000</td>\n",
       "    </tr>\n",
       "    <tr>\n",
       "      <th>4</th>\n",
       "      <td>Изменить цвет фона главной страницы, чтобы увеличить вовлеченность пользователей</td>\n",
       "      <td>1.000000</td>\n",
       "    </tr>\n",
       "  </tbody>\n",
       "</table>\n",
       "</div>"
      ],
      "text/plain": [
       "                                                                                                     hypothesis  \\\n",
       "8                                                       Запустить акцию, дающую скидку на товар в день рождения   \n",
       "0            Добавить два новых канала привлечения трафика, что позволит привлекать на 30% больше пользователей   \n",
       "7              Добавить форму подписки на все основные страницы, чтобы собрать базу клиентов для email-рассылок   \n",
       "6          Показать на главной странице баннеры с актуальными акциями и распродажами, чтобы увеличить конверсию   \n",
       "2  Добавить блоки рекомендаций товаров на сайт интернет магазина, чтобы повысить конверсию и средний чек заказа   \n",
       "1                                     Запустить собственную службу доставки, что сократит срок доставки заказов   \n",
       "5                      Добавить страницу отзывов клиентов о магазине, что позволит увеличить количество заказов   \n",
       "3           Изменить структура категорий, что увеличит конверсию, т.к. пользователи быстрее найдут нужный товар   \n",
       "4                              Изменить цвет фона главной страницы, чтобы увеличить вовлеченность пользователей   \n",
       "\n",
       "         ICE  \n",
       "8  16.200000  \n",
       "0  13.333333  \n",
       "7  11.200000  \n",
       "6   8.000000  \n",
       "2   7.000000  \n",
       "1   2.000000  \n",
       "5   1.333333  \n",
       "3   1.125000  \n",
       "4   1.000000  "
      ]
     },
     "execution_count": 8,
     "metadata": {},
     "output_type": "execute_result"
    }
   ],
   "source": [
    "#Выведем столбцы 'hypothesis' и 'ICE', отсортированные по столбцу 'ICE'.\n",
    "data.sort_values(by='ICE', ascending=False)[['hypothesis', 'ICE']]"
   ]
  },
  {
   "cell_type": "markdown",
   "metadata": {},
   "source": [
    "***ВЫВОД:***\n",
    "\n",
    "Наиболее перспективные гипотезы по ICE: \n",
    "- Запустить акцию, дающую скидку на товар в день рождения (8),\n",
    "- Добавить два новых канала привлечения трафика, что позволит привлекать на 30% больше пользователей (0), \n",
    "- Добавить форму подписки на все основные страницы, чтобы собрать базу клиентов для email-рассылок (7)."
   ]
  },
  {
   "cell_type": "markdown",
   "metadata": {},
   "source": [
    "### **Фреймворк RICE для приоритизации гипотез**"
   ]
  },
  {
   "cell_type": "code",
   "execution_count": 9,
   "metadata": {},
   "outputs": [],
   "source": [
    "#Посчитаем RICE для гипотез. Добавим полученные значения RICE к существующей таблице. Новый столбец назовем RICE.\n",
    "data['RICE'] = (data['reach'] * data['impact'] * data['confidence']) / data['efforts']"
   ]
  },
  {
   "cell_type": "code",
   "execution_count": 10,
   "metadata": {},
   "outputs": [
    {
     "data": {
      "text/html": [
       "<div>\n",
       "<style scoped>\n",
       "    .dataframe tbody tr th:only-of-type {\n",
       "        vertical-align: middle;\n",
       "    }\n",
       "\n",
       "    .dataframe tbody tr th {\n",
       "        vertical-align: top;\n",
       "    }\n",
       "\n",
       "    .dataframe thead th {\n",
       "        text-align: right;\n",
       "    }\n",
       "</style>\n",
       "<table border=\"1\" class=\"dataframe\">\n",
       "  <thead>\n",
       "    <tr style=\"text-align: right;\">\n",
       "      <th></th>\n",
       "      <th>hypothesis</th>\n",
       "      <th>RICE</th>\n",
       "    </tr>\n",
       "  </thead>\n",
       "  <tbody>\n",
       "    <tr>\n",
       "      <th>7</th>\n",
       "      <td>Добавить форму подписки на все основные страницы, чтобы собрать базу клиентов для email-рассылок</td>\n",
       "      <td>112.0</td>\n",
       "    </tr>\n",
       "    <tr>\n",
       "      <th>2</th>\n",
       "      <td>Добавить блоки рекомендаций товаров на сайт интернет магазина, чтобы повысить конверсию и средний чек заказа</td>\n",
       "      <td>56.0</td>\n",
       "    </tr>\n",
       "    <tr>\n",
       "      <th>0</th>\n",
       "      <td>Добавить два новых канала привлечения трафика, что позволит привлекать на 30% больше пользователей</td>\n",
       "      <td>40.0</td>\n",
       "    </tr>\n",
       "    <tr>\n",
       "      <th>6</th>\n",
       "      <td>Показать на главной странице баннеры с актуальными акциями и распродажами, чтобы увеличить конверсию</td>\n",
       "      <td>40.0</td>\n",
       "    </tr>\n",
       "    <tr>\n",
       "      <th>8</th>\n",
       "      <td>Запустить акцию, дающую скидку на товар в день рождения</td>\n",
       "      <td>16.2</td>\n",
       "    </tr>\n",
       "    <tr>\n",
       "      <th>3</th>\n",
       "      <td>Изменить структура категорий, что увеличит конверсию, т.к. пользователи быстрее найдут нужный товар</td>\n",
       "      <td>9.0</td>\n",
       "    </tr>\n",
       "    <tr>\n",
       "      <th>1</th>\n",
       "      <td>Запустить собственную службу доставки, что сократит срок доставки заказов</td>\n",
       "      <td>4.0</td>\n",
       "    </tr>\n",
       "    <tr>\n",
       "      <th>5</th>\n",
       "      <td>Добавить страницу отзывов клиентов о магазине, что позволит увеличить количество заказов</td>\n",
       "      <td>4.0</td>\n",
       "    </tr>\n",
       "    <tr>\n",
       "      <th>4</th>\n",
       "      <td>Изменить цвет фона главной страницы, чтобы увеличить вовлеченность пользователей</td>\n",
       "      <td>3.0</td>\n",
       "    </tr>\n",
       "  </tbody>\n",
       "</table>\n",
       "</div>"
      ],
      "text/plain": [
       "                                                                                                     hypothesis  \\\n",
       "7              Добавить форму подписки на все основные страницы, чтобы собрать базу клиентов для email-рассылок   \n",
       "2  Добавить блоки рекомендаций товаров на сайт интернет магазина, чтобы повысить конверсию и средний чек заказа   \n",
       "0            Добавить два новых канала привлечения трафика, что позволит привлекать на 30% больше пользователей   \n",
       "6          Показать на главной странице баннеры с актуальными акциями и распродажами, чтобы увеличить конверсию   \n",
       "8                                                       Запустить акцию, дающую скидку на товар в день рождения   \n",
       "3           Изменить структура категорий, что увеличит конверсию, т.к. пользователи быстрее найдут нужный товар   \n",
       "1                                     Запустить собственную службу доставки, что сократит срок доставки заказов   \n",
       "5                      Добавить страницу отзывов клиентов о магазине, что позволит увеличить количество заказов   \n",
       "4                              Изменить цвет фона главной страницы, чтобы увеличить вовлеченность пользователей   \n",
       "\n",
       "    RICE  \n",
       "7  112.0  \n",
       "2   56.0  \n",
       "0   40.0  \n",
       "6   40.0  \n",
       "8   16.2  \n",
       "3    9.0  \n",
       "1    4.0  \n",
       "5    4.0  \n",
       "4    3.0  "
      ]
     },
     "execution_count": 10,
     "metadata": {},
     "output_type": "execute_result"
    }
   ],
   "source": [
    "#Выведем из получившейся таблицы столбцы 'hypothesis' и 'RICE', отсортированные по столбцу 'RICE'.\n",
    "data.sort_values(by='RICE', ascending=False)[['hypothesis', 'RICE']]"
   ]
  },
  {
   "cell_type": "markdown",
   "metadata": {},
   "source": [
    "### **Итоговая таблица**"
   ]
  },
  {
   "cell_type": "code",
   "execution_count": 11,
   "metadata": {},
   "outputs": [
    {
     "data": {
      "text/html": [
       "<div>\n",
       "<style scoped>\n",
       "    .dataframe tbody tr th:only-of-type {\n",
       "        vertical-align: middle;\n",
       "    }\n",
       "\n",
       "    .dataframe tbody tr th {\n",
       "        vertical-align: top;\n",
       "    }\n",
       "\n",
       "    .dataframe thead th {\n",
       "        text-align: right;\n",
       "    }\n",
       "</style>\n",
       "<table border=\"1\" class=\"dataframe\">\n",
       "  <thead>\n",
       "    <tr style=\"text-align: right;\">\n",
       "      <th></th>\n",
       "      <th>hypothesis</th>\n",
       "      <th>reach</th>\n",
       "      <th>ICE</th>\n",
       "      <th>RICE</th>\n",
       "    </tr>\n",
       "  </thead>\n",
       "  <tbody>\n",
       "    <tr>\n",
       "      <th>7</th>\n",
       "      <td>Добавить форму подписки на все основные страницы, чтобы собрать базу клиентов для email-рассылок</td>\n",
       "      <td>10</td>\n",
       "      <td>11.200000</td>\n",
       "      <td>112.0</td>\n",
       "    </tr>\n",
       "    <tr>\n",
       "      <th>2</th>\n",
       "      <td>Добавить блоки рекомендаций товаров на сайт интернет магазина, чтобы повысить конверсию и средний чек заказа</td>\n",
       "      <td>8</td>\n",
       "      <td>7.000000</td>\n",
       "      <td>56.0</td>\n",
       "    </tr>\n",
       "    <tr>\n",
       "      <th>3</th>\n",
       "      <td>Изменить структура категорий, что увеличит конверсию, т.к. пользователи быстрее найдут нужный товар</td>\n",
       "      <td>8</td>\n",
       "      <td>1.125000</td>\n",
       "      <td>9.0</td>\n",
       "    </tr>\n",
       "    <tr>\n",
       "      <th>6</th>\n",
       "      <td>Показать на главной странице баннеры с актуальными акциями и распродажами, чтобы увеличить конверсию</td>\n",
       "      <td>5</td>\n",
       "      <td>8.000000</td>\n",
       "      <td>40.0</td>\n",
       "    </tr>\n",
       "    <tr>\n",
       "      <th>0</th>\n",
       "      <td>Добавить два новых канала привлечения трафика, что позволит привлекать на 30% больше пользователей</td>\n",
       "      <td>3</td>\n",
       "      <td>13.333333</td>\n",
       "      <td>40.0</td>\n",
       "    </tr>\n",
       "    <tr>\n",
       "      <th>4</th>\n",
       "      <td>Изменить цвет фона главной страницы, чтобы увеличить вовлеченность пользователей</td>\n",
       "      <td>3</td>\n",
       "      <td>1.000000</td>\n",
       "      <td>3.0</td>\n",
       "    </tr>\n",
       "    <tr>\n",
       "      <th>5</th>\n",
       "      <td>Добавить страницу отзывов клиентов о магазине, что позволит увеличить количество заказов</td>\n",
       "      <td>3</td>\n",
       "      <td>1.333333</td>\n",
       "      <td>4.0</td>\n",
       "    </tr>\n",
       "    <tr>\n",
       "      <th>1</th>\n",
       "      <td>Запустить собственную службу доставки, что сократит срок доставки заказов</td>\n",
       "      <td>2</td>\n",
       "      <td>2.000000</td>\n",
       "      <td>4.0</td>\n",
       "    </tr>\n",
       "    <tr>\n",
       "      <th>8</th>\n",
       "      <td>Запустить акцию, дающую скидку на товар в день рождения</td>\n",
       "      <td>1</td>\n",
       "      <td>16.200000</td>\n",
       "      <td>16.2</td>\n",
       "    </tr>\n",
       "  </tbody>\n",
       "</table>\n",
       "</div>"
      ],
      "text/plain": [
       "                                                                                                     hypothesis  \\\n",
       "7              Добавить форму подписки на все основные страницы, чтобы собрать базу клиентов для email-рассылок   \n",
       "2  Добавить блоки рекомендаций товаров на сайт интернет магазина, чтобы повысить конверсию и средний чек заказа   \n",
       "3           Изменить структура категорий, что увеличит конверсию, т.к. пользователи быстрее найдут нужный товар   \n",
       "6          Показать на главной странице баннеры с актуальными акциями и распродажами, чтобы увеличить конверсию   \n",
       "0            Добавить два новых канала привлечения трафика, что позволит привлекать на 30% больше пользователей   \n",
       "4                              Изменить цвет фона главной страницы, чтобы увеличить вовлеченность пользователей   \n",
       "5                      Добавить страницу отзывов клиентов о магазине, что позволит увеличить количество заказов   \n",
       "1                                     Запустить собственную службу доставки, что сократит срок доставки заказов   \n",
       "8                                                       Запустить акцию, дающую скидку на товар в день рождения   \n",
       "\n",
       "   reach        ICE   RICE  \n",
       "7     10  11.200000  112.0  \n",
       "2      8   7.000000   56.0  \n",
       "3      8   1.125000    9.0  \n",
       "6      5   8.000000   40.0  \n",
       "0      3  13.333333   40.0  \n",
       "4      3   1.000000    3.0  \n",
       "5      3   1.333333    4.0  \n",
       "1      2   2.000000    4.0  \n",
       "8      1  16.200000   16.2  "
      ]
     },
     "execution_count": 11,
     "metadata": {},
     "output_type": "execute_result"
    }
   ],
   "source": [
    "data.sort_values(by='reach', ascending=False)[['hypothesis', 'reach', 'ICE', 'RICE']]"
   ]
  },
  {
   "cell_type": "markdown",
   "metadata": {},
   "source": [
    "***ВЫВОД:***\n",
    "\n",
    "И снова мы видим те же гипотезы, что были ранее, но в другом порядке. \n",
    "Гипотеза 'Запустить акцию, дающую скидку на товар в день рождения' (8) уже не имеет первенства. \n",
    "\n",
    "На первом месте:\n",
    "- 'Добавить форму подписки на все основные страницы, чтобы собрать базу клиентов для email-рассылок' (7), т.к. ее охват (REACH) равен 10, максимально из всех, в то время как у гипотезы 'Запустить акцию, дающую скидку на товар в день рождения' (8) охват (REACH) всего 1, самый низкий.\n",
    "\n",
    "Наиболее перспективные гипотезы по RICE: \n",
    "- Добавить форму подписки на все основные страницы, чтобы собрать базу клиентов для email-рассылок (7), \n",
    "- Добавить блоки рекомендаций товаров на сайт интернет магазина, чтобы повысить конверсию и средний чек заказа (2), \n",
    "- Добавить два новых канала привлечения трафика, что позволит привлекать на 30% больше пользователей (0), \n",
    "- Показать на главной странице баннеры с актуальными акциями и распродажами, чтобы увеличить конверсию (6)."
   ]
  },
  {
   "cell_type": "markdown",
   "metadata": {},
   "source": [
    "## **Часть 2. Анализ A/B-теста**\n",
    "\n",
    "Изучим 2 полученные таблицы с результатами пройденного A/B-теста. Таблица с заказами 'orders' и  таблица с пользователями 'visitors' с указанием групп A/B-теста."
   ]
  },
  {
   "cell_type": "markdown",
   "metadata": {},
   "source": [
    "### **Изучение данных**"
   ]
  },
  {
   "cell_type": "code",
   "execution_count": 12,
   "metadata": {},
   "outputs": [],
   "source": [
    "#Прочтём данные из файлов с результатами A/B-тестирования\n",
    "orders = pd.read_csv('/datasets/orders.csv', sep=',')"
   ]
  },
  {
   "cell_type": "code",
   "execution_count": 13,
   "metadata": {},
   "outputs": [
    {
     "data": {
      "text/html": [
       "<div>\n",
       "<style scoped>\n",
       "    .dataframe tbody tr th:only-of-type {\n",
       "        vertical-align: middle;\n",
       "    }\n",
       "\n",
       "    .dataframe tbody tr th {\n",
       "        vertical-align: top;\n",
       "    }\n",
       "\n",
       "    .dataframe thead th {\n",
       "        text-align: right;\n",
       "    }\n",
       "</style>\n",
       "<table border=\"1\" class=\"dataframe\">\n",
       "  <thead>\n",
       "    <tr style=\"text-align: right;\">\n",
       "      <th></th>\n",
       "      <th>transactionId</th>\n",
       "      <th>visitorId</th>\n",
       "      <th>date</th>\n",
       "      <th>revenue</th>\n",
       "      <th>group</th>\n",
       "    </tr>\n",
       "  </thead>\n",
       "  <tbody>\n",
       "    <tr>\n",
       "      <th>0</th>\n",
       "      <td>3667963787</td>\n",
       "      <td>3312258926</td>\n",
       "      <td>2019-08-15</td>\n",
       "      <td>1650</td>\n",
       "      <td>B</td>\n",
       "    </tr>\n",
       "    <tr>\n",
       "      <th>1</th>\n",
       "      <td>2804400009</td>\n",
       "      <td>3642806036</td>\n",
       "      <td>2019-08-15</td>\n",
       "      <td>730</td>\n",
       "      <td>B</td>\n",
       "    </tr>\n",
       "    <tr>\n",
       "      <th>2</th>\n",
       "      <td>2961555356</td>\n",
       "      <td>4069496402</td>\n",
       "      <td>2019-08-15</td>\n",
       "      <td>400</td>\n",
       "      <td>A</td>\n",
       "    </tr>\n",
       "    <tr>\n",
       "      <th>3</th>\n",
       "      <td>3797467345</td>\n",
       "      <td>1196621759</td>\n",
       "      <td>2019-08-15</td>\n",
       "      <td>9759</td>\n",
       "      <td>B</td>\n",
       "    </tr>\n",
       "    <tr>\n",
       "      <th>4</th>\n",
       "      <td>2282983706</td>\n",
       "      <td>2322279887</td>\n",
       "      <td>2019-08-15</td>\n",
       "      <td>2308</td>\n",
       "      <td>B</td>\n",
       "    </tr>\n",
       "    <tr>\n",
       "      <th>...</th>\n",
       "      <td>...</td>\n",
       "      <td>...</td>\n",
       "      <td>...</td>\n",
       "      <td>...</td>\n",
       "      <td>...</td>\n",
       "    </tr>\n",
       "    <tr>\n",
       "      <th>1192</th>\n",
       "      <td>2662137336</td>\n",
       "      <td>3733762160</td>\n",
       "      <td>2019-08-14</td>\n",
       "      <td>6490</td>\n",
       "      <td>B</td>\n",
       "    </tr>\n",
       "    <tr>\n",
       "      <th>1193</th>\n",
       "      <td>2203539145</td>\n",
       "      <td>370388673</td>\n",
       "      <td>2019-08-14</td>\n",
       "      <td>3190</td>\n",
       "      <td>A</td>\n",
       "    </tr>\n",
       "    <tr>\n",
       "      <th>1194</th>\n",
       "      <td>1807773912</td>\n",
       "      <td>573423106</td>\n",
       "      <td>2019-08-14</td>\n",
       "      <td>10550</td>\n",
       "      <td>A</td>\n",
       "    </tr>\n",
       "    <tr>\n",
       "      <th>1195</th>\n",
       "      <td>1947021204</td>\n",
       "      <td>1614305549</td>\n",
       "      <td>2019-08-14</td>\n",
       "      <td>100</td>\n",
       "      <td>A</td>\n",
       "    </tr>\n",
       "    <tr>\n",
       "      <th>1196</th>\n",
       "      <td>3936777065</td>\n",
       "      <td>2108080724</td>\n",
       "      <td>2019-08-15</td>\n",
       "      <td>202740</td>\n",
       "      <td>B</td>\n",
       "    </tr>\n",
       "  </tbody>\n",
       "</table>\n",
       "<p>1197 rows × 5 columns</p>\n",
       "</div>"
      ],
      "text/plain": [
       "      transactionId   visitorId        date  revenue group\n",
       "0        3667963787  3312258926  2019-08-15     1650     B\n",
       "1        2804400009  3642806036  2019-08-15      730     B\n",
       "2        2961555356  4069496402  2019-08-15      400     A\n",
       "3        3797467345  1196621759  2019-08-15     9759     B\n",
       "4        2282983706  2322279887  2019-08-15     2308     B\n",
       "...             ...         ...         ...      ...   ...\n",
       "1192     2662137336  3733762160  2019-08-14     6490     B\n",
       "1193     2203539145   370388673  2019-08-14     3190     A\n",
       "1194     1807773912   573423106  2019-08-14    10550     A\n",
       "1195     1947021204  1614305549  2019-08-14      100     A\n",
       "1196     3936777065  2108080724  2019-08-15   202740     B\n",
       "\n",
       "[1197 rows x 5 columns]"
      ]
     },
     "execution_count": 13,
     "metadata": {},
     "output_type": "execute_result"
    }
   ],
   "source": [
    "orders"
   ]
  },
  {
   "cell_type": "code",
   "execution_count": 14,
   "metadata": {},
   "outputs": [],
   "source": [
    "visitors = pd.read_csv('/datasets/visitors.csv', sep=',')"
   ]
  },
  {
   "cell_type": "code",
   "execution_count": 15,
   "metadata": {},
   "outputs": [
    {
     "data": {
      "text/html": [
       "<div>\n",
       "<style scoped>\n",
       "    .dataframe tbody tr th:only-of-type {\n",
       "        vertical-align: middle;\n",
       "    }\n",
       "\n",
       "    .dataframe tbody tr th {\n",
       "        vertical-align: top;\n",
       "    }\n",
       "\n",
       "    .dataframe thead th {\n",
       "        text-align: right;\n",
       "    }\n",
       "</style>\n",
       "<table border=\"1\" class=\"dataframe\">\n",
       "  <thead>\n",
       "    <tr style=\"text-align: right;\">\n",
       "      <th></th>\n",
       "      <th>date</th>\n",
       "      <th>group</th>\n",
       "      <th>visitors</th>\n",
       "    </tr>\n",
       "  </thead>\n",
       "  <tbody>\n",
       "    <tr>\n",
       "      <th>0</th>\n",
       "      <td>2019-08-01</td>\n",
       "      <td>A</td>\n",
       "      <td>719</td>\n",
       "    </tr>\n",
       "    <tr>\n",
       "      <th>1</th>\n",
       "      <td>2019-08-02</td>\n",
       "      <td>A</td>\n",
       "      <td>619</td>\n",
       "    </tr>\n",
       "    <tr>\n",
       "      <th>2</th>\n",
       "      <td>2019-08-03</td>\n",
       "      <td>A</td>\n",
       "      <td>507</td>\n",
       "    </tr>\n",
       "    <tr>\n",
       "      <th>3</th>\n",
       "      <td>2019-08-04</td>\n",
       "      <td>A</td>\n",
       "      <td>717</td>\n",
       "    </tr>\n",
       "    <tr>\n",
       "      <th>4</th>\n",
       "      <td>2019-08-05</td>\n",
       "      <td>A</td>\n",
       "      <td>756</td>\n",
       "    </tr>\n",
       "    <tr>\n",
       "      <th>...</th>\n",
       "      <td>...</td>\n",
       "      <td>...</td>\n",
       "      <td>...</td>\n",
       "    </tr>\n",
       "    <tr>\n",
       "      <th>57</th>\n",
       "      <td>2019-08-27</td>\n",
       "      <td>B</td>\n",
       "      <td>720</td>\n",
       "    </tr>\n",
       "    <tr>\n",
       "      <th>58</th>\n",
       "      <td>2019-08-28</td>\n",
       "      <td>B</td>\n",
       "      <td>654</td>\n",
       "    </tr>\n",
       "    <tr>\n",
       "      <th>59</th>\n",
       "      <td>2019-08-29</td>\n",
       "      <td>B</td>\n",
       "      <td>531</td>\n",
       "    </tr>\n",
       "    <tr>\n",
       "      <th>60</th>\n",
       "      <td>2019-08-30</td>\n",
       "      <td>B</td>\n",
       "      <td>490</td>\n",
       "    </tr>\n",
       "    <tr>\n",
       "      <th>61</th>\n",
       "      <td>2019-08-31</td>\n",
       "      <td>B</td>\n",
       "      <td>718</td>\n",
       "    </tr>\n",
       "  </tbody>\n",
       "</table>\n",
       "<p>62 rows × 3 columns</p>\n",
       "</div>"
      ],
      "text/plain": [
       "          date group  visitors\n",
       "0   2019-08-01     A       719\n",
       "1   2019-08-02     A       619\n",
       "2   2019-08-03     A       507\n",
       "3   2019-08-04     A       717\n",
       "4   2019-08-05     A       756\n",
       "..         ...   ...       ...\n",
       "57  2019-08-27     B       720\n",
       "58  2019-08-28     B       654\n",
       "59  2019-08-29     B       531\n",
       "60  2019-08-30     B       490\n",
       "61  2019-08-31     B       718\n",
       "\n",
       "[62 rows x 3 columns]"
      ]
     },
     "execution_count": 15,
     "metadata": {},
     "output_type": "execute_result"
    }
   ],
   "source": [
    "visitors"
   ]
  },
  {
   "cell_type": "code",
   "execution_count": 16,
   "metadata": {},
   "outputs": [
    {
     "data": {
      "text/plain": [
       "array(['B', 'A'], dtype=object)"
      ]
     },
     "execution_count": 16,
     "metadata": {},
     "output_type": "execute_result"
    }
   ],
   "source": [
    "orders['group'].unique()"
   ]
  },
  {
   "cell_type": "code",
   "execution_count": 17,
   "metadata": {},
   "outputs": [
    {
     "data": {
      "text/plain": [
       "array(['A', 'B'], dtype=object)"
      ]
     },
     "execution_count": 17,
     "metadata": {},
     "output_type": "execute_result"
    }
   ],
   "source": [
    "visitors['group'].unique()"
   ]
  },
  {
   "cell_type": "code",
   "execution_count": 18,
   "metadata": {},
   "outputs": [
    {
     "data": {
      "text/plain": [
       "'2019-08-31'"
      ]
     },
     "execution_count": 18,
     "metadata": {},
     "output_type": "execute_result"
    }
   ],
   "source": [
    "orders['date'].max()"
   ]
  },
  {
   "cell_type": "code",
   "execution_count": 19,
   "metadata": {},
   "outputs": [
    {
     "data": {
      "text/plain": [
       "'2019-08-01'"
      ]
     },
     "execution_count": 19,
     "metadata": {},
     "output_type": "execute_result"
    }
   ],
   "source": [
    "orders['date'].min()"
   ]
  },
  {
   "cell_type": "code",
   "execution_count": 20,
   "metadata": {},
   "outputs": [
    {
     "data": {
      "text/plain": [
       "'2019-08-31'"
      ]
     },
     "execution_count": 20,
     "metadata": {},
     "output_type": "execute_result"
    }
   ],
   "source": [
    "visitors['date'].max()"
   ]
  },
  {
   "cell_type": "code",
   "execution_count": 21,
   "metadata": {},
   "outputs": [
    {
     "data": {
      "text/plain": [
       "'2019-08-01'"
      ]
     },
     "execution_count": 21,
     "metadata": {},
     "output_type": "execute_result"
    }
   ],
   "source": [
    "visitors['date'].min()"
   ]
  },
  {
   "cell_type": "code",
   "execution_count": 22,
   "metadata": {},
   "outputs": [
    {
     "data": {
      "text/html": [
       "<div>\n",
       "<style scoped>\n",
       "    .dataframe tbody tr th:only-of-type {\n",
       "        vertical-align: middle;\n",
       "    }\n",
       "\n",
       "    .dataframe tbody tr th {\n",
       "        vertical-align: top;\n",
       "    }\n",
       "\n",
       "    .dataframe thead th {\n",
       "        text-align: right;\n",
       "    }\n",
       "</style>\n",
       "<table border=\"1\" class=\"dataframe\">\n",
       "  <thead>\n",
       "    <tr style=\"text-align: right;\">\n",
       "      <th></th>\n",
       "      <th>group</th>\n",
       "      <th>visitors</th>\n",
       "    </tr>\n",
       "  </thead>\n",
       "  <tbody>\n",
       "    <tr>\n",
       "      <th>0</th>\n",
       "      <td>A</td>\n",
       "      <td>18736</td>\n",
       "    </tr>\n",
       "    <tr>\n",
       "      <th>1</th>\n",
       "      <td>B</td>\n",
       "      <td>18916</td>\n",
       "    </tr>\n",
       "  </tbody>\n",
       "</table>\n",
       "</div>"
      ],
      "text/plain": [
       "  group  visitors\n",
       "0     A     18736\n",
       "1     B     18916"
      ]
     },
     "execution_count": 22,
     "metadata": {},
     "output_type": "execute_result"
    }
   ],
   "source": [
    "visitors.groupby('group', as_index=False).agg({'visitors': 'sum'})"
   ]
  },
  {
   "cell_type": "code",
   "execution_count": 23,
   "metadata": {},
   "outputs": [
    {
     "data": {
      "text/html": [
       "<div>\n",
       "<style scoped>\n",
       "    .dataframe tbody tr th:only-of-type {\n",
       "        vertical-align: middle;\n",
       "    }\n",
       "\n",
       "    .dataframe tbody tr th {\n",
       "        vertical-align: top;\n",
       "    }\n",
       "\n",
       "    .dataframe thead th {\n",
       "        text-align: right;\n",
       "    }\n",
       "</style>\n",
       "<table border=\"1\" class=\"dataframe\">\n",
       "  <thead>\n",
       "    <tr style=\"text-align: right;\">\n",
       "      <th></th>\n",
       "      <th>group</th>\n",
       "      <th>visitorId</th>\n",
       "    </tr>\n",
       "  </thead>\n",
       "  <tbody>\n",
       "    <tr>\n",
       "      <th>0</th>\n",
       "      <td>A</td>\n",
       "      <td>557</td>\n",
       "    </tr>\n",
       "    <tr>\n",
       "      <th>1</th>\n",
       "      <td>B</td>\n",
       "      <td>640</td>\n",
       "    </tr>\n",
       "  </tbody>\n",
       "</table>\n",
       "</div>"
      ],
      "text/plain": [
       "  group  visitorId\n",
       "0     A        557\n",
       "1     B        640"
      ]
     },
     "execution_count": 23,
     "metadata": {},
     "output_type": "execute_result"
    }
   ],
   "source": [
    "orders.groupby('group', as_index=False).agg({'visitorId': 'nunique', 'visitorId': 'count'})"
   ]
  },
  {
   "cell_type": "code",
   "execution_count": 24,
   "metadata": {},
   "outputs": [
    {
     "data": {
      "text/plain": [
       "visitorId    58\n",
       "group        58\n",
       "dtype: int64"
      ]
     },
     "execution_count": 24,
     "metadata": {},
     "output_type": "execute_result"
    }
   ],
   "source": [
    "df = orders[['group', 'visitorId']].groupby(['group', 'visitorId'], as_index=False).agg({'group':'count'})\n",
    "df[df.duplicated('visitorId')].count()"
   ]
  },
  {
   "cell_type": "code",
   "execution_count": 25,
   "metadata": {},
   "outputs": [
    {
     "data": {
      "text/html": [
       "<div>\n",
       "<style scoped>\n",
       "    .dataframe tbody tr th:only-of-type {\n",
       "        vertical-align: middle;\n",
       "    }\n",
       "\n",
       "    .dataframe tbody tr th {\n",
       "        vertical-align: top;\n",
       "    }\n",
       "\n",
       "    .dataframe thead th {\n",
       "        text-align: right;\n",
       "    }\n",
       "</style>\n",
       "<table border=\"1\" class=\"dataframe\">\n",
       "  <thead>\n",
       "    <tr style=\"text-align: right;\">\n",
       "      <th></th>\n",
       "      <th>date</th>\n",
       "      <th>group</th>\n",
       "      <th>orders</th>\n",
       "      <th>buyers</th>\n",
       "      <th>revenue</th>\n",
       "      <th>visitors</th>\n",
       "    </tr>\n",
       "  </thead>\n",
       "  <tbody>\n",
       "    <tr>\n",
       "      <th>0</th>\n",
       "      <td>2019-08-01</td>\n",
       "      <td>A</td>\n",
       "      <td>24</td>\n",
       "      <td>20</td>\n",
       "      <td>148579</td>\n",
       "      <td>719</td>\n",
       "    </tr>\n",
       "    <tr>\n",
       "      <th>1</th>\n",
       "      <td>2019-08-01</td>\n",
       "      <td>B</td>\n",
       "      <td>21</td>\n",
       "      <td>20</td>\n",
       "      <td>101217</td>\n",
       "      <td>713</td>\n",
       "    </tr>\n",
       "    <tr>\n",
       "      <th>2</th>\n",
       "      <td>2019-08-02</td>\n",
       "      <td>A</td>\n",
       "      <td>44</td>\n",
       "      <td>38</td>\n",
       "      <td>242401</td>\n",
       "      <td>1338</td>\n",
       "    </tr>\n",
       "    <tr>\n",
       "      <th>3</th>\n",
       "      <td>2019-08-02</td>\n",
       "      <td>B</td>\n",
       "      <td>45</td>\n",
       "      <td>43</td>\n",
       "      <td>266748</td>\n",
       "      <td>1294</td>\n",
       "    </tr>\n",
       "    <tr>\n",
       "      <th>4</th>\n",
       "      <td>2019-08-03</td>\n",
       "      <td>A</td>\n",
       "      <td>68</td>\n",
       "      <td>62</td>\n",
       "      <td>354874</td>\n",
       "      <td>1845</td>\n",
       "    </tr>\n",
       "    <tr>\n",
       "      <th>...</th>\n",
       "      <td>...</td>\n",
       "      <td>...</td>\n",
       "      <td>...</td>\n",
       "      <td>...</td>\n",
       "      <td>...</td>\n",
       "      <td>...</td>\n",
       "    </tr>\n",
       "    <tr>\n",
       "      <th>57</th>\n",
       "      <td>2019-08-29</td>\n",
       "      <td>B</td>\n",
       "      <td>596</td>\n",
       "      <td>544</td>\n",
       "      <td>5559398</td>\n",
       "      <td>17708</td>\n",
       "    </tr>\n",
       "    <tr>\n",
       "      <th>58</th>\n",
       "      <td>2019-08-30</td>\n",
       "      <td>A</td>\n",
       "      <td>545</td>\n",
       "      <td>493</td>\n",
       "      <td>4022970</td>\n",
       "      <td>18037</td>\n",
       "    </tr>\n",
       "    <tr>\n",
       "      <th>59</th>\n",
       "      <td>2019-08-30</td>\n",
       "      <td>B</td>\n",
       "      <td>620</td>\n",
       "      <td>567</td>\n",
       "      <td>5774631</td>\n",
       "      <td>18198</td>\n",
       "    </tr>\n",
       "    <tr>\n",
       "      <th>60</th>\n",
       "      <td>2019-08-31</td>\n",
       "      <td>A</td>\n",
       "      <td>557</td>\n",
       "      <td>503</td>\n",
       "      <td>4084803</td>\n",
       "      <td>18736</td>\n",
       "    </tr>\n",
       "    <tr>\n",
       "      <th>61</th>\n",
       "      <td>2019-08-31</td>\n",
       "      <td>B</td>\n",
       "      <td>640</td>\n",
       "      <td>586</td>\n",
       "      <td>5907760</td>\n",
       "      <td>18916</td>\n",
       "    </tr>\n",
       "  </tbody>\n",
       "</table>\n",
       "<p>62 rows × 6 columns</p>\n",
       "</div>"
      ],
      "text/plain": [
       "          date group  orders  buyers  revenue  visitors\n",
       "0   2019-08-01     A      24      20   148579       719\n",
       "1   2019-08-01     B      21      20   101217       713\n",
       "2   2019-08-02     A      44      38   242401      1338\n",
       "3   2019-08-02     B      45      43   266748      1294\n",
       "4   2019-08-03     A      68      62   354874      1845\n",
       "..         ...   ...     ...     ...      ...       ...\n",
       "57  2019-08-29     B     596     544  5559398     17708\n",
       "58  2019-08-30     A     545     493  4022970     18037\n",
       "59  2019-08-30     B     620     567  5774631     18198\n",
       "60  2019-08-31     A     557     503  4084803     18736\n",
       "61  2019-08-31     B     640     586  5907760     18916\n",
       "\n",
       "[62 rows x 6 columns]"
      ]
     },
     "execution_count": 25,
     "metadata": {},
     "output_type": "execute_result"
    }
   ],
   "source": [
    "# создаем массив уникальных пар значений дат и групп теста\n",
    "datesGroups = orders[['date', 'group']].drop_duplicates()\n",
    "\n",
    "#Соберём агрегированные кумулятивные по дням данные о заказах в несколько действий\n",
    "ordersAggregated = datesGroups.apply(\n",
    "    lambda x: orders[np.logical_and(orders['date'] <= x['date'], orders['group'] == x['group'])].agg({\n",
    "'date' : 'max',\n",
    "'group' : 'max',\n",
    "'transactionId' : pd.Series.nunique,\n",
    "'visitorId' : pd.Series.nunique,\n",
    "'revenue' : 'sum'}), axis=1).sort_values(by=['date','group'])\n",
    "\n",
    "#Аналогично получим агрегированные кумулятивные по дням данные о посетителях интернет-магазина\n",
    "visitorsAggregated = datesGroups.apply(\n",
    "    lambda x: visitors[np.logical_and(visitors['date'] <= x['date'], visitors['group'] == x['group'])].agg({\n",
    "'date' : 'max',\n",
    "'group' : 'max', \n",
    "'visitors' : 'sum'}), axis=1).sort_values(by=['date','group']) \n",
    "\n",
    "# объединяем кумулятивные данные в одной таблице и присваиваем ее столбцам понятные названия\n",
    "cumulativeData = ordersAggregated.merge(visitorsAggregated, left_on=['date', 'group'], right_on=['date', 'group'])\n",
    "cumulativeData.columns = ['date', 'group', 'orders', 'buyers', 'revenue', 'visitors']\n",
    "\n",
    "cumulativeData"
   ]
  },
  {
   "cell_type": "markdown",
   "metadata": {},
   "source": [
    "### **График кумулятивной выручки по группам**"
   ]
  },
  {
   "cell_type": "code",
   "execution_count": 26,
   "metadata": {},
   "outputs": [
    {
     "data": {
      "text/plain": [
       "<matplotlib.legend.Legend at 0x7f73aa85f610>"
      ]
     },
     "execution_count": 26,
     "metadata": {},
     "output_type": "execute_result"
    },
    {
     "data": {
      "image/png": "[encoded data removed]",
      "text/plain": [
       "<Figure size 1080x360 with 1 Axes>"
      ]
     },
     "metadata": {
      "needs_background": "light"
     },
     "output_type": "display_data"
    }
   ],
   "source": [
    "#Построим графики кумулятивной выручки по дням и группам A/B-тестирования\n",
    "# объединяем кумулятивные данные в одной таблице и присваиваем ее столбцам понятные названия\n",
    "cumulativeData = ordersAggregated.merge(\n",
    "    visitorsAggregated, left_on=['date', 'group'], right_on=['date', 'group']\n",
    ")\n",
    "cumulativeData.columns = [\n",
    "    'date',\n",
    "    'group',\n",
    "    'orders',\n",
    "    'buyers',\n",
    "    'revenue',\n",
    "    'visitors',\n",
    "]\n",
    "\n",
    "# датафрейм с кумулятивным количеством заказов и кумулятивной выручкой по дням в группе А\n",
    "cumulativeRevenueA = cumulativeData[cumulativeData['group']=='A'][['date','revenue', 'orders']]\n",
    "\n",
    "# датафрейм с кумулятивным количеством заказов и кумулятивной выручкой по дням в группе B\n",
    "cumulativeRevenueB = cumulativeData[cumulativeData['group']=='B'][['date','revenue', 'orders']]\n",
    "\n",
    "# Строим график выручки группы А\n",
    "plt.figure(figsize=(15,5))\n",
    "plt.plot(cumulativeRevenueA['date'], cumulativeRevenueA['revenue'], label='A')\n",
    "# Строим график выручки группы B\n",
    "plt.plot(cumulativeRevenueB['date'], cumulativeRevenueB['revenue'], label='B')\n",
    "plt.xticks(cumulativeRevenueA['date'][::3])\n",
    "plt.ylabel('Выручка, млн.')\n",
    "plt.xlabel('Дата')\n",
    "plt.title('Графики с кумулятивной выручкой в группах A и B')\n",
    "plt.legend()"
   ]
  },
  {
   "cell_type": "markdown",
   "metadata": {},
   "source": [
    "***ВЫВОД:***\n",
    "\n",
    "Выручка почти равномерно увеличивается в течение всего теста. Хороший знак.\n",
    "Однако графики выручки группы В в одной точке резко растет. Это может сигнализировать о всплеске числа заказов, либо о появлении очень дорогих заказов в выборке."
   ]
  },
  {
   "cell_type": "markdown",
   "metadata": {},
   "source": [
    "### **График кумулятивного среднего чека по группам**"
   ]
  },
  {
   "cell_type": "code",
   "execution_count": 27,
   "metadata": {},
   "outputs": [
    {
     "data": {
      "text/plain": [
       "<matplotlib.legend.Legend at 0x7f73aa633490>"
      ]
     },
     "execution_count": 27,
     "metadata": {},
     "output_type": "execute_result"
    },
    {
     "data": {
      "image/png": "[encoded data removed]",
      "text/plain": [
       "<Figure size 1080x360 with 1 Axes>"
      ]
     },
     "metadata": {
      "needs_background": "light"
     },
     "output_type": "display_data"
    }
   ],
   "source": [
    "#Построим графики среднего чека по группам — разделим кумулятивную выручку на кумулятивное число заказов\n",
    "plt.figure(figsize=(15,5))\n",
    "plt.plot(cumulativeRevenueA['date'], cumulativeRevenueA['revenue']/cumulativeRevenueA['orders'], label='A')\n",
    "plt.plot(cumulativeRevenueB['date'], cumulativeRevenueB['revenue']/cumulativeRevenueB['orders'], label='B')\n",
    "plt.xticks(cumulativeRevenueA['date'][::3])\n",
    "plt.xticks(cumulativeRevenueA['date'][::3])\n",
    "plt.ylabel('Средний чек')\n",
    "plt.xlabel('Дата')\n",
    "plt.title('Графики среднего чека по группам A и B')\n",
    "plt.legend() "
   ]
  },
  {
   "cell_type": "markdown",
   "metadata": {},
   "source": [
    "***ВЫВОД:***\n",
    "\n",
    "Средний чек в группе А становится равномерным ближе к концу теста. Для группы В в одной точке был сильный рост, после становится равномерным ближе к концу теста. Возможно, в группу B попали крупные заказы (резкий всплеск на графике). Тогда ей нужно больше данных, чтобы прийти к реальному среднему чеку и установиться на его уровне."
   ]
  },
  {
   "cell_type": "markdown",
   "metadata": {},
   "source": [
    "### **График относительного изменения кумулятивного среднего чека группы B к группе A**"
   ]
  },
  {
   "cell_type": "code",
   "execution_count": 28,
   "metadata": {},
   "outputs": [
    {
     "data": {
      "text/plain": [
       "<matplotlib.lines.Line2D at 0x7f73aa8312e0>"
      ]
     },
     "execution_count": 28,
     "metadata": {},
     "output_type": "execute_result"
    },
    {
     "data": {
      "image/png": "[encoded data removed]",
      "text/plain": [
       "<Figure size 1080x360 with 1 Axes>"
      ]
     },
     "metadata": {
      "needs_background": "light"
     },
     "output_type": "display_data"
    }
   ],
   "source": [
    "#Построим график относительного различия для среднего чека. Добавим горизонтальную ось методом axhline()\n",
    "# собираем данные в одном датафрейме\n",
    "mergedCumulativeRevenue = cumulativeRevenueA.merge(cumulativeRevenueB, left_on='date', right_on='date', how='left', suffixes=['A', 'B'])\n",
    "\n",
    "# cтроим отношение средних чеков\n",
    "plt.figure(figsize=(15,5))\n",
    "plt.plot(mergedCumulativeRevenue['date'], (mergedCumulativeRevenue['revenueB']/mergedCumulativeRevenue['ordersB'])/(mergedCumulativeRevenue['revenueA']/mergedCumulativeRevenue['ordersA'])-1)\n",
    "plt.xticks(cumulativeRevenueA['date'][::3])\n",
    "plt.ylabel('Относительное изменение')\n",
    "plt.xlabel('Дата')\n",
    "plt.title('Графики относительного различия для среднего чека')\n",
    "\n",
    "# добавляем ось X\n",
    "plt.axhline(y=0, color='black', linestyle='--') "
   ]
  },
  {
   "cell_type": "markdown",
   "metadata": {},
   "source": [
    "***ВЫВОД:***\n",
    "\n",
    "В нескольких точках график различия между сегментами резко «скачет». Видимо, дело в крупных заказах и выбросах."
   ]
  },
  {
   "cell_type": "markdown",
   "metadata": {},
   "source": [
    "### **График кумулятивного среднего количества заказов на посетителя по группам**"
   ]
  },
  {
   "cell_type": "code",
   "execution_count": 29,
   "metadata": {},
   "outputs": [
    {
     "data": {
      "text/plain": [
       "(0.0, 30.0, 0.0, 0.05)"
      ]
     },
     "execution_count": 29,
     "metadata": {},
     "output_type": "execute_result"
    },
    {
     "data": {
      "image/png": "[encoded data removed]",
      "text/plain": [
       "<Figure size 1080x360 with 1 Axes>"
      ]
     },
     "metadata": {
      "needs_background": "light"
     },
     "output_type": "display_data"
    }
   ],
   "source": [
    "#Аналогично проанализируем график среднего количества заказов на посетителя. Зададим масштаб осей методом plt.axis(). \n",
    "#Передадим ему минимальное и максимальное значения оси x; минимальное и максимальное значения оси y — [\"2019-08-01\", '2019-08-31', 0, 0.05]\n",
    "# считаем среднее количество заказов на посетителя\n",
    "cumulativeData['conversion'] = cumulativeData['orders']/cumulativeData['visitors']\n",
    "\n",
    "# отделяем данные по группе A\n",
    "cumulativeDataA = cumulativeData[cumulativeData['group']=='A']\n",
    "\n",
    "# отделяем данные по группе B\n",
    "cumulativeDataB = cumulativeData[cumulativeData['group']=='B']\n",
    "\n",
    "# строим графики\n",
    "plt.figure(figsize=(15,5))\n",
    "plt.plot(cumulativeDataA['date'], cumulativeDataA['conversion'], label='A')\n",
    "plt.plot(cumulativeDataB['date'], cumulativeDataB['conversion'], label='B')\n",
    "plt.xticks(cumulativeRevenueA['date'][::3])\n",
    "plt.ylabel('Среднее количество заказов')\n",
    "plt.xlabel('Дата')\n",
    "plt.title('Графики среднего количества заказов на посетителя')\n",
    "\n",
    "plt.legend()\n",
    "\n",
    "# задаем масштаб осей\n",
    "plt.axis([\"2019-08-01\", '2019-08-31', 0, 0.05]) "
   ]
  },
  {
   "cell_type": "markdown",
   "metadata": {},
   "source": [
    "***ВЫВОДЫ:***\n",
    "Среднее количество заказов остается примерно равномерным на протяжении всего времени. "
   ]
  },
  {
   "cell_type": "markdown",
   "metadata": {},
   "source": [
    "### **График относительного изменения кумулятивного среднего количества заказов на посетителя группы B к группе A**"
   ]
  },
  {
   "cell_type": "code",
   "execution_count": 30,
   "metadata": {},
   "outputs": [
    {
     "data": {
      "text/plain": [
       "(0.0, 30.0, -0.6, 0.6)"
      ]
     },
     "execution_count": 30,
     "metadata": {},
     "output_type": "execute_result"
    },
    {
     "data": {
      "image/png": "[encoded data removed]",
      "text/plain": [
       "<Figure size 1080x360 with 1 Axes>"
      ]
     },
     "metadata": {
      "needs_background": "light"
     },
     "output_type": "display_data"
    }
   ],
   "source": [
    "#Построим график относительного различия кумулятивных конверсий\n",
    "mergedCumulativeConversions = cumulativeDataA[['date','conversion']].merge(cumulativeDataB[['date','conversion']], left_on='date', right_on='date', how='left', suffixes=['A', 'B'])\n",
    "\n",
    "plt.figure(figsize=(15,5))\n",
    "plt.plot(mergedCumulativeConversions['date'], mergedCumulativeConversions['conversionB']/mergedCumulativeConversions['conversionA']-1, label=\"Относительный прирост конверсии группы B относительно группы A\")\n",
    "plt.xticks(cumulativeRevenueA['date'][::3])\n",
    "plt.ylabel('Относительный прирост')\n",
    "plt.xlabel('Дата')\n",
    "plt.title('Графики относительного различия кумулятивных конверсий')\n",
    "plt.legend()\n",
    "\n",
    "plt.axhline(y=0, color='black', linestyle='--')\n",
    "plt.axhline(y=-0.1, color='grey', linestyle='--')\n",
    "plt.axhline(y=0.1, color='green', linestyle='--')\n",
    "plt.axis([\"2019-08-01\", '2019-08-31', -0.6, 0.6]) "
   ]
  },
  {
   "cell_type": "markdown",
   "metadata": {},
   "source": [
    "***ВЫВОД:***\n",
    "\n",
    "Группа B лидирует по конверсии. \n",
    "Также стоит проанализировать аномалии, возможно, они изменят картину."
   ]
  },
  {
   "cell_type": "markdown",
   "metadata": {},
   "source": [
    "### **Точечный график количества заказов по пользователям**"
   ]
  },
  {
   "cell_type": "code",
   "execution_count": 31,
   "metadata": {},
   "outputs": [
    {
     "name": "stdout",
     "output_type": "stream",
     "text": [
      "          userId  orders\n",
      "1023  4256040402      11\n",
      "591   2458001652      11\n",
      "569   2378935119       9\n",
      "487   2038680547       8\n",
      "44     199603092       5\n",
      "744   3062433592       5\n",
      "55     237748145       5\n",
      "917   3803269165       5\n",
      "299   1230306981       5\n",
      "897   3717692402       5\n"
     ]
    },
    {
     "data": {
      "text/plain": [
       "<matplotlib.collections.PathCollection at 0x7f73aa560370>"
      ]
     },
     "execution_count": 31,
     "metadata": {},
     "output_type": "execute_result"
    },
    {
     "data": {
      "image/png": "[encoded data removed]",
      "text/plain": [
       "<Figure size 432x288 with 1 Axes>"
      ]
     },
     "metadata": {
      "needs_background": "light"
     },
     "output_type": "display_data"
    }
   ],
   "source": [
    "#Построим точечный график количества заказов по пользователям.\n",
    "ordersByUsers = (\n",
    "    orders.groupby('visitorId', as_index=False)\n",
    "    .agg({'transactionId': 'nunique'})\n",
    ")\n",
    "ordersByUsers.columns = ['userId', 'orders']\n",
    "\n",
    "print(ordersByUsers.sort_values(by='orders', ascending=False).head(10))\n",
    "\n",
    "# серия из чисел от 0 до количества наблюдений в ordersByUsers\n",
    "x_values = pd.Series(range(0, len(ordersByUsers)))\n",
    "\n",
    "plt.scatter(x_values, ordersByUsers['orders'])"
   ]
  },
  {
   "cell_type": "markdown",
   "metadata": {},
   "source": [
    "***ВЫВОД:***\n",
    "\n",
    "Пользователей, сделавших больше 2х заказов мало. Они могут быть аномальными. "
   ]
  },
  {
   "cell_type": "markdown",
   "metadata": {},
   "source": [
    "### **95-й и 99-й перцентили количества заказов на пользователя**"
   ]
  },
  {
   "cell_type": "code",
   "execution_count": 32,
   "metadata": {},
   "outputs": [
    {
     "name": "stdout",
     "output_type": "stream",
     "text": [
      "[2. 4.]\n"
     ]
    }
   ],
   "source": [
    "#Посчитаем 95-й и 99-й перцентили количества заказов на пользователя. Выберем границу для определения аномальных пользователей.\n",
    "\n",
    "# Метод np.percentile('column', [percentile1, percentile2, percentile3]) находит перцентили.\n",
    "print(np.percentile(ordersByUsers['orders'], [95, 99]))"
   ]
  },
  {
   "cell_type": "markdown",
   "metadata": {},
   "source": [
    "***ВЫВОД:***\n",
    "\n",
    "Не более 5% пользователей совершали больше 2х заказов.\n",
    "Не более 1% пользователей совершали больше 4х заказов."
   ]
  },
  {
   "cell_type": "markdown",
   "metadata": {},
   "source": [
    "### **Точечный график стоимостей заказов**"
   ]
  },
  {
   "cell_type": "code",
   "execution_count": 33,
   "metadata": {},
   "outputs": [
    {
     "name": "stdout",
     "output_type": "stream",
     "text": [
      "      transactionId   visitorId        date  revenue group\n",
      "425       590470918  1920142716  2019-08-19  1294500     B\n",
      "1196     3936777065  2108080724  2019-08-15   202740     B\n",
      "858       192721366  1316129916  2019-08-27    93940     A\n",
      "1136      666610489  1307669133  2019-08-13    92550     A\n",
      "744      3668308183   888512513  2019-08-27    86620     B\n",
      "682      1216533772  4266935830  2019-08-29    78990     B\n",
      "662      1811671147  4266935830  2019-08-29    78990     A\n",
      "743      3603576309  4133034833  2019-08-09    67990     A\n",
      "1103     1348774318  1164614297  2019-08-12    66350     A\n",
      "1099      316924019   148427295  2019-08-12    65710     A\n"
     ]
    },
    {
     "data": {
      "text/plain": [
       "<matplotlib.collections.PathCollection at 0x7f73aa53e4c0>"
      ]
     },
     "execution_count": 33,
     "metadata": {},
     "output_type": "execute_result"
    },
    {
     "data": {
      "image/png": "[encoded data removed]",
      "text/plain": [
       "<Figure size 432x288 with 1 Axes>"
      ]
     },
     "metadata": {
      "needs_background": "light"
     },
     "output_type": "display_data"
    }
   ],
   "source": [
    "#Построим точечный график стоимостей заказов.\n",
    "print(orders.sort_values(by='revenue', ascending=False).head(10))\n",
    "x_values = pd.Series(range(0, len(orders['revenue'])))\n",
    "\n",
    "plt.scatter(x_values, orders['revenue'])"
   ]
  },
  {
   "cell_type": "code",
   "execution_count": 34,
   "metadata": {},
   "outputs": [
    {
     "data": {
      "text/plain": [
       "<matplotlib.collections.PathCollection at 0x7f73aa51a8e0>"
      ]
     },
     "execution_count": 34,
     "metadata": {},
     "output_type": "execute_result"
    },
    {
     "data": {
      "image/png": "[encoded data removed]",
      "text/plain": [
       "<Figure size 432x288 with 1 Axes>"
      ]
     },
     "metadata": {
      "needs_background": "light"
     },
     "output_type": "display_data"
    }
   ],
   "source": [
    "x_values = pd.Series(range(0, len(orders[orders['revenue'] < 100000]['revenue'])))\n",
    "\n",
    "plt.scatter(x_values, orders[orders['revenue'] < 100000]['revenue'])"
   ]
  },
  {
   "cell_type": "markdown",
   "metadata": {},
   "source": [
    "***ВЫВОД:***\n",
    "\n",
    "Все заказы до 100 000, есть выбросы 202 410 и 1 294 500. "
   ]
  },
  {
   "cell_type": "markdown",
   "metadata": {},
   "source": [
    "### **95-й и 99-й перцентили стоимости заказов**"
   ]
  },
  {
   "cell_type": "code",
   "execution_count": 35,
   "metadata": {},
   "outputs": [
    {
     "data": {
      "text/plain": [
       "array([28000. , 58233.2])"
      ]
     },
     "execution_count": 35,
     "metadata": {},
     "output_type": "execute_result"
    }
   ],
   "source": [
    "#Посчитаем 95-й и 99-й перцентили стоимости заказов. Выберем границу для определения аномальных заказов.\n",
    "np.percentile(orders['revenue'], [95, 99])"
   ]
  },
  {
   "cell_type": "markdown",
   "metadata": {},
   "source": [
    "***ВЫВОД:***\n",
    "\n",
    "Не более чем 5% заказов чек дороже 28000.\n",
    "Не более чем 1% заказов чек дороже 58233,2."
   ]
  },
  {
   "cell_type": "markdown",
   "metadata": {},
   "source": [
    "### **Cтатистическая значимость различий в среднем количестве заказов на посетителя между группами по «сырым» данным**"
   ]
  },
  {
   "cell_type": "markdown",
   "metadata": {},
   "source": [
    "Сформулируем гипотезы. \n",
    "\n",
    "Нулевая: различий в среднем количестве заказов между группами нет. \n",
    "\n",
    "Альтернативная: различия в среднем между группами есть."
   ]
  },
  {
   "cell_type": "code",
   "execution_count": 36,
   "metadata": {},
   "outputs": [],
   "source": [
    "#Посчитаем статистическую значимость различия в среднем количестве заказов между группами.\n",
    "\n",
    "visitorsADaily = visitors[visitors['group'] == 'A'][['date', 'visitors']]\n",
    "visitorsADaily.columns = ['date', 'visitorsPerDateA']\n",
    "\n",
    "visitorsACummulative = visitorsADaily.apply(\n",
    "    lambda x: visitorsADaily[visitorsADaily['date'] <= x['date']].agg(\n",
    "        {'date': 'max', 'visitorsPerDateA': 'sum'}\n",
    "    ),\n",
    "    axis=1,\n",
    ")\n",
    "visitorsACummulative.columns = ['date', 'visitorsCummulativeA']\n",
    "\n",
    "visitorsBDaily = visitors[visitors['group'] == 'B'][['date', 'visitors']]\n",
    "visitorsBDaily.columns = ['date', 'visitorsPerDateB']\n",
    "\n",
    "visitorsBCummulative = visitorsBDaily.apply(\n",
    "    lambda x: visitorsBDaily[visitorsBDaily['date'] <= x['date']].agg(\n",
    "        {'date': 'max', 'visitorsPerDateB': 'sum'}\n",
    "    ),\n",
    "    axis=1,\n",
    ")\n",
    "visitorsBCummulative.columns = ['date', 'visitorsCummulativeB']\n",
    "\n",
    "ordersADaily = (\n",
    "    orders[orders['group'] == 'A'][['date', 'transactionId', 'visitorId', 'revenue']]\n",
    "    .groupby('date', as_index=False)\n",
    "    .agg({'transactionId': pd.Series.nunique, 'revenue': 'sum'})\n",
    ")\n",
    "ordersADaily.columns = ['date', 'ordersPerDateA', 'revenuePerDateA']\n",
    "\n",
    "ordersACummulative = ordersADaily.apply(\n",
    "    lambda x: ordersADaily[ordersADaily['date'] <= x['date']].agg(\n",
    "        {'date': 'max', 'ordersPerDateA': 'sum', 'revenuePerDateA': 'sum'}\n",
    "    ),\n",
    "    axis=1,\n",
    ").sort_values(by=['date'])\n",
    "ordersACummulative.columns = [\n",
    "    'date',\n",
    "    'ordersCummulativeA',\n",
    "    'revenueCummulativeA',\n",
    "]\n",
    "\n",
    "ordersBDaily = (\n",
    "    orders[orders['group'] == 'B'][['date', 'transactionId', 'visitorId', 'revenue']]\n",
    "    .groupby('date', as_index=False)\n",
    "    .agg({'transactionId': pd.Series.nunique, 'revenue': 'sum'})\n",
    ")\n",
    "ordersBDaily.columns = ['date', 'ordersPerDateB', 'revenuePerDateB']\n",
    "\n",
    "ordersBCummulative = ordersBDaily.apply(\n",
    "    lambda x: ordersBDaily[ordersBDaily['date'] <= x['date']].agg(\n",
    "        {'date': 'max', 'ordersPerDateB': 'sum', 'revenuePerDateB': 'sum'}\n",
    "    ),\n",
    "    axis=1,\n",
    ").sort_values(by=['date'])\n",
    "ordersBCummulative.columns = [\n",
    "    'date',\n",
    "    'ordersCummulativeB',\n",
    "    'revenueCummulativeB',\n",
    "]\n",
    "\n",
    "# dataset = (\n",
    "#     ordersADaily.merge(\n",
    "#         ordersBDaily, left_on='date', right_on='date', how='left'\n",
    "#     )\n",
    "#     .merge(ordersACummulative, left_on='date', right_on='date', how='left')\n",
    "#     .merge(ordersBCummulative, left_on='date', right_on='date', how='left')\n",
    "#     .merge(visitorsADaily, left_on='date', right_on='date', how='left')\n",
    "#     .merge(visitorsBDaily, left_on='date', right_on='date', how='left')\n",
    "#     .merge(visitorsACummulative, left_on='date', right_on='date', how='left')\n",
    "#     .merge(visitorsBCummulative, left_on='date', right_on='date', how='left')\n",
    "# )\n",
    "\n",
    "# dataset.head()"
   ]
  },
  {
   "cell_type": "code",
   "execution_count": 37,
   "metadata": {},
   "outputs": [
    {
     "name": "stdout",
     "output_type": "stream",
     "text": [
      "p-value 0.01679\n",
      "oтносительный прирост среднего количества заказов на посетителя группы В к группе А 0.138\n"
     ]
    }
   ],
   "source": [
    "ordersByUsersA = (\n",
    "    orders[orders['group'] == 'A']\n",
    "    .groupby('visitorId', as_index=False)\n",
    "    .agg({'transactionId': pd.Series.nunique})\n",
    ")\n",
    "ordersByUsersA.columns = ['userId', 'orders']\n",
    "\n",
    "ordersByUsersB = (\n",
    "    orders[orders['group'] == 'B']\n",
    "    .groupby('visitorId', as_index=False)\n",
    "    .agg({'transactionId': pd.Series.nunique})\n",
    ")\n",
    "ordersByUsersB.columns = ['userId', 'orders'] \n",
    "\n",
    "sampleA = pd.concat(\n",
    "    [\n",
    "        ordersByUsersA['orders'],\n",
    "        pd.Series(\n",
    "            0,\n",
    "            index=np.arange(\n",
    "                visitorsADaily['visitorsPerDateA'].sum() - len(ordersByUsersA['orders'])\n",
    "            ),\n",
    "            name='orders',\n",
    "        ),\n",
    "    ],\n",
    "    axis=0,\n",
    ")\n",
    "\n",
    "sampleB = pd.concat(\n",
    "    [\n",
    "        ordersByUsersB['orders'],\n",
    "        pd.Series(\n",
    "            0,\n",
    "            index=np.arange(\n",
    "                visitorsBDaily['visitorsPerDateB'].sum() - len(ordersByUsersB['orders'])\n",
    "            ),\n",
    "            name='orders',\n",
    "        ),\n",
    "    ],\n",
    "    axis=0,\n",
    ")\n",
    "\n",
    "print('p-value', \"{0:.5f}\".format(stats.mannwhitneyu(sampleA, sampleB)[1]))\n",
    "\n",
    "print('oтносительный прирост среднего количества заказов на посетителя группы В к группе А', \"{0:.3f}\".format(sampleB.mean() / sampleA.mean() - 1))"
   ]
  },
  {
   "cell_type": "markdown",
   "metadata": {},
   "source": [
    "***ВЫВОД:***\n",
    "\n",
    "p-value меньше 0,05. Значит, нулевую гипотезу о том, что статистически значимых различий в среднем числе заказов между группами нет, отвергаем. Анализ сырых данных сообщает, что в среднем количестве заказов между группами есть статистически значимые различия.\n",
    "\n",
    "Относительный прирост среднего группы В к группе А равен 13,8 %"
   ]
  },
  {
   "cell_type": "markdown",
   "metadata": {},
   "source": [
    "### **Cтатистическая значимость различий в среднем чеке заказа между группами по «сырым» данным**"
   ]
  },
  {
   "cell_type": "code",
   "execution_count": 38,
   "metadata": {},
   "outputs": [
    {
     "name": "stdout",
     "output_type": "stream",
     "text": [
      "p-value 0.729\n",
      "относительное различие среднего чека между сегментами 0.259\n"
     ]
    }
   ],
   "source": [
    "#Посчитаем статистическую значимость различий в среднем чеке заказа между группами по «сырым» данным.\n",
    "print('p-value', '{0:.3f}'.format(stats.mannwhitneyu(orders[orders['group']=='A']['revenue'], orders[orders['group']=='B']['revenue'])[1]))\n",
    "print('относительное различие среднего чека между сегментами', '{0:.3f}'.format(orders[orders['group']=='B']['revenue'].mean()/orders[orders['group']=='A']['revenue'].mean()-1)) "
   ]
  },
  {
   "cell_type": "markdown",
   "metadata": {},
   "source": [
    "***ВЫВОД:***\n",
    "\n",
    "p-value больше 0,05 статистически значимых отличий в среднем чеке между группами нет.\n",
    "\n",
    "относительное различие среднего чека между сегментами 25,9 %"
   ]
  },
  {
   "cell_type": "markdown",
   "metadata": {},
   "source": [
    "### **Cтатистическая значимость различий в среднем количестве заказов на посетителя между группами по «очищенным» данным**"
   ]
  },
  {
   "cell_type": "code",
   "execution_count": 39,
   "metadata": {},
   "outputs": [
    {
     "name": "stdout",
     "output_type": "stream",
     "text": [
      "1099    148427295\n",
      "18      199603092\n",
      "928     204675465\n",
      "23      237748145\n",
      "37      249864742\n",
      "dtype: int64\n",
      "74\n"
     ]
    }
   ],
   "source": [
    "#Посчитаем статистическую значимость различий в среднем количестве заказов на посетителя между группами по «очищенным» данным\n",
    "#ПРОШЛЫЙ ВЫВОД:Не более чем 5% заказов чек дороже 28000. Не более чем 1% заказов чек дороже 58233,2.\n",
    "#ПРОШЛЫЙ ВЫВОД:Не более 5% пользователей совершали больше 2х заказов. Не более 1% пользователей совершали больше 4х заказов.\n",
    "#Примем за аномальных пользователей тех, кто совершил от 2 заказов или совершил заказ дороже 28 000 рублей. \n",
    "usersWithManyOrders = pd.concat(\n",
    "    [\n",
    "        ordersByUsersA[ordersByUsersA['orders'] > 2]['userId'],\n",
    "        ordersByUsersB[ordersByUsersB['orders'] > 2]['userId'],\n",
    "    ],\n",
    "    axis=0,\n",
    ")\n",
    "usersWithExpensiveOrders = orders[orders['revenue'] > 28000]['visitorId']\n",
    "abnormalUsers = (\n",
    "    pd.concat([usersWithManyOrders, usersWithExpensiveOrders], axis=0)\n",
    "    .drop_duplicates()\n",
    "    .sort_values()\n",
    ")\n",
    "print(abnormalUsers.head(5))\n",
    "print(abnormalUsers.shape[0]) "
   ]
  },
  {
   "cell_type": "code",
   "execution_count": 40,
   "metadata": {},
   "outputs": [
    {
     "name": "stdout",
     "output_type": "stream",
     "text": [
      "1099    148427295\n",
      "18      199603092\n",
      "928     204675465\n",
      "23      237748145\n",
      "37      249864742\n",
      "dtype: int64\n",
      "74\n"
     ]
    }
   ],
   "source": [
    "usersWithManyOrders = pd.concat(\n",
    "    [\n",
    "        ordersByUsersA[ordersByUsersA['orders'] > np.percentile(ordersByUsers['orders'], 95)]['userId'],\n",
    "        ordersByUsersB[ordersByUsersB['orders'] > np.percentile(ordersByUsers['orders'], 95)]['userId'],\n",
    "    ],\n",
    "    axis=0,\n",
    ")\n",
    "usersWithExpensiveOrders = orders[orders['revenue'] > np.percentile(orders['revenue'], 95)]['visitorId']\n",
    "abnormalUsers = (\n",
    "    pd.concat([usersWithManyOrders, usersWithExpensiveOrders], axis=0)\n",
    "    .drop_duplicates()\n",
    "    .sort_values()\n",
    ")\n",
    "print(abnormalUsers.head(5))\n",
    "print(abnormalUsers.shape[0]) "
   ]
  },
  {
   "cell_type": "markdown",
   "metadata": {},
   "source": [
    "***ВЫВОД:***\n",
    "\n",
    "74 аномальных пользователя."
   ]
  },
  {
   "cell_type": "code",
   "execution_count": 41,
   "metadata": {},
   "outputs": [
    {
     "name": "stdout",
     "output_type": "stream",
     "text": [
      "p-value 0.013\n",
      "относительный показатель между группами 0.173\n"
     ]
    }
   ],
   "source": [
    "#Узнаем, как их действия повлияли на результаты теста. \n",
    "#Посчитаем статистическую значимость различий в среднем количестве заказов между группами теста по очищенным данным.\n",
    "sampleAFiltered = pd.concat(\n",
    "    [\n",
    "        ordersByUsersA[\n",
    "            np.logical_not(ordersByUsersA['userId'].isin(abnormalUsers))\n",
    "        ]['orders'],\n",
    "        pd.Series(\n",
    "            0,\n",
    "            index=np.arange(\n",
    "                visitorsADaily['visitorsPerDateA'].sum() - len(ordersByUsersA['orders'])\n",
    "            ),\n",
    "            name='orders',\n",
    "        ),\n",
    "    ],\n",
    "    axis=0,\n",
    ")\n",
    "\n",
    "sampleBFiltered = pd.concat(\n",
    "    [\n",
    "        ordersByUsersB[\n",
    "            np.logical_not(ordersByUsersB['userId'].isin(abnormalUsers))\n",
    "        ]['orders'],\n",
    "        pd.Series(\n",
    "            0,\n",
    "            index=np.arange(\n",
    "                visitorsBDaily['visitorsPerDateB'].sum() - len(ordersByUsersB['orders'])\n",
    "            ),\n",
    "            name='orders',\n",
    "        ),\n",
    "    ],\n",
    "    axis=0,\n",
    ") \n",
    "\n",
    "print('p-value', '{0:.3f}'.format(stats.mannwhitneyu(sampleAFiltered, sampleBFiltered)[1]))\n",
    "print('относительный показатель между группами', '{0:.3f}'.format(sampleBFiltered.mean()/sampleAFiltered.mean()-1)) "
   ]
  },
  {
   "cell_type": "markdown",
   "metadata": {},
   "source": [
    "<div id='link'></div>"
   ]
  },
  {
   "cell_type": "markdown",
   "metadata": {},
   "source": [
    "***ВЫВОД:***\n",
    "\n",
    "Сформулируем гипотезы.\n",
    "\n",
    "Нулевая: статистически значимых различий в среднем количестве заказов между группами теста по очищенным данным нет.\n",
    "\n",
    "Альтернативная: статистически значимые различия есть.\n",
    "\n",
    "p-value = 0.013 меньше 0.05. Значит, нулевую гипотезу отвергаем.\n",
    "\n",
    "Результаты по среднему количеству заказов в сравнении с сырыми данными практически не изменились. Статистическая значимость достигнута. Сегмент В значительно лучше сегмента А на 17,3%. (13,8 % по сырым данным было)."
   ]
  },
  {
   "cell_type": "markdown",
   "metadata": {},
   "source": [
    "### **Cтатистическую значимость различий в среднем чеке заказа между группами по «очищенным» данным**"
   ]
  },
  {
   "cell_type": "code",
   "execution_count": 42,
   "metadata": {},
   "outputs": [
    {
     "name": "stdout",
     "output_type": "stream",
     "text": [
      "0.738\n",
      "-0.020\n"
     ]
    }
   ],
   "source": [
    "#Посчитаем статистическую значимость различий в среднем чеке заказа между группами по «очищенным» данным.\n",
    "print(\n",
    "    '{0:.3f}'.format(\n",
    "        stats.mannwhitneyu(\n",
    "            orders[\n",
    "                np.logical_and(\n",
    "                    orders['group'] == 'A',\n",
    "                    np.logical_not(orders['visitorId'].isin(abnormalUsers)),\n",
    "                )\n",
    "            ]['revenue'],\n",
    "            orders[\n",
    "                np.logical_and(\n",
    "                    orders['group'] == 'B',\n",
    "                    np.logical_not(orders['visitorId'].isin(abnormalUsers)),\n",
    "                )\n",
    "            ]['revenue'],\n",
    "        )[1]\n",
    "    )\n",
    ")\n",
    "\n",
    "print(\n",
    "    \"{0:.3f}\".format(\n",
    "        orders[\n",
    "            np.logical_and(\n",
    "                orders['group'] == 'B',\n",
    "                np.logical_not(orders['visitorId'].isin(abnormalUsers)),\n",
    "            )\n",
    "        ]['revenue'].mean()\n",
    "        / orders[\n",
    "            np.logical_and(\n",
    "                orders['group'] == 'A',\n",
    "                np.logical_not(orders['visitorId'].isin(abnormalUsers)),\n",
    "            )\n",
    "        ]['revenue'].mean()\n",
    "        - 1\n",
    "    )\n",
    ") "
   ]
  },
  {
   "cell_type": "markdown",
   "metadata": {},
   "source": [
    "***ВЫВОД:***\n",
    "\n",
    "P-value увеличился. p-value больше 0,05 статистически значимых отличий в среднем чеке между группами нет.\n",
    "\n",
    "Разница между сегментами сократилась с 25% до 2 %"
   ]
  },
  {
   "cell_type": "markdown",
   "metadata": {},
   "source": [
    "## **Общий вывод**\n",
    "\n",
    "- Есть статистически значимые различия по среднему количеству заказов между группами по «сырым» и по данным после фильтрации аномалий. Разница группы В над А 13,8% по сырым данным и 17,3 % по очищенным данным.\n",
    "- Нет статистически значимого различия по среднему чеку между группами ни по «сырым», ни по данным после фильтрации аномалий\n",
    "- Тест успешен. Сегмент В значительно лучше сегмента А.\n",
    "- Тест можно остановить, зафиксировать победу группы В."
   ]
  },
  {
   "cell_type": "code",
   "execution_count": null,
   "metadata": {},
   "outputs": [],
   "source": []
  }
 ],
 "metadata": {
  "ExecuteTimeLog": [
   {
    "duration": 415,
    "start_time": "2023-01-26T19:18:14.878Z"
   },
   {
    "duration": 81,
    "start_time": "2023-01-26T19:18:37.734Z"
   },
   {
    "duration": 14,
    "start_time": "2023-01-26T19:19:04.696Z"
   },
   {
    "duration": 14,
    "start_time": "2023-01-26T19:19:16.869Z"
   },
   {
    "duration": 66,
    "start_time": "2023-01-26T19:34:30.955Z"
   },
   {
    "duration": 3,
    "start_time": "2023-01-26T19:59:59.807Z"
   },
   {
    "duration": 8,
    "start_time": "2023-01-26T20:00:02.304Z"
   },
   {
    "duration": 23,
    "start_time": "2023-01-26T20:00:15.044Z"
   },
   {
    "duration": 9,
    "start_time": "2023-01-26T20:00:17.640Z"
   },
   {
    "duration": 3,
    "start_time": "2023-01-26T20:08:09.161Z"
   },
   {
    "duration": 9,
    "start_time": "2023-01-26T20:08:30.191Z"
   },
   {
    "duration": 3,
    "start_time": "2023-01-26T20:20:41.642Z"
   },
   {
    "duration": 450,
    "start_time": "2023-01-26T20:20:54.661Z"
   },
   {
    "duration": 28,
    "start_time": "2023-01-26T20:20:55.114Z"
   },
   {
    "duration": 15,
    "start_time": "2023-01-26T20:20:55.144Z"
   },
   {
    "duration": 21,
    "start_time": "2023-01-26T20:20:55.161Z"
   },
   {
    "duration": 3,
    "start_time": "2023-01-26T20:20:55.185Z"
   },
   {
    "duration": 11,
    "start_time": "2023-01-26T20:20:55.190Z"
   },
   {
    "duration": 13,
    "start_time": "2023-01-26T20:20:55.202Z"
   },
   {
    "duration": 6,
    "start_time": "2023-01-26T20:20:55.217Z"
   },
   {
    "duration": 25,
    "start_time": "2023-01-26T20:20:55.224Z"
   },
   {
    "duration": 468,
    "start_time": "2023-01-26T20:35:40.132Z"
   },
   {
    "duration": 49,
    "start_time": "2023-01-26T20:35:51.624Z"
   },
   {
    "duration": 11,
    "start_time": "2023-01-26T20:35:57.662Z"
   },
   {
    "duration": 333,
    "start_time": "2023-01-26T20:36:23.164Z"
   },
   {
    "duration": 74,
    "start_time": "2023-01-26T20:37:11.749Z"
   },
   {
    "duration": 10,
    "start_time": "2023-01-26T20:37:13.365Z"
   },
   {
    "duration": 271,
    "start_time": "2023-01-26T20:44:01.669Z"
   },
   {
    "duration": 380,
    "start_time": "2023-01-26T20:45:30.051Z"
   },
   {
    "duration": 581,
    "start_time": "2023-01-26T20:45:38.428Z"
   },
   {
    "duration": 32,
    "start_time": "2023-01-26T20:45:39.011Z"
   },
   {
    "duration": 10,
    "start_time": "2023-01-26T20:45:39.044Z"
   },
   {
    "duration": 13,
    "start_time": "2023-01-26T20:45:39.055Z"
   },
   {
    "duration": 2,
    "start_time": "2023-01-26T20:45:39.071Z"
   },
   {
    "duration": 10,
    "start_time": "2023-01-26T20:45:39.074Z"
   },
   {
    "duration": 23,
    "start_time": "2023-01-26T20:45:39.086Z"
   },
   {
    "duration": 6,
    "start_time": "2023-01-26T20:45:39.111Z"
   },
   {
    "duration": 12,
    "start_time": "2023-01-26T20:45:39.118Z"
   },
   {
    "duration": 43,
    "start_time": "2023-01-26T20:45:39.132Z"
   },
   {
    "duration": 10,
    "start_time": "2023-01-26T20:45:39.177Z"
   },
   {
    "duration": 28,
    "start_time": "2023-01-26T20:45:39.188Z"
   },
   {
    "duration": 8,
    "start_time": "2023-01-26T20:45:39.217Z"
   },
   {
    "duration": 273,
    "start_time": "2023-01-26T20:45:39.227Z"
   },
   {
    "duration": 291,
    "start_time": "2023-01-26T20:46:43.683Z"
   },
   {
    "duration": 223,
    "start_time": "2023-01-26T20:57:25.246Z"
   },
   {
    "duration": 302,
    "start_time": "2023-01-26T21:08:52.310Z"
   },
   {
    "duration": 374,
    "start_time": "2023-01-26T21:20:33.867Z"
   },
   {
    "duration": 279,
    "start_time": "2023-01-26T21:20:49.825Z"
   },
   {
    "duration": 246,
    "start_time": "2023-01-26T21:20:56.256Z"
   },
   {
    "duration": 245,
    "start_time": "2023-01-26T21:21:04.196Z"
   },
   {
    "duration": 262,
    "start_time": "2023-01-26T21:21:10.962Z"
   },
   {
    "duration": 246,
    "start_time": "2023-01-26T21:21:16.055Z"
   },
   {
    "duration": 319,
    "start_time": "2023-01-26T21:21:21.555Z"
   },
   {
    "duration": 295,
    "start_time": "2023-01-26T21:21:30.860Z"
   },
   {
    "duration": 362,
    "start_time": "2023-01-26T21:31:59.417Z"
   },
   {
    "duration": 266,
    "start_time": "2023-01-26T21:38:35.176Z"
   },
   {
    "duration": 1326,
    "start_time": "2023-01-26T21:48:33.177Z"
   },
   {
    "duration": 14,
    "start_time": "2023-01-26T21:50:29.861Z"
   },
   {
    "duration": 669,
    "start_time": "2023-01-26T21:51:02.682Z"
   },
   {
    "duration": 28,
    "start_time": "2023-01-26T21:51:03.353Z"
   },
   {
    "duration": 13,
    "start_time": "2023-01-26T21:51:03.382Z"
   },
   {
    "duration": 16,
    "start_time": "2023-01-26T21:51:03.397Z"
   },
   {
    "duration": 3,
    "start_time": "2023-01-26T21:51:03.416Z"
   },
   {
    "duration": 11,
    "start_time": "2023-01-26T21:51:03.421Z"
   },
   {
    "duration": 9,
    "start_time": "2023-01-26T21:51:03.433Z"
   },
   {
    "duration": 6,
    "start_time": "2023-01-26T21:51:03.444Z"
   },
   {
    "duration": 18,
    "start_time": "2023-01-26T21:51:03.451Z"
   },
   {
    "duration": 37,
    "start_time": "2023-01-26T21:51:03.471Z"
   },
   {
    "duration": 12,
    "start_time": "2023-01-26T21:51:03.510Z"
   },
   {
    "duration": 18,
    "start_time": "2023-01-26T21:51:03.523Z"
   },
   {
    "duration": 10,
    "start_time": "2023-01-26T21:51:03.543Z"
   },
   {
    "duration": 331,
    "start_time": "2023-01-26T21:51:03.556Z"
   },
   {
    "duration": 278,
    "start_time": "2023-01-26T21:51:03.890Z"
   },
   {
    "duration": 280,
    "start_time": "2023-01-26T21:51:04.171Z"
   },
   {
    "duration": 429,
    "start_time": "2023-01-26T21:51:04.453Z"
   },
   {
    "duration": 382,
    "start_time": "2023-01-26T21:51:04.885Z"
   },
   {
    "duration": 389,
    "start_time": "2023-01-26T21:51:05.269Z"
   },
   {
    "duration": 83,
    "start_time": "2023-01-26T21:51:05.660Z"
   },
   {
    "duration": 141,
    "start_time": "2023-01-26T21:52:36.620Z"
   },
   {
    "duration": 7,
    "start_time": "2023-01-26T21:56:34.753Z"
   },
   {
    "duration": 1134,
    "start_time": "2023-01-26T21:59:26.231Z"
   },
   {
    "duration": 1078,
    "start_time": "2023-01-26T21:59:45.523Z"
   },
   {
    "duration": 121,
    "start_time": "2023-01-26T21:59:57.088Z"
   },
   {
    "duration": 4,
    "start_time": "2023-01-26T22:06:16.669Z"
   },
   {
    "duration": 131,
    "start_time": "2023-01-26T22:06:27.242Z"
   },
   {
    "duration": 120,
    "start_time": "2023-01-26T22:06:52.579Z"
   },
   {
    "duration": 10,
    "start_time": "2023-01-26T22:06:55.647Z"
   },
   {
    "duration": 120,
    "start_time": "2023-01-26T22:07:44.591Z"
   },
   {
    "duration": 5,
    "start_time": "2023-01-26T22:11:50.489Z"
   },
   {
    "duration": 12,
    "start_time": "2023-01-26T22:18:27.752Z"
   },
   {
    "duration": 139,
    "start_time": "2023-01-26T22:19:11.010Z"
   },
   {
    "duration": 825,
    "start_time": "2023-01-27T20:55:32.834Z"
   },
   {
    "duration": 88,
    "start_time": "2023-01-27T20:55:33.661Z"
   },
   {
    "duration": 15,
    "start_time": "2023-01-27T20:55:33.751Z"
   },
   {
    "duration": 19,
    "start_time": "2023-01-27T20:55:33.768Z"
   },
   {
    "duration": 4,
    "start_time": "2023-01-27T20:55:33.790Z"
   },
   {
    "duration": 13,
    "start_time": "2023-01-27T20:55:33.796Z"
   },
   {
    "duration": 15,
    "start_time": "2023-01-27T20:55:33.811Z"
   },
   {
    "duration": 7,
    "start_time": "2023-01-27T20:55:33.828Z"
   },
   {
    "duration": 12,
    "start_time": "2023-01-27T20:55:33.837Z"
   },
   {
    "duration": 162,
    "start_time": "2023-01-27T20:55:33.850Z"
   },
   {
    "duration": 12,
    "start_time": "2023-01-27T20:55:34.014Z"
   },
   {
    "duration": 68,
    "start_time": "2023-01-27T20:55:34.027Z"
   },
   {
    "duration": 10,
    "start_time": "2023-01-27T20:55:34.096Z"
   },
   {
    "duration": 276,
    "start_time": "2023-01-27T20:55:34.108Z"
   },
   {
    "duration": 251,
    "start_time": "2023-01-27T20:55:34.386Z"
   },
   {
    "duration": 304,
    "start_time": "2023-01-27T20:55:34.639Z"
   },
   {
    "duration": 409,
    "start_time": "2023-01-27T20:55:34.946Z"
   },
   {
    "duration": 302,
    "start_time": "2023-01-27T20:55:35.356Z"
   },
   {
    "duration": 412,
    "start_time": "2023-01-27T20:55:35.659Z"
   },
   {
    "duration": 128,
    "start_time": "2023-01-27T20:55:36.073Z"
   },
   {
    "duration": 4,
    "start_time": "2023-01-27T20:55:36.203Z"
   },
   {
    "duration": 151,
    "start_time": "2023-01-27T20:55:36.208Z"
   },
   {
    "duration": 6,
    "start_time": "2023-01-27T20:55:36.366Z"
   },
   {
    "duration": 147,
    "start_time": "2023-01-27T20:55:36.373Z"
   },
   {
    "duration": 278,
    "start_time": "2023-01-27T20:55:55.077Z"
   },
   {
    "duration": 168,
    "start_time": "2023-01-27T20:56:17.512Z"
   },
   {
    "duration": 190,
    "start_time": "2023-01-27T20:56:22.971Z"
   },
   {
    "duration": 162,
    "start_time": "2023-01-27T20:56:28.273Z"
   },
   {
    "duration": 192,
    "start_time": "2023-01-27T20:56:36.918Z"
   },
   {
    "duration": 182,
    "start_time": "2023-01-27T20:56:48.151Z"
   },
   {
    "duration": 251,
    "start_time": "2023-01-27T20:57:18.749Z"
   },
   {
    "duration": 240,
    "start_time": "2023-01-27T20:57:32.922Z"
   },
   {
    "duration": 173,
    "start_time": "2023-01-27T20:57:47.585Z"
   },
   {
    "duration": 788,
    "start_time": "2023-01-27T21:07:11.485Z"
   },
   {
    "duration": 90,
    "start_time": "2023-01-27T21:07:12.276Z"
   },
   {
    "duration": 15,
    "start_time": "2023-01-27T21:07:12.367Z"
   },
   {
    "duration": 17,
    "start_time": "2023-01-27T21:07:12.383Z"
   },
   {
    "duration": 4,
    "start_time": "2023-01-27T21:07:12.402Z"
   },
   {
    "duration": 10,
    "start_time": "2023-01-27T21:07:12.407Z"
   },
   {
    "duration": 13,
    "start_time": "2023-01-27T21:07:12.420Z"
   },
   {
    "duration": 23,
    "start_time": "2023-01-27T21:07:12.435Z"
   },
   {
    "duration": 18,
    "start_time": "2023-01-27T21:07:12.461Z"
   },
   {
    "duration": 83,
    "start_time": "2023-01-27T21:07:12.481Z"
   },
   {
    "duration": 14,
    "start_time": "2023-01-27T21:07:12.566Z"
   },
   {
    "duration": 79,
    "start_time": "2023-01-27T21:07:12.582Z"
   },
   {
    "duration": 9,
    "start_time": "2023-01-27T21:07:12.663Z"
   },
   {
    "duration": 286,
    "start_time": "2023-01-27T21:07:12.675Z"
   },
   {
    "duration": 209,
    "start_time": "2023-01-27T21:07:12.962Z"
   },
   {
    "duration": 182,
    "start_time": "2023-01-27T21:07:13.173Z"
   },
   {
    "duration": 430,
    "start_time": "2023-01-27T21:07:13.358Z"
   },
   {
    "duration": 254,
    "start_time": "2023-01-27T21:07:13.789Z"
   },
   {
    "duration": 411,
    "start_time": "2023-01-27T21:07:14.045Z"
   },
   {
    "duration": 121,
    "start_time": "2023-01-27T21:07:14.458Z"
   },
   {
    "duration": 4,
    "start_time": "2023-01-27T21:07:14.581Z"
   },
   {
    "duration": 146,
    "start_time": "2023-01-27T21:07:14.587Z"
   },
   {
    "duration": 6,
    "start_time": "2023-01-27T21:07:14.734Z"
   },
   {
    "duration": 163,
    "start_time": "2023-01-27T21:07:14.742Z"
   },
   {
    "duration": 399,
    "start_time": "2023-01-27T21:07:41.131Z"
   },
   {
    "duration": 260,
    "start_time": "2023-01-27T21:07:48.617Z"
   },
   {
    "duration": 445,
    "start_time": "2023-01-27T21:07:55.233Z"
   },
   {
    "duration": 187,
    "start_time": "2023-01-27T21:08:18.031Z"
   },
   {
    "duration": 284,
    "start_time": "2023-01-27T21:08:25.912Z"
   },
   {
    "duration": 197,
    "start_time": "2023-01-27T21:08:32.940Z"
   },
   {
    "duration": 357,
    "start_time": "2023-01-27T21:08:39.322Z"
   },
   {
    "duration": 217,
    "start_time": "2023-01-27T21:15:05.121Z"
   },
   {
    "duration": 198,
    "start_time": "2023-01-27T21:17:23.911Z"
   },
   {
    "duration": 74,
    "start_time": "2023-01-27T21:17:40.417Z"
   },
   {
    "duration": 483,
    "start_time": "2023-01-27T21:18:59.591Z"
   },
   {
    "duration": 11,
    "start_time": "2023-01-27T21:19:04.754Z"
   },
   {
    "duration": 875,
    "start_time": "2023-01-27T21:25:56.062Z"
   },
   {
    "duration": 169,
    "start_time": "2023-01-27T21:26:34.208Z"
   },
   {
    "duration": 1133,
    "start_time": "2023-01-27T21:32:53.232Z"
   },
   {
    "duration": 23,
    "start_time": "2023-01-27T21:32:54.367Z"
   },
   {
    "duration": 11,
    "start_time": "2023-01-27T21:32:54.391Z"
   },
   {
    "duration": 15,
    "start_time": "2023-01-27T21:32:54.404Z"
   },
   {
    "duration": 2,
    "start_time": "2023-01-27T21:32:54.421Z"
   },
   {
    "duration": 10,
    "start_time": "2023-01-27T21:32:54.425Z"
   },
   {
    "duration": 11,
    "start_time": "2023-01-27T21:32:54.436Z"
   },
   {
    "duration": 20,
    "start_time": "2023-01-27T21:32:54.450Z"
   },
   {
    "duration": 13,
    "start_time": "2023-01-27T21:32:54.472Z"
   },
   {
    "duration": 32,
    "start_time": "2023-01-27T21:32:54.487Z"
   },
   {
    "duration": 12,
    "start_time": "2023-01-27T21:32:54.521Z"
   },
   {
    "duration": 17,
    "start_time": "2023-01-27T21:32:54.535Z"
   },
   {
    "duration": 13,
    "start_time": "2023-01-27T21:32:54.556Z"
   },
   {
    "duration": 307,
    "start_time": "2023-01-27T21:32:54.571Z"
   },
   {
    "duration": 221,
    "start_time": "2023-01-27T21:32:54.880Z"
   },
   {
    "duration": 210,
    "start_time": "2023-01-27T21:32:55.103Z"
   },
   {
    "duration": 325,
    "start_time": "2023-01-27T21:32:55.314Z"
   },
   {
    "duration": 203,
    "start_time": "2023-01-27T21:32:55.641Z"
   },
   {
    "duration": 334,
    "start_time": "2023-01-27T21:32:55.846Z"
   },
   {
    "duration": 140,
    "start_time": "2023-01-27T21:32:56.182Z"
   },
   {
    "duration": 5,
    "start_time": "2023-01-27T21:32:56.323Z"
   },
   {
    "duration": 155,
    "start_time": "2023-01-27T21:32:56.329Z"
   },
   {
    "duration": 4,
    "start_time": "2023-01-27T21:32:56.486Z"
   },
   {
    "duration": 231,
    "start_time": "2023-01-27T21:32:56.492Z"
   },
   {
    "duration": 177,
    "start_time": "2023-01-27T21:32:56.724Z"
   },
   {
    "duration": 10,
    "start_time": "2023-01-27T21:32:56.903Z"
   },
   {
    "duration": 881,
    "start_time": "2023-01-27T21:38:01.705Z"
   },
   {
    "duration": 778,
    "start_time": "2023-01-27T21:38:10.872Z"
   },
   {
    "duration": 854,
    "start_time": "2023-01-27T21:38:49.098Z"
   },
   {
    "duration": 10,
    "start_time": "2023-01-27T21:39:04.452Z"
   },
   {
    "duration": 9,
    "start_time": "2023-01-27T21:40:34.439Z"
   },
   {
    "duration": 13,
    "start_time": "2023-01-27T21:40:41.370Z"
   },
   {
    "duration": 9,
    "start_time": "2023-01-27T21:40:50.814Z"
   },
   {
    "duration": 9,
    "start_time": "2023-01-27T21:41:00.312Z"
   },
   {
    "duration": 10,
    "start_time": "2023-01-27T21:43:30.376Z"
   },
   {
    "duration": 30,
    "start_time": "2023-01-27T21:43:59.894Z"
   },
   {
    "duration": 16,
    "start_time": "2023-01-27T21:46:44.656Z"
   },
   {
    "duration": 74,
    "start_time": "2023-01-29T14:28:07.032Z"
   },
   {
    "duration": 68,
    "start_time": "2023-01-29T14:35:15.551Z"
   },
   {
    "duration": 1671,
    "start_time": "2023-01-29T14:35:40.565Z"
   },
   {
    "duration": 81,
    "start_time": "2023-01-29T14:35:42.239Z"
   },
   {
    "duration": 20,
    "start_time": "2023-01-29T14:35:42.323Z"
   },
   {
    "duration": 33,
    "start_time": "2023-01-29T14:35:42.346Z"
   },
   {
    "duration": 4,
    "start_time": "2023-01-29T14:35:42.381Z"
   },
   {
    "duration": 10,
    "start_time": "2023-01-29T14:35:42.387Z"
   },
   {
    "duration": 11,
    "start_time": "2023-01-29T14:35:42.399Z"
   },
   {
    "duration": 6,
    "start_time": "2023-01-29T14:35:42.420Z"
   },
   {
    "duration": 17,
    "start_time": "2023-01-29T14:35:42.429Z"
   },
   {
    "duration": 106,
    "start_time": "2023-01-29T14:35:42.450Z"
   },
   {
    "duration": 21,
    "start_time": "2023-01-29T14:35:42.559Z"
   },
   {
    "duration": 68,
    "start_time": "2023-01-29T14:35:42.582Z"
   },
   {
    "duration": 19,
    "start_time": "2023-01-29T14:35:42.653Z"
   },
   {
    "duration": 352,
    "start_time": "2023-01-29T14:35:42.675Z"
   },
   {
    "duration": 272,
    "start_time": "2023-01-29T14:35:43.030Z"
   },
   {
    "duration": 307,
    "start_time": "2023-01-29T14:35:43.304Z"
   },
   {
    "duration": 429,
    "start_time": "2023-01-29T14:35:43.612Z"
   },
   {
    "duration": 251,
    "start_time": "2023-01-29T14:35:44.043Z"
   },
   {
    "duration": 380,
    "start_time": "2023-01-29T14:35:44.297Z"
   },
   {
    "duration": 191,
    "start_time": "2023-01-29T14:35:44.680Z"
   },
   {
    "duration": 6,
    "start_time": "2023-01-29T14:35:44.873Z"
   },
   {
    "duration": 203,
    "start_time": "2023-01-29T14:35:44.881Z"
   },
   {
    "duration": 7,
    "start_time": "2023-01-29T14:35:45.086Z"
   },
   {
    "duration": 266,
    "start_time": "2023-01-29T14:35:45.096Z"
   },
   {
    "duration": 223,
    "start_time": "2023-01-29T14:35:45.366Z"
   },
   {
    "duration": 11,
    "start_time": "2023-01-29T14:35:45.591Z"
   },
   {
    "duration": 21,
    "start_time": "2023-01-29T14:35:45.604Z"
   },
   {
    "duration": 51,
    "start_time": "2023-01-29T14:35:45.629Z"
   },
   {
    "duration": 42,
    "start_time": "2023-01-29T14:35:45.683Z"
   },
   {
    "duration": 2,
    "start_time": "2023-01-29T14:36:00.636Z"
   },
   {
    "duration": 4,
    "start_time": "2023-01-29T14:36:13.229Z"
   },
   {
    "duration": 12,
    "start_time": "2023-01-29T14:36:32.483Z"
   },
   {
    "duration": 1401,
    "start_time": "2023-01-29T14:37:02.731Z"
   },
   {
    "duration": 32,
    "start_time": "2023-01-29T14:37:04.134Z"
   },
   {
    "duration": 16,
    "start_time": "2023-01-29T14:37:04.168Z"
   },
   {
    "duration": 23,
    "start_time": "2023-01-29T14:37:04.186Z"
   },
   {
    "duration": 4,
    "start_time": "2023-01-29T14:37:04.212Z"
   },
   {
    "duration": 14,
    "start_time": "2023-01-29T14:37:04.218Z"
   },
   {
    "duration": 17,
    "start_time": "2023-01-29T14:37:04.235Z"
   },
   {
    "duration": 26,
    "start_time": "2023-01-29T14:37:04.255Z"
   },
   {
    "duration": 13,
    "start_time": "2023-01-29T14:37:04.283Z"
   },
   {
    "duration": 23,
    "start_time": "2023-01-29T14:37:04.298Z"
   },
   {
    "duration": 67,
    "start_time": "2023-01-29T14:37:04.322Z"
   },
   {
    "duration": 14,
    "start_time": "2023-01-29T14:37:04.391Z"
   },
   {
    "duration": 32,
    "start_time": "2023-01-29T14:37:04.407Z"
   },
   {
    "duration": 13,
    "start_time": "2023-01-29T14:37:04.443Z"
   },
   {
    "duration": 379,
    "start_time": "2023-01-29T14:37:04.458Z"
   },
   {
    "duration": 360,
    "start_time": "2023-01-29T14:37:04.839Z"
   },
   {
    "duration": 289,
    "start_time": "2023-01-29T14:37:05.201Z"
   },
   {
    "duration": 336,
    "start_time": "2023-01-29T14:37:05.492Z"
   },
   {
    "duration": 277,
    "start_time": "2023-01-29T14:37:05.832Z"
   },
   {
    "duration": 417,
    "start_time": "2023-01-29T14:37:06.112Z"
   },
   {
    "duration": 237,
    "start_time": "2023-01-29T14:37:06.531Z"
   },
   {
    "duration": 5,
    "start_time": "2023-01-29T14:37:06.770Z"
   },
   {
    "duration": 264,
    "start_time": "2023-01-29T14:37:06.777Z"
   },
   {
    "duration": 20,
    "start_time": "2023-01-29T14:37:07.053Z"
   },
   {
    "duration": 388,
    "start_time": "2023-01-29T14:37:07.079Z"
   },
   {
    "duration": 279,
    "start_time": "2023-01-29T14:37:07.472Z"
   },
   {
    "duration": 14,
    "start_time": "2023-01-29T14:37:07.753Z"
   },
   {
    "duration": 45,
    "start_time": "2023-01-29T14:37:07.769Z"
   },
   {
    "duration": 74,
    "start_time": "2023-01-29T14:37:07.817Z"
   },
   {
    "duration": 36,
    "start_time": "2023-01-29T14:37:07.893Z"
   },
   {
    "duration": 82,
    "start_time": "2023-01-29T14:38:10.694Z"
   },
   {
    "duration": 5,
    "start_time": "2023-01-29T14:59:11.021Z"
   },
   {
    "duration": 11,
    "start_time": "2023-01-29T14:59:12.748Z"
   },
   {
    "duration": 1255,
    "start_time": "2023-01-29T14:59:34.732Z"
   },
   {
    "duration": 27,
    "start_time": "2023-01-29T14:59:35.989Z"
   },
   {
    "duration": 40,
    "start_time": "2023-01-29T14:59:36.018Z"
   },
   {
    "duration": 6,
    "start_time": "2023-01-29T14:59:36.061Z"
   },
   {
    "duration": 15,
    "start_time": "2023-01-29T14:59:36.070Z"
   },
   {
    "duration": 5,
    "start_time": "2023-01-29T14:59:36.087Z"
   },
   {
    "duration": 14,
    "start_time": "2023-01-29T14:59:36.094Z"
   },
   {
    "duration": 10,
    "start_time": "2023-01-29T14:59:36.110Z"
   },
   {
    "duration": 31,
    "start_time": "2023-01-29T14:59:36.126Z"
   },
   {
    "duration": 21,
    "start_time": "2023-01-29T14:59:36.158Z"
   },
   {
    "duration": 38,
    "start_time": "2023-01-29T14:59:36.180Z"
   },
   {
    "duration": 26,
    "start_time": "2023-01-29T14:59:36.220Z"
   },
   {
    "duration": 16,
    "start_time": "2023-01-29T14:59:36.249Z"
   },
   {
    "duration": 11,
    "start_time": "2023-01-29T14:59:36.269Z"
   },
   {
    "duration": 459,
    "start_time": "2023-01-29T14:59:36.282Z"
   },
   {
    "duration": 325,
    "start_time": "2023-01-29T14:59:36.744Z"
   },
   {
    "duration": 293,
    "start_time": "2023-01-29T14:59:37.070Z"
   },
   {
    "duration": 297,
    "start_time": "2023-01-29T14:59:37.365Z"
   },
   {
    "duration": 251,
    "start_time": "2023-01-29T14:59:37.665Z"
   },
   {
    "duration": 359,
    "start_time": "2023-01-29T14:59:37.918Z"
   },
   {
    "duration": 177,
    "start_time": "2023-01-29T14:59:38.279Z"
   },
   {
    "duration": 8,
    "start_time": "2023-01-29T14:59:38.462Z"
   },
   {
    "duration": 241,
    "start_time": "2023-01-29T14:59:38.474Z"
   },
   {
    "duration": 13,
    "start_time": "2023-01-29T14:59:38.717Z"
   },
   {
    "duration": 340,
    "start_time": "2023-01-29T14:59:38.737Z"
   },
   {
    "duration": 277,
    "start_time": "2023-01-29T14:59:39.078Z"
   },
   {
    "duration": 17,
    "start_time": "2023-01-29T14:59:39.363Z"
   },
   {
    "duration": 10,
    "start_time": "2023-01-29T14:59:39.382Z"
   },
   {
    "duration": 52,
    "start_time": "2023-01-29T14:59:39.394Z"
   },
   {
    "duration": 17,
    "start_time": "2023-01-29T14:59:39.450Z"
   },
   {
    "duration": 167,
    "start_time": "2023-01-29T15:04:17.679Z"
   },
   {
    "duration": 15,
    "start_time": "2023-01-29T15:04:42.055Z"
   },
   {
    "duration": 12,
    "start_time": "2023-01-29T15:04:53.864Z"
   },
   {
    "duration": 13,
    "start_time": "2023-01-29T15:05:24.273Z"
   },
   {
    "duration": 16,
    "start_time": "2023-01-29T15:06:14.618Z"
   },
   {
    "duration": 15,
    "start_time": "2023-01-29T15:06:45.966Z"
   },
   {
    "duration": 15,
    "start_time": "2023-01-29T15:07:23.244Z"
   },
   {
    "duration": 15,
    "start_time": "2023-01-29T15:14:30.857Z"
   },
   {
    "duration": 16,
    "start_time": "2023-01-29T15:21:13.748Z"
   },
   {
    "duration": 5,
    "start_time": "2023-01-29T15:21:57.694Z"
   },
   {
    "duration": 5,
    "start_time": "2023-01-29T15:22:25.499Z"
   },
   {
    "duration": 6,
    "start_time": "2023-01-29T15:23:06.300Z"
   },
   {
    "duration": 5,
    "start_time": "2023-01-29T15:23:17.458Z"
   },
   {
    "duration": 5,
    "start_time": "2023-01-29T15:23:43.857Z"
   },
   {
    "duration": 4,
    "start_time": "2023-01-29T15:23:53.710Z"
   },
   {
    "duration": 6,
    "start_time": "2023-01-29T15:24:09.742Z"
   },
   {
    "duration": 124,
    "start_time": "2023-01-29T15:29:48.586Z"
   },
   {
    "duration": 65,
    "start_time": "2023-01-29T15:29:53.432Z"
   },
   {
    "duration": 14,
    "start_time": "2023-01-29T15:30:00.045Z"
   },
   {
    "duration": 11,
    "start_time": "2023-01-29T15:31:05.872Z"
   },
   {
    "duration": 20,
    "start_time": "2023-01-29T15:32:40.920Z"
   },
   {
    "duration": 28,
    "start_time": "2023-01-29T15:32:51.519Z"
   },
   {
    "duration": 15,
    "start_time": "2023-01-29T15:33:14.673Z"
   },
   {
    "duration": 12,
    "start_time": "2023-01-29T15:33:16.898Z"
   },
   {
    "duration": 13,
    "start_time": "2023-01-29T15:35:23.841Z"
   },
   {
    "duration": 12,
    "start_time": "2023-01-29T15:35:51.180Z"
   },
   {
    "duration": 226,
    "start_time": "2023-01-29T15:44:45.282Z"
   },
   {
    "duration": 213,
    "start_time": "2023-01-29T15:46:38.988Z"
   },
   {
    "duration": 292,
    "start_time": "2023-01-29T15:48:05.257Z"
   },
   {
    "duration": 289,
    "start_time": "2023-01-29T15:49:19.662Z"
   },
   {
    "duration": 190,
    "start_time": "2023-01-29T15:51:26.924Z"
   },
   {
    "duration": 297,
    "start_time": "2023-01-29T15:52:18.961Z"
   },
   {
    "duration": 345,
    "start_time": "2023-01-29T15:52:50.478Z"
   },
   {
    "duration": 73,
    "start_time": "2023-01-29T15:53:45.821Z"
   },
   {
    "duration": 121,
    "start_time": "2023-01-29T15:55:31.681Z"
   },
   {
    "duration": 111,
    "start_time": "2023-01-29T15:56:09.141Z"
   },
   {
    "duration": 4,
    "start_time": "2023-01-29T15:56:45.270Z"
   },
   {
    "duration": 121,
    "start_time": "2023-01-29T15:57:03.256Z"
   },
   {
    "duration": 131,
    "start_time": "2023-01-29T15:57:20.985Z"
   },
   {
    "duration": 128,
    "start_time": "2023-01-29T15:57:47.507Z"
   },
   {
    "duration": 87,
    "start_time": "2023-01-29T15:58:40.370Z"
   },
   {
    "duration": 126,
    "start_time": "2023-01-29T16:07:56.472Z"
   },
   {
    "duration": 199,
    "start_time": "2023-01-29T16:15:18.680Z"
   },
   {
    "duration": 77,
    "start_time": "2023-01-29T16:31:57.269Z"
   },
   {
    "duration": 151,
    "start_time": "2023-01-29T16:32:05.358Z"
   },
   {
    "duration": 166,
    "start_time": "2023-01-29T16:32:19.081Z"
   },
   {
    "duration": 171,
    "start_time": "2023-01-29T16:33:08.721Z"
   },
   {
    "duration": 161,
    "start_time": "2023-01-29T16:33:39.359Z"
   },
   {
    "duration": 72,
    "start_time": "2023-01-29T16:35:23.375Z"
   },
   {
    "duration": 13,
    "start_time": "2023-01-29T16:48:27.577Z"
   },
   {
    "duration": 15,
    "start_time": "2023-01-29T16:52:24.714Z"
   },
   {
    "duration": 14,
    "start_time": "2023-01-29T16:53:02.940Z"
   },
   {
    "duration": 4,
    "start_time": "2023-01-29T16:59:23.324Z"
   },
   {
    "duration": 4,
    "start_time": "2023-01-29T16:59:36.658Z"
   },
   {
    "duration": 5,
    "start_time": "2023-01-29T17:00:31.102Z"
   },
   {
    "duration": 5,
    "start_time": "2023-01-29T17:01:20.411Z"
   },
   {
    "duration": 1117,
    "start_time": "2023-01-29T17:02:37.942Z"
   },
   {
    "duration": 26,
    "start_time": "2023-01-29T17:02:39.061Z"
   },
   {
    "duration": 11,
    "start_time": "2023-01-29T17:02:39.091Z"
   },
   {
    "duration": 5,
    "start_time": "2023-01-29T17:02:39.105Z"
   },
   {
    "duration": 21,
    "start_time": "2023-01-29T17:02:39.113Z"
   },
   {
    "duration": 4,
    "start_time": "2023-01-29T17:02:39.136Z"
   },
   {
    "duration": 9,
    "start_time": "2023-01-29T17:02:39.142Z"
   },
   {
    "duration": 14,
    "start_time": "2023-01-29T17:02:39.153Z"
   },
   {
    "duration": 6,
    "start_time": "2023-01-29T17:02:39.172Z"
   },
   {
    "duration": 17,
    "start_time": "2023-01-29T17:02:39.180Z"
   },
   {
    "duration": 13,
    "start_time": "2023-01-29T17:02:39.222Z"
   },
   {
    "duration": 43,
    "start_time": "2023-01-29T17:02:39.237Z"
   },
   {
    "duration": 12,
    "start_time": "2023-01-29T17:02:39.281Z"
   },
   {
    "duration": 18,
    "start_time": "2023-01-29T17:02:39.295Z"
   },
   {
    "duration": 10,
    "start_time": "2023-01-29T17:02:39.314Z"
   },
   {
    "duration": 7,
    "start_time": "2023-01-29T17:02:39.326Z"
   },
   {
    "duration": 7,
    "start_time": "2023-01-29T17:02:39.335Z"
   },
   {
    "duration": 6,
    "start_time": "2023-01-29T17:02:39.343Z"
   },
   {
    "duration": 7,
    "start_time": "2023-01-29T17:02:39.351Z"
   },
   {
    "duration": 6,
    "start_time": "2023-01-29T17:02:39.360Z"
   },
   {
    "duration": 6,
    "start_time": "2023-01-29T17:02:39.367Z"
   },
   {
    "duration": 47,
    "start_time": "2023-01-29T17:02:39.375Z"
   },
   {
    "duration": 10,
    "start_time": "2023-01-29T17:02:39.423Z"
   },
   {
    "duration": 330,
    "start_time": "2023-01-29T17:02:39.435Z"
   },
   {
    "duration": 219,
    "start_time": "2023-01-29T17:02:39.767Z"
   },
   {
    "duration": 220,
    "start_time": "2023-01-29T17:02:39.987Z"
   },
   {
    "duration": 321,
    "start_time": "2023-01-29T17:02:40.210Z"
   },
   {
    "duration": 222,
    "start_time": "2023-01-29T17:02:40.533Z"
   },
   {
    "duration": 320,
    "start_time": "2023-01-29T17:02:40.756Z"
   },
   {
    "duration": 129,
    "start_time": "2023-01-29T17:02:41.077Z"
   },
   {
    "duration": 14,
    "start_time": "2023-01-29T17:02:41.209Z"
   },
   {
    "duration": 147,
    "start_time": "2023-01-29T17:02:41.225Z"
   },
   {
    "duration": 133,
    "start_time": "2023-01-29T17:02:41.373Z"
   },
   {
    "duration": 14,
    "start_time": "2023-01-29T17:02:41.508Z"
   },
   {
    "duration": 214,
    "start_time": "2023-01-29T17:02:41.524Z"
   },
   {
    "duration": 183,
    "start_time": "2023-01-29T17:02:41.741Z"
   },
   {
    "duration": 11,
    "start_time": "2023-01-29T17:02:41.926Z"
   },
   {
    "duration": 9,
    "start_time": "2023-01-29T17:02:41.939Z"
   },
   {
    "duration": 123,
    "start_time": "2023-01-29T17:02:41.950Z"
   },
   {
    "duration": 0,
    "start_time": "2023-01-29T17:02:42.075Z"
   },
   {
    "duration": 0,
    "start_time": "2023-01-29T17:02:42.077Z"
   },
   {
    "duration": 0,
    "start_time": "2023-01-29T17:02:42.078Z"
   },
   {
    "duration": 14,
    "start_time": "2023-01-29T17:03:02.520Z"
   },
   {
    "duration": 6,
    "start_time": "2023-01-29T17:05:00.861Z"
   },
   {
    "duration": 6,
    "start_time": "2023-01-29T17:05:18.924Z"
   },
   {
    "duration": 3,
    "start_time": "2023-01-29T17:06:05.791Z"
   },
   {
    "duration": 3,
    "start_time": "2023-01-29T17:06:07.517Z"
   },
   {
    "duration": 13,
    "start_time": "2023-01-29T17:06:33.699Z"
   },
   {
    "duration": 10,
    "start_time": "2023-01-29T17:08:16.156Z"
   },
   {
    "duration": 5,
    "start_time": "2023-01-29T17:08:41.406Z"
   },
   {
    "duration": 16,
    "start_time": "2023-01-29T17:08:54.210Z"
   },
   {
    "duration": 11,
    "start_time": "2023-01-29T17:09:42.455Z"
   },
   {
    "duration": 4,
    "start_time": "2023-01-29T17:10:07.030Z"
   },
   {
    "duration": 5,
    "start_time": "2023-01-29T17:10:12.280Z"
   },
   {
    "duration": 4,
    "start_time": "2023-01-29T17:10:16.830Z"
   },
   {
    "duration": 10,
    "start_time": "2023-01-29T17:10:21.270Z"
   },
   {
    "duration": 9,
    "start_time": "2023-01-29T17:10:33.424Z"
   },
   {
    "duration": 12,
    "start_time": "2023-01-29T17:10:53.865Z"
   },
   {
    "duration": 10,
    "start_time": "2023-01-29T17:11:01.775Z"
   },
   {
    "duration": 11,
    "start_time": "2023-01-29T17:11:53.058Z"
   },
   {
    "duration": 74,
    "start_time": "2023-01-29T17:13:10.863Z"
   },
   {
    "duration": 54,
    "start_time": "2023-01-29T17:13:34.954Z"
   },
   {
    "duration": 33,
    "start_time": "2023-01-29T17:14:10.262Z"
   },
   {
    "duration": 36,
    "start_time": "2023-01-29T17:15:20.973Z"
   },
   {
    "duration": 1157,
    "start_time": "2023-01-29T17:20:41.665Z"
   },
   {
    "duration": 27,
    "start_time": "2023-01-29T17:20:42.826Z"
   },
   {
    "duration": 14,
    "start_time": "2023-01-29T17:20:42.856Z"
   },
   {
    "duration": 8,
    "start_time": "2023-01-29T17:20:42.873Z"
   },
   {
    "duration": 17,
    "start_time": "2023-01-29T17:20:42.883Z"
   },
   {
    "duration": 7,
    "start_time": "2023-01-29T17:20:42.902Z"
   },
   {
    "duration": 8,
    "start_time": "2023-01-29T17:20:42.911Z"
   },
   {
    "duration": 16,
    "start_time": "2023-01-29T17:20:42.921Z"
   },
   {
    "duration": 7,
    "start_time": "2023-01-29T17:20:42.939Z"
   },
   {
    "duration": 16,
    "start_time": "2023-01-29T17:20:42.949Z"
   },
   {
    "duration": 19,
    "start_time": "2023-01-29T17:20:42.967Z"
   },
   {
    "duration": 38,
    "start_time": "2023-01-29T17:20:42.988Z"
   },
   {
    "duration": 13,
    "start_time": "2023-01-29T17:20:43.027Z"
   },
   {
    "duration": 35,
    "start_time": "2023-01-29T17:20:43.043Z"
   },
   {
    "duration": 11,
    "start_time": "2023-01-29T17:20:43.080Z"
   },
   {
    "duration": 8,
    "start_time": "2023-01-29T17:20:43.093Z"
   },
   {
    "duration": 12,
    "start_time": "2023-01-29T17:20:43.104Z"
   },
   {
    "duration": 13,
    "start_time": "2023-01-29T17:20:43.118Z"
   },
   {
    "duration": 11,
    "start_time": "2023-01-29T17:20:43.133Z"
   },
   {
    "duration": 13,
    "start_time": "2023-01-29T17:20:43.147Z"
   },
   {
    "duration": 14,
    "start_time": "2023-01-29T17:20:43.162Z"
   },
   {
    "duration": 18,
    "start_time": "2023-01-29T17:20:43.178Z"
   },
   {
    "duration": 24,
    "start_time": "2023-01-29T17:20:43.198Z"
   },
   {
    "duration": 346,
    "start_time": "2023-01-29T17:20:43.224Z"
   },
   {
    "duration": 262,
    "start_time": "2023-01-29T17:20:43.573Z"
   },
   {
    "duration": 223,
    "start_time": "2023-01-29T17:20:43.837Z"
   },
   {
    "duration": 326,
    "start_time": "2023-01-29T17:20:44.062Z"
   },
   {
    "duration": 268,
    "start_time": "2023-01-29T17:20:44.392Z"
   },
   {
    "duration": 379,
    "start_time": "2023-01-29T17:20:44.662Z"
   },
   {
    "duration": 158,
    "start_time": "2023-01-29T17:20:45.043Z"
   },
   {
    "duration": 5,
    "start_time": "2023-01-29T17:20:45.203Z"
   },
   {
    "duration": 179,
    "start_time": "2023-01-29T17:20:45.210Z"
   },
   {
    "duration": 145,
    "start_time": "2023-01-29T17:20:45.391Z"
   },
   {
    "duration": 6,
    "start_time": "2023-01-29T17:20:45.539Z"
   },
   {
    "duration": 233,
    "start_time": "2023-01-29T17:20:45.548Z"
   },
   {
    "duration": 194,
    "start_time": "2023-01-29T17:20:45.783Z"
   },
   {
    "duration": 14,
    "start_time": "2023-01-29T17:20:45.979Z"
   },
   {
    "duration": 32,
    "start_time": "2023-01-29T17:20:45.995Z"
   },
   {
    "duration": 12,
    "start_time": "2023-01-29T17:20:46.029Z"
   },
   {
    "duration": 31,
    "start_time": "2023-01-29T17:20:46.043Z"
   },
   {
    "duration": 14,
    "start_time": "2023-01-29T17:20:46.075Z"
   },
   {
    "duration": 45,
    "start_time": "2023-01-29T17:24:14.548Z"
   },
   {
    "duration": 72,
    "start_time": "2023-01-29T17:35:46.197Z"
   },
   {
    "duration": 1203,
    "start_time": "2023-01-29T20:12:08.074Z"
   },
   {
    "duration": 85,
    "start_time": "2023-01-29T20:12:09.279Z"
   },
   {
    "duration": 17,
    "start_time": "2023-01-29T20:12:09.366Z"
   },
   {
    "duration": 18,
    "start_time": "2023-01-29T20:12:09.385Z"
   },
   {
    "duration": 15,
    "start_time": "2023-01-29T20:12:09.406Z"
   },
   {
    "duration": 5,
    "start_time": "2023-01-29T20:12:09.423Z"
   },
   {
    "duration": 11,
    "start_time": "2023-01-29T20:12:09.430Z"
   },
   {
    "duration": 11,
    "start_time": "2023-01-29T20:12:09.444Z"
   },
   {
    "duration": 8,
    "start_time": "2023-01-29T20:12:09.456Z"
   },
   {
    "duration": 24,
    "start_time": "2023-01-29T20:12:09.466Z"
   },
   {
    "duration": 17,
    "start_time": "2023-01-29T20:12:09.492Z"
   },
   {
    "duration": 103,
    "start_time": "2023-01-29T20:12:09.512Z"
   },
   {
    "duration": 16,
    "start_time": "2023-01-29T20:12:09.617Z"
   },
   {
    "duration": 69,
    "start_time": "2023-01-29T20:12:09.637Z"
   },
   {
    "duration": 20,
    "start_time": "2023-01-29T20:12:09.709Z"
   },
   {
    "duration": 15,
    "start_time": "2023-01-29T20:12:09.731Z"
   },
   {
    "duration": 14,
    "start_time": "2023-01-29T20:12:09.749Z"
   },
   {
    "duration": 16,
    "start_time": "2023-01-29T20:12:09.765Z"
   },
   {
    "duration": 16,
    "start_time": "2023-01-29T20:12:09.783Z"
   },
   {
    "duration": 11,
    "start_time": "2023-01-29T20:12:09.801Z"
   },
   {
    "duration": 6,
    "start_time": "2023-01-29T20:12:09.814Z"
   },
   {
    "duration": 17,
    "start_time": "2023-01-29T20:12:09.823Z"
   },
   {
    "duration": 18,
    "start_time": "2023-01-29T20:12:09.842Z"
   },
   {
    "duration": 441,
    "start_time": "2023-01-29T20:12:09.862Z"
   },
   {
    "duration": 301,
    "start_time": "2023-01-29T20:12:10.308Z"
   },
   {
    "duration": 247,
    "start_time": "2023-01-29T20:12:10.611Z"
   },
   {
    "duration": 323,
    "start_time": "2023-01-29T20:12:10.860Z"
   },
   {
    "duration": 206,
    "start_time": "2023-01-29T20:12:11.185Z"
   },
   {
    "duration": 312,
    "start_time": "2023-01-29T20:12:11.392Z"
   },
   {
    "duration": 132,
    "start_time": "2023-01-29T20:12:11.706Z"
   },
   {
    "duration": 5,
    "start_time": "2023-01-29T20:12:11.840Z"
   },
   {
    "duration": 223,
    "start_time": "2023-01-29T20:12:11.847Z"
   },
   {
    "duration": 162,
    "start_time": "2023-01-29T20:12:12.072Z"
   },
   {
    "duration": 5,
    "start_time": "2023-01-29T20:12:12.236Z"
   },
   {
    "duration": 214,
    "start_time": "2023-01-29T20:12:12.242Z"
   },
   {
    "duration": 234,
    "start_time": "2023-01-29T20:12:12.457Z"
   },
   {
    "duration": 13,
    "start_time": "2023-01-29T20:12:12.693Z"
   },
   {
    "duration": 17,
    "start_time": "2023-01-29T20:12:12.708Z"
   },
   {
    "duration": 46,
    "start_time": "2023-01-29T20:12:12.727Z"
   },
   {
    "duration": 49,
    "start_time": "2023-01-29T20:12:12.775Z"
   },
   {
    "duration": 18,
    "start_time": "2023-01-29T20:12:12.828Z"
   },
   {
    "duration": 1292,
    "start_time": "2023-02-01T13:45:03.886Z"
   },
   {
    "duration": 80,
    "start_time": "2023-02-01T13:45:05.183Z"
   },
   {
    "duration": 15,
    "start_time": "2023-02-01T13:45:05.265Z"
   },
   {
    "duration": 15,
    "start_time": "2023-02-01T13:45:05.281Z"
   },
   {
    "duration": 56,
    "start_time": "2023-02-01T13:45:05.298Z"
   },
   {
    "duration": 17,
    "start_time": "2023-02-01T13:45:05.356Z"
   },
   {
    "duration": 38,
    "start_time": "2023-02-01T13:45:05.376Z"
   },
   {
    "duration": 17,
    "start_time": "2023-02-01T13:45:05.416Z"
   },
   {
    "duration": 17,
    "start_time": "2023-02-01T13:45:05.435Z"
   },
   {
    "duration": 18,
    "start_time": "2023-02-01T13:45:05.455Z"
   },
   {
    "duration": 12,
    "start_time": "2023-02-01T13:45:05.475Z"
   },
   {
    "duration": 104,
    "start_time": "2023-02-01T13:45:05.489Z"
   },
   {
    "duration": 14,
    "start_time": "2023-02-01T13:45:05.595Z"
   },
   {
    "duration": 70,
    "start_time": "2023-02-01T13:45:05.613Z"
   },
   {
    "duration": 11,
    "start_time": "2023-02-01T13:45:05.685Z"
   },
   {
    "duration": 17,
    "start_time": "2023-02-01T13:45:05.697Z"
   },
   {
    "duration": 27,
    "start_time": "2023-02-01T13:45:05.715Z"
   },
   {
    "duration": 13,
    "start_time": "2023-02-01T13:45:05.744Z"
   },
   {
    "duration": 21,
    "start_time": "2023-02-01T13:45:05.759Z"
   },
   {
    "duration": 30,
    "start_time": "2023-02-01T13:45:05.782Z"
   },
   {
    "duration": 29,
    "start_time": "2023-02-01T13:45:05.814Z"
   },
   {
    "duration": 22,
    "start_time": "2023-02-01T13:45:05.844Z"
   },
   {
    "duration": 22,
    "start_time": "2023-02-01T13:45:05.868Z"
   },
   {
    "duration": 169,
    "start_time": "2023-02-01T13:45:05.891Z"
   },
   {
    "duration": 0,
    "start_time": "2023-02-01T13:45:06.061Z"
   },
   {
    "duration": 0,
    "start_time": "2023-02-01T13:45:06.063Z"
   },
   {
    "duration": 0,
    "start_time": "2023-02-01T13:45:06.064Z"
   },
   {
    "duration": 0,
    "start_time": "2023-02-01T13:45:06.065Z"
   },
   {
    "duration": 0,
    "start_time": "2023-02-01T13:45:06.066Z"
   },
   {
    "duration": 0,
    "start_time": "2023-02-01T13:45:06.068Z"
   },
   {
    "duration": 0,
    "start_time": "2023-02-01T13:45:06.069Z"
   },
   {
    "duration": 0,
    "start_time": "2023-02-01T13:45:06.070Z"
   },
   {
    "duration": 0,
    "start_time": "2023-02-01T13:45:06.071Z"
   },
   {
    "duration": 0,
    "start_time": "2023-02-01T13:45:06.072Z"
   },
   {
    "duration": 0,
    "start_time": "2023-02-01T13:45:06.073Z"
   },
   {
    "duration": 0,
    "start_time": "2023-02-01T13:45:06.075Z"
   },
   {
    "duration": 0,
    "start_time": "2023-02-01T13:45:06.077Z"
   },
   {
    "duration": 0,
    "start_time": "2023-02-01T13:45:06.078Z"
   },
   {
    "duration": 0,
    "start_time": "2023-02-01T13:45:06.079Z"
   },
   {
    "duration": 0,
    "start_time": "2023-02-01T13:45:06.080Z"
   },
   {
    "duration": 0,
    "start_time": "2023-02-01T13:45:06.082Z"
   },
   {
    "duration": 0,
    "start_time": "2023-02-01T13:45:06.082Z"
   },
   {
    "duration": 12,
    "start_time": "2023-02-01T13:46:24.181Z"
   },
   {
    "duration": 11,
    "start_time": "2023-02-01T13:46:41.943Z"
   },
   {
    "duration": 1096,
    "start_time": "2023-02-01T13:49:28.433Z"
   },
   {
    "duration": 25,
    "start_time": "2023-02-01T13:49:29.531Z"
   },
   {
    "duration": 10,
    "start_time": "2023-02-01T13:49:29.558Z"
   },
   {
    "duration": 6,
    "start_time": "2023-02-01T13:49:29.570Z"
   },
   {
    "duration": 22,
    "start_time": "2023-02-01T13:49:29.578Z"
   },
   {
    "duration": 6,
    "start_time": "2023-02-01T13:49:29.602Z"
   },
   {
    "duration": 20,
    "start_time": "2023-02-01T13:49:29.610Z"
   },
   {
    "duration": 19,
    "start_time": "2023-02-01T13:49:29.632Z"
   },
   {
    "duration": 8,
    "start_time": "2023-02-01T13:49:29.653Z"
   },
   {
    "duration": 18,
    "start_time": "2023-02-01T13:49:29.663Z"
   },
   {
    "duration": 11,
    "start_time": "2023-02-01T13:49:29.683Z"
   },
   {
    "duration": 50,
    "start_time": "2023-02-01T13:49:29.695Z"
   },
   {
    "duration": 13,
    "start_time": "2023-02-01T13:49:29.747Z"
   },
   {
    "duration": 24,
    "start_time": "2023-02-01T13:49:29.761Z"
   },
   {
    "duration": 8,
    "start_time": "2023-02-01T13:49:29.786Z"
   },
   {
    "duration": 4,
    "start_time": "2023-02-01T13:49:29.796Z"
   },
   {
    "duration": 6,
    "start_time": "2023-02-01T13:49:29.801Z"
   },
   {
    "duration": 6,
    "start_time": "2023-02-01T13:49:29.808Z"
   },
   {
    "duration": 6,
    "start_time": "2023-02-01T13:49:29.816Z"
   },
   {
    "duration": 21,
    "start_time": "2023-02-01T13:49:29.823Z"
   },
   {
    "duration": 4,
    "start_time": "2023-02-01T13:49:29.845Z"
   },
   {
    "duration": 11,
    "start_time": "2023-02-01T13:49:29.851Z"
   },
   {
    "duration": 11,
    "start_time": "2023-02-01T13:49:29.863Z"
   },
   {
    "duration": 10,
    "start_time": "2023-02-01T13:49:29.876Z"
   },
   {
    "duration": 303,
    "start_time": "2023-02-01T13:49:29.888Z"
   },
   {
    "duration": 226,
    "start_time": "2023-02-01T13:49:30.193Z"
   },
   {
    "duration": 198,
    "start_time": "2023-02-01T13:49:30.420Z"
   },
   {
    "duration": 307,
    "start_time": "2023-02-01T13:49:30.622Z"
   },
   {
    "duration": 225,
    "start_time": "2023-02-01T13:49:30.931Z"
   },
   {
    "duration": 293,
    "start_time": "2023-02-01T13:49:31.158Z"
   },
   {
    "duration": 130,
    "start_time": "2023-02-01T13:49:31.453Z"
   },
   {
    "duration": 5,
    "start_time": "2023-02-01T13:49:31.589Z"
   },
   {
    "duration": 198,
    "start_time": "2023-02-01T13:49:31.596Z"
   },
   {
    "duration": 124,
    "start_time": "2023-02-01T13:49:31.796Z"
   },
   {
    "duration": 5,
    "start_time": "2023-02-01T13:49:31.922Z"
   },
   {
    "duration": 194,
    "start_time": "2023-02-01T13:49:31.929Z"
   },
   {
    "duration": 145,
    "start_time": "2023-02-01T13:49:32.125Z"
   },
   {
    "duration": 9,
    "start_time": "2023-02-01T13:49:32.271Z"
   },
   {
    "duration": 13,
    "start_time": "2023-02-01T13:49:32.282Z"
   },
   {
    "duration": 20,
    "start_time": "2023-02-01T13:49:32.296Z"
   },
   {
    "duration": 104,
    "start_time": "2023-02-01T13:49:32.317Z"
   },
   {
    "duration": 0,
    "start_time": "2023-02-01T13:49:32.422Z"
   },
   {
    "duration": 1138,
    "start_time": "2023-02-02T07:12:33.921Z"
   },
   {
    "duration": 83,
    "start_time": "2023-02-02T07:12:35.060Z"
   },
   {
    "duration": 13,
    "start_time": "2023-02-02T07:12:35.153Z"
   },
   {
    "duration": 9,
    "start_time": "2023-02-02T07:12:35.168Z"
   },
   {
    "duration": 23,
    "start_time": "2023-02-02T07:12:35.179Z"
   },
   {
    "duration": 15,
    "start_time": "2023-02-02T07:12:35.203Z"
   },
   {
    "duration": 12,
    "start_time": "2023-02-02T07:12:35.220Z"
   },
   {
    "duration": 38,
    "start_time": "2023-02-02T07:12:35.233Z"
   },
   {
    "duration": 40,
    "start_time": "2023-02-02T07:12:35.273Z"
   },
   {
    "duration": 13,
    "start_time": "2023-02-02T07:12:35.316Z"
   },
   {
    "duration": 38,
    "start_time": "2023-02-02T07:12:35.331Z"
   },
   {
    "duration": 110,
    "start_time": "2023-02-02T07:12:35.371Z"
   },
   {
    "duration": 10,
    "start_time": "2023-02-02T07:12:35.482Z"
   },
   {
    "duration": 95,
    "start_time": "2023-02-02T07:12:35.494Z"
   },
   {
    "duration": 10,
    "start_time": "2023-02-02T07:12:35.591Z"
   },
   {
    "duration": 35,
    "start_time": "2023-02-02T07:12:35.603Z"
   },
   {
    "duration": 26,
    "start_time": "2023-02-02T07:12:35.640Z"
   },
   {
    "duration": 26,
    "start_time": "2023-02-02T07:12:35.667Z"
   },
   {
    "duration": 30,
    "start_time": "2023-02-02T07:12:35.695Z"
   },
   {
    "duration": 34,
    "start_time": "2023-02-02T07:12:35.727Z"
   },
   {
    "duration": 41,
    "start_time": "2023-02-02T07:12:35.762Z"
   },
   {
    "duration": 32,
    "start_time": "2023-02-02T07:12:35.804Z"
   },
   {
    "duration": 39,
    "start_time": "2023-02-02T07:12:35.838Z"
   },
   {
    "duration": 10,
    "start_time": "2023-02-02T07:12:35.878Z"
   },
   {
    "duration": 276,
    "start_time": "2023-02-02T07:12:35.890Z"
   },
   {
    "duration": 206,
    "start_time": "2023-02-02T07:12:36.168Z"
   },
   {
    "duration": 199,
    "start_time": "2023-02-02T07:12:36.376Z"
   },
   {
    "duration": 279,
    "start_time": "2023-02-02T07:12:36.579Z"
   },
   {
    "duration": 198,
    "start_time": "2023-02-02T07:12:36.860Z"
   },
   {
    "duration": 307,
    "start_time": "2023-02-02T07:12:37.060Z"
   },
   {
    "duration": 132,
    "start_time": "2023-02-02T07:12:37.369Z"
   },
   {
    "duration": 4,
    "start_time": "2023-02-02T07:12:37.503Z"
   },
   {
    "duration": 150,
    "start_time": "2023-02-02T07:12:37.508Z"
   },
   {
    "duration": 127,
    "start_time": "2023-02-02T07:12:37.660Z"
   },
   {
    "duration": 6,
    "start_time": "2023-02-02T07:12:37.789Z"
   },
   {
    "duration": 196,
    "start_time": "2023-02-02T07:12:37.796Z"
   },
   {
    "duration": 157,
    "start_time": "2023-02-02T07:12:37.994Z"
   },
   {
    "duration": 12,
    "start_time": "2023-02-02T07:12:38.152Z"
   },
   {
    "duration": 8,
    "start_time": "2023-02-02T07:12:38.165Z"
   },
   {
    "duration": 14,
    "start_time": "2023-02-02T07:12:38.174Z"
   },
   {
    "duration": 105,
    "start_time": "2023-02-02T07:12:38.189Z"
   },
   {
    "duration": 0,
    "start_time": "2023-02-02T07:12:38.295Z"
   },
   {
    "duration": 17,
    "start_time": "2023-02-02T07:19:06.261Z"
   },
   {
    "duration": 52,
    "start_time": "2023-02-02T18:03:25.185Z"
   },
   {
    "duration": 1299,
    "start_time": "2023-02-02T18:03:36.733Z"
   },
   {
    "duration": 84,
    "start_time": "2023-02-02T18:03:38.034Z"
   },
   {
    "duration": 11,
    "start_time": "2023-02-02T18:03:38.120Z"
   },
   {
    "duration": 7,
    "start_time": "2023-02-02T18:03:38.133Z"
   },
   {
    "duration": 17,
    "start_time": "2023-02-02T18:03:38.141Z"
   },
   {
    "duration": 3,
    "start_time": "2023-02-02T18:03:38.159Z"
   },
   {
    "duration": 12,
    "start_time": "2023-02-02T18:03:38.163Z"
   },
   {
    "duration": 11,
    "start_time": "2023-02-02T18:03:38.177Z"
   },
   {
    "duration": 9,
    "start_time": "2023-02-02T18:03:38.189Z"
   },
   {
    "duration": 11,
    "start_time": "2023-02-02T18:03:38.201Z"
   },
   {
    "duration": 19,
    "start_time": "2023-02-02T18:03:38.214Z"
   },
   {
    "duration": 153,
    "start_time": "2023-02-02T18:03:38.235Z"
   },
   {
    "duration": 13,
    "start_time": "2023-02-02T18:03:38.389Z"
   },
   {
    "duration": 68,
    "start_time": "2023-02-02T18:03:38.403Z"
   },
   {
    "duration": 10,
    "start_time": "2023-02-02T18:03:38.473Z"
   },
   {
    "duration": 6,
    "start_time": "2023-02-02T18:03:38.484Z"
   },
   {
    "duration": 6,
    "start_time": "2023-02-02T18:03:38.491Z"
   },
   {
    "duration": 7,
    "start_time": "2023-02-02T18:03:38.498Z"
   },
   {
    "duration": 5,
    "start_time": "2023-02-02T18:03:38.507Z"
   },
   {
    "duration": 25,
    "start_time": "2023-02-02T18:03:38.514Z"
   },
   {
    "duration": 9,
    "start_time": "2023-02-02T18:03:38.540Z"
   },
   {
    "duration": 12,
    "start_time": "2023-02-02T18:03:38.550Z"
   },
   {
    "duration": 11,
    "start_time": "2023-02-02T18:03:38.564Z"
   },
   {
    "duration": 11,
    "start_time": "2023-02-02T18:03:38.577Z"
   },
   {
    "duration": 299,
    "start_time": "2023-02-02T18:03:38.590Z"
   },
   {
    "duration": 227,
    "start_time": "2023-02-02T18:03:38.891Z"
   },
   {
    "duration": 218,
    "start_time": "2023-02-02T18:03:39.119Z"
   },
   {
    "duration": 383,
    "start_time": "2023-02-02T18:03:39.348Z"
   },
   {
    "duration": 248,
    "start_time": "2023-02-02T18:03:39.733Z"
   },
   {
    "duration": 322,
    "start_time": "2023-02-02T18:03:39.983Z"
   },
   {
    "duration": 130,
    "start_time": "2023-02-02T18:03:40.307Z"
   },
   {
    "duration": 5,
    "start_time": "2023-02-02T18:03:40.449Z"
   },
   {
    "duration": 164,
    "start_time": "2023-02-02T18:03:40.457Z"
   },
   {
    "duration": 146,
    "start_time": "2023-02-02T18:03:40.623Z"
   },
   {
    "duration": 6,
    "start_time": "2023-02-02T18:03:40.771Z"
   },
   {
    "duration": 210,
    "start_time": "2023-02-02T18:03:40.779Z"
   },
   {
    "duration": 191,
    "start_time": "2023-02-02T18:03:40.991Z"
   },
   {
    "duration": 10,
    "start_time": "2023-02-02T18:03:41.184Z"
   },
   {
    "duration": 15,
    "start_time": "2023-02-02T18:03:41.196Z"
   },
   {
    "duration": 22,
    "start_time": "2023-02-02T18:03:41.213Z"
   },
   {
    "duration": 38,
    "start_time": "2023-02-02T18:03:41.237Z"
   },
   {
    "duration": 13,
    "start_time": "2023-02-02T18:03:41.277Z"
   },
   {
    "duration": 78,
    "start_time": "2023-02-02T18:05:45.249Z"
   },
   {
    "duration": 1142,
    "start_time": "2023-02-03T09:05:00.762Z"
   },
   {
    "duration": 26,
    "start_time": "2023-02-03T09:05:01.907Z"
   },
   {
    "duration": 13,
    "start_time": "2023-02-03T09:05:01.935Z"
   },
   {
    "duration": 18,
    "start_time": "2023-02-03T09:05:01.950Z"
   },
   {
    "duration": 36,
    "start_time": "2023-02-03T09:05:01.970Z"
   },
   {
    "duration": 18,
    "start_time": "2023-02-03T09:05:02.008Z"
   },
   {
    "duration": 39,
    "start_time": "2023-02-03T09:05:02.028Z"
   },
   {
    "duration": 60,
    "start_time": "2023-02-03T09:05:02.069Z"
   },
   {
    "duration": 13,
    "start_time": "2023-02-03T09:05:02.131Z"
   },
   {
    "duration": 17,
    "start_time": "2023-02-03T09:05:02.146Z"
   },
   {
    "duration": 27,
    "start_time": "2023-02-03T09:05:02.164Z"
   },
   {
    "duration": 48,
    "start_time": "2023-02-03T09:05:02.193Z"
   },
   {
    "duration": 12,
    "start_time": "2023-02-03T09:05:02.243Z"
   },
   {
    "duration": 25,
    "start_time": "2023-02-03T09:05:02.257Z"
   },
   {
    "duration": 9,
    "start_time": "2023-02-03T09:05:02.284Z"
   },
   {
    "duration": 13,
    "start_time": "2023-02-03T09:05:02.295Z"
   },
   {
    "duration": 7,
    "start_time": "2023-02-03T09:05:02.310Z"
   },
   {
    "duration": 13,
    "start_time": "2023-02-03T09:05:02.319Z"
   },
   {
    "duration": 25,
    "start_time": "2023-02-03T09:05:02.334Z"
   },
   {
    "duration": 8,
    "start_time": "2023-02-03T09:05:02.361Z"
   },
   {
    "duration": 18,
    "start_time": "2023-02-03T09:05:02.371Z"
   },
   {
    "duration": 22,
    "start_time": "2023-02-03T09:05:02.391Z"
   },
   {
    "duration": 18,
    "start_time": "2023-02-03T09:05:02.414Z"
   },
   {
    "duration": 20,
    "start_time": "2023-02-03T09:05:02.434Z"
   },
   {
    "duration": 296,
    "start_time": "2023-02-03T09:05:02.455Z"
   },
   {
    "duration": 215,
    "start_time": "2023-02-03T09:05:02.752Z"
   },
   {
    "duration": 203,
    "start_time": "2023-02-03T09:05:02.968Z"
   },
   {
    "duration": 435,
    "start_time": "2023-02-03T09:05:03.173Z"
   },
   {
    "duration": 505,
    "start_time": "2023-02-03T09:05:03.610Z"
   },
   {
    "duration": 595,
    "start_time": "2023-02-03T09:05:04.117Z"
   },
   {
    "duration": 287,
    "start_time": "2023-02-03T09:05:04.714Z"
   },
   {
    "duration": 5,
    "start_time": "2023-02-03T09:05:05.002Z"
   },
   {
    "duration": 292,
    "start_time": "2023-02-03T09:05:05.009Z"
   },
   {
    "duration": 223,
    "start_time": "2023-02-03T09:05:05.302Z"
   },
   {
    "duration": 6,
    "start_time": "2023-02-03T09:05:05.527Z"
   },
   {
    "duration": 219,
    "start_time": "2023-02-03T09:05:05.534Z"
   },
   {
    "duration": 207,
    "start_time": "2023-02-03T09:05:05.755Z"
   },
   {
    "duration": 10,
    "start_time": "2023-02-03T09:05:05.964Z"
   },
   {
    "duration": 24,
    "start_time": "2023-02-03T09:05:05.976Z"
   },
   {
    "duration": 10,
    "start_time": "2023-02-03T09:05:06.002Z"
   },
   {
    "duration": 35,
    "start_time": "2023-02-03T09:05:06.014Z"
   },
   {
    "duration": 14,
    "start_time": "2023-02-03T09:05:06.051Z"
   }
  ],
  "kernelspec": {
   "display_name": "Python 3 (ipykernel)",
   "language": "python",
   "name": "python3"
  },
  "language_info": {
   "codemirror_mode": {
    "name": "ipython",
    "version": 3
   },
   "file_extension": ".py",
   "mimetype": "text/x-python",
   "name": "python",
   "nbconvert_exporter": "python",
   "pygments_lexer": "ipython3",
   "version": "3.9.5"
  },
  "toc": {
   "base_numbering": 1,
   "nav_menu": {},
   "number_sections": false,
   "sideBar": false,
   "skip_h1_title": true,
   "title_cell": "АНАЛИЗ ГИПОТЕЗ",
   "title_sidebar": "Оглавление",
   "toc_cell": false,
   "toc_position": {
    "height": "588px",
    "left": "10px",
    "top": "150px",
    "width": "201px"
   },
   "toc_section_display": true,
   "toc_window_display": true
  },
  "vscode": {
   "interpreter": {
    "hash": "018dd0b91a4a5b856624ba25609360101cdc9b0ec377251ae765dbdcc1323ecf"
   }
  }
 },
 "nbformat": 4,
 "nbformat_minor": 2
}
