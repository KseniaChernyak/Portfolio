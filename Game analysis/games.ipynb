{
 "cells": [
  {
   "cell_type": "markdown",
   "metadata": {},
   "source": [
    "# **Исследование компьютерных игр за период с 1998 по 2016 гг., выявление закономерностей с учетом рейтинга, оценки критиков и пользователей, периода и региона**"
   ]
  },
  {
   "cell_type": "markdown",
   "metadata": {},
   "source": [
    "## **Описание проекта**"
   ]
  },
  {
   "cell_type": "markdown",
   "metadata": {},
   "source": [
    "В работе представлена таблица с компьютерными играми games.csv, в которой данные до 2016 года.\n",
    "\n",
    "В ней данные из открытых источников доступны исторические данные о продажах игр, оценки пользователей и экспертов, жанры и платформы (например, Xbox или PlayStation).\n",
    "\n",
    "В наборе данных попадается аббревиатура ESRB (Entertainment Software Rating Board) — это ассоциация, определяющая возрастной\n",
    "рейтинг компьютерных игр. ESRB оценивает игровой контент и присваивает ему подходящую возрастную категорию, например, «Для взрослых», «Для детей младшего возраста» или «Для подростков».\n",
    "\n",
    "**Описание данных(столбцов)**\n",
    "- Name — название игры\n",
    "- Platform — платформа\n",
    "- Year_of_Release — год выпуска\n",
    "- Genre — жанр игры\n",
    "- NA_sales — продажи в Северной Америке (миллионы проданных\n",
    "копий)\n",
    "- EU_sales — продажи в Европе (миллионы проданных копий)\n",
    "- JP_sales — продажи в Японии (миллионы проданных копий)\n",
    "- Other_sales — продажи в других странах (миллионы проданных\n",
    "копий)\n",
    "- Critic_Score — оценка критиков (максимум 100)\n",
    "- User_Score — оценка пользователей (максимум 10)\n",
    "- Rating — рейтинг от организации ESRB (англ. Entertainment\n",
    "Software Rating Board). Эта ассоциация определяет рейтинг\n",
    "компьютерных игр и присваивает им подходящую возрастную\n",
    "категорию.\n",
    "Данные за 2016 год могут быть неполными.\n",
    "\n"
   ]
  },
  {
   "cell_type": "markdown",
   "metadata": {},
   "source": [
    "## Изучение общей информации"
   ]
  },
  {
   "cell_type": "markdown",
   "metadata": {},
   "source": [
    "###  Изучение файлов с данными, получение общей информации, загрузка библиотек"
   ]
  },
  {
   "cell_type": "markdown",
   "metadata": {},
   "source": [
    "***Шаг 1.*** Откройте файл с данными и изучите общую информацию\n",
    "Путь к файлу: /datasets/games.csv. "
   ]
  },
  {
   "cell_type": "code",
   "execution_count": 1,
   "metadata": {},
   "outputs": [],
   "source": [
    "import pandas as pd\n",
    "import numpy as np\n",
    "import matplotlib.pyplot as plt\n",
    "import seaborn as sns"
   ]
  },
  {
   "cell_type": "code",
   "execution_count": 2,
   "metadata": {},
   "outputs": [],
   "source": [
    "data = pd.read_csv('/datasets/games.csv', sep=',')"
   ]
  },
  {
   "cell_type": "code",
   "execution_count": 3,
   "metadata": {},
   "outputs": [
    {
     "name": "stdout",
     "output_type": "stream",
     "text": [
      "<class 'pandas.core.frame.DataFrame'>\n",
      "RangeIndex: 16715 entries, 0 to 16714\n",
      "Data columns (total 11 columns):\n",
      " #   Column           Non-Null Count  Dtype  \n",
      "---  ------           --------------  -----  \n",
      " 0   Name             16713 non-null  object \n",
      " 1   Platform         16715 non-null  object \n",
      " 2   Year_of_Release  16446 non-null  float64\n",
      " 3   Genre            16713 non-null  object \n",
      " 4   NA_sales         16715 non-null  float64\n",
      " 5   EU_sales         16715 non-null  float64\n",
      " 6   JP_sales         16715 non-null  float64\n",
      " 7   Other_sales      16715 non-null  float64\n",
      " 8   Critic_Score     8137 non-null   float64\n",
      " 9   User_Score       10014 non-null  object \n",
      " 10  Rating           9949 non-null   object \n",
      "dtypes: float64(6), object(5)\n",
      "memory usage: 1.4+ MB\n"
     ]
    }
   ],
   "source": [
    "data.info()"
   ]
  },
  {
   "cell_type": "code",
   "execution_count": 4,
   "metadata": {},
   "outputs": [
    {
     "data": {
      "text/html": [
       "<div>\n",
       "<style scoped>\n",
       "    .dataframe tbody tr th:only-of-type {\n",
       "        vertical-align: middle;\n",
       "    }\n",
       "\n",
       "    .dataframe tbody tr th {\n",
       "        vertical-align: top;\n",
       "    }\n",
       "\n",
       "    .dataframe thead th {\n",
       "        text-align: right;\n",
       "    }\n",
       "</style>\n",
       "<table border=\"1\" class=\"dataframe\">\n",
       "  <thead>\n",
       "    <tr style=\"text-align: right;\">\n",
       "      <th></th>\n",
       "      <th>Name</th>\n",
       "      <th>Platform</th>\n",
       "      <th>Year_of_Release</th>\n",
       "      <th>Genre</th>\n",
       "      <th>NA_sales</th>\n",
       "      <th>EU_sales</th>\n",
       "      <th>JP_sales</th>\n",
       "      <th>Other_sales</th>\n",
       "      <th>Critic_Score</th>\n",
       "      <th>User_Score</th>\n",
       "      <th>Rating</th>\n",
       "    </tr>\n",
       "  </thead>\n",
       "  <tbody>\n",
       "    <tr>\n",
       "      <th>0</th>\n",
       "      <td>Wii Sports</td>\n",
       "      <td>Wii</td>\n",
       "      <td>2006.0</td>\n",
       "      <td>Sports</td>\n",
       "      <td>41.36</td>\n",
       "      <td>28.96</td>\n",
       "      <td>3.77</td>\n",
       "      <td>8.45</td>\n",
       "      <td>76.0</td>\n",
       "      <td>8</td>\n",
       "      <td>E</td>\n",
       "    </tr>\n",
       "    <tr>\n",
       "      <th>1</th>\n",
       "      <td>Super Mario Bros.</td>\n",
       "      <td>NES</td>\n",
       "      <td>1985.0</td>\n",
       "      <td>Platform</td>\n",
       "      <td>29.08</td>\n",
       "      <td>3.58</td>\n",
       "      <td>6.81</td>\n",
       "      <td>0.77</td>\n",
       "      <td>NaN</td>\n",
       "      <td>NaN</td>\n",
       "      <td>NaN</td>\n",
       "    </tr>\n",
       "    <tr>\n",
       "      <th>2</th>\n",
       "      <td>Mario Kart Wii</td>\n",
       "      <td>Wii</td>\n",
       "      <td>2008.0</td>\n",
       "      <td>Racing</td>\n",
       "      <td>15.68</td>\n",
       "      <td>12.76</td>\n",
       "      <td>3.79</td>\n",
       "      <td>3.29</td>\n",
       "      <td>82.0</td>\n",
       "      <td>8.3</td>\n",
       "      <td>E</td>\n",
       "    </tr>\n",
       "    <tr>\n",
       "      <th>3</th>\n",
       "      <td>Wii Sports Resort</td>\n",
       "      <td>Wii</td>\n",
       "      <td>2009.0</td>\n",
       "      <td>Sports</td>\n",
       "      <td>15.61</td>\n",
       "      <td>10.93</td>\n",
       "      <td>3.28</td>\n",
       "      <td>2.95</td>\n",
       "      <td>80.0</td>\n",
       "      <td>8</td>\n",
       "      <td>E</td>\n",
       "    </tr>\n",
       "    <tr>\n",
       "      <th>4</th>\n",
       "      <td>Pokemon Red/Pokemon Blue</td>\n",
       "      <td>GB</td>\n",
       "      <td>1996.0</td>\n",
       "      <td>Role-Playing</td>\n",
       "      <td>11.27</td>\n",
       "      <td>8.89</td>\n",
       "      <td>10.22</td>\n",
       "      <td>1.00</td>\n",
       "      <td>NaN</td>\n",
       "      <td>NaN</td>\n",
       "      <td>NaN</td>\n",
       "    </tr>\n",
       "  </tbody>\n",
       "</table>\n",
       "</div>"
      ],
      "text/plain": [
       "                       Name Platform  Year_of_Release         Genre  NA_sales  \\\n",
       "0                Wii Sports      Wii           2006.0        Sports     41.36   \n",
       "1         Super Mario Bros.      NES           1985.0      Platform     29.08   \n",
       "2            Mario Kart Wii      Wii           2008.0        Racing     15.68   \n",
       "3         Wii Sports Resort      Wii           2009.0        Sports     15.61   \n",
       "4  Pokemon Red/Pokemon Blue       GB           1996.0  Role-Playing     11.27   \n",
       "\n",
       "   EU_sales  JP_sales  Other_sales  Critic_Score User_Score Rating  \n",
       "0     28.96      3.77         8.45          76.0          8      E  \n",
       "1      3.58      6.81         0.77           NaN        NaN    NaN  \n",
       "2     12.76      3.79         3.29          82.0        8.3      E  \n",
       "3     10.93      3.28         2.95          80.0          8      E  \n",
       "4      8.89     10.22         1.00           NaN        NaN    NaN  "
      ]
     },
     "execution_count": 4,
     "metadata": {},
     "output_type": "execute_result"
    }
   ],
   "source": [
    "data.head()"
   ]
  },
  {
   "cell_type": "markdown",
   "metadata": {},
   "source": [
    "##  Подготовка данных"
   ]
  },
  {
   "cell_type": "markdown",
   "metadata": {},
   "source": [
    "***Шаг 2.***\n",
    "\n",
    "Подготовьте данные\n",
    "- Замените названия столбцов (приведите к нижнему регистру);\n",
    "- Преобразуйте данные в нужные типы. Опишите, в каких\n",
    "столбцах заменили тип данных и почему;\n",
    "\n",
    "Обработайте пропуски при необходимости:\n",
    "- Объясните, почему заполнили пропуски определённым\n",
    "образом или почему не стали это делать;\n",
    "- Опишите причины, которые могли привести к пропускам;\n",
    "- Обратите внимание на аббревиатуру 'tbd' в столбце с\n",
    "оценкой пользователей. Отдельно разберите это значение\n",
    "и опишите, как его обработать;\n",
    "- Посчитайте суммарные продажи во всех регионах и запишите их\n",
    "в отдельный столбец."
   ]
  },
  {
   "cell_type": "markdown",
   "metadata": {},
   "source": [
    "### Анализ пропусков и переименование столбцов"
   ]
  },
  {
   "cell_type": "code",
   "execution_count": 5,
   "metadata": {},
   "outputs": [],
   "source": [
    "#Замените названия столбцов (приведите к нижнему регистру)\n",
    "data.columns = data.columns.str.lower()"
   ]
  },
  {
   "cell_type": "code",
   "execution_count": 6,
   "metadata": {},
   "outputs": [
    {
     "data": {
      "text/html": [
       "<style  type=\"text/css\" >\n",
       "#T_0a363_row0_col0,#T_0a363_row1_col0,#T_0a363_row3_col0,#T_0a363_row4_col0,#T_0a363_row5_col0,#T_0a363_row6_col0,#T_0a363_row7_col0{\n",
       "            background-color:  #ffffcc;\n",
       "            color:  #000000;\n",
       "        }#T_0a363_row2_col0{\n",
       "            background-color:  #fff9be;\n",
       "            color:  #000000;\n",
       "        }#T_0a363_row8_col0{\n",
       "            background-color:  #800026;\n",
       "            color:  #f1f1f1;\n",
       "        }#T_0a363_row9_col0,#T_0a363_row10_col0{\n",
       "            background-color:  #d9131f;\n",
       "            color:  #f1f1f1;\n",
       "        }</style><table id=\"T_0a363_\" ><thead>    <tr>        <th class=\"blank level0\" ></th>        <th class=\"col_heading level0 col0\" >0</th>    </tr></thead><tbody>\n",
       "                <tr>\n",
       "                        <th id=\"T_0a363_level0_row0\" class=\"row_heading level0 row0\" >name</th>\n",
       "                        <td id=\"T_0a363_row0_col0\" class=\"data row0 col0\" >0.000000</td>\n",
       "            </tr>\n",
       "            <tr>\n",
       "                        <th id=\"T_0a363_level0_row1\" class=\"row_heading level0 row1\" >platform</th>\n",
       "                        <td id=\"T_0a363_row1_col0\" class=\"data row1 col0\" >0.000000</td>\n",
       "            </tr>\n",
       "            <tr>\n",
       "                        <th id=\"T_0a363_level0_row2\" class=\"row_heading level0 row2\" >year_of_release</th>\n",
       "                        <td id=\"T_0a363_row2_col0\" class=\"data row2 col0\" >2.000000</td>\n",
       "            </tr>\n",
       "            <tr>\n",
       "                        <th id=\"T_0a363_level0_row3\" class=\"row_heading level0 row3\" >genre</th>\n",
       "                        <td id=\"T_0a363_row3_col0\" class=\"data row3 col0\" >0.000000</td>\n",
       "            </tr>\n",
       "            <tr>\n",
       "                        <th id=\"T_0a363_level0_row4\" class=\"row_heading level0 row4\" >na_sales</th>\n",
       "                        <td id=\"T_0a363_row4_col0\" class=\"data row4 col0\" >0.000000</td>\n",
       "            </tr>\n",
       "            <tr>\n",
       "                        <th id=\"T_0a363_level0_row5\" class=\"row_heading level0 row5\" >eu_sales</th>\n",
       "                        <td id=\"T_0a363_row5_col0\" class=\"data row5 col0\" >0.000000</td>\n",
       "            </tr>\n",
       "            <tr>\n",
       "                        <th id=\"T_0a363_level0_row6\" class=\"row_heading level0 row6\" >jp_sales</th>\n",
       "                        <td id=\"T_0a363_row6_col0\" class=\"data row6 col0\" >0.000000</td>\n",
       "            </tr>\n",
       "            <tr>\n",
       "                        <th id=\"T_0a363_level0_row7\" class=\"row_heading level0 row7\" >other_sales</th>\n",
       "                        <td id=\"T_0a363_row7_col0\" class=\"data row7 col0\" >0.000000</td>\n",
       "            </tr>\n",
       "            <tr>\n",
       "                        <th id=\"T_0a363_level0_row8\" class=\"row_heading level0 row8\" >critic_score</th>\n",
       "                        <td id=\"T_0a363_row8_col0\" class=\"data row8 col0\" >51.000000</td>\n",
       "            </tr>\n",
       "            <tr>\n",
       "                        <th id=\"T_0a363_level0_row9\" class=\"row_heading level0 row9\" >user_score</th>\n",
       "                        <td id=\"T_0a363_row9_col0\" class=\"data row9 col0\" >40.000000</td>\n",
       "            </tr>\n",
       "            <tr>\n",
       "                        <th id=\"T_0a363_level0_row10\" class=\"row_heading level0 row10\" >rating</th>\n",
       "                        <td id=\"T_0a363_row10_col0\" class=\"data row10 col0\" >40.000000</td>\n",
       "            </tr>\n",
       "    </tbody></table>"
      ],
      "text/plain": [
       "<pandas.io.formats.style.Styler at 0x7fbff0645c70>"
      ]
     },
     "execution_count": 6,
     "metadata": {},
     "output_type": "execute_result"
    }
   ],
   "source": [
    "#Обработайте пропуски при необходимости\n",
    "pd.DataFrame(round(data.isna().mean()*100)).style.background_gradient('YlOrRd')"
   ]
  },
  {
   "cell_type": "code",
   "execution_count": 7,
   "metadata": {},
   "outputs": [
    {
     "data": {
      "text/plain": [
       "name                  2\n",
       "platform              0\n",
       "year_of_release     269\n",
       "genre                 2\n",
       "na_sales              0\n",
       "eu_sales              0\n",
       "jp_sales              0\n",
       "other_sales           0\n",
       "critic_score       8578\n",
       "user_score         6701\n",
       "rating             6766\n",
       "dtype: int64"
      ]
     },
     "execution_count": 7,
     "metadata": {},
     "output_type": "execute_result"
    }
   ],
   "source": [
    "data.isna().sum()"
   ]
  },
  {
   "cell_type": "code",
   "execution_count": 8,
   "metadata": {},
   "outputs": [
    {
     "data": {
      "text/plain": [
       "0"
      ]
     },
     "execution_count": 8,
     "metadata": {},
     "output_type": "execute_result"
    }
   ],
   "source": [
    "data.duplicated().sum()"
   ]
  },
  {
   "cell_type": "markdown",
   "metadata": {},
   "source": [
    "### Приведение данных к нужным типам"
   ]
  },
  {
   "cell_type": "code",
   "execution_count": 9,
   "metadata": {},
   "outputs": [],
   "source": [
    "#Преобразуйте данные в нужные типы. Опишите, в каких столбцах заменили тип данных и почему\n",
    "data['year_of_release'] = data['year_of_release'].astype('Int64')\n",
    "data['critic_score'] = data['critic_score'].astype('Int64')"
   ]
  },
  {
   "cell_type": "markdown",
   "metadata": {},
   "source": [
    "***ПОЯСНЕНИЕ:*** Заменили тип данных  в 2х столбцах, т.к. в них целые числа"
   ]
  },
  {
   "cell_type": "code",
   "execution_count": 10,
   "metadata": {},
   "outputs": [
    {
     "data": {
      "text/plain": [
       "array(['0', '0.2', '0.3', '0.5', '0.6', '0.7', '0.9', '1', '1.1', '1.2',\n",
       "       '1.3', '1.4', '1.5', '1.6', '1.7', '1.8', '1.9', '2', '2.1', '2.2',\n",
       "       '2.3', '2.4', '2.5', '2.6', '2.7', '2.8', '2.9', '3', '3.1', '3.2',\n",
       "       '3.3', '3.4', '3.5', '3.6', '3.7', '3.8', '3.9', '4', '4.1', '4.2',\n",
       "       '4.3', '4.4', '4.5', '4.6', '4.7', '4.8', '4.9', '5', '5.1', '5.2',\n",
       "       '5.3', '5.4', '5.5', '5.6', '5.7', '5.8', '5.9', '6', '6.1', '6.2',\n",
       "       '6.3', '6.4', '6.5', '6.6', '6.7', '6.8', '6.9', '7', '7.1', '7.2',\n",
       "       '7.3', '7.4', '7.5', '7.6', '7.7', '7.8', '7.9', '8', '8.1', '8.2',\n",
       "       '8.3', '8.4', '8.5', '8.6', '8.7', '8.8', '8.9', '9', '9.1', '9.2',\n",
       "       '9.3', '9.4', '9.5', '9.6', '9.7', 'tbd', nan], dtype=object)"
      ]
     },
     "execution_count": 10,
     "metadata": {},
     "output_type": "execute_result"
    }
   ],
   "source": [
    "data.sort_values('user_score')['user_score'].unique()"
   ]
  },
  {
   "cell_type": "code",
   "execution_count": 11,
   "metadata": {},
   "outputs": [],
   "source": [
    "data['user_score'] = data['user_score'].replace('tbd', np.nan)\n",
    "data['user_score'] = data['user_score'].astype('float64')"
   ]
  },
  {
   "cell_type": "code",
   "execution_count": 12,
   "metadata": {},
   "outputs": [
    {
     "data": {
      "text/plain": [
       "array([0. , 0.2, 0.3, 0.5, 0.6, 0.7, 0.9, 1. , 1.1, 1.2, 1.3, 1.4, 1.5,\n",
       "       1.6, 1.7, 1.8, 1.9, 2. , 2.1, 2.2, 2.3, 2.4, 2.5, 2.6, 2.7, 2.8,\n",
       "       2.9, 3. , 3.1, 3.2, 3.3, 3.4, 3.5, 3.6, 3.7, 3.8, 3.9, 4. , 4.1,\n",
       "       4.2, 4.3, 4.4, 4.5, 4.6, 4.7, 4.8, 4.9, 5. , 5.1, 5.2, 5.3, 5.4,\n",
       "       5.5, 5.6, 5.7, 5.8, 5.9, 6. , 6.1, 6.2, 6.3, 6.4, 6.5, 6.6, 6.7,\n",
       "       6.8, 6.9, 7. , 7.1, 7.2, 7.3, 7.4, 7.5, 7.6, 7.7, 7.8, 7.9, 8. ,\n",
       "       8.1, 8.2, 8.3, 8.4, 8.5, 8.6, 8.7, 8.8, 8.9, 9. , 9.1, 9.2, 9.3,\n",
       "       9.4, 9.5, 9.6, 9.7, nan])"
      ]
     },
     "execution_count": 12,
     "metadata": {},
     "output_type": "execute_result"
    }
   ],
   "source": [
    "data.sort_values('user_score')['user_score'].unique()"
   ]
  },
  {
   "cell_type": "markdown",
   "metadata": {},
   "source": [
    "***ПОЯСНЕНИЕ:*** Заменили тип данных в столбце user_score, т.к. там числа со знаком после запятой"
   ]
  },
  {
   "cell_type": "markdown",
   "metadata": {},
   "source": [
    "### Удаление пропусков в данных"
   ]
  },
  {
   "cell_type": "code",
   "execution_count": 13,
   "metadata": {},
   "outputs": [],
   "source": [
    "data = data.dropna(subset=['name','year_of_release','genre'])"
   ]
  },
  {
   "cell_type": "code",
   "execution_count": 14,
   "metadata": {},
   "outputs": [
    {
     "data": {
      "text/plain": [
       "name                  0\n",
       "platform              0\n",
       "year_of_release       0\n",
       "genre                 0\n",
       "na_sales              0\n",
       "eu_sales              0\n",
       "jp_sales              0\n",
       "other_sales           0\n",
       "critic_score       8461\n",
       "user_score         8981\n",
       "rating             6676\n",
       "dtype: int64"
      ]
     },
     "execution_count": 14,
     "metadata": {},
     "output_type": "execute_result"
    }
   ],
   "source": [
    "data.isna().sum()"
   ]
  },
  {
   "cell_type": "markdown",
   "metadata": {},
   "source": [
    "***ПОЯСНЕНИЕ:*** Удалили строки с незначительными по количеству пропусками в столбцах 'name','year_of_release','genre'"
   ]
  },
  {
   "cell_type": "code",
   "execution_count": 15,
   "metadata": {},
   "outputs": [
    {
     "name": "stdout",
     "output_type": "stream",
     "text": [
      "<class 'pandas.core.frame.DataFrame'>\n",
      "Int64Index: 16444 entries, 0 to 16714\n",
      "Data columns (total 11 columns):\n",
      " #   Column           Non-Null Count  Dtype  \n",
      "---  ------           --------------  -----  \n",
      " 0   name             16444 non-null  object \n",
      " 1   platform         16444 non-null  object \n",
      " 2   year_of_release  16444 non-null  Int64  \n",
      " 3   genre            16444 non-null  object \n",
      " 4   na_sales         16444 non-null  float64\n",
      " 5   eu_sales         16444 non-null  float64\n",
      " 6   jp_sales         16444 non-null  float64\n",
      " 7   other_sales      16444 non-null  float64\n",
      " 8   critic_score     7983 non-null   Int64  \n",
      " 9   user_score       7463 non-null   float64\n",
      " 10  rating           9768 non-null   object \n",
      "dtypes: Int64(2), float64(5), object(4)\n",
      "memory usage: 1.5+ MB\n"
     ]
    }
   ],
   "source": [
    "data.info()"
   ]
  },
  {
   "cell_type": "code",
   "execution_count": 16,
   "metadata": {},
   "outputs": [
    {
     "data": {
      "text/html": [
       "<div>\n",
       "<style scoped>\n",
       "    .dataframe tbody tr th:only-of-type {\n",
       "        vertical-align: middle;\n",
       "    }\n",
       "\n",
       "    .dataframe tbody tr th {\n",
       "        vertical-align: top;\n",
       "    }\n",
       "\n",
       "    .dataframe thead th {\n",
       "        text-align: right;\n",
       "    }\n",
       "</style>\n",
       "<table border=\"1\" class=\"dataframe\">\n",
       "  <thead>\n",
       "    <tr style=\"text-align: right;\">\n",
       "      <th></th>\n",
       "      <th>name</th>\n",
       "      <th>platform</th>\n",
       "      <th>year_of_release</th>\n",
       "      <th>genre</th>\n",
       "      <th>na_sales</th>\n",
       "      <th>eu_sales</th>\n",
       "      <th>jp_sales</th>\n",
       "      <th>other_sales</th>\n",
       "      <th>critic_score</th>\n",
       "      <th>user_score</th>\n",
       "      <th>rating</th>\n",
       "    </tr>\n",
       "  </thead>\n",
       "  <tbody>\n",
       "    <tr>\n",
       "      <th>0</th>\n",
       "      <td>Wii Sports</td>\n",
       "      <td>Wii</td>\n",
       "      <td>2006</td>\n",
       "      <td>Sports</td>\n",
       "      <td>41.36</td>\n",
       "      <td>28.96</td>\n",
       "      <td>3.77</td>\n",
       "      <td>8.45</td>\n",
       "      <td>76</td>\n",
       "      <td>8.0</td>\n",
       "      <td>E</td>\n",
       "    </tr>\n",
       "    <tr>\n",
       "      <th>1</th>\n",
       "      <td>Super Mario Bros.</td>\n",
       "      <td>NES</td>\n",
       "      <td>1985</td>\n",
       "      <td>Platform</td>\n",
       "      <td>29.08</td>\n",
       "      <td>3.58</td>\n",
       "      <td>6.81</td>\n",
       "      <td>0.77</td>\n",
       "      <td>&lt;NA&gt;</td>\n",
       "      <td>NaN</td>\n",
       "      <td>NaN</td>\n",
       "    </tr>\n",
       "    <tr>\n",
       "      <th>2</th>\n",
       "      <td>Mario Kart Wii</td>\n",
       "      <td>Wii</td>\n",
       "      <td>2008</td>\n",
       "      <td>Racing</td>\n",
       "      <td>15.68</td>\n",
       "      <td>12.76</td>\n",
       "      <td>3.79</td>\n",
       "      <td>3.29</td>\n",
       "      <td>82</td>\n",
       "      <td>8.3</td>\n",
       "      <td>E</td>\n",
       "    </tr>\n",
       "    <tr>\n",
       "      <th>3</th>\n",
       "      <td>Wii Sports Resort</td>\n",
       "      <td>Wii</td>\n",
       "      <td>2009</td>\n",
       "      <td>Sports</td>\n",
       "      <td>15.61</td>\n",
       "      <td>10.93</td>\n",
       "      <td>3.28</td>\n",
       "      <td>2.95</td>\n",
       "      <td>80</td>\n",
       "      <td>8.0</td>\n",
       "      <td>E</td>\n",
       "    </tr>\n",
       "    <tr>\n",
       "      <th>4</th>\n",
       "      <td>Pokemon Red/Pokemon Blue</td>\n",
       "      <td>GB</td>\n",
       "      <td>1996</td>\n",
       "      <td>Role-Playing</td>\n",
       "      <td>11.27</td>\n",
       "      <td>8.89</td>\n",
       "      <td>10.22</td>\n",
       "      <td>1.00</td>\n",
       "      <td>&lt;NA&gt;</td>\n",
       "      <td>NaN</td>\n",
       "      <td>NaN</td>\n",
       "    </tr>\n",
       "  </tbody>\n",
       "</table>\n",
       "</div>"
      ],
      "text/plain": [
       "                       name platform  year_of_release         genre  na_sales  \\\n",
       "0                Wii Sports      Wii             2006        Sports     41.36   \n",
       "1         Super Mario Bros.      NES             1985      Platform     29.08   \n",
       "2            Mario Kart Wii      Wii             2008        Racing     15.68   \n",
       "3         Wii Sports Resort      Wii             2009        Sports     15.61   \n",
       "4  Pokemon Red/Pokemon Blue       GB             1996  Role-Playing     11.27   \n",
       "\n",
       "   eu_sales  jp_sales  other_sales  critic_score  user_score rating  \n",
       "0     28.96      3.77         8.45            76         8.0      E  \n",
       "1      3.58      6.81         0.77          <NA>         NaN    NaN  \n",
       "2     12.76      3.79         3.29            82         8.3      E  \n",
       "3     10.93      3.28         2.95            80         8.0      E  \n",
       "4      8.89     10.22         1.00          <NA>         NaN    NaN  "
      ]
     },
     "execution_count": 16,
     "metadata": {},
     "output_type": "execute_result"
    }
   ],
   "source": [
    "data.head()"
   ]
  },
  {
   "cell_type": "markdown",
   "metadata": {},
   "source": [
    "***ПОЯСНЕНИЕ:*** Пропуски в столбцах critic_score, user_score, rating оставляем как есть. Пропуски в столбцах с оценками критиков и пользователей нельзя заменить на 0, т.к. это точные значения, 0 в данном случае бы означал оценку 0. Значение tbd заменили на nan, чтобы оставить только количественные значения и nan, которое не мешает вычеслениям."
   ]
  },
  {
   "cell_type": "code",
   "execution_count": 17,
   "metadata": {},
   "outputs": [],
   "source": [
    "data['rating'] = data['rating'].fillna(0)"
   ]
  },
  {
   "cell_type": "markdown",
   "metadata": {},
   "source": [
    "### Суммарные продажи по всем регионам"
   ]
  },
  {
   "cell_type": "code",
   "execution_count": 18,
   "metadata": {},
   "outputs": [],
   "source": [
    "#Посчитайте суммарные продажи во всех регионах и запишите их в отдельный столбец\n",
    "data['total_sales'] = data['na_sales'] + data['eu_sales'] + data['jp_sales'] + data['other_sales']"
   ]
  },
  {
   "cell_type": "code",
   "execution_count": 19,
   "metadata": {
    "scrolled": true
   },
   "outputs": [
    {
     "data": {
      "text/html": [
       "<div>\n",
       "<style scoped>\n",
       "    .dataframe tbody tr th:only-of-type {\n",
       "        vertical-align: middle;\n",
       "    }\n",
       "\n",
       "    .dataframe tbody tr th {\n",
       "        vertical-align: top;\n",
       "    }\n",
       "\n",
       "    .dataframe thead th {\n",
       "        text-align: right;\n",
       "    }\n",
       "</style>\n",
       "<table border=\"1\" class=\"dataframe\">\n",
       "  <thead>\n",
       "    <tr style=\"text-align: right;\">\n",
       "      <th></th>\n",
       "      <th>name</th>\n",
       "      <th>platform</th>\n",
       "      <th>year_of_release</th>\n",
       "      <th>genre</th>\n",
       "      <th>na_sales</th>\n",
       "      <th>eu_sales</th>\n",
       "      <th>jp_sales</th>\n",
       "      <th>other_sales</th>\n",
       "      <th>critic_score</th>\n",
       "      <th>user_score</th>\n",
       "      <th>rating</th>\n",
       "      <th>total_sales</th>\n",
       "    </tr>\n",
       "  </thead>\n",
       "  <tbody>\n",
       "    <tr>\n",
       "      <th>0</th>\n",
       "      <td>Wii Sports</td>\n",
       "      <td>Wii</td>\n",
       "      <td>2006</td>\n",
       "      <td>Sports</td>\n",
       "      <td>41.36</td>\n",
       "      <td>28.96</td>\n",
       "      <td>3.77</td>\n",
       "      <td>8.45</td>\n",
       "      <td>76</td>\n",
       "      <td>8.0</td>\n",
       "      <td>E</td>\n",
       "      <td>82.54</td>\n",
       "    </tr>\n",
       "    <tr>\n",
       "      <th>1</th>\n",
       "      <td>Super Mario Bros.</td>\n",
       "      <td>NES</td>\n",
       "      <td>1985</td>\n",
       "      <td>Platform</td>\n",
       "      <td>29.08</td>\n",
       "      <td>3.58</td>\n",
       "      <td>6.81</td>\n",
       "      <td>0.77</td>\n",
       "      <td>&lt;NA&gt;</td>\n",
       "      <td>NaN</td>\n",
       "      <td>0</td>\n",
       "      <td>40.24</td>\n",
       "    </tr>\n",
       "    <tr>\n",
       "      <th>2</th>\n",
       "      <td>Mario Kart Wii</td>\n",
       "      <td>Wii</td>\n",
       "      <td>2008</td>\n",
       "      <td>Racing</td>\n",
       "      <td>15.68</td>\n",
       "      <td>12.76</td>\n",
       "      <td>3.79</td>\n",
       "      <td>3.29</td>\n",
       "      <td>82</td>\n",
       "      <td>8.3</td>\n",
       "      <td>E</td>\n",
       "      <td>35.52</td>\n",
       "    </tr>\n",
       "    <tr>\n",
       "      <th>3</th>\n",
       "      <td>Wii Sports Resort</td>\n",
       "      <td>Wii</td>\n",
       "      <td>2009</td>\n",
       "      <td>Sports</td>\n",
       "      <td>15.61</td>\n",
       "      <td>10.93</td>\n",
       "      <td>3.28</td>\n",
       "      <td>2.95</td>\n",
       "      <td>80</td>\n",
       "      <td>8.0</td>\n",
       "      <td>E</td>\n",
       "      <td>32.77</td>\n",
       "    </tr>\n",
       "    <tr>\n",
       "      <th>4</th>\n",
       "      <td>Pokemon Red/Pokemon Blue</td>\n",
       "      <td>GB</td>\n",
       "      <td>1996</td>\n",
       "      <td>Role-Playing</td>\n",
       "      <td>11.27</td>\n",
       "      <td>8.89</td>\n",
       "      <td>10.22</td>\n",
       "      <td>1.00</td>\n",
       "      <td>&lt;NA&gt;</td>\n",
       "      <td>NaN</td>\n",
       "      <td>0</td>\n",
       "      <td>31.38</td>\n",
       "    </tr>\n",
       "  </tbody>\n",
       "</table>\n",
       "</div>"
      ],
      "text/plain": [
       "                       name platform  year_of_release         genre  na_sales  \\\n",
       "0                Wii Sports      Wii             2006        Sports     41.36   \n",
       "1         Super Mario Bros.      NES             1985      Platform     29.08   \n",
       "2            Mario Kart Wii      Wii             2008        Racing     15.68   \n",
       "3         Wii Sports Resort      Wii             2009        Sports     15.61   \n",
       "4  Pokemon Red/Pokemon Blue       GB             1996  Role-Playing     11.27   \n",
       "\n",
       "   eu_sales  jp_sales  other_sales  critic_score  user_score rating  \\\n",
       "0     28.96      3.77         8.45            76         8.0      E   \n",
       "1      3.58      6.81         0.77          <NA>         NaN      0   \n",
       "2     12.76      3.79         3.29            82         8.3      E   \n",
       "3     10.93      3.28         2.95            80         8.0      E   \n",
       "4      8.89     10.22         1.00          <NA>         NaN      0   \n",
       "\n",
       "   total_sales  \n",
       "0        82.54  \n",
       "1        40.24  \n",
       "2        35.52  \n",
       "3        32.77  \n",
       "4        31.38  "
      ]
     },
     "execution_count": 19,
     "metadata": {},
     "output_type": "execute_result"
    }
   ],
   "source": [
    "data.head()"
   ]
  },
  {
   "cell_type": "markdown",
   "metadata": {},
   "source": [
    "## Исследовательский анализ данных"
   ]
  },
  {
   "cell_type": "markdown",
   "metadata": {},
   "source": [
    "***Шаг 3.***\n",
    "\n",
    "Проведите исследовательский анализ данных\n",
    "- Посмотрите, сколько игр выпускалось в разные годы. Важны ли\n",
    "данные за все периоды?\n",
    "- Посмотрите, как менялись продажи по платформам. Выберите\n",
    "платформы с наибольшими суммарными продажами и постройте\n",
    "распределение по годам. За какой характерный срок появляются\n",
    "новые и исчезают старые платформы?\n",
    "- Возьмите данные за соответствующий актуальный период.\n",
    "Актуальный период определите самостоятельно в результате\n",
    "исследования предыдущих вопросов. Основной фактор — эти\n",
    "данные помогут построить прогноз на 2017 год.\n",
    "- Не учитывайте в работе данные за предыдущие годы.\n",
    "- Какие платформы лидируют по продажам, растут или падают?\n",
    "Выберите несколько потенциально прибыльных платформ.\n",
    "- Постройте график «ящик с усами» по глобальным продажам игр\n",
    "в разбивке по платформам. Опишите результат.\n",
    "- Посмотрите, как влияют на продажи внутри одной популярной\n",
    "платформы отзывы пользователей и критиков. Постройте\n",
    "диаграмму рассеяния и посчитайте корреляцию между отзывами\n",
    "и продажами. Сформулируйте выводы.\n",
    "- Соотнесите выводы с продажами игр на других платформах.\n",
    "- Посмотрите на общее распределение игр по жанрам. Что можно\n",
    "сказать о самых прибыльных жанрах? Выделяются ли жанры с\n",
    "высокими и низкими продажами?"
   ]
  },
  {
   "cell_type": "markdown",
   "metadata": {},
   "source": [
    "### Анализ игр по годам"
   ]
  },
  {
   "cell_type": "code",
   "execution_count": 20,
   "metadata": {},
   "outputs": [
    {
     "data": {
      "text/plain": [
       "year_of_release\n",
       "1980       9\n",
       "1981      46\n",
       "1982      36\n",
       "1983      17\n",
       "1984      14\n",
       "1985      14\n",
       "1986      21\n",
       "1987      16\n",
       "1988      15\n",
       "1989      17\n",
       "1990      16\n",
       "1991      41\n",
       "1992      43\n",
       "1993      60\n",
       "1994     121\n",
       "1995     219\n",
       "1996     263\n",
       "1997     289\n",
       "1998     379\n",
       "1999     338\n",
       "2000     350\n",
       "2001     482\n",
       "2002     829\n",
       "2003     775\n",
       "2004     762\n",
       "2005     939\n",
       "2006    1006\n",
       "2007    1197\n",
       "2008    1427\n",
       "2009    1426\n",
       "2010    1255\n",
       "2011    1136\n",
       "2012     653\n",
       "2013     544\n",
       "2014     581\n",
       "2015     606\n",
       "2016     502\n",
       "Name: year_of_release, dtype: int64"
      ]
     },
     "execution_count": 20,
     "metadata": {},
     "output_type": "execute_result"
    }
   ],
   "source": [
    "#Посмотрите, сколько игр выпускалось в разные годы. Важны ли данные за все периоды?\n",
    "data.groupby('year_of_release')['year_of_release'].agg('count')"
   ]
  },
  {
   "cell_type": "code",
   "execution_count": 21,
   "metadata": {},
   "outputs": [
    {
     "data": {
      "text/plain": [
       "Text(0.5, 1.0, 'Число игр, выпускающихся за период с 1980 по 2016 годы')"
      ]
     },
     "execution_count": 21,
     "metadata": {},
     "output_type": "execute_result"
    },
    {
     "data": {
      "image/png": "[encoded data removed]",
      "text/plain": [
       "<Figure size 432x288 with 1 Axes>"
      ]
     },
     "metadata": {
      "needs_background": "light"
     },
     "output_type": "display_data"
    }
   ],
   "source": [
    "ax = data.groupby('year_of_release')['year_of_release'].agg('count').plot()\n",
    "ax.set_xlabel('years_of_release')\n",
    "ax.set_ylabel('count')\n",
    "ax.set_title('Число игр, выпускающихся за период с 1980 по 2016 годы')"
   ]
  },
  {
   "cell_type": "code",
   "execution_count": 22,
   "metadata": {},
   "outputs": [
    {
     "data": {
      "text/plain": [
       "Text(0.5, 1.0, 'Число выпущенных игр и суммарные продажи с 1980 по 2016 года')"
      ]
     },
     "execution_count": 22,
     "metadata": {},
     "output_type": "execute_result"
    },
    {
     "data": {
      "image/png": "[encoded data removed]",
      "text/plain": [
       "<Figure size 504x504 with 1 Axes>"
      ]
     },
     "metadata": {
      "needs_background": "light"
     },
     "output_type": "display_data"
    }
   ],
   "source": [
    "ax = data.pivot_table(index=('year_of_release'), values='total_sales', aggfunc=['count', 'sum']).plot(figsize=(7,7))\n",
    "ax.set_title('Число выпущенных игр и суммарные продажи с 1980 по 2016 года')"
   ]
  },
  {
   "cell_type": "markdown",
   "metadata": {},
   "source": [
    "***ПОЯСНЕНИЕ:*** Можно сказать, что с 1994 года данные более существенны, графики количества выщенных игр и обьема продаж подтверждают данные."
   ]
  },
  {
   "cell_type": "code",
   "execution_count": 23,
   "metadata": {},
   "outputs": [
    {
     "data": {
      "text/html": [
       "<div>\n",
       "<style scoped>\n",
       "    .dataframe tbody tr th:only-of-type {\n",
       "        vertical-align: middle;\n",
       "    }\n",
       "\n",
       "    .dataframe tbody tr th {\n",
       "        vertical-align: top;\n",
       "    }\n",
       "\n",
       "    .dataframe thead th {\n",
       "        text-align: right;\n",
       "    }\n",
       "</style>\n",
       "<table border=\"1\" class=\"dataframe\">\n",
       "  <thead>\n",
       "    <tr style=\"text-align: right;\">\n",
       "      <th></th>\n",
       "      <th>sum</th>\n",
       "      <th>count</th>\n",
       "    </tr>\n",
       "    <tr>\n",
       "      <th>platform</th>\n",
       "      <th></th>\n",
       "      <th></th>\n",
       "    </tr>\n",
       "  </thead>\n",
       "  <tbody>\n",
       "    <tr>\n",
       "      <th>PS2</th>\n",
       "      <td>1233.56</td>\n",
       "      <td>2127</td>\n",
       "    </tr>\n",
       "    <tr>\n",
       "      <th>X360</th>\n",
       "      <td>961.24</td>\n",
       "      <td>1232</td>\n",
       "    </tr>\n",
       "    <tr>\n",
       "      <th>PS3</th>\n",
       "      <td>931.34</td>\n",
       "      <td>1306</td>\n",
       "    </tr>\n",
       "    <tr>\n",
       "      <th>Wii</th>\n",
       "      <td>891.18</td>\n",
       "      <td>1286</td>\n",
       "    </tr>\n",
       "    <tr>\n",
       "      <th>DS</th>\n",
       "      <td>802.78</td>\n",
       "      <td>2121</td>\n",
       "    </tr>\n",
       "    <tr>\n",
       "      <th>PS</th>\n",
       "      <td>727.58</td>\n",
       "      <td>1190</td>\n",
       "    </tr>\n",
       "    <tr>\n",
       "      <th>PS4</th>\n",
       "      <td>314.14</td>\n",
       "      <td>392</td>\n",
       "    </tr>\n",
       "    <tr>\n",
       "      <th>GBA</th>\n",
       "      <td>312.88</td>\n",
       "      <td>811</td>\n",
       "    </tr>\n",
       "    <tr>\n",
       "      <th>PSP</th>\n",
       "      <td>289.53</td>\n",
       "      <td>1193</td>\n",
       "    </tr>\n",
       "    <tr>\n",
       "      <th>3DS</th>\n",
       "      <td>257.81</td>\n",
       "      <td>512</td>\n",
       "    </tr>\n",
       "    <tr>\n",
       "      <th>PC</th>\n",
       "      <td>255.76</td>\n",
       "      <td>957</td>\n",
       "    </tr>\n",
       "    <tr>\n",
       "      <th>GB</th>\n",
       "      <td>254.43</td>\n",
       "      <td>97</td>\n",
       "    </tr>\n",
       "    <tr>\n",
       "      <th>XB</th>\n",
       "      <td>251.57</td>\n",
       "      <td>803</td>\n",
       "    </tr>\n",
       "    <tr>\n",
       "      <th>NES</th>\n",
       "      <td>251.05</td>\n",
       "      <td>98</td>\n",
       "    </tr>\n",
       "    <tr>\n",
       "      <th>N64</th>\n",
       "      <td>218.01</td>\n",
       "      <td>316</td>\n",
       "    </tr>\n",
       "    <tr>\n",
       "      <th>SNES</th>\n",
       "      <td>200.04</td>\n",
       "      <td>239</td>\n",
       "    </tr>\n",
       "    <tr>\n",
       "      <th>GC</th>\n",
       "      <td>196.73</td>\n",
       "      <td>542</td>\n",
       "    </tr>\n",
       "    <tr>\n",
       "      <th>XOne</th>\n",
       "      <td>159.32</td>\n",
       "      <td>247</td>\n",
       "    </tr>\n",
       "    <tr>\n",
       "      <th>2600</th>\n",
       "      <td>86.48</td>\n",
       "      <td>116</td>\n",
       "    </tr>\n",
       "    <tr>\n",
       "      <th>WiiU</th>\n",
       "      <td>82.19</td>\n",
       "      <td>147</td>\n",
       "    </tr>\n",
       "    <tr>\n",
       "      <th>PSV</th>\n",
       "      <td>53.81</td>\n",
       "      <td>429</td>\n",
       "    </tr>\n",
       "    <tr>\n",
       "      <th>SAT</th>\n",
       "      <td>33.59</td>\n",
       "      <td>173</td>\n",
       "    </tr>\n",
       "    <tr>\n",
       "      <th>GEN</th>\n",
       "      <td>28.35</td>\n",
       "      <td>27</td>\n",
       "    </tr>\n",
       "    <tr>\n",
       "      <th>DC</th>\n",
       "      <td>15.95</td>\n",
       "      <td>52</td>\n",
       "    </tr>\n",
       "    <tr>\n",
       "      <th>SCD</th>\n",
       "      <td>1.86</td>\n",
       "      <td>6</td>\n",
       "    </tr>\n",
       "    <tr>\n",
       "      <th>NG</th>\n",
       "      <td>1.44</td>\n",
       "      <td>12</td>\n",
       "    </tr>\n",
       "    <tr>\n",
       "      <th>WS</th>\n",
       "      <td>1.42</td>\n",
       "      <td>6</td>\n",
       "    </tr>\n",
       "    <tr>\n",
       "      <th>TG16</th>\n",
       "      <td>0.16</td>\n",
       "      <td>2</td>\n",
       "    </tr>\n",
       "    <tr>\n",
       "      <th>3DO</th>\n",
       "      <td>0.10</td>\n",
       "      <td>3</td>\n",
       "    </tr>\n",
       "    <tr>\n",
       "      <th>GG</th>\n",
       "      <td>0.04</td>\n",
       "      <td>1</td>\n",
       "    </tr>\n",
       "    <tr>\n",
       "      <th>PCFX</th>\n",
       "      <td>0.03</td>\n",
       "      <td>1</td>\n",
       "    </tr>\n",
       "  </tbody>\n",
       "</table>\n",
       "</div>"
      ],
      "text/plain": [
       "              sum  count\n",
       "platform                \n",
       "PS2       1233.56   2127\n",
       "X360       961.24   1232\n",
       "PS3        931.34   1306\n",
       "Wii        891.18   1286\n",
       "DS         802.78   2121\n",
       "PS         727.58   1190\n",
       "PS4        314.14    392\n",
       "GBA        312.88    811\n",
       "PSP        289.53   1193\n",
       "3DS        257.81    512\n",
       "PC         255.76    957\n",
       "GB         254.43     97\n",
       "XB         251.57    803\n",
       "NES        251.05     98\n",
       "N64        218.01    316\n",
       "SNES       200.04    239\n",
       "GC         196.73    542\n",
       "XOne       159.32    247\n",
       "2600        86.48    116\n",
       "WiiU        82.19    147\n",
       "PSV         53.81    429\n",
       "SAT         33.59    173\n",
       "GEN         28.35     27\n",
       "DC          15.95     52\n",
       "SCD          1.86      6\n",
       "NG           1.44     12\n",
       "WS           1.42      6\n",
       "TG16         0.16      2\n",
       "3DO          0.10      3\n",
       "GG           0.04      1\n",
       "PCFX         0.03      1"
      ]
     },
     "execution_count": 23,
     "metadata": {},
     "output_type": "execute_result"
    }
   ],
   "source": [
    "#Посмотрите, как менялись продажи по платформам. \n",
    "data.groupby('platform')['total_sales'].agg(['sum', 'count']).sort_values(by = 'sum', ascending = False)"
   ]
  },
  {
   "cell_type": "code",
   "execution_count": 24,
   "metadata": {},
   "outputs": [
    {
     "data": {
      "text/plain": [
       "['PS2', 'X360', 'PS3', 'Wii', 'DS', 'PS', 'PS4', 'GBA', 'PSP', '3DS']"
      ]
     },
     "execution_count": 24,
     "metadata": {},
     "output_type": "execute_result"
    }
   ],
   "source": [
    "#Выберите платформы с наибольшими суммарными продажами и постройте распределение по годам. \n",
    "data.groupby('platform')['total_sales'].agg(['sum']).sort_values(by = 'sum', ascending = False).head(10).index.tolist()"
   ]
  },
  {
   "cell_type": "code",
   "execution_count": 25,
   "metadata": {},
   "outputs": [
    {
     "data": {
      "text/html": [
       "<div>\n",
       "<style scoped>\n",
       "    .dataframe tbody tr th:only-of-type {\n",
       "        vertical-align: middle;\n",
       "    }\n",
       "\n",
       "    .dataframe tbody tr th {\n",
       "        vertical-align: top;\n",
       "    }\n",
       "\n",
       "    .dataframe thead th {\n",
       "        text-align: right;\n",
       "    }\n",
       "</style>\n",
       "<table border=\"1\" class=\"dataframe\">\n",
       "  <thead>\n",
       "    <tr style=\"text-align: right;\">\n",
       "      <th></th>\n",
       "      <th></th>\n",
       "      <th>total_sales</th>\n",
       "    </tr>\n",
       "    <tr>\n",
       "      <th>year_of_release</th>\n",
       "      <th>platform</th>\n",
       "      <th></th>\n",
       "    </tr>\n",
       "  </thead>\n",
       "  <tbody>\n",
       "    <tr>\n",
       "      <th>2004</th>\n",
       "      <th>PS2</th>\n",
       "      <td>211.81</td>\n",
       "    </tr>\n",
       "    <tr>\n",
       "      <th>2009</th>\n",
       "      <th>Wii</th>\n",
       "      <td>206.97</td>\n",
       "    </tr>\n",
       "    <tr>\n",
       "      <th>2002</th>\n",
       "      <th>PS2</th>\n",
       "      <td>205.38</td>\n",
       "    </tr>\n",
       "    <tr>\n",
       "      <th>2003</th>\n",
       "      <th>PS2</th>\n",
       "      <td>184.31</td>\n",
       "    </tr>\n",
       "    <tr>\n",
       "      <th>2008</th>\n",
       "      <th>Wii</th>\n",
       "      <td>171.32</td>\n",
       "    </tr>\n",
       "    <tr>\n",
       "      <th>...</th>\n",
       "      <th>...</th>\n",
       "      <td>...</td>\n",
       "    </tr>\n",
       "    <tr>\n",
       "      <th>2014</th>\n",
       "      <th>PSP</th>\n",
       "      <td>0.24</td>\n",
       "    </tr>\n",
       "    <tr>\n",
       "      <th>2016</th>\n",
       "      <th>Wii</th>\n",
       "      <td>0.18</td>\n",
       "    </tr>\n",
       "    <tr>\n",
       "      <th>2015</th>\n",
       "      <th>PSP</th>\n",
       "      <td>0.12</td>\n",
       "    </tr>\n",
       "    <tr>\n",
       "      <th>2000</th>\n",
       "      <th>GBA</th>\n",
       "      <td>0.07</td>\n",
       "    </tr>\n",
       "    <tr>\n",
       "      <th>1985</th>\n",
       "      <th>DS</th>\n",
       "      <td>0.02</td>\n",
       "    </tr>\n",
       "  </tbody>\n",
       "</table>\n",
       "<p>97 rows × 1 columns</p>\n",
       "</div>"
      ],
      "text/plain": [
       "                          total_sales\n",
       "year_of_release platform             \n",
       "2004            PS2            211.81\n",
       "2009            Wii            206.97\n",
       "2002            PS2            205.38\n",
       "2003            PS2            184.31\n",
       "2008            Wii            171.32\n",
       "...                               ...\n",
       "2014            PSP              0.24\n",
       "2016            Wii              0.18\n",
       "2015            PSP              0.12\n",
       "2000            GBA              0.07\n",
       "1985            DS               0.02\n",
       "\n",
       "[97 rows x 1 columns]"
      ]
     },
     "execution_count": 25,
     "metadata": {},
     "output_type": "execute_result"
    }
   ],
   "source": [
    "data.query('platform == [\"PS2\", \"X360\", \"PS3\", \"Wii\", \"DS\", \"PS\", \"PS4\", \"GBA\", \"PSP\", \"3DS\"]') \\\n",
    ".pivot_table(index= ['year_of_release', 'platform'],\\\n",
    "values='total_sales', aggfunc='sum').sort_values(by = 'total_sales', ascending = False)"
   ]
  },
  {
   "cell_type": "code",
   "execution_count": 26,
   "metadata": {},
   "outputs": [
    {
     "data": {
      "text/html": [
       "<div>\n",
       "<style scoped>\n",
       "    .dataframe tbody tr th:only-of-type {\n",
       "        vertical-align: middle;\n",
       "    }\n",
       "\n",
       "    .dataframe tbody tr th {\n",
       "        vertical-align: top;\n",
       "    }\n",
       "\n",
       "    .dataframe thead th {\n",
       "        text-align: right;\n",
       "    }\n",
       "</style>\n",
       "<table border=\"1\" class=\"dataframe\">\n",
       "  <thead>\n",
       "    <tr style=\"text-align: right;\">\n",
       "      <th>year_of_release</th>\n",
       "      <th>1985</th>\n",
       "      <th>1994</th>\n",
       "      <th>1995</th>\n",
       "      <th>1996</th>\n",
       "      <th>1997</th>\n",
       "      <th>1998</th>\n",
       "      <th>1999</th>\n",
       "      <th>2000</th>\n",
       "      <th>2001</th>\n",
       "      <th>2002</th>\n",
       "      <th>...</th>\n",
       "      <th>2007</th>\n",
       "      <th>2008</th>\n",
       "      <th>2009</th>\n",
       "      <th>2010</th>\n",
       "      <th>2011</th>\n",
       "      <th>2012</th>\n",
       "      <th>2013</th>\n",
       "      <th>2014</th>\n",
       "      <th>2015</th>\n",
       "      <th>2016</th>\n",
       "    </tr>\n",
       "    <tr>\n",
       "      <th>platform</th>\n",
       "      <th></th>\n",
       "      <th></th>\n",
       "      <th></th>\n",
       "      <th></th>\n",
       "      <th></th>\n",
       "      <th></th>\n",
       "      <th></th>\n",
       "      <th></th>\n",
       "      <th></th>\n",
       "      <th></th>\n",
       "      <th></th>\n",
       "      <th></th>\n",
       "      <th></th>\n",
       "      <th></th>\n",
       "      <th></th>\n",
       "      <th></th>\n",
       "      <th></th>\n",
       "      <th></th>\n",
       "      <th></th>\n",
       "      <th></th>\n",
       "      <th></th>\n",
       "    </tr>\n",
       "  </thead>\n",
       "  <tbody>\n",
       "    <tr>\n",
       "      <th>3DS</th>\n",
       "      <td>NaN</td>\n",
       "      <td>NaN</td>\n",
       "      <td>NaN</td>\n",
       "      <td>NaN</td>\n",
       "      <td>NaN</td>\n",
       "      <td>NaN</td>\n",
       "      <td>NaN</td>\n",
       "      <td>NaN</td>\n",
       "      <td>NaN</td>\n",
       "      <td>NaN</td>\n",
       "      <td>...</td>\n",
       "      <td>NaN</td>\n",
       "      <td>NaN</td>\n",
       "      <td>NaN</td>\n",
       "      <td>NaN</td>\n",
       "      <td>63.20</td>\n",
       "      <td>51.36</td>\n",
       "      <td>56.57</td>\n",
       "      <td>43.76</td>\n",
       "      <td>27.78</td>\n",
       "      <td>15.14</td>\n",
       "    </tr>\n",
       "    <tr>\n",
       "      <th>DS</th>\n",
       "      <td>0.02</td>\n",
       "      <td>NaN</td>\n",
       "      <td>NaN</td>\n",
       "      <td>NaN</td>\n",
       "      <td>NaN</td>\n",
       "      <td>NaN</td>\n",
       "      <td>NaN</td>\n",
       "      <td>NaN</td>\n",
       "      <td>NaN</td>\n",
       "      <td>NaN</td>\n",
       "      <td>...</td>\n",
       "      <td>146.94</td>\n",
       "      <td>145.31</td>\n",
       "      <td>119.54</td>\n",
       "      <td>85.02</td>\n",
       "      <td>26.18</td>\n",
       "      <td>11.01</td>\n",
       "      <td>1.54</td>\n",
       "      <td>NaN</td>\n",
       "      <td>NaN</td>\n",
       "      <td>NaN</td>\n",
       "    </tr>\n",
       "    <tr>\n",
       "      <th>GBA</th>\n",
       "      <td>NaN</td>\n",
       "      <td>NaN</td>\n",
       "      <td>NaN</td>\n",
       "      <td>NaN</td>\n",
       "      <td>NaN</td>\n",
       "      <td>NaN</td>\n",
       "      <td>NaN</td>\n",
       "      <td>0.07</td>\n",
       "      <td>61.53</td>\n",
       "      <td>74.16</td>\n",
       "      <td>...</td>\n",
       "      <td>3.40</td>\n",
       "      <td>NaN</td>\n",
       "      <td>NaN</td>\n",
       "      <td>NaN</td>\n",
       "      <td>NaN</td>\n",
       "      <td>NaN</td>\n",
       "      <td>NaN</td>\n",
       "      <td>NaN</td>\n",
       "      <td>NaN</td>\n",
       "      <td>NaN</td>\n",
       "    </tr>\n",
       "    <tr>\n",
       "      <th>PS</th>\n",
       "      <td>NaN</td>\n",
       "      <td>6.03</td>\n",
       "      <td>35.96</td>\n",
       "      <td>94.7</td>\n",
       "      <td>136.17</td>\n",
       "      <td>169.49</td>\n",
       "      <td>144.53</td>\n",
       "      <td>96.37</td>\n",
       "      <td>35.59</td>\n",
       "      <td>6.67</td>\n",
       "      <td>...</td>\n",
       "      <td>NaN</td>\n",
       "      <td>NaN</td>\n",
       "      <td>NaN</td>\n",
       "      <td>NaN</td>\n",
       "      <td>NaN</td>\n",
       "      <td>NaN</td>\n",
       "      <td>NaN</td>\n",
       "      <td>NaN</td>\n",
       "      <td>NaN</td>\n",
       "      <td>NaN</td>\n",
       "    </tr>\n",
       "    <tr>\n",
       "      <th>PS2</th>\n",
       "      <td>NaN</td>\n",
       "      <td>NaN</td>\n",
       "      <td>NaN</td>\n",
       "      <td>NaN</td>\n",
       "      <td>NaN</td>\n",
       "      <td>NaN</td>\n",
       "      <td>NaN</td>\n",
       "      <td>39.17</td>\n",
       "      <td>166.43</td>\n",
       "      <td>205.38</td>\n",
       "      <td>...</td>\n",
       "      <td>75.99</td>\n",
       "      <td>53.90</td>\n",
       "      <td>26.40</td>\n",
       "      <td>5.64</td>\n",
       "      <td>0.45</td>\n",
       "      <td>NaN</td>\n",
       "      <td>NaN</td>\n",
       "      <td>NaN</td>\n",
       "      <td>NaN</td>\n",
       "      <td>NaN</td>\n",
       "    </tr>\n",
       "    <tr>\n",
       "      <th>PS3</th>\n",
       "      <td>NaN</td>\n",
       "      <td>NaN</td>\n",
       "      <td>NaN</td>\n",
       "      <td>NaN</td>\n",
       "      <td>NaN</td>\n",
       "      <td>NaN</td>\n",
       "      <td>NaN</td>\n",
       "      <td>NaN</td>\n",
       "      <td>NaN</td>\n",
       "      <td>NaN</td>\n",
       "      <td>...</td>\n",
       "      <td>73.19</td>\n",
       "      <td>118.52</td>\n",
       "      <td>130.93</td>\n",
       "      <td>142.17</td>\n",
       "      <td>156.78</td>\n",
       "      <td>107.36</td>\n",
       "      <td>113.25</td>\n",
       "      <td>47.76</td>\n",
       "      <td>16.82</td>\n",
       "      <td>3.60</td>\n",
       "    </tr>\n",
       "    <tr>\n",
       "      <th>PS4</th>\n",
       "      <td>NaN</td>\n",
       "      <td>NaN</td>\n",
       "      <td>NaN</td>\n",
       "      <td>NaN</td>\n",
       "      <td>NaN</td>\n",
       "      <td>NaN</td>\n",
       "      <td>NaN</td>\n",
       "      <td>NaN</td>\n",
       "      <td>NaN</td>\n",
       "      <td>NaN</td>\n",
       "      <td>...</td>\n",
       "      <td>NaN</td>\n",
       "      <td>NaN</td>\n",
       "      <td>NaN</td>\n",
       "      <td>NaN</td>\n",
       "      <td>NaN</td>\n",
       "      <td>NaN</td>\n",
       "      <td>25.99</td>\n",
       "      <td>100.00</td>\n",
       "      <td>118.90</td>\n",
       "      <td>69.25</td>\n",
       "    </tr>\n",
       "    <tr>\n",
       "      <th>PSP</th>\n",
       "      <td>NaN</td>\n",
       "      <td>NaN</td>\n",
       "      <td>NaN</td>\n",
       "      <td>NaN</td>\n",
       "      <td>NaN</td>\n",
       "      <td>NaN</td>\n",
       "      <td>NaN</td>\n",
       "      <td>NaN</td>\n",
       "      <td>NaN</td>\n",
       "      <td>NaN</td>\n",
       "      <td>...</td>\n",
       "      <td>46.93</td>\n",
       "      <td>34.55</td>\n",
       "      <td>37.78</td>\n",
       "      <td>35.04</td>\n",
       "      <td>17.82</td>\n",
       "      <td>7.69</td>\n",
       "      <td>3.14</td>\n",
       "      <td>0.24</td>\n",
       "      <td>0.12</td>\n",
       "      <td>NaN</td>\n",
       "    </tr>\n",
       "    <tr>\n",
       "      <th>Wii</th>\n",
       "      <td>NaN</td>\n",
       "      <td>NaN</td>\n",
       "      <td>NaN</td>\n",
       "      <td>NaN</td>\n",
       "      <td>NaN</td>\n",
       "      <td>NaN</td>\n",
       "      <td>NaN</td>\n",
       "      <td>NaN</td>\n",
       "      <td>NaN</td>\n",
       "      <td>NaN</td>\n",
       "      <td>...</td>\n",
       "      <td>152.77</td>\n",
       "      <td>171.32</td>\n",
       "      <td>206.97</td>\n",
       "      <td>127.95</td>\n",
       "      <td>59.65</td>\n",
       "      <td>21.71</td>\n",
       "      <td>8.59</td>\n",
       "      <td>3.75</td>\n",
       "      <td>1.14</td>\n",
       "      <td>0.18</td>\n",
       "    </tr>\n",
       "    <tr>\n",
       "      <th>X360</th>\n",
       "      <td>NaN</td>\n",
       "      <td>NaN</td>\n",
       "      <td>NaN</td>\n",
       "      <td>NaN</td>\n",
       "      <td>NaN</td>\n",
       "      <td>NaN</td>\n",
       "      <td>NaN</td>\n",
       "      <td>NaN</td>\n",
       "      <td>NaN</td>\n",
       "      <td>NaN</td>\n",
       "      <td>...</td>\n",
       "      <td>95.41</td>\n",
       "      <td>135.26</td>\n",
       "      <td>120.29</td>\n",
       "      <td>170.03</td>\n",
       "      <td>143.84</td>\n",
       "      <td>99.74</td>\n",
       "      <td>88.58</td>\n",
       "      <td>34.74</td>\n",
       "      <td>11.96</td>\n",
       "      <td>1.52</td>\n",
       "    </tr>\n",
       "  </tbody>\n",
       "</table>\n",
       "<p>10 rows × 24 columns</p>\n",
       "</div>"
      ],
      "text/plain": [
       "year_of_release  1985  1994   1995  1996    1997    1998    1999   2000  \\\n",
       "platform                                                                  \n",
       "3DS               NaN   NaN    NaN   NaN     NaN     NaN     NaN    NaN   \n",
       "DS               0.02   NaN    NaN   NaN     NaN     NaN     NaN    NaN   \n",
       "GBA               NaN   NaN    NaN   NaN     NaN     NaN     NaN   0.07   \n",
       "PS                NaN  6.03  35.96  94.7  136.17  169.49  144.53  96.37   \n",
       "PS2               NaN   NaN    NaN   NaN     NaN     NaN     NaN  39.17   \n",
       "PS3               NaN   NaN    NaN   NaN     NaN     NaN     NaN    NaN   \n",
       "PS4               NaN   NaN    NaN   NaN     NaN     NaN     NaN    NaN   \n",
       "PSP               NaN   NaN    NaN   NaN     NaN     NaN     NaN    NaN   \n",
       "Wii               NaN   NaN    NaN   NaN     NaN     NaN     NaN    NaN   \n",
       "X360              NaN   NaN    NaN   NaN     NaN     NaN     NaN    NaN   \n",
       "\n",
       "year_of_release    2001    2002  ...    2007    2008    2009    2010    2011  \\\n",
       "platform                         ...                                           \n",
       "3DS                 NaN     NaN  ...     NaN     NaN     NaN     NaN   63.20   \n",
       "DS                  NaN     NaN  ...  146.94  145.31  119.54   85.02   26.18   \n",
       "GBA               61.53   74.16  ...    3.40     NaN     NaN     NaN     NaN   \n",
       "PS                35.59    6.67  ...     NaN     NaN     NaN     NaN     NaN   \n",
       "PS2              166.43  205.38  ...   75.99   53.90   26.40    5.64    0.45   \n",
       "PS3                 NaN     NaN  ...   73.19  118.52  130.93  142.17  156.78   \n",
       "PS4                 NaN     NaN  ...     NaN     NaN     NaN     NaN     NaN   \n",
       "PSP                 NaN     NaN  ...   46.93   34.55   37.78   35.04   17.82   \n",
       "Wii                 NaN     NaN  ...  152.77  171.32  206.97  127.95   59.65   \n",
       "X360                NaN     NaN  ...   95.41  135.26  120.29  170.03  143.84   \n",
       "\n",
       "year_of_release    2012    2013    2014    2015   2016  \n",
       "platform                                                \n",
       "3DS               51.36   56.57   43.76   27.78  15.14  \n",
       "DS                11.01    1.54     NaN     NaN    NaN  \n",
       "GBA                 NaN     NaN     NaN     NaN    NaN  \n",
       "PS                  NaN     NaN     NaN     NaN    NaN  \n",
       "PS2                 NaN     NaN     NaN     NaN    NaN  \n",
       "PS3              107.36  113.25   47.76   16.82   3.60  \n",
       "PS4                 NaN   25.99  100.00  118.90  69.25  \n",
       "PSP                7.69    3.14    0.24    0.12    NaN  \n",
       "Wii               21.71    8.59    3.75    1.14   0.18  \n",
       "X360              99.74   88.58   34.74   11.96   1.52  \n",
       "\n",
       "[10 rows x 24 columns]"
      ]
     },
     "execution_count": 26,
     "metadata": {},
     "output_type": "execute_result"
    }
   ],
   "source": [
    "data.query('platform == [\"PS2\", \"X360\", \"PS3\", \"Wii\", \"DS\", \"PS\", \"PS4\", \"GBA\", \"PSP\", \"3DS\"]') \\\n",
    ".pivot_table(index='platform', columns='year_of_release', values='total_sales', aggfunc='sum')"
   ]
  },
  {
   "cell_type": "markdown",
   "metadata": {},
   "source": [
    "### Срок жизни игровой платформы"
   ]
  },
  {
   "cell_type": "code",
   "execution_count": 27,
   "metadata": {},
   "outputs": [
    {
     "data": {
      "text/plain": [
       "Text(0.5, 1.0, 'Распределение по годам жизненного срока платформ')"
      ]
     },
     "execution_count": 27,
     "metadata": {},
     "output_type": "execute_result"
    },
    {
     "data": {
      "image/png": "[encoded data removed]",
      "text/plain": [
       "<Figure size 432x288 with 1 Axes>"
      ]
     },
     "metadata": {
      "needs_background": "light"
     },
     "output_type": "display_data"
    }
   ],
   "source": [
    "#За какой характерный срок появляются новые и исчезают старые платформы?\n",
    "data_10_platform_all_years = data.query('platform == [\"PS2\", \"X360\", \"PS3\", \"Wii\", \"DS\", \"PS\", \"PS4\", \"GBA\", \"PSP\", \"3DS\"]').groupby(['platform','year_of_release'], as_index=False)['total_sales'].sum()\n",
    "ax = sns.lineplot(data=data_10_platform_all_years, x='year_of_release', y='total_sales', hue='platform')\n",
    "ax.set_title('Распределение по годам жизненного срока платформ')\n"
   ]
  },
  {
   "cell_type": "markdown",
   "metadata": {},
   "source": [
    "***ПОЯСНЕНИЕ:*** Выбраны топ-10 платформ по сумме продаж за все года. \n",
    "На графике видно что жизнь платформы примерно равна 10 лет.\n",
    "Также видно, что почти все платформы заканчивают свой жизненный цикл к 2016 году."
   ]
  },
  {
   "cell_type": "code",
   "execution_count": 28,
   "metadata": {},
   "outputs": [
    {
     "name": "stdout",
     "output_type": "stream",
     "text": [
      "platform\n",
      "3DS      5\n",
      "DS      28\n",
      "GBA      7\n",
      "PS       9\n",
      "PS2     11\n",
      "PS3     10\n",
      "PS4      3\n",
      "PSP     11\n",
      "Wii     10\n",
      "X360    11\n",
      "Name: year_of_release, dtype: int64\n"
     ]
    },
    {
     "data": {
      "text/plain": [
       "Text(0.5, 1.0, 'Срок жизни платформ')"
      ]
     },
     "execution_count": 28,
     "metadata": {},
     "output_type": "execute_result"
    },
    {
     "data": {
      "image/png": "[encoded data removed]",
      "text/plain": [
       "<Figure size 432x288 with 1 Axes>"
      ]
     },
     "metadata": {
      "needs_background": "light"
     },
     "output_type": "display_data"
    }
   ],
   "source": [
    "data_year = data_10_platform_all_years.groupby('platform')['year_of_release']\n",
    "data_year = data_year.max() - data_year.min()\n",
    "print(data_year)\n",
    "ax = data_year.plot(kind='bar')\n",
    "ax.set_xlabel('Platforms')\n",
    "ax.set_ylabel('Years')\n",
    "ax.set_title('Срок жизни платформ')"
   ]
  },
  {
   "cell_type": "markdown",
   "metadata": {},
   "source": [
    "### Анализ данных с 2011 год (данные за ранние периоды не учитываются)"
   ]
  },
  {
   "cell_type": "code",
   "execution_count": 29,
   "metadata": {},
   "outputs": [],
   "source": [
    "#Возьмите данные за соответствующий актуальный период.\n",
    "#Актуальный период определите самостоятельно в результате исследования предыдущих вопросов. \n",
    "#Основной фактор — эти данные помогут построить прогноз на 2017 год.\n",
    "#Не учитывайте в работе данные за предыдущие годы."
   ]
  },
  {
   "cell_type": "code",
   "execution_count": 30,
   "metadata": {},
   "outputs": [],
   "source": [
    "data_2011_2016 = data.query('year_of_release >= 2011')"
   ]
  },
  {
   "cell_type": "markdown",
   "metadata": {},
   "source": [
    "***ПОЯСНЕНИЕ:*** Продажи с 2005-2016 в одном диапазоне для отдельно взятой платформы"
   ]
  },
  {
   "cell_type": "code",
   "execution_count": 31,
   "metadata": {},
   "outputs": [
    {
     "data": {
      "text/plain": [
       "['PS3', 'X360', 'PS4', '3DS', 'XOne']"
      ]
     },
     "execution_count": 31,
     "metadata": {},
     "output_type": "execute_result"
    }
   ],
   "source": [
    "#Какие платформы лидируют по продажам, растут или падают? Выберите несколько потенциально прибыльных платформ.\n",
    "data_2011_2016.groupby('platform')['total_sales'].agg('sum').sort_values(ascending = False).head().index.tolist()"
   ]
  },
  {
   "cell_type": "markdown",
   "metadata": {},
   "source": [
    "### «Ящик с усами» по глобальным продажам игр в разбивке по платформам"
   ]
  },
  {
   "cell_type": "code",
   "execution_count": 32,
   "metadata": {},
   "outputs": [
    {
     "data": {
      "text/plain": [
       "(-1.0, 2.0)"
      ]
     },
     "execution_count": 32,
     "metadata": {},
     "output_type": "execute_result"
    },
    {
     "data": {
      "image/png": "[encoded data removed]",
      "text/plain": [
       "<Figure size 504x504 with 1 Axes>"
      ]
     },
     "metadata": {
      "needs_background": "light"
     },
     "output_type": "display_data"
    }
   ],
   "source": [
    "#Постройте график «ящик с усами» по глобальным продажам игр в разбивке по платформам. Опишите результат.\n",
    "data_2011_2016 = data.query('platform == [\"PS4\", \"3DS\", \"XOne\"]')\n",
    "data_2011_2016.boxplot(column='total_sales', by='platform', figsize=(7,7), return_type='axes')\n",
    "plt.ylim(-1, 2)"
   ]
  },
  {
   "cell_type": "markdown",
   "metadata": {},
   "source": [
    "***ПОЯСНЕНИЕ:*** Из трех самая прибыльная PS4, отстает по продажам больше всех 3DS"
   ]
  },
  {
   "cell_type": "markdown",
   "metadata": {},
   "source": [
    "###  Выявление закономерностей между продажами внутри одной популярной платформы и отзывами пользователей и критиков"
   ]
  },
  {
   "cell_type": "code",
   "execution_count": 33,
   "metadata": {},
   "outputs": [
    {
     "data": {
      "text/html": [
       "<div>\n",
       "<style scoped>\n",
       "    .dataframe tbody tr th:only-of-type {\n",
       "        vertical-align: middle;\n",
       "    }\n",
       "\n",
       "    .dataframe tbody tr th {\n",
       "        vertical-align: top;\n",
       "    }\n",
       "\n",
       "    .dataframe thead th {\n",
       "        text-align: right;\n",
       "    }\n",
       "</style>\n",
       "<table border=\"1\" class=\"dataframe\">\n",
       "  <thead>\n",
       "    <tr style=\"text-align: right;\">\n",
       "      <th></th>\n",
       "      <th>user_score</th>\n",
       "      <th>critic_score</th>\n",
       "      <th>total_sales</th>\n",
       "    </tr>\n",
       "  </thead>\n",
       "  <tbody>\n",
       "    <tr>\n",
       "      <th>user_score</th>\n",
       "      <td>1.000000</td>\n",
       "      <td>0.557654</td>\n",
       "      <td>-0.031957</td>\n",
       "    </tr>\n",
       "    <tr>\n",
       "      <th>critic_score</th>\n",
       "      <td>0.557654</td>\n",
       "      <td>1.000000</td>\n",
       "      <td>0.406568</td>\n",
       "    </tr>\n",
       "    <tr>\n",
       "      <th>total_sales</th>\n",
       "      <td>-0.031957</td>\n",
       "      <td>0.406568</td>\n",
       "      <td>1.000000</td>\n",
       "    </tr>\n",
       "  </tbody>\n",
       "</table>\n",
       "</div>"
      ],
      "text/plain": [
       "              user_score  critic_score  total_sales\n",
       "user_score      1.000000      0.557654    -0.031957\n",
       "critic_score    0.557654      1.000000     0.406568\n",
       "total_sales    -0.031957      0.406568     1.000000"
      ]
     },
     "execution_count": 33,
     "metadata": {},
     "output_type": "execute_result"
    },
    {
     "data": {
      "image/png": "[encoded data removed]",
      "text/plain": [
       "<Figure size 540x540 with 12 Axes>"
      ]
     },
     "metadata": {
      "needs_background": "light"
     },
     "output_type": "display_data"
    }
   ],
   "source": [
    "#Посмотрите, как влияют на продажи внутри одной популярной платформы отзывы пользователей и критиков. \n",
    "data_PS4 = data_2011_2016.query('platform == \"PS4\"')\n",
    "#Постройте диаграмму рассеяния и посчитайте корреляцию между отзывами и продажами.\n",
    "sns.pairplot(data_PS4[['user_score', 'critic_score', 'total_sales']])\n",
    "data_PS4[['user_score', 'critic_score', 'total_sales']].corr()"
   ]
  },
  {
   "cell_type": "code",
   "execution_count": 34,
   "metadata": {},
   "outputs": [],
   "source": [
    "#Сформулируйте выводы."
   ]
  },
  {
   "cell_type": "markdown",
   "metadata": {},
   "source": [
    "***ПОЯСНЕНИЕ:*** По графикам видно что при высоких оценках user_score и critic_score больше продаж в total_sales, корреляция есть, но слабая"
   ]
  },
  {
   "cell_type": "markdown",
   "metadata": {},
   "source": [
    "### Соотношение выводов с продажами игр на других платформах"
   ]
  },
  {
   "cell_type": "code",
   "execution_count": 35,
   "metadata": {},
   "outputs": [
    {
     "data": {
      "text/html": [
       "<div>\n",
       "<style scoped>\n",
       "    .dataframe tbody tr th:only-of-type {\n",
       "        vertical-align: middle;\n",
       "    }\n",
       "\n",
       "    .dataframe tbody tr th {\n",
       "        vertical-align: top;\n",
       "    }\n",
       "\n",
       "    .dataframe thead th {\n",
       "        text-align: right;\n",
       "    }\n",
       "</style>\n",
       "<table border=\"1\" class=\"dataframe\">\n",
       "  <thead>\n",
       "    <tr style=\"text-align: right;\">\n",
       "      <th></th>\n",
       "      <th></th>\n",
       "      <th>user_score</th>\n",
       "      <th>critic_score</th>\n",
       "      <th>total_sales</th>\n",
       "    </tr>\n",
       "    <tr>\n",
       "      <th>platform</th>\n",
       "      <th></th>\n",
       "      <th></th>\n",
       "      <th></th>\n",
       "      <th></th>\n",
       "    </tr>\n",
       "  </thead>\n",
       "  <tbody>\n",
       "    <tr>\n",
       "      <th rowspan=\"3\" valign=\"top\">3DS</th>\n",
       "      <th>user_score</th>\n",
       "      <td>1.000000</td>\n",
       "      <td>0.745222</td>\n",
       "      <td>0.222078</td>\n",
       "    </tr>\n",
       "    <tr>\n",
       "      <th>critic_score</th>\n",
       "      <td>0.745222</td>\n",
       "      <td>1.000000</td>\n",
       "      <td>0.348740</td>\n",
       "    </tr>\n",
       "    <tr>\n",
       "      <th>total_sales</th>\n",
       "      <td>0.222078</td>\n",
       "      <td>0.348740</td>\n",
       "      <td>1.000000</td>\n",
       "    </tr>\n",
       "    <tr>\n",
       "      <th rowspan=\"3\" valign=\"top\">PS4</th>\n",
       "      <th>user_score</th>\n",
       "      <td>1.000000</td>\n",
       "      <td>0.557654</td>\n",
       "      <td>-0.031957</td>\n",
       "    </tr>\n",
       "    <tr>\n",
       "      <th>critic_score</th>\n",
       "      <td>0.557654</td>\n",
       "      <td>1.000000</td>\n",
       "      <td>0.406568</td>\n",
       "    </tr>\n",
       "    <tr>\n",
       "      <th>total_sales</th>\n",
       "      <td>-0.031957</td>\n",
       "      <td>0.406568</td>\n",
       "      <td>1.000000</td>\n",
       "    </tr>\n",
       "    <tr>\n",
       "      <th rowspan=\"3\" valign=\"top\">XOne</th>\n",
       "      <th>user_score</th>\n",
       "      <td>1.000000</td>\n",
       "      <td>0.472462</td>\n",
       "      <td>-0.068925</td>\n",
       "    </tr>\n",
       "    <tr>\n",
       "      <th>critic_score</th>\n",
       "      <td>0.472462</td>\n",
       "      <td>1.000000</td>\n",
       "      <td>0.416998</td>\n",
       "    </tr>\n",
       "    <tr>\n",
       "      <th>total_sales</th>\n",
       "      <td>-0.068925</td>\n",
       "      <td>0.416998</td>\n",
       "      <td>1.000000</td>\n",
       "    </tr>\n",
       "  </tbody>\n",
       "</table>\n",
       "</div>"
      ],
      "text/plain": [
       "                       user_score  critic_score  total_sales\n",
       "platform                                                    \n",
       "3DS      user_score      1.000000      0.745222     0.222078\n",
       "         critic_score    0.745222      1.000000     0.348740\n",
       "         total_sales     0.222078      0.348740     1.000000\n",
       "PS4      user_score      1.000000      0.557654    -0.031957\n",
       "         critic_score    0.557654      1.000000     0.406568\n",
       "         total_sales    -0.031957      0.406568     1.000000\n",
       "XOne     user_score      1.000000      0.472462    -0.068925\n",
       "         critic_score    0.472462      1.000000     0.416998\n",
       "         total_sales    -0.068925      0.416998     1.000000"
      ]
     },
     "execution_count": 35,
     "metadata": {},
     "output_type": "execute_result"
    }
   ],
   "source": [
    "#Соотнесите выводы с продажами игр на других платформах.\n",
    "data_2011_2016.groupby('platform')[['user_score', 'critic_score', 'total_sales']].corr()"
   ]
  },
  {
   "cell_type": "markdown",
   "metadata": {},
   "source": [
    "***ПОЯСНЕНИЕ:*** Наибольшая корреляция у платформы PS4, затем у XOne и 3DS. Значение корреляции <0.5 говорит о том, что связь слабая. Большее значение именно у critic_score, что означает большую зависимость от оценки критиков."
   ]
  },
  {
   "cell_type": "markdown",
   "metadata": {},
   "source": [
    "### Исследование распределения игр по жанрам"
   ]
  },
  {
   "cell_type": "code",
   "execution_count": 36,
   "metadata": {},
   "outputs": [
    {
     "data": {
      "text/plain": [
       "genre\n",
       "Action          191.25\n",
       "Shooter         150.11\n",
       "Role-Playing    123.74\n",
       "Sports           88.50\n",
       "Platform         41.15\n",
       "Racing           36.80\n",
       "Simulation       28.88\n",
       "Misc             26.61\n",
       "Fighting         21.66\n",
       "Adventure        13.85\n",
       "Puzzle            5.59\n",
       "Strategy          3.13\n",
       "Name: total_sales, dtype: float64"
      ]
     },
     "execution_count": 36,
     "metadata": {},
     "output_type": "execute_result"
    }
   ],
   "source": [
    "#Посмотрите на общее распределение игр по жанрам.\n",
    "data_2011_2016.groupby('genre')['total_sales'].agg('sum').sort_values(ascending = False)"
   ]
  },
  {
   "cell_type": "code",
   "execution_count": 37,
   "metadata": {},
   "outputs": [
    {
     "data": {
      "text/plain": [
       "<AxesSubplot:xlabel='genre'>"
      ]
     },
     "execution_count": 37,
     "metadata": {},
     "output_type": "execute_result"
    },
    {
     "data": {
      "image/png": "[encoded data removed]",
      "text/plain": [
       "<Figure size 432x288 with 1 Axes>"
      ]
     },
     "metadata": {
      "needs_background": "light"
     },
     "output_type": "display_data"
    }
   ],
   "source": [
    "data_2011_2016.groupby('genre')['total_sales'].agg('sum').sort_values(ascending = True).plot(kind='bar')"
   ]
  },
  {
   "cell_type": "code",
   "execution_count": 38,
   "metadata": {},
   "outputs": [],
   "source": [
    "#Что можно сказать о самых прибыльных жанрах? \n",
    "#Выделяются ли жанры с высокими и низкими продажами?"
   ]
  },
  {
   "cell_type": "markdown",
   "metadata": {},
   "source": [
    "***ПОЯСНЕНИЕ:***\n",
    "\n",
    "ТОП-5 жанра по уровню общих продаж:\n",
    "- Action          191.25\n",
    "- Shooter         150.11\n",
    "- Role-Playing    123.74\n",
    "- Sports           88.50\n",
    "- Platform         41.15\n",
    "\n",
    "Самые низкие продажи:\n",
    "- Adventure        13.85\n",
    "- Puzzle            5.59\n",
    "- Strategy          3.13"
   ]
  },
  {
   "cell_type": "code",
   "execution_count": 39,
   "metadata": {},
   "outputs": [
    {
     "data": {
      "text/plain": [
       "(-1.0, 2.0)"
      ]
     },
     "execution_count": 39,
     "metadata": {},
     "output_type": "execute_result"
    },
    {
     "data": {
      "image/png": "[encoded data removed]",
      "text/plain": [
       "<Figure size 720x720 with 1 Axes>"
      ]
     },
     "metadata": {
      "needs_background": "light"
     },
     "output_type": "display_data"
    }
   ],
   "source": [
    "data_2011_2016.boxplot(column='total_sales', by='genre', figsize=(10,10), return_type='axes')\n",
    "plt.ylim(-1, 2)"
   ]
  },
  {
   "cell_type": "markdown",
   "metadata": {},
   "source": [
    "## Описание портрета пользователя каждого региона"
   ]
  },
  {
   "cell_type": "markdown",
   "metadata": {},
   "source": [
    "***Шаг 4.***\n",
    "\n",
    "Составьте портрет пользователя каждого региона\n",
    "\n",
    "Определите для пользователя каждого региона (NA, EU, JP):\n",
    "- Самые популярные платформы (топ-5). Опишите различия в\n",
    "долях продаж.\n",
    "- Самые популярные жанры (топ-5). Поясните разницу.\n",
    "- Влияет ли рейтинг ESRB на продажи в отдельном регионе?"
   ]
  },
  {
   "cell_type": "code",
   "execution_count": 40,
   "metadata": {},
   "outputs": [],
   "source": [
    "#Самые популярные платформы (топ-5). Опишите различия в долях продаж.\n",
    "data_2011_2016 = data.query('year_of_release >= 2011')"
   ]
  },
  {
   "cell_type": "markdown",
   "metadata": {},
   "source": [
    "### Топ-5 популярных платформ по регионам"
   ]
  },
  {
   "cell_type": "code",
   "execution_count": 41,
   "metadata": {},
   "outputs": [
    {
     "data": {
      "text/plain": [
       "['X360', 'PS3', 'PS4', 'XOne', '3DS']"
      ]
     },
     "execution_count": 41,
     "metadata": {},
     "output_type": "execute_result"
    }
   ],
   "source": [
    "data_2011_2016.groupby('platform')['na_sales'].sum().sort_values(ascending = False).head().index.tolist()"
   ]
  },
  {
   "cell_type": "code",
   "execution_count": 42,
   "metadata": {},
   "outputs": [
    {
     "data": {
      "text/plain": [
       "['PS3', 'PS4', 'X360', '3DS', 'PC']"
      ]
     },
     "execution_count": 42,
     "metadata": {},
     "output_type": "execute_result"
    }
   ],
   "source": [
    "data_2011_2016.groupby('platform')['eu_sales'].sum().sort_values(ascending = False).head().index.tolist()"
   ]
  },
  {
   "cell_type": "code",
   "execution_count": 43,
   "metadata": {},
   "outputs": [
    {
     "data": {
      "text/plain": [
       "['3DS', 'PS3', 'PSP', 'PSV', 'PS4']"
      ]
     },
     "execution_count": 43,
     "metadata": {},
     "output_type": "execute_result"
    }
   ],
   "source": [
    "data_2011_2016.groupby('platform')['jp_sales'].sum().sort_values(ascending = False).head().index.tolist()"
   ]
  },
  {
   "cell_type": "code",
   "execution_count": 44,
   "metadata": {},
   "outputs": [
    {
     "data": {
      "text/plain": [
       "array([<AxesSubplot:ylabel='na_sales'>, <AxesSubplot:ylabel='eu_sales'>,\n",
       "       <AxesSubplot:ylabel='jp_sales'>], dtype=object)"
      ]
     },
     "execution_count": 44,
     "metadata": {},
     "output_type": "execute_result"
    },
    {
     "data": {
      "image/png": "[encoded data removed]",
      "text/plain": [
       "<Figure size 2160x2160 with 3 Axes>"
      ]
     },
     "metadata": {},
     "output_type": "display_data"
    }
   ],
   "source": [
    "import matplotlib.colors as c\n",
    "data_2011_2016.groupby('platform')[['na_sales','eu_sales', 'jp_sales']].sum().plot(kind='pie', subplots=True, figsize=(30, 30), colormap='tab20b', fontsize=15)"
   ]
  },
  {
   "cell_type": "markdown",
   "metadata": {},
   "source": [
    "***ПОЯСНЕНИЕ:*** \n",
    "\n",
    "ТОП-5 для na_sales: ['X360', 'PS3', 'PS4', 'XOne', '3DS']\n",
    "\n",
    "ТОП-5 для eu_sales: ['PS3', 'PS4', 'X360', '3DS', 'PC']\n",
    "\n",
    "ТОП-5 для jp_sales: ['3DS', 'PS3', 'PSP', 'PSV', 'PS4']"
   ]
  },
  {
   "cell_type": "markdown",
   "metadata": {},
   "source": [
    "### Топ-5 популярных жанров"
   ]
  },
  {
   "cell_type": "code",
   "execution_count": 45,
   "metadata": {},
   "outputs": [],
   "source": [
    "#Самые популярные жанры (топ-5). Поясните разницу."
   ]
  },
  {
   "cell_type": "code",
   "execution_count": 46,
   "metadata": {},
   "outputs": [
    {
     "data": {
      "text/plain": [
       "['Action', 'Shooter', 'Sports', 'Role-Playing', 'Misc']"
      ]
     },
     "execution_count": 46,
     "metadata": {},
     "output_type": "execute_result"
    }
   ],
   "source": [
    "data_2011_2016.groupby('genre')['na_sales'].sum().sort_values(ascending = False).head().index.tolist()"
   ]
  },
  {
   "cell_type": "code",
   "execution_count": 47,
   "metadata": {},
   "outputs": [
    {
     "data": {
      "text/plain": [
       "['Action', 'Shooter', 'Sports', 'Role-Playing', 'Racing']"
      ]
     },
     "execution_count": 47,
     "metadata": {},
     "output_type": "execute_result"
    }
   ],
   "source": [
    "data_2011_2016.groupby('genre')['eu_sales'].sum().sort_values(ascending = False).head().index.tolist()"
   ]
  },
  {
   "cell_type": "code",
   "execution_count": 48,
   "metadata": {},
   "outputs": [
    {
     "data": {
      "text/plain": [
       "['Role-Playing', 'Action', 'Misc', 'Fighting', 'Platform']"
      ]
     },
     "execution_count": 48,
     "metadata": {},
     "output_type": "execute_result"
    }
   ],
   "source": [
    "data_2011_2016.groupby('genre')['jp_sales'].sum().sort_values(ascending = False).head().index.tolist()"
   ]
  },
  {
   "cell_type": "code",
   "execution_count": 49,
   "metadata": {},
   "outputs": [
    {
     "data": {
      "text/plain": [
       "array([<AxesSubplot:ylabel='na_sales'>, <AxesSubplot:ylabel='eu_sales'>,\n",
       "       <AxesSubplot:ylabel='jp_sales'>], dtype=object)"
      ]
     },
     "execution_count": 49,
     "metadata": {},
     "output_type": "execute_result"
    },
    {
     "data": {
      "image/png": "[encoded data removed]",
      "text/plain": [
       "<Figure size 2160x2160 with 3 Axes>"
      ]
     },
     "metadata": {},
     "output_type": "display_data"
    }
   ],
   "source": [
    "data_2011_2016.groupby('genre')[['na_sales','eu_sales', 'jp_sales']].sum().plot(kind='pie', subplots=True, figsize=(30,30),  colormap='tab20b', fontsize=15)"
   ]
  },
  {
   "cell_type": "markdown",
   "metadata": {},
   "source": [
    "***ПОЯСНЕНИЕ:*** \n",
    "\n",
    "ТОП-5 для na_sales: ['Action', 'Shooter', 'Sports', 'Role-Playing', 'Misc']\n",
    "\n",
    "ТОП-5 для eu_sales: ['Action', 'Shooter', 'Sports', 'Role-Playing', 'Racing']\n",
    "\n",
    "ТОП-5 для jp_sales: ['Role-Playing', 'Action', 'Misc', 'Fighting', 'Platform']\n",
    "\n",
    "В основном, во всех регионах лидирующую позицию занимает жанр Action, Sports, Misc. Эти жанры встречаются во всех 3х регионах в ТОП-5. Также эти 3 жанра в ТОПе по общей прибыли. Различия по регионам все же есть, больше всего отличается jp_sales. В jp_sales лидирующую позицию занимает Role-Playing. Если и по культуре США и Европа схожи, то Япония сильно отличается, также и в игровой индустрии."
   ]
  },
  {
   "cell_type": "markdown",
   "metadata": {},
   "source": [
    "### Анализ влияния рейтинга ESRB на продажи в отдельном регионе"
   ]
  },
  {
   "cell_type": "code",
   "execution_count": 50,
   "metadata": {},
   "outputs": [
    {
     "data": {
      "text/plain": [
       "array([<AxesSubplot:ylabel='na_sales'>, <AxesSubplot:ylabel='eu_sales'>,\n",
       "       <AxesSubplot:ylabel='jp_sales'>], dtype=object)"
      ]
     },
     "execution_count": 50,
     "metadata": {},
     "output_type": "execute_result"
    },
    {
     "data": {
      "image/png": "[encoded data removed]",
      "text/plain": [
       "<Figure size 1224x1224 with 3 Axes>"
      ]
     },
     "metadata": {},
     "output_type": "display_data"
    }
   ],
   "source": [
    "#Влияет ли рейтинг ESRB на продажи в отдельном регионе?\n",
    "data_2011_2016.groupby('rating')[['na_sales','eu_sales', 'jp_sales']].sum().plot(kind='pie', subplots=True, figsize=(17,17), colormap='tab10')"
   ]
  },
  {
   "cell_type": "code",
   "execution_count": 51,
   "metadata": {},
   "outputs": [
    {
     "data": {
      "text/html": [
       "<div>\n",
       "<style scoped>\n",
       "    .dataframe tbody tr th:only-of-type {\n",
       "        vertical-align: middle;\n",
       "    }\n",
       "\n",
       "    .dataframe tbody tr th {\n",
       "        vertical-align: top;\n",
       "    }\n",
       "\n",
       "    .dataframe thead th {\n",
       "        text-align: right;\n",
       "    }\n",
       "</style>\n",
       "<table border=\"1\" class=\"dataframe\">\n",
       "  <thead>\n",
       "    <tr style=\"text-align: right;\">\n",
       "      <th></th>\n",
       "      <th>na_sales</th>\n",
       "      <th>eu_sales</th>\n",
       "      <th>jp_sales</th>\n",
       "    </tr>\n",
       "    <tr>\n",
       "      <th>rating</th>\n",
       "      <th></th>\n",
       "      <th></th>\n",
       "      <th></th>\n",
       "    </tr>\n",
       "  </thead>\n",
       "  <tbody>\n",
       "    <tr>\n",
       "      <th>M</th>\n",
       "      <td>308.45</td>\n",
       "      <td>250.26</td>\n",
       "      <td>26.14</td>\n",
       "    </tr>\n",
       "    <tr>\n",
       "      <th>E</th>\n",
       "      <td>170.17</td>\n",
       "      <td>141.73</td>\n",
       "      <td>36.68</td>\n",
       "    </tr>\n",
       "    <tr>\n",
       "      <th>0</th>\n",
       "      <td>123.69</td>\n",
       "      <td>116.61</td>\n",
       "      <td>138.21</td>\n",
       "    </tr>\n",
       "    <tr>\n",
       "      <th>E10+</th>\n",
       "      <td>117.72</td>\n",
       "      <td>78.00</td>\n",
       "      <td>11.23</td>\n",
       "    </tr>\n",
       "    <tr>\n",
       "      <th>T</th>\n",
       "      <td>109.31</td>\n",
       "      <td>83.16</td>\n",
       "      <td>33.39</td>\n",
       "    </tr>\n",
       "    <tr>\n",
       "      <th>EC</th>\n",
       "      <td>0.42</td>\n",
       "      <td>0.00</td>\n",
       "      <td>0.00</td>\n",
       "    </tr>\n",
       "    <tr>\n",
       "      <th>RP</th>\n",
       "      <td>0.00</td>\n",
       "      <td>0.03</td>\n",
       "      <td>0.00</td>\n",
       "    </tr>\n",
       "  </tbody>\n",
       "</table>\n",
       "</div>"
      ],
      "text/plain": [
       "        na_sales  eu_sales  jp_sales\n",
       "rating                              \n",
       "M         308.45    250.26     26.14\n",
       "E         170.17    141.73     36.68\n",
       "0         123.69    116.61    138.21\n",
       "E10+      117.72     78.00     11.23\n",
       "T         109.31     83.16     33.39\n",
       "EC          0.42      0.00      0.00\n",
       "RP          0.00      0.03      0.00"
      ]
     },
     "execution_count": 51,
     "metadata": {},
     "output_type": "execute_result"
    }
   ],
   "source": [
    "data_2011_2016.groupby('rating')[['na_sales','eu_sales', 'jp_sales']].sum().sort_values(by='na_sales', ascending = False)"
   ]
  },
  {
   "cell_type": "markdown",
   "metadata": {},
   "source": [
    "***ПОЯСНЕНИЕ:*** \n",
    "\n",
    "ТОП-5 рейтинг ESRB для США и Европы: \n",
    "1. М(«Mature»)— «Для взрослых»\n",
    "2. Е(«Everyone»)— «Для всех»\n",
    "3. 0(«Без рейтинга»)\n",
    "4. Е10+(«Everyone 10 and older») — «Для всех от 10 лет и старше»\n",
    "5. T(«Teen»)\n",
    "\n",
    "\n",
    "ТОП-5 рейтинг ESRB для Японии: \n",
    "1. 0(«Без рейтинга») \n",
    "2. Е(«Everyone»)— «Для всех»\n",
    "3. T(«Teen»)\n",
    "4. М(«Mature»)— «Для взрослых» \n",
    "5. Е10+(«Everyone 10 and older») — «Для всех от 10 лет и старше»\n",
    "\n",
    "Рейтинг ЕС, RP нулевые (почти)"
   ]
  },
  {
   "cell_type": "markdown",
   "metadata": {},
   "source": [
    "**ВЫВОД**\n",
    "\n",
    "Для региона na_sales:\n",
    "- платформа(ТОП-5) 'X360', 'Wii', 'PS3', 'DS', 'PS2'\n",
    "- жанр(ТОП-5) 'Action', 'Sports', 'Shooter', 'Misc', 'Role-Playing'\n",
    "- рейтинг ESRB (ТОП-4) Е(«Everyone»), М(«Mature»), Т(«Teen»), Е10+(«Everyone 10 and older») \n",
    "\n",
    "Для региона eu_sales:\n",
    "- платформа(топ-5) 'PS3', 'X360', 'Wii', 'DS', 'PS4'\n",
    "- жанр(ТОП-5) 'Action', 'Sports', 'Shooter', 'Misc', 'Racing'\n",
    "- рейтинг ESRB (ТОП-4) Е(«Everyone»), М(«Mature»), Т(«Teen»), Е10+(«Everyone 10 and older») \n",
    "\n",
    "Для региона jp_sales:\n",
    "- платформа(топ-5) 'DS', '3DS', 'PS3', 'PSP', 'Wii'\n",
    "- жанр(ТОП-5) 'Role-Playing', 'Action', 'Misc', 'Sports', 'Platform'\n",
    "- рейтинг ESRB (ТОП-4) Е(«Everyone»), Т(«Teen»), М(«Mature»), Е10+(«Everyone 10 and older») "
   ]
  },
  {
   "cell_type": "markdown",
   "metadata": {},
   "source": [
    "## Проверка гипотез"
   ]
  },
  {
   "cell_type": "markdown",
   "metadata": {},
   "source": [
    "***Шаг 5.***\n",
    "\n",
    "Проверьте гипотезы\n",
    "- Средние пользовательские рейтинги платформ Xbox One и PC\n",
    "одинаковые;\n",
    "- Средние пользовательские рейтинги жанров Action (англ.\n",
    "«действие», экшен-игры) и Sports (англ. «спортивные\n",
    "соревнования») разные.\n",
    "\n",
    "Задайте самостоятельно пороговое значение alpha.\n",
    "Поясните:\n",
    "- Как вы сформулировали нулевую и альтернативную гипотезы;\n",
    "- Какой критерий применили для проверки гипотез и почему."
   ]
  },
  {
   "cell_type": "markdown",
   "metadata": {},
   "source": [
    "***ПОЯСНЕНИЕ:***\n",
    "\n",
    "Нулевые гипотезы:\n",
    "- Средние пользовательские рейтинги платформ Xbox One и PC\n",
    "одинаковые;\n",
    "- Средние пользовательские рейтинги жанров Action (англ. «действие», экшен-игры) и Sports (англ. «спортивные соревнования») не разные\n",
    "\n",
    "alpha = 0.05 (Уровень значимости - суммарная вероятность того, что измеренное эмпирически значение окажется далеко от среднего)\n",
    "\n",
    "Альтернативные гипотезы:\n",
    "- Средние пользовательские рейтинги платформ Xbox One и PC\n",
    " не одинаковые;\n",
    "- Средние пользовательские рейтинги жанров Action (англ. «действие», экшен-игры) и Sports (англ. «спортивные соревнования») разные\n",
    "\n",
    "\n",
    "Критерий для проверки гипотез - st.ttest_ind проверка гипотезы о равенстве среднего двух генеральных совокупностей по взятым из них выборкам"
   ]
  },
  {
   "cell_type": "markdown",
   "metadata": {},
   "source": [
    "### Первая гипотеза"
   ]
  },
  {
   "cell_type": "code",
   "execution_count": 52,
   "metadata": {},
   "outputs": [
    {
     "name": "stdout",
     "output_type": "stream",
     "text": [
      "p-значение:  0.6267602271422398\n",
      "Не получилось отвергнуть нулевую гипотезу\n"
     ]
    }
   ],
   "source": [
    "#Проверьте гипотезу: средние пользовательские рейтинги платформ Xbox One и PC одинаковые\n",
    "\n",
    "from scipy import stats as st\n",
    "data_2011_2016 = data_2011_2016.dropna(subset=['user_score'])\n",
    "\n",
    "before = data_2011_2016.query('platform == \"XOne\"')['user_score']\n",
    "\n",
    "after = data_2011_2016.query('platform == \"PC\"')['user_score']\n",
    "\n",
    "alpha = .05 # критический уровень статистической значимости\n",
    "\n",
    "results = st.ttest_ind(\n",
    "    before, \n",
    "    after)\n",
    "\n",
    "print('p-значение: ', results.pvalue)\n",
    "\n",
    "if results.pvalue < alpha:\n",
    "    print(\"Отвергаем нулевую гипотезу\")\n",
    "else:\n",
    "    print(\"Не получилось отвергнуть нулевую гипотезу\") "
   ]
  },
  {
   "cell_type": "markdown",
   "metadata": {},
   "source": [
    "### Вторая гипотеза"
   ]
  },
  {
   "cell_type": "code",
   "execution_count": 53,
   "metadata": {},
   "outputs": [
    {
     "name": "stdout",
     "output_type": "stream",
     "text": [
      "p-значение:  5.1974550252152054e-24\n",
      "Отвергаем нулевую гипотезу\n"
     ]
    }
   ],
   "source": [
    "#Проверьте гипотезу: средние пользовательские рейтинги жанров Action (англ. «действие», экшен-игры) и Sports \n",
    "#(англ. «спортивные соревнования») разные\n",
    "\n",
    "from scipy import stats as st\n",
    "\n",
    "before = data_2011_2016.query('genre == \"Action\"')['user_score']\n",
    "\n",
    "after = data_2011_2016.query('genre == \"Sports\"')['user_score']\n",
    "\n",
    "alpha = .05 # критический уровень статистической значимости\n",
    "\n",
    "results = st.ttest_ind(\n",
    "    before, \n",
    "    after)\n",
    "\n",
    "print('p-значение: ', results.pvalue)\n",
    "\n",
    "if results.pvalue < alpha:\n",
    "    print(\"Отвергаем нулевую гипотезу\")\n",
    "else:\n",
    "    print(\"Не получилось отвергнуть нулевую гипотезу\") "
   ]
  },
  {
   "cell_type": "markdown",
   "metadata": {},
   "source": [
    "## Общие выводы"
   ]
  },
  {
   "cell_type": "markdown",
   "metadata": {},
   "source": [
    "***Шаг 6.***\n",
    "\n",
    "Напишите общий вывод\n",
    "\n",
    "Оформление: \n",
    "- Выполните задание в Jupyter Notebook. \n",
    "- Заполните программный код в ячейках типа code, текстовые пояснения — в ячейках типа markdown. \n",
    "- Примените форматирование и заголовки."
   ]
  },
  {
   "cell_type": "markdown",
   "metadata": {},
   "source": [
    "### Вводная часть"
   ]
  },
  {
   "cell_type": "markdown",
   "metadata": {},
   "source": [
    "***В таблице games 16715 строк, включает следующие столбцы:***\n",
    "- Name — название игры\n",
    "- Platform — платформа\n",
    "- Year_of_Release — год выпуска\n",
    "- Genre — жанр игры\n",
    "- NA_sales — продажи в Северной Америке (миллионы проданных\n",
    "копий)\n",
    "- EU_sales — продажи в Европе (миллионы проданных копий)\n",
    "- JP_sales — продажи в Японии (миллионы проданных копий)\n",
    "- Other_sales — продажи в других странах (миллионы проданных\n",
    "копий)\n",
    "- Critic_Score — оценка критиков (максимум 100)\n",
    "- User_Score — оценка пользователей (максимум 10)\n",
    "- Rating — рейтинг от организации ESRB "
   ]
  },
  {
   "cell_type": "markdown",
   "metadata": {},
   "source": [
    "### Описание всех производимых действий с данными"
   ]
  },
  {
   "cell_type": "markdown",
   "metadata": {},
   "source": [
    "***При подготовке данных к анализу произвели следующие действия:***\n",
    "1. удалили строки с незначительными по количеству пропусками в столбцах 'name','year_of_release','genre'\n",
    "2. привели названия столбцов к нижнему регистру\n",
    "3. заменили тип данных в 2х столбцах 'year_of_release' и 'critic_score', т.к. в них целые числа\n",
    "4. заменили тип данных в столбце user_score, т.к. там числа со знаком после запятой. Значение tbd заменили на nan, чтобы оставить только количественные значения и nan, которое не мешает вычеслениям.\n",
    "5. пропуски в столбцах critic_score, user_score. Пропуски в столбцах с оценками критиков и пользователей нельзя заменить на 0, т.к. это точные значения, 0 в данном случае бы означал оценку 0.\n",
    "6. пропуски rating заменили на 0. \n",
    "7. посчитали суммарные продажи во всех регионах и запишите их в отдельный столбец 'total_sales'\n"
   ]
  },
  {
   "cell_type": "markdown",
   "metadata": {},
   "source": [
    "### Вывод по исследовательскому анализу данных"
   ]
  },
  {
   "cell_type": "markdown",
   "metadata": {},
   "source": [
    "***Провели исследовательский анализ данных:***\n",
    "\n",
    "1. При анализе игр в разные годы выявлено следующее:\n",
    "- 1980-1993 от 9 до 60 шт выпускалось в год\n",
    "- 1994-2005 от 121 до 939 шт \n",
    "- 2006-2011 1006-1427\n",
    "- 2012-2016 502-653\n",
    "\n",
    "Можно сказать, что с 1994 года данные более существенны, графики количества выщенных игр и обьема продаж подтверждают данные.\n",
    "\n",
    "2. Как менялись продажи по платформам:\n",
    "\n",
    "ТОП-10 платформ по сумме продаж за все года ['PS2', 'X360', 'PS3', 'Wii', 'DS', 'PS', 'PS4', 'GBA', 'PSP', '3DS']\n",
    "\n",
    "Жизнь платформы примерно равна 3-5 лет. Также видно, что почти все платформы заканчивают свой жизненный цикл к 2016 году.\n",
    "\n",
    "3. Определили, что актуальный период для анализа это продажи диапазон 2011-2016 гг. Эти данные помогут построить прогноз на 2017 год. Далее анализ данных будет только по данным за период с 2011 года.\n",
    "\n",
    "4. Какие платформы лидируют по продажам:\n",
    "\n",
    "ТОП-5 : 'PS3', 'X360', 'PS4', '3DS', 'XOne'\n",
    "\n",
    "Наиболее прибыльные платформы Xone, PS4, 3DS\n",
    "\n",
    "5. Как влияют на продажи внутри одной популярной платформы отзывы пользователей и критиков:\n",
    "\n",
    "На примере платформы PS4 мы выяснили, что при высоких оценках user_score и critic_score больше продаж в total_sales, корреляция есть, но слабая\n",
    "\n",
    "6. Анализ данных на других платформах выявил, что наибольшая корреляция у платформы PS4, затем у XOne и 3DS. Значение корреляции <0.5 говорит о том, что связь слабая. Большее значение именно у critic_score, что означает большую зависимость от оценки критиков.\n",
    "\n",
    "7. Общее распределение игр по жанрам:\n",
    "\n",
    "ТОП-4 жанра по уровню общих продаж:\n",
    "\n",
    "- Action 1024.94\n",
    "- Sports 850.27\n",
    "- Shooter 609.66\n",
    "- Misc 580.74\n",
    "\n",
    "Самые низкие продажи:\n",
    "\n",
    "- Adventure 121.94\n",
    "- Puzzle 104.50\n",
    "- Strategy 48.60\n",
    "\n",
    "ТОП-5 жанра по медианному уровню общих продаж:\n",
    "\n",
    "- Shooter\n",
    "- Sports\n",
    "- Racing\n",
    "- Platform\n",
    "- Role-Playing\n",
    "\n",
    "Самые низкие продажи по медианному уровню:\n",
    "\n",
    "- Adventure\n",
    "- Strategy\n",
    "- Puzzle"
   ]
  },
  {
   "cell_type": "markdown",
   "metadata": {},
   "source": [
    "### Описание портрета пользователя каждого региона"
   ]
  },
  {
   "cell_type": "markdown",
   "metadata": {},
   "source": [
    "***Портрет пользователя каждого региона***\n",
    "\n",
    "Регионы: NA, EU, JP\n",
    "\n",
    "Для региона na_sales:\n",
    "- платформа(ТОП-5) 'X360', 'PS3', 'PS4', 'XOne', '3DS'\n",
    "- жанр(ТОП-5) 'Action', 'Shooter', 'Sports', 'Role-Playing', 'Misc'\n",
    "- рейтинг ESRB (ТОП-5) М(«Mature»), Е(«Everyone»), 0(«Без рейтинга»), Е10+(«Everyone 10 and older»), T(«Teen») \n",
    "\n",
    "Для региона eu_sales:\n",
    "- платформа(топ-5) 'PS3', 'PS4', 'X360', '3DS', 'PC'\n",
    "- жанр(ТОП-5) 'Action', 'Shooter', 'Sports', 'Role-Playing', 'Racing'\n",
    "- рейтинг ESRB (ТОП-5) М(«Mature»), Е(«Everyone»), 0(«Без рейтинга»), Е10+(«Everyone 10 and older»), T(«Teen») \n",
    "\n",
    "Для региона jp_sales:\n",
    "- платформа(топ-5) '3DS', 'PS3', 'PSP', 'PSV', 'PS4'\n",
    "- жанр(ТОП-5) 'Role-Playing', 'Action', 'Misc', 'Fighting', 'Platform'\n",
    "- рейтинг ESRB (ТОП-4) 0(«Без рейтинга»), Е(«Everyone»), Т(«Teen»), М(«Mature»), Е10+(«Everyone 10 and older») \n",
    "\n",
    "В целом США и Европа одинаковые, Япония отличаются."
   ]
  },
  {
   "cell_type": "markdown",
   "metadata": {},
   "source": [
    "### Оценка гипотез"
   ]
  },
  {
   "cell_type": "markdown",
   "metadata": {},
   "source": [
    "***Проверили гипотезы***\n",
    "\n",
    "Нулевые гипотезы:\n",
    "- Средние пользовательские рейтинги платформ Xbox One и PC\n",
    "одинаковые;\n",
    "- Средние пользовательские рейтинги жанров Action (англ. «действие», экшен-игры) и Sports (англ. «спортивные соревнования») не разные\n",
    "\n",
    "alpha = 0.05 (Уровень значимости - суммарная вероятность того, что измеренное эмпирически значение окажется далеко от среднего)\n",
    "\n",
    "Альтернативные гипотезы:\n",
    "- Средние пользовательские рейтинги платформ Xbox One и PC\n",
    " не одинаковые;\n",
    "- Средние пользовательские рейтинги жанров Action (англ. «действие», экшен-игры) и Sports (англ. «спортивные соревнования») разные\n",
    "\n",
    "\n",
    "Критерий для проверки гипотез - st.ttest_ind проверка гипотезы о равенстве среднего двух генеральных совокупностей по взятым из них выборкам\n",
    "\n",
    "Выводы по гипотезам. Высокая вероятность, что:\n",
    "\n",
    "1. Средние пользовательские рейтинги платформ Xbox One и PC одинаковые\n",
    "2. Средние пользовательские рейтинги жанров Action (англ. «действие», экшен-игры) и Sports (англ. «спортивные соревнования») разные"
   ]
  },
  {
   "cell_type": "markdown",
   "metadata": {},
   "source": [
    "<a id='result-1'></a>"
   ]
  },
  {
   "cell_type": "markdown",
   "metadata": {},
   "source": [
    "<a id='result-2'></a>"
   ]
  },
  {
   "cell_type": "markdown",
   "metadata": {},
   "source": [
    " <a id='benefit'></a>"
   ]
  },
  {
   "cell_type": "code",
   "execution_count": null,
   "metadata": {},
   "outputs": [],
   "source": []
  }
 ],
 "metadata": {
  "ExecuteTimeLog": [
   {
    "duration": 512,
    "start_time": "2022-11-14T21:14:22.290Z"
   },
   {
    "duration": 87,
    "start_time": "2022-11-14T21:14:28.526Z"
   },
   {
    "duration": 14,
    "start_time": "2022-11-14T21:14:42.370Z"
   },
   {
    "duration": 16,
    "start_time": "2022-11-14T21:14:57.662Z"
   },
   {
    "duration": 60,
    "start_time": "2022-11-14T21:15:11.713Z"
   },
   {
    "duration": 21,
    "start_time": "2022-11-14T21:15:12.799Z"
   },
   {
    "duration": 17,
    "start_time": "2022-11-14T21:15:15.490Z"
   },
   {
    "duration": 10,
    "start_time": "2022-11-14T21:25:35.934Z"
   },
   {
    "duration": 3,
    "start_time": "2022-11-14T21:26:55.968Z"
   },
   {
    "duration": 9,
    "start_time": "2022-11-14T21:31:48.545Z"
   },
   {
    "duration": 8,
    "start_time": "2022-11-14T21:33:03.311Z"
   },
   {
    "duration": 7,
    "start_time": "2022-11-14T21:33:35.185Z"
   },
   {
    "duration": 5,
    "start_time": "2022-11-14T21:33:44.307Z"
   },
   {
    "duration": 16,
    "start_time": "2022-11-14T21:33:54.688Z"
   },
   {
    "duration": 14,
    "start_time": "2022-11-14T21:34:50.821Z"
   },
   {
    "duration": 3,
    "start_time": "2022-11-14T21:35:08.343Z"
   },
   {
    "duration": 1147,
    "start_time": "2022-11-14T21:36:25.793Z"
   },
   {
    "duration": 1179,
    "start_time": "2022-11-14T21:37:29.859Z"
   },
   {
    "duration": 12,
    "start_time": "2022-11-14T21:38:03.057Z"
   },
   {
    "duration": 5,
    "start_time": "2022-11-14T21:38:11.740Z"
   },
   {
    "duration": 18,
    "start_time": "2022-11-14T21:38:24.167Z"
   },
   {
    "duration": 15,
    "start_time": "2022-11-14T21:39:35.908Z"
   },
   {
    "duration": 471,
    "start_time": "2022-11-14T21:40:09.883Z"
   },
   {
    "duration": 58,
    "start_time": "2022-11-14T21:41:01.619Z"
   },
   {
    "duration": 931,
    "start_time": "2022-11-14T21:41:17.913Z"
   },
   {
    "duration": 12,
    "start_time": "2022-11-14T21:41:25.136Z"
   },
   {
    "duration": 903,
    "start_time": "2022-11-14T21:41:38.297Z"
   },
   {
    "duration": 13,
    "start_time": "2022-11-14T21:42:08.937Z"
   },
   {
    "duration": 829,
    "start_time": "2022-11-14T21:42:13.059Z"
   },
   {
    "duration": 14,
    "start_time": "2022-11-14T21:42:22.250Z"
   },
   {
    "duration": 4,
    "start_time": "2022-11-14T21:42:34.537Z"
   },
   {
    "duration": 490,
    "start_time": "2022-11-15T08:23:15.634Z"
   },
   {
    "duration": 15,
    "start_time": "2022-11-15T08:23:16.126Z"
   },
   {
    "duration": 25,
    "start_time": "2022-11-15T08:23:16.142Z"
   },
   {
    "duration": 19,
    "start_time": "2022-11-15T08:23:16.169Z"
   },
   {
    "duration": 37,
    "start_time": "2022-11-15T08:23:16.189Z"
   },
   {
    "duration": 487,
    "start_time": "2022-11-15T08:23:16.227Z"
   },
   {
    "duration": 1228,
    "start_time": "2022-11-15T08:31:02.054Z"
   },
   {
    "duration": 1284,
    "start_time": "2022-11-15T08:31:29.072Z"
   },
   {
    "duration": 1153,
    "start_time": "2022-11-15T08:33:33.698Z"
   },
   {
    "duration": 1190,
    "start_time": "2022-11-15T08:33:49.958Z"
   },
   {
    "duration": 1136,
    "start_time": "2022-11-15T08:33:57.776Z"
   },
   {
    "duration": 442,
    "start_time": "2022-11-15T08:34:03.146Z"
   },
   {
    "duration": 15,
    "start_time": "2022-11-15T08:34:03.590Z"
   },
   {
    "duration": 35,
    "start_time": "2022-11-15T08:34:03.606Z"
   },
   {
    "duration": 14,
    "start_time": "2022-11-15T08:34:03.643Z"
   },
   {
    "duration": 323,
    "start_time": "2022-11-15T08:34:03.659Z"
   },
   {
    "duration": 1226,
    "start_time": "2022-11-15T08:34:03.983Z"
   },
   {
    "duration": 19,
    "start_time": "2022-11-15T08:34:30.904Z"
   },
   {
    "duration": 3,
    "start_time": "2022-11-15T08:34:48.460Z"
   },
   {
    "duration": 10,
    "start_time": "2022-11-15T08:34:50.837Z"
   },
   {
    "duration": 8,
    "start_time": "2022-11-15T08:35:13.671Z"
   },
   {
    "duration": 8,
    "start_time": "2022-11-15T08:35:21.364Z"
   },
   {
    "duration": 7,
    "start_time": "2022-11-15T08:35:23.669Z"
   },
   {
    "duration": 481,
    "start_time": "2022-11-15T08:35:31.146Z"
   },
   {
    "duration": 21,
    "start_time": "2022-11-15T08:35:31.629Z"
   },
   {
    "duration": 56,
    "start_time": "2022-11-15T08:35:31.652Z"
   },
   {
    "duration": 28,
    "start_time": "2022-11-15T08:35:31.710Z"
   },
   {
    "duration": 366,
    "start_time": "2022-11-15T08:35:31.740Z"
   },
   {
    "duration": 18,
    "start_time": "2022-11-15T08:35:32.107Z"
   },
   {
    "duration": 1551,
    "start_time": "2022-11-15T08:35:32.127Z"
   },
   {
    "duration": 14,
    "start_time": "2022-11-15T08:35:43.231Z"
   },
   {
    "duration": 3,
    "start_time": "2022-11-15T08:36:09.669Z"
   },
   {
    "duration": 9,
    "start_time": "2022-11-15T08:36:15.532Z"
   },
   {
    "duration": 429,
    "start_time": "2022-11-15T08:36:28.851Z"
   },
   {
    "duration": 16,
    "start_time": "2022-11-15T08:36:29.282Z"
   },
   {
    "duration": 24,
    "start_time": "2022-11-15T08:36:29.300Z"
   },
   {
    "duration": 4,
    "start_time": "2022-11-15T08:36:29.326Z"
   },
   {
    "duration": 76,
    "start_time": "2022-11-15T08:36:29.331Z"
   },
   {
    "duration": 0,
    "start_time": "2022-11-15T08:36:29.408Z"
   },
   {
    "duration": 0,
    "start_time": "2022-11-15T08:36:29.409Z"
   },
   {
    "duration": 415,
    "start_time": "2022-11-15T08:36:45.268Z"
   },
   {
    "duration": 15,
    "start_time": "2022-11-15T08:36:45.685Z"
   },
   {
    "duration": 22,
    "start_time": "2022-11-15T08:36:45.702Z"
   },
   {
    "duration": 5,
    "start_time": "2022-11-15T08:36:45.725Z"
   },
   {
    "duration": 314,
    "start_time": "2022-11-15T08:36:45.732Z"
   },
   {
    "duration": 14,
    "start_time": "2022-11-15T08:36:46.047Z"
   },
   {
    "duration": 1227,
    "start_time": "2022-11-15T08:36:46.063Z"
   },
   {
    "duration": 15,
    "start_time": "2022-11-15T08:37:30.546Z"
   },
   {
    "duration": 12,
    "start_time": "2022-11-15T08:37:33.651Z"
   },
   {
    "duration": 6,
    "start_time": "2022-11-15T08:37:45.870Z"
   },
   {
    "duration": 17,
    "start_time": "2022-11-15T08:37:48.113Z"
   },
   {
    "duration": 14,
    "start_time": "2022-11-15T08:37:50.477Z"
   },
   {
    "duration": 12,
    "start_time": "2022-11-15T08:37:53.201Z"
   },
   {
    "duration": 17,
    "start_time": "2022-11-15T08:38:04.026Z"
   },
   {
    "duration": 3,
    "start_time": "2022-11-15T09:21:09.155Z"
   },
   {
    "duration": 15,
    "start_time": "2022-11-15T09:21:13.346Z"
   },
   {
    "duration": 16,
    "start_time": "2022-11-15T09:21:22.698Z"
   },
   {
    "duration": 436,
    "start_time": "2022-11-15T09:21:29.650Z"
   },
   {
    "duration": 16,
    "start_time": "2022-11-15T09:21:30.088Z"
   },
   {
    "duration": 21,
    "start_time": "2022-11-15T09:21:30.105Z"
   },
   {
    "duration": 100,
    "start_time": "2022-11-15T09:21:30.129Z"
   },
   {
    "duration": 336,
    "start_time": "2022-11-15T09:21:30.231Z"
   },
   {
    "duration": 15,
    "start_time": "2022-11-15T09:21:30.568Z"
   },
   {
    "duration": 1523,
    "start_time": "2022-11-15T09:21:30.584Z"
   },
   {
    "duration": 16,
    "start_time": "2022-11-15T09:21:43.690Z"
   },
   {
    "duration": 13,
    "start_time": "2022-11-15T09:21:49.325Z"
   },
   {
    "duration": 408,
    "start_time": "2022-11-15T09:22:04.978Z"
   },
   {
    "duration": 15,
    "start_time": "2022-11-15T09:22:05.388Z"
   },
   {
    "duration": 83,
    "start_time": "2022-11-15T09:22:05.405Z"
   },
   {
    "duration": 50,
    "start_time": "2022-11-15T09:22:05.490Z"
   },
   {
    "duration": 324,
    "start_time": "2022-11-15T09:22:05.542Z"
   },
   {
    "duration": 18,
    "start_time": "2022-11-15T09:22:05.868Z"
   },
   {
    "duration": 114,
    "start_time": "2022-11-15T09:22:05.888Z"
   },
   {
    "duration": 4,
    "start_time": "2022-11-15T09:22:25.345Z"
   },
   {
    "duration": 16,
    "start_time": "2022-11-15T09:23:22.555Z"
   },
   {
    "duration": 13,
    "start_time": "2022-11-15T09:32:47.005Z"
   },
   {
    "duration": 5,
    "start_time": "2022-11-15T09:34:25.726Z"
   },
   {
    "duration": 6,
    "start_time": "2022-11-15T09:36:56.433Z"
   },
   {
    "duration": 5,
    "start_time": "2022-11-15T09:37:15.141Z"
   },
   {
    "duration": 5,
    "start_time": "2022-11-15T09:38:12.138Z"
   },
   {
    "duration": 49,
    "start_time": "2022-11-15T20:24:21.852Z"
   },
   {
    "duration": 459,
    "start_time": "2022-11-15T20:24:28.236Z"
   },
   {
    "duration": 14,
    "start_time": "2022-11-15T20:24:28.697Z"
   },
   {
    "duration": 30,
    "start_time": "2022-11-15T20:24:28.713Z"
   },
   {
    "duration": 16,
    "start_time": "2022-11-15T20:24:28.745Z"
   },
   {
    "duration": 34,
    "start_time": "2022-11-15T20:24:28.763Z"
   },
   {
    "duration": 424,
    "start_time": "2022-11-15T20:24:28.799Z"
   },
   {
    "duration": 5,
    "start_time": "2022-11-15T20:24:29.225Z"
   },
   {
    "duration": 11,
    "start_time": "2022-11-15T20:24:29.231Z"
   },
   {
    "duration": 17,
    "start_time": "2022-11-15T20:25:11.782Z"
   },
   {
    "duration": 15,
    "start_time": "2022-11-15T20:25:26.020Z"
   },
   {
    "duration": 4,
    "start_time": "2022-11-15T20:33:50.337Z"
   },
   {
    "duration": 14,
    "start_time": "2022-11-15T20:34:22.945Z"
   },
   {
    "duration": 434,
    "start_time": "2022-11-15T20:34:33.117Z"
   },
   {
    "duration": 15,
    "start_time": "2022-11-15T20:34:33.553Z"
   },
   {
    "duration": 20,
    "start_time": "2022-11-15T20:34:33.569Z"
   },
   {
    "duration": 3,
    "start_time": "2022-11-15T20:34:33.591Z"
   },
   {
    "duration": 31,
    "start_time": "2022-11-15T20:34:33.596Z"
   },
   {
    "duration": 267,
    "start_time": "2022-11-15T20:34:33.628Z"
   },
   {
    "duration": 73,
    "start_time": "2022-11-15T20:34:33.897Z"
   },
   {
    "duration": 0,
    "start_time": "2022-11-15T20:34:33.971Z"
   },
   {
    "duration": 0,
    "start_time": "2022-11-15T20:34:33.972Z"
   },
   {
    "duration": 5,
    "start_time": "2022-11-15T20:37:55.235Z"
   },
   {
    "duration": 13,
    "start_time": "2022-11-15T20:38:08.153Z"
   },
   {
    "duration": 19,
    "start_time": "2022-11-15T20:38:12.822Z"
   },
   {
    "duration": 3,
    "start_time": "2022-11-15T20:38:18.137Z"
   },
   {
    "duration": 14,
    "start_time": "2022-11-15T20:40:00.302Z"
   },
   {
    "duration": 6,
    "start_time": "2022-11-15T20:40:14.464Z"
   },
   {
    "duration": 13,
    "start_time": "2022-11-15T20:40:17.696Z"
   },
   {
    "duration": 8,
    "start_time": "2022-11-15T20:40:28.167Z"
   },
   {
    "duration": 17,
    "start_time": "2022-11-15T20:40:31.061Z"
   },
   {
    "duration": 23,
    "start_time": "2022-11-15T20:41:00.160Z"
   },
   {
    "duration": 13,
    "start_time": "2022-11-15T20:41:41.180Z"
   },
   {
    "duration": 12,
    "start_time": "2022-11-15T20:43:09.428Z"
   },
   {
    "duration": 6,
    "start_time": "2022-11-15T20:44:13.509Z"
   },
   {
    "duration": 13,
    "start_time": "2022-11-15T20:46:30.587Z"
   },
   {
    "duration": 13,
    "start_time": "2022-11-15T20:48:25.694Z"
   },
   {
    "duration": 13,
    "start_time": "2022-11-15T20:48:35.734Z"
   },
   {
    "duration": 7,
    "start_time": "2022-11-15T20:48:42.706Z"
   },
   {
    "duration": 11,
    "start_time": "2022-11-15T20:50:23.009Z"
   },
   {
    "duration": 6,
    "start_time": "2022-11-15T20:51:03.090Z"
   },
   {
    "duration": 12,
    "start_time": "2022-11-15T20:51:05.758Z"
   },
   {
    "duration": 3,
    "start_time": "2022-11-15T20:51:23.660Z"
   },
   {
    "duration": 13,
    "start_time": "2022-11-15T20:51:25.528Z"
   },
   {
    "duration": 5,
    "start_time": "2022-11-15T20:52:53.737Z"
   },
   {
    "duration": 15,
    "start_time": "2022-11-15T20:52:54.723Z"
   },
   {
    "duration": 6,
    "start_time": "2022-11-15T20:57:42.617Z"
   },
   {
    "duration": 11,
    "start_time": "2022-11-15T20:57:43.870Z"
   },
   {
    "duration": 12,
    "start_time": "2022-11-15T20:57:54.403Z"
   },
   {
    "duration": 14,
    "start_time": "2022-11-15T20:58:25.101Z"
   },
   {
    "duration": 563,
    "start_time": "2022-11-16T19:17:07.461Z"
   },
   {
    "duration": 14,
    "start_time": "2022-11-16T19:17:08.026Z"
   },
   {
    "duration": 26,
    "start_time": "2022-11-16T19:17:08.041Z"
   },
   {
    "duration": 9,
    "start_time": "2022-11-16T19:17:08.069Z"
   },
   {
    "duration": 439,
    "start_time": "2022-11-16T19:17:08.080Z"
   },
   {
    "duration": 16,
    "start_time": "2022-11-16T19:17:08.521Z"
   },
   {
    "duration": 5,
    "start_time": "2022-11-16T19:17:08.539Z"
   },
   {
    "duration": 13,
    "start_time": "2022-11-16T19:17:08.546Z"
   },
   {
    "duration": 7,
    "start_time": "2022-11-16T19:17:08.561Z"
   },
   {
    "duration": 15,
    "start_time": "2022-11-16T19:17:08.569Z"
   },
   {
    "duration": 34,
    "start_time": "2022-11-16T19:17:08.586Z"
   },
   {
    "duration": 13,
    "start_time": "2022-11-16T19:17:08.622Z"
   },
   {
    "duration": 10,
    "start_time": "2022-11-16T19:29:17.521Z"
   },
   {
    "duration": 9,
    "start_time": "2022-11-16T19:50:21.460Z"
   },
   {
    "duration": 10,
    "start_time": "2022-11-16T19:50:31.327Z"
   },
   {
    "duration": 13,
    "start_time": "2022-11-16T19:52:00.075Z"
   },
   {
    "duration": 22,
    "start_time": "2022-11-16T19:52:09.147Z"
   },
   {
    "duration": 10,
    "start_time": "2022-11-16T19:58:11.136Z"
   },
   {
    "duration": 8,
    "start_time": "2022-11-16T19:59:15.758Z"
   },
   {
    "duration": 5,
    "start_time": "2022-11-16T20:10:22.835Z"
   },
   {
    "duration": 14,
    "start_time": "2022-11-16T20:10:31.364Z"
   },
   {
    "duration": 8,
    "start_time": "2022-11-16T20:13:29.754Z"
   },
   {
    "duration": 77,
    "start_time": "2022-11-16T20:14:18.622Z"
   },
   {
    "duration": 14,
    "start_time": "2022-11-16T20:14:28.160Z"
   },
   {
    "duration": 7,
    "start_time": "2022-11-16T20:15:08.485Z"
   },
   {
    "duration": 9,
    "start_time": "2022-11-16T20:15:12.924Z"
   },
   {
    "duration": 38,
    "start_time": "2022-11-16T20:15:27.075Z"
   },
   {
    "duration": 7,
    "start_time": "2022-11-16T20:15:31.585Z"
   },
   {
    "duration": 49,
    "start_time": "2022-11-16T20:19:17.816Z"
   },
   {
    "duration": 40,
    "start_time": "2022-11-16T20:20:14.496Z"
   },
   {
    "duration": 9,
    "start_time": "2022-11-16T20:20:24.693Z"
   },
   {
    "duration": 12,
    "start_time": "2022-11-16T20:20:36.685Z"
   },
   {
    "duration": 11,
    "start_time": "2022-11-16T20:20:43.417Z"
   },
   {
    "duration": 7,
    "start_time": "2022-11-16T20:21:59.387Z"
   },
   {
    "duration": 6,
    "start_time": "2022-11-16T20:22:21.985Z"
   },
   {
    "duration": 8,
    "start_time": "2022-11-16T20:22:50.852Z"
   },
   {
    "duration": 7,
    "start_time": "2022-11-16T20:22:57.227Z"
   },
   {
    "duration": 2,
    "start_time": "2022-11-16T20:31:14.528Z"
   },
   {
    "duration": 13,
    "start_time": "2022-11-16T20:33:59.616Z"
   },
   {
    "duration": 10,
    "start_time": "2022-11-16T20:34:15.443Z"
   },
   {
    "duration": 11,
    "start_time": "2022-11-16T20:34:38.458Z"
   },
   {
    "duration": 5,
    "start_time": "2022-11-16T20:35:14.798Z"
   },
   {
    "duration": 12,
    "start_time": "2022-11-16T20:35:49.379Z"
   },
   {
    "duration": 15,
    "start_time": "2022-11-16T20:36:16.826Z"
   },
   {
    "duration": 25,
    "start_time": "2022-11-16T20:36:34.690Z"
   },
   {
    "duration": 8,
    "start_time": "2022-11-16T20:37:02.893Z"
   },
   {
    "duration": 150,
    "start_time": "2022-11-16T20:37:42.172Z"
   },
   {
    "duration": 131,
    "start_time": "2022-11-16T20:38:35.455Z"
   },
   {
    "duration": 13,
    "start_time": "2022-11-16T20:39:19.934Z"
   },
   {
    "duration": 14,
    "start_time": "2022-11-16T20:40:25.662Z"
   },
   {
    "duration": 13,
    "start_time": "2022-11-16T20:40:34.060Z"
   },
   {
    "duration": 13,
    "start_time": "2022-11-16T20:40:48.887Z"
   },
   {
    "duration": 12,
    "start_time": "2022-11-16T20:41:15.934Z"
   },
   {
    "duration": 13,
    "start_time": "2022-11-16T20:41:36.190Z"
   },
   {
    "duration": 2,
    "start_time": "2022-11-16T20:41:55.260Z"
   },
   {
    "duration": 13,
    "start_time": "2022-11-16T20:45:50.208Z"
   },
   {
    "duration": 10,
    "start_time": "2022-11-16T20:45:58.835Z"
   },
   {
    "duration": 8,
    "start_time": "2022-11-16T20:46:19.932Z"
   },
   {
    "duration": 44,
    "start_time": "2022-11-16T20:48:37.949Z"
   },
   {
    "duration": 46,
    "start_time": "2022-11-16T20:48:59.568Z"
   },
   {
    "duration": 14,
    "start_time": "2022-11-16T20:49:07.296Z"
   },
   {
    "duration": 25,
    "start_time": "2022-11-16T20:49:16.297Z"
   },
   {
    "duration": 26,
    "start_time": "2022-11-16T20:49:30.808Z"
   },
   {
    "duration": 24,
    "start_time": "2022-11-16T20:49:53.438Z"
   },
   {
    "duration": 45,
    "start_time": "2022-11-16T20:52:07.092Z"
   },
   {
    "duration": 45,
    "start_time": "2022-11-16T20:52:25.452Z"
   },
   {
    "duration": 26,
    "start_time": "2022-11-16T20:52:30.942Z"
   },
   {
    "duration": 43,
    "start_time": "2022-11-16T20:52:39.062Z"
   },
   {
    "duration": 25,
    "start_time": "2022-11-16T20:52:55.945Z"
   },
   {
    "duration": 40,
    "start_time": "2022-11-16T20:54:19.268Z"
   },
   {
    "duration": 9,
    "start_time": "2022-11-16T20:54:25.173Z"
   },
   {
    "duration": 27,
    "start_time": "2022-11-16T20:54:35.787Z"
   },
   {
    "duration": 26,
    "start_time": "2022-11-16T20:55:03.207Z"
   },
   {
    "duration": 26,
    "start_time": "2022-11-16T20:55:09.315Z"
   },
   {
    "duration": 25,
    "start_time": "2022-11-16T20:55:17.323Z"
   },
   {
    "duration": 23,
    "start_time": "2022-11-16T20:56:02.596Z"
   },
   {
    "duration": 9,
    "start_time": "2022-11-16T20:57:19.569Z"
   },
   {
    "duration": 142,
    "start_time": "2022-11-16T20:57:35.021Z"
   },
   {
    "duration": 22,
    "start_time": "2022-11-16T20:57:41.697Z"
   },
   {
    "duration": 4,
    "start_time": "2022-11-16T21:00:09.955Z"
   },
   {
    "duration": 20,
    "start_time": "2022-11-16T21:03:28.941Z"
   },
   {
    "duration": 23,
    "start_time": "2022-11-16T21:03:43.683Z"
   },
   {
    "duration": 22,
    "start_time": "2022-11-16T21:04:08.749Z"
   },
   {
    "duration": 198,
    "start_time": "2022-11-16T21:05:05.103Z"
   },
   {
    "duration": 148,
    "start_time": "2022-11-16T21:05:22.304Z"
   },
   {
    "duration": 25,
    "start_time": "2022-11-16T21:05:35.008Z"
   },
   {
    "duration": 21,
    "start_time": "2022-11-16T21:05:45.667Z"
   },
   {
    "duration": 23,
    "start_time": "2022-11-16T21:06:10.150Z"
   },
   {
    "duration": 24,
    "start_time": "2022-11-16T21:06:34.971Z"
   },
   {
    "duration": 21,
    "start_time": "2022-11-16T21:08:07.652Z"
   },
   {
    "duration": 19,
    "start_time": "2022-11-16T21:08:17.873Z"
   },
   {
    "duration": 2068,
    "start_time": "2022-11-16T21:08:25.576Z"
   },
   {
    "duration": 21,
    "start_time": "2022-11-16T21:11:04.456Z"
   },
   {
    "duration": 23,
    "start_time": "2022-11-16T21:12:19.427Z"
   },
   {
    "duration": 25,
    "start_time": "2022-11-16T21:12:30.745Z"
   },
   {
    "duration": 50,
    "start_time": "2022-11-16T21:12:37.036Z"
   },
   {
    "duration": 480,
    "start_time": "2022-11-16T21:12:56.572Z"
   },
   {
    "duration": 922,
    "start_time": "2022-11-16T21:14:06.674Z"
   },
   {
    "duration": 46,
    "start_time": "2022-11-16T21:14:17.944Z"
   },
   {
    "duration": 2354,
    "start_time": "2022-11-16T21:16:32.169Z"
   },
   {
    "duration": 2432,
    "start_time": "2022-11-16T21:16:58.202Z"
   },
   {
    "duration": 3061,
    "start_time": "2022-11-16T21:17:29.198Z"
   },
   {
    "duration": 48,
    "start_time": "2022-11-16T21:17:52.693Z"
   },
   {
    "duration": 463,
    "start_time": "2022-11-16T21:23:14.251Z"
   },
   {
    "duration": 713,
    "start_time": "2022-11-16T21:23:39.425Z"
   },
   {
    "duration": 468,
    "start_time": "2022-11-16T21:26:43.259Z"
   },
   {
    "duration": 46,
    "start_time": "2022-11-16T21:27:06.086Z"
   },
   {
    "duration": 25,
    "start_time": "2022-11-16T21:31:33.173Z"
   },
   {
    "duration": 23,
    "start_time": "2022-11-16T21:31:50.338Z"
   },
   {
    "duration": 7,
    "start_time": "2022-11-16T21:34:10.419Z"
   },
   {
    "duration": 7,
    "start_time": "2022-11-16T21:34:22.109Z"
   },
   {
    "duration": 12,
    "start_time": "2022-11-16T21:36:15.940Z"
   },
   {
    "duration": 3,
    "start_time": "2022-11-16T21:38:02.157Z"
   },
   {
    "duration": 114,
    "start_time": "2022-11-16T21:38:40.647Z"
   },
   {
    "duration": 9,
    "start_time": "2022-11-16T21:38:56.025Z"
   },
   {
    "duration": 11,
    "start_time": "2022-11-16T21:39:04.489Z"
   },
   {
    "duration": 6,
    "start_time": "2022-11-16T21:39:11.673Z"
   },
   {
    "duration": 7,
    "start_time": "2022-11-16T21:39:43.086Z"
   },
   {
    "duration": 10,
    "start_time": "2022-11-16T21:39:56.208Z"
   },
   {
    "duration": 10,
    "start_time": "2022-11-16T21:40:11.681Z"
   },
   {
    "duration": 13,
    "start_time": "2022-11-16T21:41:47.448Z"
   },
   {
    "duration": 531,
    "start_time": "2022-11-16T21:42:26.260Z"
   },
   {
    "duration": 675,
    "start_time": "2022-11-16T21:42:43.597Z"
   },
   {
    "duration": 602,
    "start_time": "2022-11-16T21:43:27.396Z"
   },
   {
    "duration": 305,
    "start_time": "2022-11-16T21:43:41.859Z"
   },
   {
    "duration": 8,
    "start_time": "2022-11-16T21:43:57.214Z"
   },
   {
    "duration": 24,
    "start_time": "2022-11-16T21:44:11.913Z"
   },
   {
    "duration": 38,
    "start_time": "2022-11-16T21:44:26.434Z"
   },
   {
    "duration": 298,
    "start_time": "2022-11-16T21:45:22.335Z"
   },
   {
    "duration": 7,
    "start_time": "2022-11-16T21:50:32.046Z"
   },
   {
    "duration": 8,
    "start_time": "2022-11-16T21:51:52.931Z"
   },
   {
    "duration": 8,
    "start_time": "2022-11-16T21:52:21.774Z"
   },
   {
    "duration": 7,
    "start_time": "2022-11-16T21:52:41.868Z"
   },
   {
    "duration": 11,
    "start_time": "2022-11-16T21:54:13.697Z"
   },
   {
    "duration": 11,
    "start_time": "2022-11-16T21:56:54.001Z"
   },
   {
    "duration": 6,
    "start_time": "2022-11-16T21:59:44.636Z"
   },
   {
    "duration": 17,
    "start_time": "2022-11-16T22:01:26.852Z"
   },
   {
    "duration": 18,
    "start_time": "2022-11-16T22:01:43.415Z"
   },
   {
    "duration": 7,
    "start_time": "2022-11-16T22:02:02.177Z"
   },
   {
    "duration": 6,
    "start_time": "2022-11-16T22:02:13.089Z"
   },
   {
    "duration": 216,
    "start_time": "2022-11-16T22:02:55.366Z"
   },
   {
    "duration": 203,
    "start_time": "2022-11-16T22:03:18.349Z"
   },
   {
    "duration": 203,
    "start_time": "2022-11-16T22:03:24.466Z"
   },
   {
    "duration": 209,
    "start_time": "2022-11-16T22:03:33.193Z"
   },
   {
    "duration": 204,
    "start_time": "2022-11-16T22:03:41.238Z"
   },
   {
    "duration": 211,
    "start_time": "2022-11-16T22:03:49.949Z"
   },
   {
    "duration": 206,
    "start_time": "2022-11-16T22:03:56.872Z"
   },
   {
    "duration": 206,
    "start_time": "2022-11-16T22:04:09.237Z"
   },
   {
    "duration": 202,
    "start_time": "2022-11-16T22:04:17.350Z"
   },
   {
    "duration": 161,
    "start_time": "2022-11-16T22:04:49.192Z"
   },
   {
    "duration": 165,
    "start_time": "2022-11-16T22:05:04.761Z"
   },
   {
    "duration": 172,
    "start_time": "2022-11-16T22:05:21.913Z"
   },
   {
    "duration": 122,
    "start_time": "2022-11-16T22:11:42.422Z"
   },
   {
    "duration": 169,
    "start_time": "2022-11-16T22:11:49.395Z"
   },
   {
    "duration": 604,
    "start_time": "2022-11-17T08:09:12.502Z"
   },
   {
    "duration": 23,
    "start_time": "2022-11-17T08:09:13.108Z"
   },
   {
    "duration": 19,
    "start_time": "2022-11-17T08:09:13.133Z"
   },
   {
    "duration": 2,
    "start_time": "2022-11-17T08:09:13.154Z"
   },
   {
    "duration": 449,
    "start_time": "2022-11-17T08:09:13.159Z"
   },
   {
    "duration": 10,
    "start_time": "2022-11-17T08:09:13.610Z"
   },
   {
    "duration": 28,
    "start_time": "2022-11-17T08:09:13.622Z"
   },
   {
    "duration": 5,
    "start_time": "2022-11-17T08:09:13.652Z"
   },
   {
    "duration": 22,
    "start_time": "2022-11-17T08:09:13.658Z"
   },
   {
    "duration": 6,
    "start_time": "2022-11-17T08:09:13.697Z"
   },
   {
    "duration": 16,
    "start_time": "2022-11-17T08:09:13.705Z"
   },
   {
    "duration": 10,
    "start_time": "2022-11-17T08:09:13.722Z"
   },
   {
    "duration": 10,
    "start_time": "2022-11-17T08:09:13.734Z"
   },
   {
    "duration": 13,
    "start_time": "2022-11-17T08:09:13.746Z"
   },
   {
    "duration": 38,
    "start_time": "2022-11-17T08:09:13.760Z"
   },
   {
    "duration": 7,
    "start_time": "2022-11-17T08:09:13.800Z"
   },
   {
    "duration": 16,
    "start_time": "2022-11-17T08:09:13.808Z"
   },
   {
    "duration": 11,
    "start_time": "2022-11-17T08:09:13.826Z"
   },
   {
    "duration": 19,
    "start_time": "2022-11-17T08:09:13.839Z"
   },
   {
    "duration": 10,
    "start_time": "2022-11-17T08:09:13.860Z"
   },
   {
    "duration": 32,
    "start_time": "2022-11-17T08:09:13.898Z"
   },
   {
    "duration": 44,
    "start_time": "2022-11-17T08:09:13.932Z"
   },
   {
    "duration": 852,
    "start_time": "2022-11-17T08:09:13.978Z"
   },
   {
    "duration": 8,
    "start_time": "2022-11-17T08:09:14.832Z"
   },
   {
    "duration": 16,
    "start_time": "2022-11-17T08:09:14.842Z"
   },
   {
    "duration": 243,
    "start_time": "2022-11-17T08:09:14.859Z"
   },
   {
    "duration": 14,
    "start_time": "2022-11-17T08:09:15.105Z"
   },
   {
    "duration": 123,
    "start_time": "2022-11-17T08:09:15.124Z"
   },
   {
    "duration": 0,
    "start_time": "2022-11-17T08:09:15.248Z"
   },
   {
    "duration": 0,
    "start_time": "2022-11-17T08:09:15.250Z"
   },
   {
    "duration": 161,
    "start_time": "2022-11-17T08:10:42.283Z"
   },
   {
    "duration": 160,
    "start_time": "2022-11-17T08:11:28.558Z"
   },
   {
    "duration": 19,
    "start_time": "2022-11-17T08:15:43.197Z"
   },
   {
    "duration": 531,
    "start_time": "2022-11-17T14:11:34.439Z"
   },
   {
    "duration": 25,
    "start_time": "2022-11-17T14:11:34.973Z"
   },
   {
    "duration": 26,
    "start_time": "2022-11-17T14:11:35.000Z"
   },
   {
    "duration": 11,
    "start_time": "2022-11-17T14:11:35.028Z"
   },
   {
    "duration": 558,
    "start_time": "2022-11-17T14:11:35.042Z"
   },
   {
    "duration": 11,
    "start_time": "2022-11-17T14:11:35.602Z"
   },
   {
    "duration": 30,
    "start_time": "2022-11-17T14:11:35.614Z"
   },
   {
    "duration": 7,
    "start_time": "2022-11-17T14:11:35.646Z"
   },
   {
    "duration": 31,
    "start_time": "2022-11-17T14:11:35.654Z"
   },
   {
    "duration": 11,
    "start_time": "2022-11-17T14:11:35.688Z"
   },
   {
    "duration": 304,
    "start_time": "2022-11-17T14:11:35.700Z"
   },
   {
    "duration": 10,
    "start_time": "2022-11-17T14:11:36.005Z"
   },
   {
    "duration": 11,
    "start_time": "2022-11-17T14:11:36.016Z"
   },
   {
    "duration": 16,
    "start_time": "2022-11-17T14:11:36.030Z"
   },
   {
    "duration": 15,
    "start_time": "2022-11-17T14:11:36.048Z"
   },
   {
    "duration": 16,
    "start_time": "2022-11-17T14:11:36.065Z"
   },
   {
    "duration": 29,
    "start_time": "2022-11-17T14:11:36.084Z"
   },
   {
    "duration": 19,
    "start_time": "2022-11-17T14:11:36.115Z"
   },
   {
    "duration": 18,
    "start_time": "2022-11-17T14:11:36.137Z"
   },
   {
    "duration": 11,
    "start_time": "2022-11-17T14:11:36.157Z"
   },
   {
    "duration": 41,
    "start_time": "2022-11-17T14:11:36.178Z"
   },
   {
    "duration": 67,
    "start_time": "2022-11-17T14:11:36.221Z"
   },
   {
    "duration": 940,
    "start_time": "2022-11-17T14:11:36.291Z"
   },
   {
    "duration": 7,
    "start_time": "2022-11-17T14:11:37.233Z"
   },
   {
    "duration": 11,
    "start_time": "2022-11-17T14:11:37.242Z"
   },
   {
    "duration": 233,
    "start_time": "2022-11-17T14:11:37.255Z"
   },
   {
    "duration": 18,
    "start_time": "2022-11-17T14:11:37.490Z"
   },
   {
    "duration": 2,
    "start_time": "2022-11-17T14:11:37.510Z"
   },
   {
    "duration": 5,
    "start_time": "2022-11-17T14:11:37.514Z"
   },
   {
    "duration": 9,
    "start_time": "2022-11-17T14:12:12.498Z"
   },
   {
    "duration": 164,
    "start_time": "2022-11-17T14:12:46.557Z"
   },
   {
    "duration": 128,
    "start_time": "2022-11-17T14:12:53.636Z"
   },
   {
    "duration": 134,
    "start_time": "2022-11-17T14:13:06.015Z"
   },
   {
    "duration": 173,
    "start_time": "2022-11-17T14:14:03.482Z"
   },
   {
    "duration": 2,
    "start_time": "2022-11-17T14:14:58.529Z"
   },
   {
    "duration": 467,
    "start_time": "2022-11-17T14:17:44.525Z"
   },
   {
    "duration": 17,
    "start_time": "2022-11-17T14:17:44.994Z"
   },
   {
    "duration": 63,
    "start_time": "2022-11-17T14:17:45.013Z"
   },
   {
    "duration": 17,
    "start_time": "2022-11-17T14:17:45.078Z"
   },
   {
    "duration": 327,
    "start_time": "2022-11-17T14:17:45.096Z"
   },
   {
    "duration": 10,
    "start_time": "2022-11-17T14:17:45.425Z"
   },
   {
    "duration": 20,
    "start_time": "2022-11-17T14:17:45.436Z"
   },
   {
    "duration": 23,
    "start_time": "2022-11-17T14:17:45.458Z"
   },
   {
    "duration": 16,
    "start_time": "2022-11-17T14:17:45.483Z"
   },
   {
    "duration": 7,
    "start_time": "2022-11-17T14:17:45.502Z"
   },
   {
    "duration": 13,
    "start_time": "2022-11-17T14:17:45.510Z"
   },
   {
    "duration": 8,
    "start_time": "2022-11-17T14:17:45.525Z"
   },
   {
    "duration": 45,
    "start_time": "2022-11-17T14:17:45.535Z"
   },
   {
    "duration": 19,
    "start_time": "2022-11-17T14:17:45.581Z"
   },
   {
    "duration": 16,
    "start_time": "2022-11-17T14:17:45.602Z"
   },
   {
    "duration": 9,
    "start_time": "2022-11-17T14:17:45.620Z"
   },
   {
    "duration": 20,
    "start_time": "2022-11-17T14:17:45.631Z"
   },
   {
    "duration": 7,
    "start_time": "2022-11-17T14:17:45.678Z"
   },
   {
    "duration": 16,
    "start_time": "2022-11-17T14:17:45.687Z"
   },
   {
    "duration": 8,
    "start_time": "2022-11-17T14:17:45.705Z"
   },
   {
    "duration": 28,
    "start_time": "2022-11-17T14:17:45.715Z"
   },
   {
    "duration": 42,
    "start_time": "2022-11-17T14:17:45.779Z"
   },
   {
    "duration": 944,
    "start_time": "2022-11-17T14:17:45.822Z"
   },
   {
    "duration": 16,
    "start_time": "2022-11-17T14:17:46.767Z"
   },
   {
    "duration": 9,
    "start_time": "2022-11-17T14:17:46.785Z"
   },
   {
    "duration": 212,
    "start_time": "2022-11-17T14:17:46.796Z"
   },
   {
    "duration": 19,
    "start_time": "2022-11-17T14:17:47.010Z"
   },
   {
    "duration": 4,
    "start_time": "2022-11-17T14:17:47.033Z"
   },
   {
    "duration": 14,
    "start_time": "2022-11-17T14:17:47.039Z"
   },
   {
    "duration": 197,
    "start_time": "2022-11-17T14:17:47.055Z"
   },
   {
    "duration": 2,
    "start_time": "2022-11-17T14:17:47.254Z"
   },
   {
    "duration": 766,
    "start_time": "2022-11-17T14:23:53.727Z"
   },
   {
    "duration": 17,
    "start_time": "2022-11-17T14:23:54.495Z"
   },
   {
    "duration": 19,
    "start_time": "2022-11-17T14:23:54.514Z"
   },
   {
    "duration": 4,
    "start_time": "2022-11-17T14:23:54.536Z"
   },
   {
    "duration": 79,
    "start_time": "2022-11-17T14:23:54.541Z"
   },
   {
    "duration": 10,
    "start_time": "2022-11-17T14:23:54.622Z"
   },
   {
    "duration": 21,
    "start_time": "2022-11-17T14:23:54.634Z"
   },
   {
    "duration": 21,
    "start_time": "2022-11-17T14:23:54.657Z"
   },
   {
    "duration": 15,
    "start_time": "2022-11-17T14:23:54.680Z"
   },
   {
    "duration": 7,
    "start_time": "2022-11-17T14:23:54.698Z"
   },
   {
    "duration": 13,
    "start_time": "2022-11-17T14:23:54.707Z"
   },
   {
    "duration": 8,
    "start_time": "2022-11-17T14:23:54.722Z"
   },
   {
    "duration": 9,
    "start_time": "2022-11-17T14:23:54.732Z"
   },
   {
    "duration": 56,
    "start_time": "2022-11-17T14:23:54.743Z"
   },
   {
    "duration": 16,
    "start_time": "2022-11-17T14:23:54.801Z"
   },
   {
    "duration": 7,
    "start_time": "2022-11-17T14:23:54.819Z"
   },
   {
    "duration": 16,
    "start_time": "2022-11-17T14:23:54.828Z"
   },
   {
    "duration": 35,
    "start_time": "2022-11-17T14:23:54.846Z"
   },
   {
    "duration": 14,
    "start_time": "2022-11-17T14:23:54.883Z"
   },
   {
    "duration": 11,
    "start_time": "2022-11-17T14:23:54.899Z"
   },
   {
    "duration": 27,
    "start_time": "2022-11-17T14:23:54.912Z"
   },
   {
    "duration": 75,
    "start_time": "2022-11-17T14:23:54.941Z"
   },
   {
    "duration": 927,
    "start_time": "2022-11-17T14:23:55.019Z"
   },
   {
    "duration": 8,
    "start_time": "2022-11-17T14:23:55.947Z"
   },
   {
    "duration": 23,
    "start_time": "2022-11-17T14:23:55.956Z"
   },
   {
    "duration": 213,
    "start_time": "2022-11-17T14:23:55.981Z"
   },
   {
    "duration": 18,
    "start_time": "2022-11-17T14:23:56.196Z"
   },
   {
    "duration": 3,
    "start_time": "2022-11-17T14:23:56.217Z"
   },
   {
    "duration": 12,
    "start_time": "2022-11-17T14:23:56.222Z"
   },
   {
    "duration": 192,
    "start_time": "2022-11-17T14:23:56.236Z"
   },
   {
    "duration": 2,
    "start_time": "2022-11-17T14:23:56.430Z"
   },
   {
    "duration": 1284,
    "start_time": "2022-11-17T14:24:26.785Z"
   },
   {
    "duration": 17,
    "start_time": "2022-11-17T14:24:28.072Z"
   },
   {
    "duration": 20,
    "start_time": "2022-11-17T14:24:28.091Z"
   },
   {
    "duration": 3,
    "start_time": "2022-11-17T14:24:28.114Z"
   },
   {
    "duration": 82,
    "start_time": "2022-11-17T14:24:28.119Z"
   },
   {
    "duration": 9,
    "start_time": "2022-11-17T14:24:28.203Z"
   },
   {
    "duration": 19,
    "start_time": "2022-11-17T14:24:28.215Z"
   },
   {
    "duration": 6,
    "start_time": "2022-11-17T14:24:28.236Z"
   },
   {
    "duration": 45,
    "start_time": "2022-11-17T14:24:28.244Z"
   },
   {
    "duration": 7,
    "start_time": "2022-11-17T14:24:28.292Z"
   },
   {
    "duration": 23,
    "start_time": "2022-11-17T14:24:28.301Z"
   },
   {
    "duration": 9,
    "start_time": "2022-11-17T14:24:28.326Z"
   },
   {
    "duration": 9,
    "start_time": "2022-11-17T14:24:28.336Z"
   },
   {
    "duration": 34,
    "start_time": "2022-11-17T14:24:28.347Z"
   },
   {
    "duration": 16,
    "start_time": "2022-11-17T14:24:28.383Z"
   },
   {
    "duration": 14,
    "start_time": "2022-11-17T14:24:28.401Z"
   },
   {
    "duration": 29,
    "start_time": "2022-11-17T14:24:28.418Z"
   },
   {
    "duration": 8,
    "start_time": "2022-11-17T14:24:28.449Z"
   },
   {
    "duration": 30,
    "start_time": "2022-11-17T14:24:28.459Z"
   },
   {
    "duration": 12,
    "start_time": "2022-11-17T14:24:28.491Z"
   },
   {
    "duration": 27,
    "start_time": "2022-11-17T14:24:28.505Z"
   },
   {
    "duration": 67,
    "start_time": "2022-11-17T14:24:28.533Z"
   },
   {
    "duration": 342,
    "start_time": "2022-11-17T14:24:28.602Z"
   },
   {
    "duration": 8,
    "start_time": "2022-11-17T14:24:28.945Z"
   },
   {
    "duration": 11,
    "start_time": "2022-11-17T14:24:28.954Z"
   },
   {
    "duration": 225,
    "start_time": "2022-11-17T14:24:28.977Z"
   },
   {
    "duration": 17,
    "start_time": "2022-11-17T14:24:29.204Z"
   },
   {
    "duration": 3,
    "start_time": "2022-11-17T14:24:29.224Z"
   },
   {
    "duration": 14,
    "start_time": "2022-11-17T14:24:29.228Z"
   },
   {
    "duration": 185,
    "start_time": "2022-11-17T14:24:29.243Z"
   },
   {
    "duration": 2,
    "start_time": "2022-11-17T14:24:29.430Z"
   },
   {
    "duration": 1255,
    "start_time": "2022-11-17T14:27:10.626Z"
   },
   {
    "duration": 24,
    "start_time": "2022-11-17T14:27:11.884Z"
   },
   {
    "duration": 22,
    "start_time": "2022-11-17T14:27:11.911Z"
   },
   {
    "duration": 5,
    "start_time": "2022-11-17T14:27:11.936Z"
   },
   {
    "duration": 74,
    "start_time": "2022-11-17T14:27:11.944Z"
   },
   {
    "duration": 11,
    "start_time": "2022-11-17T14:27:12.020Z"
   },
   {
    "duration": 29,
    "start_time": "2022-11-17T14:27:12.033Z"
   },
   {
    "duration": 7,
    "start_time": "2022-11-17T14:27:12.077Z"
   },
   {
    "duration": 20,
    "start_time": "2022-11-17T14:27:12.086Z"
   },
   {
    "duration": 7,
    "start_time": "2022-11-17T14:27:12.107Z"
   },
   {
    "duration": 20,
    "start_time": "2022-11-17T14:27:12.116Z"
   },
   {
    "duration": 9,
    "start_time": "2022-11-17T14:27:12.137Z"
   },
   {
    "duration": 34,
    "start_time": "2022-11-17T14:27:12.148Z"
   },
   {
    "duration": 14,
    "start_time": "2022-11-17T14:27:12.185Z"
   },
   {
    "duration": 16,
    "start_time": "2022-11-17T14:27:12.201Z"
   },
   {
    "duration": 11,
    "start_time": "2022-11-17T14:27:12.219Z"
   },
   {
    "duration": 21,
    "start_time": "2022-11-17T14:27:12.232Z"
   },
   {
    "duration": 8,
    "start_time": "2022-11-17T14:27:12.278Z"
   },
   {
    "duration": 23,
    "start_time": "2022-11-17T14:27:12.289Z"
   },
   {
    "duration": 11,
    "start_time": "2022-11-17T14:27:12.314Z"
   },
   {
    "duration": 55,
    "start_time": "2022-11-17T14:27:12.327Z"
   },
   {
    "duration": 45,
    "start_time": "2022-11-17T14:27:12.384Z"
   },
   {
    "duration": 412,
    "start_time": "2022-11-17T14:27:12.431Z"
   },
   {
    "duration": 9,
    "start_time": "2022-11-17T14:27:12.848Z"
   },
   {
    "duration": 55,
    "start_time": "2022-11-17T14:27:12.859Z"
   },
   {
    "duration": 232,
    "start_time": "2022-11-17T14:27:12.917Z"
   },
   {
    "duration": 18,
    "start_time": "2022-11-17T14:27:13.150Z"
   },
   {
    "duration": 8,
    "start_time": "2022-11-17T14:27:13.170Z"
   },
   {
    "duration": 7,
    "start_time": "2022-11-17T14:27:13.180Z"
   },
   {
    "duration": 11,
    "start_time": "2022-11-17T14:27:13.189Z"
   },
   {
    "duration": 13,
    "start_time": "2022-11-17T14:27:13.202Z"
   },
   {
    "duration": 177,
    "start_time": "2022-11-17T14:27:13.217Z"
   },
   {
    "duration": 2,
    "start_time": "2022-11-17T14:27:13.397Z"
   },
   {
    "duration": 202,
    "start_time": "2022-11-17T14:29:25.239Z"
   },
   {
    "duration": 194,
    "start_time": "2022-11-17T14:30:05.853Z"
   },
   {
    "duration": 148,
    "start_time": "2022-11-17T14:30:13.326Z"
   },
   {
    "duration": 126,
    "start_time": "2022-11-17T14:31:02.958Z"
   },
   {
    "duration": 74,
    "start_time": "2022-11-17T14:31:39.311Z"
   },
   {
    "duration": 75,
    "start_time": "2022-11-17T14:31:46.067Z"
   },
   {
    "duration": 77,
    "start_time": "2022-11-17T14:31:53.779Z"
   },
   {
    "duration": 11,
    "start_time": "2022-11-17T14:32:36.495Z"
   },
   {
    "duration": 8,
    "start_time": "2022-11-17T14:32:43.532Z"
   },
   {
    "duration": 92,
    "start_time": "2022-11-17T14:33:28.380Z"
   },
   {
    "duration": 279,
    "start_time": "2022-11-17T14:33:36.541Z"
   },
   {
    "duration": 376,
    "start_time": "2022-11-17T15:21:39.793Z"
   },
   {
    "duration": 30,
    "start_time": "2022-11-17T15:24:28.597Z"
   },
   {
    "duration": 584,
    "start_time": "2022-11-17T15:25:27.841Z"
   },
   {
    "duration": 1046,
    "start_time": "2022-11-17T15:26:07.058Z"
   },
   {
    "duration": 565,
    "start_time": "2022-11-17T15:26:17.551Z"
   },
   {
    "duration": 563,
    "start_time": "2022-11-17T15:28:25.417Z"
   },
   {
    "duration": 724,
    "start_time": "2022-11-17T15:29:30.366Z"
   },
   {
    "duration": 415,
    "start_time": "2022-11-17T15:29:40.039Z"
   },
   {
    "duration": 608,
    "start_time": "2022-11-17T15:29:45.389Z"
   },
   {
    "duration": 570,
    "start_time": "2022-11-17T15:29:56.041Z"
   },
   {
    "duration": 607,
    "start_time": "2022-11-17T15:34:02.674Z"
   },
   {
    "duration": 16,
    "start_time": "2022-11-17T15:51:26.638Z"
   },
   {
    "duration": 14,
    "start_time": "2022-11-17T15:52:25.733Z"
   },
   {
    "duration": 1765,
    "start_time": "2022-11-17T15:52:56.456Z"
   },
   {
    "duration": 1848,
    "start_time": "2022-11-17T15:59:18.961Z"
   },
   {
    "duration": 19,
    "start_time": "2022-11-17T16:06:26.148Z"
   },
   {
    "duration": 8,
    "start_time": "2022-11-17T20:46:07.935Z"
   },
   {
    "duration": 13,
    "start_time": "2022-11-17T20:47:18.802Z"
   },
   {
    "duration": 14,
    "start_time": "2022-11-17T20:47:54.705Z"
   },
   {
    "duration": 12,
    "start_time": "2022-11-17T20:48:00.884Z"
   },
   {
    "duration": 18,
    "start_time": "2022-11-17T20:49:15.601Z"
   },
   {
    "duration": 18,
    "start_time": "2022-11-17T20:51:03.760Z"
   },
   {
    "duration": 18,
    "start_time": "2022-11-17T20:51:10.052Z"
   },
   {
    "duration": 167,
    "start_time": "2022-11-17T20:51:59.410Z"
   },
   {
    "duration": 13,
    "start_time": "2022-11-17T20:52:14.736Z"
   },
   {
    "duration": 15,
    "start_time": "2022-11-17T20:52:27.198Z"
   },
   {
    "duration": 1263,
    "start_time": "2022-11-17T20:52:43.538Z"
   },
   {
    "duration": 16,
    "start_time": "2022-11-17T20:55:09.541Z"
   },
   {
    "duration": 13,
    "start_time": "2022-11-17T20:55:21.052Z"
   },
   {
    "duration": 8,
    "start_time": "2022-11-17T20:55:46.931Z"
   },
   {
    "duration": 8,
    "start_time": "2022-11-17T20:55:55.139Z"
   },
   {
    "duration": 7,
    "start_time": "2022-11-17T20:55:56.829Z"
   },
   {
    "duration": 8,
    "start_time": "2022-11-17T20:56:13.148Z"
   },
   {
    "duration": 8,
    "start_time": "2022-11-17T20:56:20.596Z"
   },
   {
    "duration": 3,
    "start_time": "2022-11-17T20:58:42.173Z"
   },
   {
    "duration": 7,
    "start_time": "2022-11-17T21:00:18.018Z"
   },
   {
    "duration": 8,
    "start_time": "2022-11-17T21:00:27.698Z"
   },
   {
    "duration": 6,
    "start_time": "2022-11-17T21:00:41.093Z"
   },
   {
    "duration": 7,
    "start_time": "2022-11-17T21:00:55.210Z"
   },
   {
    "duration": 1255,
    "start_time": "2022-11-17T21:01:27.520Z"
   },
   {
    "duration": 1047,
    "start_time": "2022-11-17T21:01:53.671Z"
   },
   {
    "duration": 3,
    "start_time": "2022-11-17T21:08:16.393Z"
   },
   {
    "duration": 536,
    "start_time": "2022-11-17T21:26:24.494Z"
   },
   {
    "duration": 16,
    "start_time": "2022-11-17T21:26:43.979Z"
   },
   {
    "duration": 15,
    "start_time": "2022-11-17T21:28:49.053Z"
   },
   {
    "duration": 18,
    "start_time": "2022-11-17T21:43:14.720Z"
   },
   {
    "duration": 12,
    "start_time": "2022-11-17T21:44:48.876Z"
   },
   {
    "duration": 75,
    "start_time": "2022-11-17T21:50:19.848Z"
   },
   {
    "duration": 18,
    "start_time": "2022-11-17T22:00:53.617Z"
   },
   {
    "duration": 21,
    "start_time": "2022-11-17T22:01:15.081Z"
   },
   {
    "duration": 18,
    "start_time": "2022-11-17T22:02:13.671Z"
   },
   {
    "duration": 12,
    "start_time": "2022-11-17T22:02:40.958Z"
   },
   {
    "duration": 13,
    "start_time": "2022-11-17T22:03:20.229Z"
   },
   {
    "duration": 15,
    "start_time": "2022-11-17T22:06:13.368Z"
   },
   {
    "duration": 11,
    "start_time": "2022-11-17T22:07:54.675Z"
   },
   {
    "duration": 14,
    "start_time": "2022-11-17T22:10:25.341Z"
   },
   {
    "duration": 11,
    "start_time": "2022-11-17T22:11:02.005Z"
   },
   {
    "duration": 11,
    "start_time": "2022-11-17T22:11:11.684Z"
   },
   {
    "duration": 14,
    "start_time": "2022-11-17T22:11:19.875Z"
   },
   {
    "duration": 13,
    "start_time": "2022-11-17T22:11:26.571Z"
   },
   {
    "duration": 1289,
    "start_time": "2022-11-17T22:18:38.672Z"
   },
   {
    "duration": 16,
    "start_time": "2022-11-17T22:18:39.963Z"
   },
   {
    "duration": 20,
    "start_time": "2022-11-17T22:18:39.982Z"
   },
   {
    "duration": 9,
    "start_time": "2022-11-17T22:18:40.004Z"
   },
   {
    "duration": 74,
    "start_time": "2022-11-17T22:18:40.014Z"
   },
   {
    "duration": 17,
    "start_time": "2022-11-17T22:18:40.090Z"
   },
   {
    "duration": 18,
    "start_time": "2022-11-17T22:18:40.109Z"
   },
   {
    "duration": 6,
    "start_time": "2022-11-17T22:18:40.129Z"
   },
   {
    "duration": 48,
    "start_time": "2022-11-17T22:18:40.137Z"
   },
   {
    "duration": 10,
    "start_time": "2022-11-17T22:18:40.190Z"
   },
   {
    "duration": 15,
    "start_time": "2022-11-17T22:18:40.202Z"
   },
   {
    "duration": 9,
    "start_time": "2022-11-17T22:18:40.219Z"
   },
   {
    "duration": 14,
    "start_time": "2022-11-17T22:18:40.229Z"
   },
   {
    "duration": 46,
    "start_time": "2022-11-17T22:18:40.244Z"
   },
   {
    "duration": 14,
    "start_time": "2022-11-17T22:18:40.292Z"
   },
   {
    "duration": 8,
    "start_time": "2022-11-17T22:18:40.308Z"
   },
   {
    "duration": 17,
    "start_time": "2022-11-17T22:18:40.318Z"
   },
   {
    "duration": 11,
    "start_time": "2022-11-17T22:18:40.336Z"
   },
   {
    "duration": 194,
    "start_time": "2022-11-17T22:18:40.348Z"
   },
   {
    "duration": 208,
    "start_time": "2022-11-17T22:18:40.543Z"
   },
   {
    "duration": 15,
    "start_time": "2022-11-17T22:18:40.752Z"
   },
   {
    "duration": 10,
    "start_time": "2022-11-17T22:18:40.779Z"
   },
   {
    "duration": 30,
    "start_time": "2022-11-17T22:18:40.792Z"
   },
   {
    "duration": 59,
    "start_time": "2022-11-17T22:18:40.824Z"
   },
   {
    "duration": 349,
    "start_time": "2022-11-17T22:18:40.885Z"
   },
   {
    "duration": 620,
    "start_time": "2022-11-17T22:18:41.236Z"
   },
   {
    "duration": 7,
    "start_time": "2022-11-17T22:18:41.858Z"
   },
   {
    "duration": 9,
    "start_time": "2022-11-17T22:18:41.878Z"
   },
   {
    "duration": 234,
    "start_time": "2022-11-17T22:18:41.889Z"
   },
   {
    "duration": 2044,
    "start_time": "2022-11-17T22:18:42.125Z"
   },
   {
    "duration": 3,
    "start_time": "2022-11-17T22:18:44.171Z"
   },
   {
    "duration": 35,
    "start_time": "2022-11-17T22:18:44.175Z"
   },
   {
    "duration": 9,
    "start_time": "2022-11-17T22:18:44.212Z"
   },
   {
    "duration": 190,
    "start_time": "2022-11-17T22:18:44.222Z"
   },
   {
    "duration": 2,
    "start_time": "2022-11-17T22:18:44.414Z"
   },
   {
    "duration": 9,
    "start_time": "2022-11-17T22:18:44.418Z"
   },
   {
    "duration": 8,
    "start_time": "2022-11-17T22:18:44.428Z"
   },
   {
    "duration": 6,
    "start_time": "2022-11-17T22:18:44.438Z"
   },
   {
    "duration": 34,
    "start_time": "2022-11-17T22:18:44.446Z"
   },
   {
    "duration": 1254,
    "start_time": "2022-11-17T22:18:44.482Z"
   },
   {
    "duration": 2,
    "start_time": "2022-11-17T22:18:45.738Z"
   },
   {
    "duration": 9,
    "start_time": "2022-11-17T22:18:45.742Z"
   },
   {
    "duration": 7,
    "start_time": "2022-11-17T22:18:45.753Z"
   },
   {
    "duration": 13,
    "start_time": "2022-11-17T22:18:45.778Z"
   },
   {
    "duration": 1092,
    "start_time": "2022-11-17T22:18:45.793Z"
   },
   {
    "duration": 583,
    "start_time": "2022-11-17T22:18:46.888Z"
   },
   {
    "duration": 19,
    "start_time": "2022-11-17T22:18:47.484Z"
   },
   {
    "duration": 16,
    "start_time": "2022-11-17T22:18:47.505Z"
   },
   {
    "duration": 10,
    "start_time": "2022-11-17T22:18:47.523Z"
   },
   {
    "duration": 1322,
    "start_time": "2022-11-18T11:19:10.647Z"
   },
   {
    "duration": 15,
    "start_time": "2022-11-18T11:19:11.971Z"
   },
   {
    "duration": 32,
    "start_time": "2022-11-18T11:19:11.988Z"
   },
   {
    "duration": 27,
    "start_time": "2022-11-18T11:19:12.022Z"
   },
   {
    "duration": 51,
    "start_time": "2022-11-18T11:19:12.050Z"
   },
   {
    "duration": 10,
    "start_time": "2022-11-18T11:19:12.103Z"
   },
   {
    "duration": 36,
    "start_time": "2022-11-18T11:19:12.114Z"
   },
   {
    "duration": 10,
    "start_time": "2022-11-18T11:19:12.152Z"
   },
   {
    "duration": 34,
    "start_time": "2022-11-18T11:19:12.164Z"
   },
   {
    "duration": 24,
    "start_time": "2022-11-18T11:19:12.201Z"
   },
   {
    "duration": 41,
    "start_time": "2022-11-18T11:19:12.227Z"
   },
   {
    "duration": 28,
    "start_time": "2022-11-18T11:19:12.270Z"
   },
   {
    "duration": 22,
    "start_time": "2022-11-18T11:19:12.299Z"
   },
   {
    "duration": 23,
    "start_time": "2022-11-18T11:19:12.323Z"
   },
   {
    "duration": 28,
    "start_time": "2022-11-18T11:19:12.347Z"
   },
   {
    "duration": 14,
    "start_time": "2022-11-18T11:19:12.377Z"
   },
   {
    "duration": 36,
    "start_time": "2022-11-18T11:19:12.393Z"
   },
   {
    "duration": 22,
    "start_time": "2022-11-18T11:19:12.430Z"
   },
   {
    "duration": 156,
    "start_time": "2022-11-18T11:19:12.453Z"
   },
   {
    "duration": 176,
    "start_time": "2022-11-18T11:19:12.611Z"
   },
   {
    "duration": 13,
    "start_time": "2022-11-18T11:19:12.789Z"
   },
   {
    "duration": 32,
    "start_time": "2022-11-18T11:19:12.803Z"
   },
   {
    "duration": 29,
    "start_time": "2022-11-18T11:19:12.836Z"
   },
   {
    "duration": 36,
    "start_time": "2022-11-18T11:19:12.867Z"
   },
   {
    "duration": 280,
    "start_time": "2022-11-18T11:19:12.905Z"
   },
   {
    "duration": 516,
    "start_time": "2022-11-18T11:19:13.187Z"
   },
   {
    "duration": 7,
    "start_time": "2022-11-18T11:19:13.706Z"
   },
   {
    "duration": 10,
    "start_time": "2022-11-18T11:19:13.718Z"
   },
   {
    "duration": 177,
    "start_time": "2022-11-18T11:19:13.730Z"
   },
   {
    "duration": 1736,
    "start_time": "2022-11-18T11:19:13.909Z"
   },
   {
    "duration": 3,
    "start_time": "2022-11-18T11:19:15.646Z"
   },
   {
    "duration": 19,
    "start_time": "2022-11-18T11:19:15.651Z"
   },
   {
    "duration": 6,
    "start_time": "2022-11-18T11:19:15.672Z"
   },
   {
    "duration": 149,
    "start_time": "2022-11-18T11:19:15.680Z"
   },
   {
    "duration": 3,
    "start_time": "2022-11-18T11:19:15.830Z"
   },
   {
    "duration": 32,
    "start_time": "2022-11-18T11:19:15.835Z"
   },
   {
    "duration": 14,
    "start_time": "2022-11-18T11:19:15.868Z"
   },
   {
    "duration": 7,
    "start_time": "2022-11-18T11:19:15.883Z"
   },
   {
    "duration": 7,
    "start_time": "2022-11-18T11:19:15.891Z"
   },
   {
    "duration": 1078,
    "start_time": "2022-11-18T11:19:15.900Z"
   },
   {
    "duration": 2,
    "start_time": "2022-11-18T11:19:16.980Z"
   },
   {
    "duration": 13,
    "start_time": "2022-11-18T11:19:16.984Z"
   },
   {
    "duration": 12,
    "start_time": "2022-11-18T11:19:16.998Z"
   },
   {
    "duration": 12,
    "start_time": "2022-11-18T11:19:17.012Z"
   },
   {
    "duration": 1054,
    "start_time": "2022-11-18T11:19:17.025Z"
   },
   {
    "duration": 497,
    "start_time": "2022-11-18T11:19:18.081Z"
   },
   {
    "duration": 11,
    "start_time": "2022-11-18T11:19:18.580Z"
   },
   {
    "duration": 14,
    "start_time": "2022-11-18T11:19:18.593Z"
   },
   {
    "duration": 9,
    "start_time": "2022-11-18T11:19:18.608Z"
   },
   {
    "duration": 1241,
    "start_time": "2022-11-21T20:34:44.916Z"
   },
   {
    "duration": 0,
    "start_time": "2022-11-21T20:34:46.160Z"
   },
   {
    "duration": 0,
    "start_time": "2022-11-21T20:34:46.161Z"
   },
   {
    "duration": 0,
    "start_time": "2022-11-21T20:34:46.162Z"
   },
   {
    "duration": 0,
    "start_time": "2022-11-21T20:34:46.163Z"
   },
   {
    "duration": 0,
    "start_time": "2022-11-21T20:34:46.164Z"
   },
   {
    "duration": 0,
    "start_time": "2022-11-21T20:34:46.165Z"
   },
   {
    "duration": 0,
    "start_time": "2022-11-21T20:34:46.166Z"
   },
   {
    "duration": 0,
    "start_time": "2022-11-21T20:34:46.167Z"
   },
   {
    "duration": 0,
    "start_time": "2022-11-21T20:34:46.168Z"
   },
   {
    "duration": 0,
    "start_time": "2022-11-21T20:34:46.169Z"
   },
   {
    "duration": 0,
    "start_time": "2022-11-21T20:34:46.169Z"
   },
   {
    "duration": 0,
    "start_time": "2022-11-21T20:34:46.171Z"
   },
   {
    "duration": 0,
    "start_time": "2022-11-21T20:34:46.172Z"
   },
   {
    "duration": 0,
    "start_time": "2022-11-21T20:34:46.173Z"
   },
   {
    "duration": 0,
    "start_time": "2022-11-21T20:34:46.174Z"
   },
   {
    "duration": 0,
    "start_time": "2022-11-21T20:34:46.175Z"
   },
   {
    "duration": 0,
    "start_time": "2022-11-21T20:34:46.176Z"
   },
   {
    "duration": 0,
    "start_time": "2022-11-21T20:34:46.177Z"
   },
   {
    "duration": 0,
    "start_time": "2022-11-21T20:34:46.178Z"
   },
   {
    "duration": 0,
    "start_time": "2022-11-21T20:34:46.180Z"
   },
   {
    "duration": 0,
    "start_time": "2022-11-21T20:34:46.181Z"
   },
   {
    "duration": 0,
    "start_time": "2022-11-21T20:34:46.181Z"
   },
   {
    "duration": 0,
    "start_time": "2022-11-21T20:34:46.182Z"
   },
   {
    "duration": 0,
    "start_time": "2022-11-21T20:34:46.183Z"
   },
   {
    "duration": 0,
    "start_time": "2022-11-21T20:34:46.216Z"
   },
   {
    "duration": 0,
    "start_time": "2022-11-21T20:34:46.217Z"
   },
   {
    "duration": 0,
    "start_time": "2022-11-21T20:34:46.218Z"
   },
   {
    "duration": 0,
    "start_time": "2022-11-21T20:34:46.219Z"
   },
   {
    "duration": 0,
    "start_time": "2022-11-21T20:34:46.220Z"
   },
   {
    "duration": 0,
    "start_time": "2022-11-21T20:34:46.221Z"
   },
   {
    "duration": 0,
    "start_time": "2022-11-21T20:34:46.222Z"
   },
   {
    "duration": 0,
    "start_time": "2022-11-21T20:34:46.223Z"
   },
   {
    "duration": 0,
    "start_time": "2022-11-21T20:34:46.224Z"
   },
   {
    "duration": 0,
    "start_time": "2022-11-21T20:34:46.225Z"
   },
   {
    "duration": 0,
    "start_time": "2022-11-21T20:34:46.226Z"
   },
   {
    "duration": 0,
    "start_time": "2022-11-21T20:34:46.227Z"
   },
   {
    "duration": 0,
    "start_time": "2022-11-21T20:34:46.228Z"
   },
   {
    "duration": 0,
    "start_time": "2022-11-21T20:34:46.229Z"
   },
   {
    "duration": 0,
    "start_time": "2022-11-21T20:34:46.231Z"
   },
   {
    "duration": 0,
    "start_time": "2022-11-21T20:34:46.232Z"
   },
   {
    "duration": 0,
    "start_time": "2022-11-21T20:34:46.233Z"
   },
   {
    "duration": 0,
    "start_time": "2022-11-21T20:34:46.233Z"
   },
   {
    "duration": 0,
    "start_time": "2022-11-21T20:34:46.235Z"
   },
   {
    "duration": 1,
    "start_time": "2022-11-21T20:34:46.235Z"
   },
   {
    "duration": 0,
    "start_time": "2022-11-21T20:34:46.237Z"
   },
   {
    "duration": 0,
    "start_time": "2022-11-21T20:34:46.238Z"
   },
   {
    "duration": 0,
    "start_time": "2022-11-21T20:34:46.240Z"
   },
   {
    "duration": 0,
    "start_time": "2022-11-21T20:34:46.242Z"
   },
   {
    "duration": 0,
    "start_time": "2022-11-21T20:34:46.243Z"
   },
   {
    "duration": 0,
    "start_time": "2022-11-21T20:34:46.244Z"
   },
   {
    "duration": 0,
    "start_time": "2022-11-21T20:34:46.246Z"
   },
   {
    "duration": 0,
    "start_time": "2022-11-21T20:34:46.246Z"
   },
   {
    "duration": 1196,
    "start_time": "2022-11-21T20:35:08.133Z"
   },
   {
    "duration": 0,
    "start_time": "2022-11-21T20:35:09.332Z"
   },
   {
    "duration": 0,
    "start_time": "2022-11-21T20:35:09.334Z"
   },
   {
    "duration": 0,
    "start_time": "2022-11-21T20:35:09.335Z"
   },
   {
    "duration": 0,
    "start_time": "2022-11-21T20:35:09.337Z"
   },
   {
    "duration": 0,
    "start_time": "2022-11-21T20:35:09.338Z"
   },
   {
    "duration": 0,
    "start_time": "2022-11-21T20:35:09.340Z"
   },
   {
    "duration": 0,
    "start_time": "2022-11-21T20:35:09.341Z"
   },
   {
    "duration": 0,
    "start_time": "2022-11-21T20:35:09.343Z"
   },
   {
    "duration": 0,
    "start_time": "2022-11-21T20:35:09.344Z"
   },
   {
    "duration": 0,
    "start_time": "2022-11-21T20:35:09.346Z"
   },
   {
    "duration": 0,
    "start_time": "2022-11-21T20:35:09.347Z"
   },
   {
    "duration": 0,
    "start_time": "2022-11-21T20:35:09.348Z"
   },
   {
    "duration": 0,
    "start_time": "2022-11-21T20:35:09.350Z"
   },
   {
    "duration": 0,
    "start_time": "2022-11-21T20:35:09.352Z"
   },
   {
    "duration": 0,
    "start_time": "2022-11-21T20:35:09.353Z"
   },
   {
    "duration": 0,
    "start_time": "2022-11-21T20:35:09.355Z"
   },
   {
    "duration": 0,
    "start_time": "2022-11-21T20:35:09.357Z"
   },
   {
    "duration": 0,
    "start_time": "2022-11-21T20:35:09.358Z"
   },
   {
    "duration": 0,
    "start_time": "2022-11-21T20:35:09.360Z"
   },
   {
    "duration": 0,
    "start_time": "2022-11-21T20:35:09.363Z"
   },
   {
    "duration": 0,
    "start_time": "2022-11-21T20:35:09.364Z"
   },
   {
    "duration": 0,
    "start_time": "2022-11-21T20:35:09.366Z"
   },
   {
    "duration": 0,
    "start_time": "2022-11-21T20:35:09.367Z"
   },
   {
    "duration": 0,
    "start_time": "2022-11-21T20:35:09.368Z"
   },
   {
    "duration": 0,
    "start_time": "2022-11-21T20:35:09.369Z"
   },
   {
    "duration": 0,
    "start_time": "2022-11-21T20:35:09.369Z"
   },
   {
    "duration": 0,
    "start_time": "2022-11-21T20:35:09.416Z"
   },
   {
    "duration": 0,
    "start_time": "2022-11-21T20:35:09.418Z"
   },
   {
    "duration": 0,
    "start_time": "2022-11-21T20:35:09.419Z"
   },
   {
    "duration": 0,
    "start_time": "2022-11-21T20:35:09.420Z"
   },
   {
    "duration": 0,
    "start_time": "2022-11-21T20:35:09.422Z"
   },
   {
    "duration": 0,
    "start_time": "2022-11-21T20:35:09.423Z"
   },
   {
    "duration": 0,
    "start_time": "2022-11-21T20:35:09.424Z"
   },
   {
    "duration": 0,
    "start_time": "2022-11-21T20:35:09.426Z"
   },
   {
    "duration": 1,
    "start_time": "2022-11-21T20:35:09.427Z"
   },
   {
    "duration": 0,
    "start_time": "2022-11-21T20:35:09.429Z"
   },
   {
    "duration": 0,
    "start_time": "2022-11-21T20:35:09.430Z"
   },
   {
    "duration": 0,
    "start_time": "2022-11-21T20:35:09.432Z"
   },
   {
    "duration": 0,
    "start_time": "2022-11-21T20:35:09.433Z"
   },
   {
    "duration": 0,
    "start_time": "2022-11-21T20:35:09.434Z"
   },
   {
    "duration": 0,
    "start_time": "2022-11-21T20:35:09.436Z"
   },
   {
    "duration": 0,
    "start_time": "2022-11-21T20:35:09.437Z"
   },
   {
    "duration": 0,
    "start_time": "2022-11-21T20:35:09.439Z"
   },
   {
    "duration": 0,
    "start_time": "2022-11-21T20:35:09.440Z"
   },
   {
    "duration": 0,
    "start_time": "2022-11-21T20:35:09.442Z"
   },
   {
    "duration": 0,
    "start_time": "2022-11-21T20:35:09.443Z"
   },
   {
    "duration": 0,
    "start_time": "2022-11-21T20:35:09.444Z"
   },
   {
    "duration": 0,
    "start_time": "2022-11-21T20:35:09.445Z"
   },
   {
    "duration": 0,
    "start_time": "2022-11-21T20:35:09.447Z"
   },
   {
    "duration": 0,
    "start_time": "2022-11-21T20:35:09.448Z"
   },
   {
    "duration": 0,
    "start_time": "2022-11-21T20:35:09.449Z"
   },
   {
    "duration": 0,
    "start_time": "2022-11-21T20:35:09.450Z"
   },
   {
    "duration": 48,
    "start_time": "2022-11-21T20:36:27.635Z"
   },
   {
    "duration": 113,
    "start_time": "2022-11-21T20:37:02.059Z"
   },
   {
    "duration": 1177,
    "start_time": "2022-11-21T20:37:09.986Z"
   },
   {
    "duration": 16,
    "start_time": "2022-11-21T20:37:11.165Z"
   },
   {
    "duration": 20,
    "start_time": "2022-11-21T20:37:11.182Z"
   },
   {
    "duration": 3,
    "start_time": "2022-11-21T20:37:11.203Z"
   },
   {
    "duration": 56,
    "start_time": "2022-11-21T20:37:11.208Z"
   },
   {
    "duration": 9,
    "start_time": "2022-11-21T20:37:11.266Z"
   },
   {
    "duration": 17,
    "start_time": "2022-11-21T20:37:11.276Z"
   },
   {
    "duration": 113,
    "start_time": "2022-11-21T20:37:11.315Z"
   },
   {
    "duration": 0,
    "start_time": "2022-11-21T20:37:11.431Z"
   },
   {
    "duration": 0,
    "start_time": "2022-11-21T20:37:11.437Z"
   },
   {
    "duration": 0,
    "start_time": "2022-11-21T20:37:11.438Z"
   },
   {
    "duration": 0,
    "start_time": "2022-11-21T20:37:11.439Z"
   },
   {
    "duration": 0,
    "start_time": "2022-11-21T20:37:11.440Z"
   },
   {
    "duration": 0,
    "start_time": "2022-11-21T20:37:11.440Z"
   },
   {
    "duration": 0,
    "start_time": "2022-11-21T20:37:11.442Z"
   },
   {
    "duration": 0,
    "start_time": "2022-11-21T20:37:11.443Z"
   },
   {
    "duration": 0,
    "start_time": "2022-11-21T20:37:11.444Z"
   },
   {
    "duration": 0,
    "start_time": "2022-11-21T20:37:11.445Z"
   },
   {
    "duration": 0,
    "start_time": "2022-11-21T20:37:11.446Z"
   },
   {
    "duration": 0,
    "start_time": "2022-11-21T20:37:11.447Z"
   },
   {
    "duration": 0,
    "start_time": "2022-11-21T20:37:11.448Z"
   },
   {
    "duration": 0,
    "start_time": "2022-11-21T20:37:11.449Z"
   },
   {
    "duration": 0,
    "start_time": "2022-11-21T20:37:11.450Z"
   },
   {
    "duration": 0,
    "start_time": "2022-11-21T20:37:11.451Z"
   },
   {
    "duration": 0,
    "start_time": "2022-11-21T20:37:11.452Z"
   },
   {
    "duration": 0,
    "start_time": "2022-11-21T20:37:11.453Z"
   },
   {
    "duration": 0,
    "start_time": "2022-11-21T20:37:11.454Z"
   },
   {
    "duration": 0,
    "start_time": "2022-11-21T20:37:11.456Z"
   },
   {
    "duration": 0,
    "start_time": "2022-11-21T20:37:11.456Z"
   },
   {
    "duration": 0,
    "start_time": "2022-11-21T20:37:11.457Z"
   },
   {
    "duration": 0,
    "start_time": "2022-11-21T20:37:11.458Z"
   },
   {
    "duration": 0,
    "start_time": "2022-11-21T20:37:11.459Z"
   },
   {
    "duration": 0,
    "start_time": "2022-11-21T20:37:11.460Z"
   },
   {
    "duration": 0,
    "start_time": "2022-11-21T20:37:11.461Z"
   },
   {
    "duration": 0,
    "start_time": "2022-11-21T20:37:11.462Z"
   },
   {
    "duration": 0,
    "start_time": "2022-11-21T20:37:11.463Z"
   },
   {
    "duration": 0,
    "start_time": "2022-11-21T20:37:11.464Z"
   },
   {
    "duration": 0,
    "start_time": "2022-11-21T20:37:11.517Z"
   },
   {
    "duration": 0,
    "start_time": "2022-11-21T20:37:11.518Z"
   },
   {
    "duration": 0,
    "start_time": "2022-11-21T20:37:11.530Z"
   },
   {
    "duration": 0,
    "start_time": "2022-11-21T20:37:11.531Z"
   },
   {
    "duration": 0,
    "start_time": "2022-11-21T20:37:11.533Z"
   },
   {
    "duration": 0,
    "start_time": "2022-11-21T20:37:11.534Z"
   },
   {
    "duration": 0,
    "start_time": "2022-11-21T20:37:11.535Z"
   },
   {
    "duration": 0,
    "start_time": "2022-11-21T20:37:11.537Z"
   },
   {
    "duration": 0,
    "start_time": "2022-11-21T20:37:11.538Z"
   },
   {
    "duration": 0,
    "start_time": "2022-11-21T20:37:11.540Z"
   },
   {
    "duration": 0,
    "start_time": "2022-11-21T20:37:11.542Z"
   },
   {
    "duration": 0,
    "start_time": "2022-11-21T20:37:11.543Z"
   },
   {
    "duration": 0,
    "start_time": "2022-11-21T20:37:11.545Z"
   },
   {
    "duration": 0,
    "start_time": "2022-11-21T20:37:11.546Z"
   },
   {
    "duration": 0,
    "start_time": "2022-11-21T20:37:11.548Z"
   },
   {
    "duration": 0,
    "start_time": "2022-11-21T20:37:11.549Z"
   },
   {
    "duration": 5,
    "start_time": "2022-11-21T20:40:37.534Z"
   },
   {
    "duration": 1195,
    "start_time": "2022-11-21T20:40:44.329Z"
   },
   {
    "duration": 18,
    "start_time": "2022-11-21T20:40:45.527Z"
   },
   {
    "duration": 21,
    "start_time": "2022-11-21T20:40:45.547Z"
   },
   {
    "duration": 3,
    "start_time": "2022-11-21T20:40:45.570Z"
   },
   {
    "duration": 77,
    "start_time": "2022-11-21T20:40:45.575Z"
   },
   {
    "duration": 11,
    "start_time": "2022-11-21T20:40:45.654Z"
   },
   {
    "duration": 40,
    "start_time": "2022-11-21T20:40:45.667Z"
   },
   {
    "duration": 17,
    "start_time": "2022-11-21T20:40:45.709Z"
   },
   {
    "duration": 20,
    "start_time": "2022-11-21T20:40:45.728Z"
   },
   {
    "duration": 7,
    "start_time": "2022-11-21T20:40:45.749Z"
   },
   {
    "duration": 15,
    "start_time": "2022-11-21T20:40:45.757Z"
   },
   {
    "duration": 9,
    "start_time": "2022-11-21T20:40:45.774Z"
   },
   {
    "duration": 36,
    "start_time": "2022-11-21T20:40:45.785Z"
   },
   {
    "duration": 19,
    "start_time": "2022-11-21T20:40:45.829Z"
   },
   {
    "duration": 14,
    "start_time": "2022-11-21T20:40:45.850Z"
   },
   {
    "duration": 20,
    "start_time": "2022-11-21T20:40:45.865Z"
   },
   {
    "duration": 11,
    "start_time": "2022-11-21T20:40:45.887Z"
   },
   {
    "duration": 38,
    "start_time": "2022-11-21T20:40:45.899Z"
   },
   {
    "duration": 14,
    "start_time": "2022-11-21T20:40:45.938Z"
   },
   {
    "duration": 178,
    "start_time": "2022-11-21T20:40:45.953Z"
   },
   {
    "duration": 206,
    "start_time": "2022-11-21T20:40:46.133Z"
   },
   {
    "duration": 14,
    "start_time": "2022-11-21T20:40:46.340Z"
   },
   {
    "duration": 8,
    "start_time": "2022-11-21T20:40:46.356Z"
   },
   {
    "duration": 63,
    "start_time": "2022-11-21T20:40:46.365Z"
   },
   {
    "duration": 38,
    "start_time": "2022-11-21T20:40:46.429Z"
   },
   {
    "duration": 311,
    "start_time": "2022-11-21T20:40:46.469Z"
   },
   {
    "duration": 612,
    "start_time": "2022-11-21T20:40:46.781Z"
   },
   {
    "duration": 188,
    "start_time": "2022-11-21T20:40:47.395Z"
   },
   {
    "duration": 8,
    "start_time": "2022-11-21T20:40:47.584Z"
   },
   {
    "duration": 32,
    "start_time": "2022-11-21T20:40:47.593Z"
   },
   {
    "duration": 10,
    "start_time": "2022-11-21T20:40:47.626Z"
   },
   {
    "duration": 221,
    "start_time": "2022-11-21T20:40:47.638Z"
   },
   {
    "duration": 1488,
    "start_time": "2022-11-21T20:40:47.861Z"
   },
   {
    "duration": 5,
    "start_time": "2022-11-21T20:40:49.350Z"
   },
   {
    "duration": 21,
    "start_time": "2022-11-21T20:40:49.357Z"
   },
   {
    "duration": 6,
    "start_time": "2022-11-21T20:40:49.380Z"
   },
   {
    "duration": 184,
    "start_time": "2022-11-21T20:40:49.387Z"
   },
   {
    "duration": 2,
    "start_time": "2022-11-21T20:40:49.573Z"
   },
   {
    "duration": 296,
    "start_time": "2022-11-21T20:40:49.576Z"
   },
   {
    "duration": 6,
    "start_time": "2022-11-21T20:40:49.873Z"
   },
   {
    "duration": 6,
    "start_time": "2022-11-21T20:40:49.883Z"
   },
   {
    "duration": 31,
    "start_time": "2022-11-21T20:40:49.891Z"
   },
   {
    "duration": 8,
    "start_time": "2022-11-21T20:40:49.928Z"
   },
   {
    "duration": 996,
    "start_time": "2022-11-21T20:40:49.938Z"
   },
   {
    "duration": 2,
    "start_time": "2022-11-21T20:40:50.936Z"
   },
   {
    "duration": 12,
    "start_time": "2022-11-21T20:40:50.940Z"
   },
   {
    "duration": 12,
    "start_time": "2022-11-21T20:40:50.954Z"
   },
   {
    "duration": 9,
    "start_time": "2022-11-21T20:40:50.967Z"
   },
   {
    "duration": 1015,
    "start_time": "2022-11-21T20:40:50.978Z"
   },
   {
    "duration": 574,
    "start_time": "2022-11-21T20:40:51.995Z"
   },
   {
    "duration": 13,
    "start_time": "2022-11-21T20:40:52.571Z"
   },
   {
    "duration": 42,
    "start_time": "2022-11-21T20:40:52.586Z"
   },
   {
    "duration": 13,
    "start_time": "2022-11-21T20:40:52.629Z"
   },
   {
    "duration": 45,
    "start_time": "2022-11-21T21:13:39.025Z"
   },
   {
    "duration": 48,
    "start_time": "2022-11-21T21:24:06.250Z"
   },
   {
    "duration": 3,
    "start_time": "2022-11-21T21:31:43.383Z"
   },
   {
    "duration": 55,
    "start_time": "2022-11-21T21:37:20.550Z"
   },
   {
    "duration": 1086,
    "start_time": "2022-11-21T21:37:37.919Z"
   },
   {
    "duration": 53,
    "start_time": "2022-11-21T21:37:39.007Z"
   },
   {
    "duration": 16,
    "start_time": "2022-11-21T21:37:39.061Z"
   },
   {
    "duration": 22,
    "start_time": "2022-11-21T21:37:39.080Z"
   },
   {
    "duration": 7,
    "start_time": "2022-11-21T21:37:39.103Z"
   },
   {
    "duration": 60,
    "start_time": "2022-11-21T21:37:39.112Z"
   },
   {
    "duration": 9,
    "start_time": "2022-11-21T21:37:39.174Z"
   },
   {
    "duration": 41,
    "start_time": "2022-11-21T21:37:39.185Z"
   },
   {
    "duration": 7,
    "start_time": "2022-11-21T21:37:39.228Z"
   },
   {
    "duration": 14,
    "start_time": "2022-11-21T21:37:39.238Z"
   },
   {
    "duration": 7,
    "start_time": "2022-11-21T21:37:39.253Z"
   },
   {
    "duration": 12,
    "start_time": "2022-11-21T21:37:39.262Z"
   },
   {
    "duration": 46,
    "start_time": "2022-11-21T21:37:39.276Z"
   },
   {
    "duration": 10,
    "start_time": "2022-11-21T21:37:39.324Z"
   },
   {
    "duration": 20,
    "start_time": "2022-11-21T21:37:39.336Z"
   },
   {
    "duration": 17,
    "start_time": "2022-11-21T21:37:39.359Z"
   },
   {
    "duration": 46,
    "start_time": "2022-11-21T21:37:39.378Z"
   },
   {
    "duration": 13,
    "start_time": "2022-11-21T21:37:39.426Z"
   },
   {
    "duration": 21,
    "start_time": "2022-11-21T21:37:39.441Z"
   },
   {
    "duration": 13,
    "start_time": "2022-11-21T21:37:39.464Z"
   },
   {
    "duration": 157,
    "start_time": "2022-11-21T21:37:39.478Z"
   },
   {
    "duration": 198,
    "start_time": "2022-11-21T21:37:39.637Z"
   },
   {
    "duration": 12,
    "start_time": "2022-11-21T21:37:39.837Z"
   },
   {
    "duration": 8,
    "start_time": "2022-11-21T21:37:39.851Z"
   },
   {
    "duration": 25,
    "start_time": "2022-11-21T21:37:39.861Z"
   },
   {
    "duration": 39,
    "start_time": "2022-11-21T21:37:39.916Z"
   },
   {
    "duration": 319,
    "start_time": "2022-11-21T21:37:39.956Z"
   },
   {
    "duration": 516,
    "start_time": "2022-11-21T21:37:40.278Z"
   },
   {
    "duration": 163,
    "start_time": "2022-11-21T21:37:40.796Z"
   },
   {
    "duration": 7,
    "start_time": "2022-11-21T21:37:40.961Z"
   },
   {
    "duration": 8,
    "start_time": "2022-11-21T21:37:40.970Z"
   },
   {
    "duration": 6,
    "start_time": "2022-11-21T21:37:40.979Z"
   },
   {
    "duration": 241,
    "start_time": "2022-11-21T21:37:40.987Z"
   },
   {
    "duration": 1468,
    "start_time": "2022-11-21T21:37:41.230Z"
   },
   {
    "duration": 2,
    "start_time": "2022-11-21T21:37:42.700Z"
   },
   {
    "duration": 21,
    "start_time": "2022-11-21T21:37:42.704Z"
   },
   {
    "duration": 7,
    "start_time": "2022-11-21T21:37:42.727Z"
   },
   {
    "duration": 187,
    "start_time": "2022-11-21T21:37:42.735Z"
   },
   {
    "duration": 3,
    "start_time": "2022-11-21T21:37:42.924Z"
   },
   {
    "duration": 299,
    "start_time": "2022-11-21T21:37:42.928Z"
   },
   {
    "duration": 6,
    "start_time": "2022-11-21T21:37:43.229Z"
   },
   {
    "duration": 9,
    "start_time": "2022-11-21T21:37:43.237Z"
   },
   {
    "duration": 10,
    "start_time": "2022-11-21T21:37:43.248Z"
   },
   {
    "duration": 9,
    "start_time": "2022-11-21T21:37:43.259Z"
   },
   {
    "duration": 1028,
    "start_time": "2022-11-21T21:37:43.270Z"
   },
   {
    "duration": 3,
    "start_time": "2022-11-21T21:37:44.300Z"
   },
   {
    "duration": 35,
    "start_time": "2022-11-21T21:37:44.316Z"
   },
   {
    "duration": 10,
    "start_time": "2022-11-21T21:37:44.352Z"
   },
   {
    "duration": 8,
    "start_time": "2022-11-21T21:37:44.364Z"
   },
   {
    "duration": 976,
    "start_time": "2022-11-21T21:37:44.374Z"
   },
   {
    "duration": 514,
    "start_time": "2022-11-21T21:37:45.352Z"
   },
   {
    "duration": 13,
    "start_time": "2022-11-21T21:37:45.867Z"
   },
   {
    "duration": 22,
    "start_time": "2022-11-21T21:37:45.882Z"
   },
   {
    "duration": 10,
    "start_time": "2022-11-21T21:37:45.916Z"
   },
   {
    "duration": 53,
    "start_time": "2022-11-21T22:02:26.985Z"
   },
   {
    "duration": 66,
    "start_time": "2022-11-21T22:05:35.547Z"
   },
   {
    "duration": 89,
    "start_time": "2022-11-21T22:05:46.644Z"
   },
   {
    "duration": 2,
    "start_time": "2022-11-21T22:07:33.343Z"
   },
   {
    "duration": 53,
    "start_time": "2022-11-21T22:08:12.800Z"
   },
   {
    "duration": 73,
    "start_time": "2022-11-21T22:11:01.904Z"
   },
   {
    "duration": 14,
    "start_time": "2022-11-21T22:19:54.000Z"
   },
   {
    "duration": 1127,
    "start_time": "2022-11-21T22:23:33.688Z"
   },
   {
    "duration": 55,
    "start_time": "2022-11-21T22:23:34.817Z"
   },
   {
    "duration": 14,
    "start_time": "2022-11-21T22:23:34.874Z"
   },
   {
    "duration": 26,
    "start_time": "2022-11-21T22:23:34.891Z"
   },
   {
    "duration": 3,
    "start_time": "2022-11-21T22:23:34.919Z"
   },
   {
    "duration": 57,
    "start_time": "2022-11-21T22:23:34.923Z"
   },
   {
    "duration": 9,
    "start_time": "2022-11-21T22:23:34.982Z"
   },
   {
    "duration": 34,
    "start_time": "2022-11-21T22:23:34.992Z"
   },
   {
    "duration": 6,
    "start_time": "2022-11-21T22:23:35.027Z"
   },
   {
    "duration": 38,
    "start_time": "2022-11-21T22:23:35.035Z"
   },
   {
    "duration": 7,
    "start_time": "2022-11-21T22:23:35.074Z"
   },
   {
    "duration": 14,
    "start_time": "2022-11-21T22:23:35.083Z"
   },
   {
    "duration": 18,
    "start_time": "2022-11-21T22:23:35.099Z"
   },
   {
    "duration": 11,
    "start_time": "2022-11-21T22:23:35.119Z"
   },
   {
    "duration": 15,
    "start_time": "2022-11-21T22:23:35.132Z"
   },
   {
    "duration": 26,
    "start_time": "2022-11-21T22:23:35.148Z"
   },
   {
    "duration": 8,
    "start_time": "2022-11-21T22:23:35.176Z"
   },
   {
    "duration": 7,
    "start_time": "2022-11-21T22:23:35.185Z"
   },
   {
    "duration": 34,
    "start_time": "2022-11-21T22:23:35.194Z"
   },
   {
    "duration": 12,
    "start_time": "2022-11-21T22:23:35.230Z"
   },
   {
    "duration": 173,
    "start_time": "2022-11-21T22:23:35.244Z"
   },
   {
    "duration": 204,
    "start_time": "2022-11-21T22:23:35.419Z"
   },
   {
    "duration": 14,
    "start_time": "2022-11-21T22:23:35.624Z"
   },
   {
    "duration": 8,
    "start_time": "2022-11-21T22:23:35.640Z"
   },
   {
    "duration": 25,
    "start_time": "2022-11-21T22:23:35.650Z"
   },
   {
    "duration": 72,
    "start_time": "2022-11-21T22:23:35.677Z"
   },
   {
    "duration": 316,
    "start_time": "2022-11-21T22:23:35.750Z"
   },
   {
    "duration": 576,
    "start_time": "2022-11-21T22:23:36.070Z"
   },
   {
    "duration": 157,
    "start_time": "2022-11-21T22:23:36.648Z"
   },
   {
    "duration": 6,
    "start_time": "2022-11-21T22:23:36.815Z"
   },
   {
    "duration": 17,
    "start_time": "2022-11-21T22:23:36.822Z"
   },
   {
    "duration": 10,
    "start_time": "2022-11-21T22:23:36.841Z"
   },
   {
    "duration": 211,
    "start_time": "2022-11-21T22:23:36.852Z"
   },
   {
    "duration": 1408,
    "start_time": "2022-11-21T22:23:37.065Z"
   },
   {
    "duration": 3,
    "start_time": "2022-11-21T22:23:38.474Z"
   },
   {
    "duration": 24,
    "start_time": "2022-11-21T22:23:38.478Z"
   },
   {
    "duration": 17,
    "start_time": "2022-11-21T22:23:38.503Z"
   },
   {
    "duration": 173,
    "start_time": "2022-11-21T22:23:38.522Z"
   },
   {
    "duration": 3,
    "start_time": "2022-11-21T22:23:38.697Z"
   },
   {
    "duration": 279,
    "start_time": "2022-11-21T22:23:38.701Z"
   },
   {
    "duration": 6,
    "start_time": "2022-11-21T22:23:38.982Z"
   },
   {
    "duration": 30,
    "start_time": "2022-11-21T22:23:38.989Z"
   },
   {
    "duration": 29,
    "start_time": "2022-11-21T22:23:39.021Z"
   },
   {
    "duration": 37,
    "start_time": "2022-11-21T22:23:39.052Z"
   },
   {
    "duration": 966,
    "start_time": "2022-11-21T22:23:39.091Z"
   },
   {
    "duration": 3,
    "start_time": "2022-11-21T22:23:40.060Z"
   },
   {
    "duration": 28,
    "start_time": "2022-11-21T22:23:40.065Z"
   },
   {
    "duration": 34,
    "start_time": "2022-11-21T22:23:40.095Z"
   },
   {
    "duration": 42,
    "start_time": "2022-11-21T22:23:40.131Z"
   },
   {
    "duration": 959,
    "start_time": "2022-11-21T22:23:40.175Z"
   },
   {
    "duration": 505,
    "start_time": "2022-11-21T22:23:41.136Z"
   },
   {
    "duration": 13,
    "start_time": "2022-11-21T22:23:41.643Z"
   },
   {
    "duration": 16,
    "start_time": "2022-11-21T22:23:41.658Z"
   },
   {
    "duration": 11,
    "start_time": "2022-11-21T22:23:41.676Z"
   },
   {
    "duration": 1173,
    "start_time": "2022-11-21T22:30:50.481Z"
   },
   {
    "duration": 56,
    "start_time": "2022-11-21T22:30:51.656Z"
   },
   {
    "duration": 15,
    "start_time": "2022-11-21T22:30:51.714Z"
   },
   {
    "duration": 30,
    "start_time": "2022-11-21T22:30:51.732Z"
   },
   {
    "duration": 5,
    "start_time": "2022-11-21T22:30:51.765Z"
   },
   {
    "duration": 108,
    "start_time": "2022-11-21T22:30:51.773Z"
   },
   {
    "duration": 9,
    "start_time": "2022-11-21T22:30:51.883Z"
   },
   {
    "duration": 37,
    "start_time": "2022-11-21T22:30:51.894Z"
   },
   {
    "duration": 6,
    "start_time": "2022-11-21T22:30:51.933Z"
   },
   {
    "duration": 16,
    "start_time": "2022-11-21T22:30:51.942Z"
   },
   {
    "duration": 8,
    "start_time": "2022-11-21T22:30:51.960Z"
   },
   {
    "duration": 54,
    "start_time": "2022-11-21T22:30:51.971Z"
   },
   {
    "duration": 12,
    "start_time": "2022-11-21T22:30:52.028Z"
   },
   {
    "duration": 13,
    "start_time": "2022-11-21T22:30:52.042Z"
   },
   {
    "duration": 25,
    "start_time": "2022-11-21T22:30:52.057Z"
   },
   {
    "duration": 47,
    "start_time": "2022-11-21T22:30:52.084Z"
   },
   {
    "duration": 15,
    "start_time": "2022-11-21T22:30:52.133Z"
   },
   {
    "duration": 15,
    "start_time": "2022-11-21T22:30:52.150Z"
   },
   {
    "duration": 23,
    "start_time": "2022-11-21T22:30:52.168Z"
   },
   {
    "duration": 11,
    "start_time": "2022-11-21T22:30:52.193Z"
   },
   {
    "duration": 179,
    "start_time": "2022-11-21T22:30:52.206Z"
   },
   {
    "duration": 221,
    "start_time": "2022-11-21T22:30:52.387Z"
   },
   {
    "duration": 16,
    "start_time": "2022-11-21T22:30:52.610Z"
   },
   {
    "duration": 9,
    "start_time": "2022-11-21T22:30:52.628Z"
   },
   {
    "duration": 25,
    "start_time": "2022-11-21T22:30:52.638Z"
   },
   {
    "duration": 72,
    "start_time": "2022-11-21T22:30:52.664Z"
   },
   {
    "duration": 313,
    "start_time": "2022-11-21T22:30:52.738Z"
   },
   {
    "duration": 550,
    "start_time": "2022-11-21T22:30:53.055Z"
   },
   {
    "duration": 161,
    "start_time": "2022-11-21T22:30:53.608Z"
   },
   {
    "duration": 8,
    "start_time": "2022-11-21T22:30:53.771Z"
   },
   {
    "duration": 7,
    "start_time": "2022-11-21T22:30:53.781Z"
   },
   {
    "duration": 30,
    "start_time": "2022-11-21T22:30:53.790Z"
   },
   {
    "duration": 234,
    "start_time": "2022-11-21T22:30:53.822Z"
   },
   {
    "duration": 1438,
    "start_time": "2022-11-21T22:30:54.058Z"
   },
   {
    "duration": 3,
    "start_time": "2022-11-21T22:30:55.497Z"
   },
   {
    "duration": 25,
    "start_time": "2022-11-21T22:30:55.501Z"
   },
   {
    "duration": 7,
    "start_time": "2022-11-21T22:30:55.527Z"
   },
   {
    "duration": 189,
    "start_time": "2022-11-21T22:30:55.535Z"
   },
   {
    "duration": 2,
    "start_time": "2022-11-21T22:30:55.725Z"
   },
   {
    "duration": 299,
    "start_time": "2022-11-21T22:30:55.729Z"
   },
   {
    "duration": 6,
    "start_time": "2022-11-21T22:30:56.030Z"
   },
   {
    "duration": 10,
    "start_time": "2022-11-21T22:30:56.038Z"
   },
   {
    "duration": 7,
    "start_time": "2022-11-21T22:30:56.050Z"
   },
   {
    "duration": 24,
    "start_time": "2022-11-21T22:30:56.059Z"
   },
   {
    "duration": 1051,
    "start_time": "2022-11-21T22:30:56.084Z"
   },
   {
    "duration": 3,
    "start_time": "2022-11-21T22:30:57.137Z"
   },
   {
    "duration": 21,
    "start_time": "2022-11-21T22:30:57.142Z"
   },
   {
    "duration": 7,
    "start_time": "2022-11-21T22:30:57.165Z"
   },
   {
    "duration": 10,
    "start_time": "2022-11-21T22:30:57.173Z"
   },
   {
    "duration": 1036,
    "start_time": "2022-11-21T22:30:57.185Z"
   },
   {
    "duration": 526,
    "start_time": "2022-11-21T22:30:58.223Z"
   },
   {
    "duration": 14,
    "start_time": "2022-11-21T22:30:58.751Z"
   },
   {
    "duration": 17,
    "start_time": "2022-11-21T22:30:58.767Z"
   },
   {
    "duration": 38,
    "start_time": "2022-11-21T22:30:58.786Z"
   },
   {
    "duration": 1174,
    "start_time": "2022-11-22T12:50:32.164Z"
   },
   {
    "duration": 53,
    "start_time": "2022-11-22T12:50:33.340Z"
   },
   {
    "duration": 14,
    "start_time": "2022-11-22T12:50:33.395Z"
   },
   {
    "duration": 17,
    "start_time": "2022-11-22T12:50:33.411Z"
   },
   {
    "duration": 3,
    "start_time": "2022-11-22T12:50:33.429Z"
   },
   {
    "duration": 63,
    "start_time": "2022-11-22T12:50:33.434Z"
   },
   {
    "duration": 9,
    "start_time": "2022-11-22T12:50:33.498Z"
   },
   {
    "duration": 17,
    "start_time": "2022-11-22T12:50:33.509Z"
   },
   {
    "duration": 25,
    "start_time": "2022-11-22T12:50:33.527Z"
   },
   {
    "duration": 13,
    "start_time": "2022-11-22T12:50:33.555Z"
   },
   {
    "duration": 7,
    "start_time": "2022-11-22T12:50:33.570Z"
   },
   {
    "duration": 13,
    "start_time": "2022-11-22T12:50:33.578Z"
   },
   {
    "duration": 8,
    "start_time": "2022-11-22T12:50:33.593Z"
   },
   {
    "duration": 10,
    "start_time": "2022-11-22T12:50:33.603Z"
   },
   {
    "duration": 37,
    "start_time": "2022-11-22T12:50:33.615Z"
   },
   {
    "duration": 17,
    "start_time": "2022-11-22T12:50:33.654Z"
   },
   {
    "duration": 14,
    "start_time": "2022-11-22T12:50:33.672Z"
   },
   {
    "duration": 9,
    "start_time": "2022-11-22T12:50:33.687Z"
   },
   {
    "duration": 16,
    "start_time": "2022-11-22T12:50:33.697Z"
   },
   {
    "duration": 10,
    "start_time": "2022-11-22T12:50:33.715Z"
   },
   {
    "duration": 180,
    "start_time": "2022-11-22T12:50:33.727Z"
   },
   {
    "duration": 213,
    "start_time": "2022-11-22T12:50:33.909Z"
   },
   {
    "duration": 15,
    "start_time": "2022-11-22T12:50:34.124Z"
   },
   {
    "duration": 9,
    "start_time": "2022-11-22T12:50:34.151Z"
   },
   {
    "duration": 37,
    "start_time": "2022-11-22T12:50:34.162Z"
   },
   {
    "duration": 52,
    "start_time": "2022-11-22T12:50:34.201Z"
   },
   {
    "duration": 323,
    "start_time": "2022-11-22T12:50:34.255Z"
   },
   {
    "duration": 550,
    "start_time": "2022-11-22T12:50:34.581Z"
   },
   {
    "duration": 155,
    "start_time": "2022-11-22T12:50:35.132Z"
   },
   {
    "duration": 7,
    "start_time": "2022-11-22T12:50:35.288Z"
   },
   {
    "duration": 9,
    "start_time": "2022-11-22T12:50:35.296Z"
   },
   {
    "duration": 8,
    "start_time": "2022-11-22T12:50:35.307Z"
   },
   {
    "duration": 228,
    "start_time": "2022-11-22T12:50:35.317Z"
   },
   {
    "duration": 1396,
    "start_time": "2022-11-22T12:50:35.551Z"
   },
   {
    "duration": 3,
    "start_time": "2022-11-22T12:50:36.949Z"
   },
   {
    "duration": 18,
    "start_time": "2022-11-22T12:50:36.953Z"
   },
   {
    "duration": 7,
    "start_time": "2022-11-22T12:50:36.973Z"
   },
   {
    "duration": 173,
    "start_time": "2022-11-22T12:50:36.982Z"
   },
   {
    "duration": 2,
    "start_time": "2022-11-22T12:50:37.156Z"
   },
   {
    "duration": 266,
    "start_time": "2022-11-22T12:50:37.160Z"
   },
   {
    "duration": 6,
    "start_time": "2022-11-22T12:50:37.428Z"
   },
   {
    "duration": 18,
    "start_time": "2022-11-22T12:50:37.435Z"
   },
   {
    "duration": 6,
    "start_time": "2022-11-22T12:50:37.455Z"
   },
   {
    "duration": 7,
    "start_time": "2022-11-22T12:50:37.463Z"
   },
   {
    "duration": 978,
    "start_time": "2022-11-22T12:50:37.472Z"
   },
   {
    "duration": 2,
    "start_time": "2022-11-22T12:50:38.453Z"
   },
   {
    "duration": 10,
    "start_time": "2022-11-22T12:50:38.457Z"
   },
   {
    "duration": 8,
    "start_time": "2022-11-22T12:50:38.468Z"
   },
   {
    "duration": 7,
    "start_time": "2022-11-22T12:50:38.478Z"
   },
   {
    "duration": 1113,
    "start_time": "2022-11-22T12:50:38.487Z"
   },
   {
    "duration": 542,
    "start_time": "2022-11-22T12:50:39.601Z"
   },
   {
    "duration": 15,
    "start_time": "2022-11-22T12:50:40.145Z"
   },
   {
    "duration": 16,
    "start_time": "2022-11-22T12:50:40.162Z"
   },
   {
    "duration": 10,
    "start_time": "2022-11-22T12:50:40.180Z"
   },
   {
    "duration": 100,
    "start_time": "2022-11-22T13:47:31.183Z"
   },
   {
    "duration": 2,
    "start_time": "2022-11-22T13:47:47.033Z"
   },
   {
    "duration": 1362,
    "start_time": "2022-11-22T13:49:21.554Z"
   },
   {
    "duration": 192,
    "start_time": "2022-11-22T13:49:22.919Z"
   },
   {
    "duration": 17,
    "start_time": "2022-11-22T13:49:23.113Z"
   },
   {
    "duration": 44,
    "start_time": "2022-11-22T13:49:23.132Z"
   },
   {
    "duration": 19,
    "start_time": "2022-11-22T13:49:23.177Z"
   },
   {
    "duration": 82,
    "start_time": "2022-11-22T13:49:23.198Z"
   },
   {
    "duration": 9,
    "start_time": "2022-11-22T13:49:23.282Z"
   },
   {
    "duration": 41,
    "start_time": "2022-11-22T13:49:23.292Z"
   },
   {
    "duration": 23,
    "start_time": "2022-11-22T13:49:23.335Z"
   },
   {
    "duration": 38,
    "start_time": "2022-11-22T13:49:23.361Z"
   },
   {
    "duration": 22,
    "start_time": "2022-11-22T13:49:23.400Z"
   },
   {
    "duration": 22,
    "start_time": "2022-11-22T13:49:23.424Z"
   },
   {
    "duration": 19,
    "start_time": "2022-11-22T13:49:23.447Z"
   },
   {
    "duration": 18,
    "start_time": "2022-11-22T13:49:23.468Z"
   },
   {
    "duration": 28,
    "start_time": "2022-11-22T13:49:23.488Z"
   },
   {
    "duration": 55,
    "start_time": "2022-11-22T13:49:23.518Z"
   },
   {
    "duration": 20,
    "start_time": "2022-11-22T13:49:23.574Z"
   },
   {
    "duration": 33,
    "start_time": "2022-11-22T13:49:23.596Z"
   },
   {
    "duration": 37,
    "start_time": "2022-11-22T13:49:23.630Z"
   },
   {
    "duration": 36,
    "start_time": "2022-11-22T13:49:23.669Z"
   },
   {
    "duration": 190,
    "start_time": "2022-11-22T13:49:23.707Z"
   },
   {
    "duration": 264,
    "start_time": "2022-11-22T13:49:23.900Z"
   },
   {
    "duration": 16,
    "start_time": "2022-11-22T13:49:24.166Z"
   },
   {
    "duration": 25,
    "start_time": "2022-11-22T13:49:24.184Z"
   },
   {
    "duration": 33,
    "start_time": "2022-11-22T13:49:24.210Z"
   },
   {
    "duration": 49,
    "start_time": "2022-11-22T13:49:24.244Z"
   },
   {
    "duration": 349,
    "start_time": "2022-11-22T13:49:24.295Z"
   },
   {
    "duration": 159,
    "start_time": "2022-11-22T13:49:24.648Z"
   },
   {
    "duration": 2,
    "start_time": "2022-11-22T13:49:24.809Z"
   },
   {
    "duration": 22,
    "start_time": "2022-11-22T13:49:24.813Z"
   },
   {
    "duration": 25,
    "start_time": "2022-11-22T13:49:24.837Z"
   },
   {
    "duration": 161,
    "start_time": "2022-11-22T13:49:24.863Z"
   },
   {
    "duration": 1751,
    "start_time": "2022-11-22T13:49:25.025Z"
   },
   {
    "duration": 3,
    "start_time": "2022-11-22T13:49:26.778Z"
   },
   {
    "duration": 62,
    "start_time": "2022-11-22T13:49:26.783Z"
   },
   {
    "duration": 22,
    "start_time": "2022-11-22T13:49:26.847Z"
   },
   {
    "duration": 185,
    "start_time": "2022-11-22T13:49:26.871Z"
   },
   {
    "duration": 2,
    "start_time": "2022-11-22T13:49:27.058Z"
   },
   {
    "duration": 285,
    "start_time": "2022-11-22T13:49:27.062Z"
   },
   {
    "duration": 7,
    "start_time": "2022-11-22T13:49:27.349Z"
   },
   {
    "duration": 42,
    "start_time": "2022-11-22T13:49:27.358Z"
   },
   {
    "duration": 41,
    "start_time": "2022-11-22T13:49:27.403Z"
   },
   {
    "duration": 29,
    "start_time": "2022-11-22T13:49:27.446Z"
   },
   {
    "duration": 1001,
    "start_time": "2022-11-22T13:49:27.477Z"
   },
   {
    "duration": 3,
    "start_time": "2022-11-22T13:49:28.480Z"
   },
   {
    "duration": 27,
    "start_time": "2022-11-22T13:49:28.485Z"
   },
   {
    "duration": 13,
    "start_time": "2022-11-22T13:49:28.514Z"
   },
   {
    "duration": 40,
    "start_time": "2022-11-22T13:49:28.529Z"
   },
   {
    "duration": 1137,
    "start_time": "2022-11-22T13:49:28.571Z"
   },
   {
    "duration": 537,
    "start_time": "2022-11-22T13:49:29.710Z"
   },
   {
    "duration": 14,
    "start_time": "2022-11-22T13:49:30.250Z"
   },
   {
    "duration": 58,
    "start_time": "2022-11-22T13:49:30.266Z"
   },
   {
    "duration": 31,
    "start_time": "2022-11-22T13:49:30.327Z"
   },
   {
    "duration": 999,
    "start_time": "2022-11-22T13:49:51.767Z"
   },
   {
    "duration": 869,
    "start_time": "2022-11-22T13:50:22.645Z"
   },
   {
    "duration": 923,
    "start_time": "2022-11-22T13:50:29.748Z"
   },
   {
    "duration": 633,
    "start_time": "2022-11-22T13:50:46.528Z"
   },
   {
    "duration": 1038,
    "start_time": "2022-11-22T13:50:57.030Z"
   },
   {
    "duration": 1114,
    "start_time": "2022-11-22T13:51:09.609Z"
   },
   {
    "duration": 528,
    "start_time": "2022-11-22T13:51:28.123Z"
   },
   {
    "duration": 894,
    "start_time": "2022-11-22T13:51:47.517Z"
   },
   {
    "duration": 895,
    "start_time": "2022-11-22T13:52:06.430Z"
   },
   {
    "duration": 932,
    "start_time": "2022-11-22T13:52:18.548Z"
   },
   {
    "duration": 1073,
    "start_time": "2022-11-22T13:52:25.285Z"
   },
   {
    "duration": 557,
    "start_time": "2022-11-22T13:53:34.821Z"
   },
   {
    "duration": 912,
    "start_time": "2022-11-22T13:53:40.770Z"
   },
   {
    "duration": 1167,
    "start_time": "2022-11-22T13:53:55.966Z"
   },
   {
    "duration": 1050,
    "start_time": "2022-11-22T13:54:06.539Z"
   },
   {
    "duration": 1302,
    "start_time": "2022-11-22T13:54:13.618Z"
   },
   {
    "duration": 253,
    "start_time": "2022-11-22T13:54:21.102Z"
   },
   {
    "duration": 1030,
    "start_time": "2022-11-22T13:54:27.615Z"
   },
   {
    "duration": 954,
    "start_time": "2022-11-22T13:54:35.366Z"
   },
   {
    "duration": 1023,
    "start_time": "2022-11-22T13:54:41.044Z"
   },
   {
    "duration": 1317,
    "start_time": "2022-11-22T13:54:46.131Z"
   },
   {
    "duration": 1043,
    "start_time": "2022-11-22T13:54:53.154Z"
   },
   {
    "duration": 919,
    "start_time": "2022-11-22T13:55:00.431Z"
   },
   {
    "duration": 905,
    "start_time": "2022-11-22T13:55:10.046Z"
   },
   {
    "duration": 1106,
    "start_time": "2022-11-22T13:55:23.607Z"
   },
   {
    "duration": 924,
    "start_time": "2022-11-22T13:56:00.597Z"
   },
   {
    "duration": 1001,
    "start_time": "2022-11-22T13:56:06.673Z"
   },
   {
    "duration": 933,
    "start_time": "2022-11-22T13:56:14.660Z"
   },
   {
    "duration": 921,
    "start_time": "2022-11-22T13:56:22.520Z"
   },
   {
    "duration": 921,
    "start_time": "2022-11-22T13:56:31.421Z"
   },
   {
    "duration": 956,
    "start_time": "2022-11-22T13:56:44.819Z"
   },
   {
    "duration": 90,
    "start_time": "2022-11-22T13:56:54.629Z"
   },
   {
    "duration": 926,
    "start_time": "2022-11-22T13:57:02.185Z"
   },
   {
    "duration": 560,
    "start_time": "2022-11-22T13:57:25.333Z"
   },
   {
    "duration": 865,
    "start_time": "2022-11-22T13:57:40.545Z"
   },
   {
    "duration": 1328,
    "start_time": "2022-11-22T13:58:12.077Z"
   },
   {
    "duration": 73,
    "start_time": "2022-11-22T13:58:33.629Z"
   },
   {
    "duration": 1148,
    "start_time": "2022-11-22T14:26:49.744Z"
   },
   {
    "duration": 55,
    "start_time": "2022-11-22T14:26:50.894Z"
   },
   {
    "duration": 16,
    "start_time": "2022-11-22T14:26:50.951Z"
   },
   {
    "duration": 24,
    "start_time": "2022-11-22T14:26:50.969Z"
   },
   {
    "duration": 3,
    "start_time": "2022-11-22T14:26:50.995Z"
   },
   {
    "duration": 61,
    "start_time": "2022-11-22T14:26:50.999Z"
   },
   {
    "duration": 17,
    "start_time": "2022-11-22T14:26:51.062Z"
   },
   {
    "duration": 17,
    "start_time": "2022-11-22T14:26:51.080Z"
   },
   {
    "duration": 10,
    "start_time": "2022-11-22T14:26:51.098Z"
   },
   {
    "duration": 35,
    "start_time": "2022-11-22T14:26:51.110Z"
   },
   {
    "duration": 10,
    "start_time": "2022-11-22T14:26:51.147Z"
   },
   {
    "duration": 25,
    "start_time": "2022-11-22T14:26:51.159Z"
   },
   {
    "duration": 10,
    "start_time": "2022-11-22T14:26:51.185Z"
   },
   {
    "duration": 21,
    "start_time": "2022-11-22T14:26:51.196Z"
   },
   {
    "duration": 30,
    "start_time": "2022-11-22T14:26:51.219Z"
   },
   {
    "duration": 17,
    "start_time": "2022-11-22T14:26:51.251Z"
   },
   {
    "duration": 30,
    "start_time": "2022-11-22T14:26:51.270Z"
   },
   {
    "duration": 19,
    "start_time": "2022-11-22T14:26:51.302Z"
   },
   {
    "duration": 21,
    "start_time": "2022-11-22T14:26:51.323Z"
   },
   {
    "duration": 22,
    "start_time": "2022-11-22T14:26:51.346Z"
   },
   {
    "duration": 172,
    "start_time": "2022-11-22T14:26:51.370Z"
   },
   {
    "duration": 210,
    "start_time": "2022-11-22T14:26:51.544Z"
   },
   {
    "duration": 23,
    "start_time": "2022-11-22T14:26:51.756Z"
   },
   {
    "duration": 10,
    "start_time": "2022-11-22T14:26:51.781Z"
   },
   {
    "duration": 43,
    "start_time": "2022-11-22T14:26:51.792Z"
   },
   {
    "duration": 53,
    "start_time": "2022-11-22T14:26:51.837Z"
   },
   {
    "duration": 347,
    "start_time": "2022-11-22T14:26:51.892Z"
   },
   {
    "duration": 174,
    "start_time": "2022-11-22T14:26:52.243Z"
   },
   {
    "duration": 3,
    "start_time": "2022-11-22T14:26:52.419Z"
   },
   {
    "duration": 23,
    "start_time": "2022-11-22T14:26:52.424Z"
   },
   {
    "duration": 17,
    "start_time": "2022-11-22T14:26:52.449Z"
   },
   {
    "duration": 165,
    "start_time": "2022-11-22T14:26:52.468Z"
   },
   {
    "duration": 1764,
    "start_time": "2022-11-22T14:26:52.636Z"
   },
   {
    "duration": 3,
    "start_time": "2022-11-22T14:26:54.402Z"
   },
   {
    "duration": 31,
    "start_time": "2022-11-22T14:26:54.407Z"
   },
   {
    "duration": 8,
    "start_time": "2022-11-22T14:26:54.440Z"
   },
   {
    "duration": 184,
    "start_time": "2022-11-22T14:26:54.451Z"
   },
   {
    "duration": 3,
    "start_time": "2022-11-22T14:26:54.637Z"
   },
   {
    "duration": 316,
    "start_time": "2022-11-22T14:26:54.642Z"
   },
   {
    "duration": 18,
    "start_time": "2022-11-22T14:26:54.960Z"
   },
   {
    "duration": 8,
    "start_time": "2022-11-22T14:26:54.980Z"
   },
   {
    "duration": 12,
    "start_time": "2022-11-22T14:26:54.990Z"
   },
   {
    "duration": 11,
    "start_time": "2022-11-22T14:26:55.004Z"
   },
   {
    "duration": 1026,
    "start_time": "2022-11-22T14:26:55.017Z"
   },
   {
    "duration": 3,
    "start_time": "2022-11-22T14:26:56.045Z"
   },
   {
    "duration": 17,
    "start_time": "2022-11-22T14:26:56.050Z"
   },
   {
    "duration": 15,
    "start_time": "2022-11-22T14:26:56.069Z"
   },
   {
    "duration": 23,
    "start_time": "2022-11-22T14:26:56.086Z"
   },
   {
    "duration": 1124,
    "start_time": "2022-11-22T14:26:56.111Z"
   },
   {
    "duration": 502,
    "start_time": "2022-11-22T14:26:57.236Z"
   },
   {
    "duration": 13,
    "start_time": "2022-11-22T14:26:57.740Z"
   },
   {
    "duration": 26,
    "start_time": "2022-11-22T14:26:57.754Z"
   },
   {
    "duration": 10,
    "start_time": "2022-11-22T14:26:57.781Z"
   },
   {
    "duration": 1162,
    "start_time": "2022-11-22T14:37:45.919Z"
   },
   {
    "duration": 53,
    "start_time": "2022-11-22T14:37:47.083Z"
   },
   {
    "duration": 15,
    "start_time": "2022-11-22T14:37:47.137Z"
   },
   {
    "duration": 26,
    "start_time": "2022-11-22T14:37:47.154Z"
   },
   {
    "duration": 15,
    "start_time": "2022-11-22T14:37:47.182Z"
   },
   {
    "duration": 79,
    "start_time": "2022-11-22T14:37:47.198Z"
   },
   {
    "duration": 9,
    "start_time": "2022-11-22T14:37:47.279Z"
   },
   {
    "duration": 45,
    "start_time": "2022-11-22T14:37:47.290Z"
   },
   {
    "duration": 18,
    "start_time": "2022-11-22T14:37:47.337Z"
   },
   {
    "duration": 43,
    "start_time": "2022-11-22T14:37:47.357Z"
   },
   {
    "duration": 22,
    "start_time": "2022-11-22T14:37:47.401Z"
   },
   {
    "duration": 41,
    "start_time": "2022-11-22T14:37:47.424Z"
   },
   {
    "duration": 17,
    "start_time": "2022-11-22T14:37:47.466Z"
   },
   {
    "duration": 22,
    "start_time": "2022-11-22T14:37:47.485Z"
   },
   {
    "duration": 25,
    "start_time": "2022-11-22T14:37:47.509Z"
   },
   {
    "duration": 14,
    "start_time": "2022-11-22T14:37:47.535Z"
   },
   {
    "duration": 9,
    "start_time": "2022-11-22T14:37:47.551Z"
   },
   {
    "duration": 9,
    "start_time": "2022-11-22T14:37:47.561Z"
   },
   {
    "duration": 16,
    "start_time": "2022-11-22T14:37:47.572Z"
   },
   {
    "duration": 9,
    "start_time": "2022-11-22T14:37:47.590Z"
   },
   {
    "duration": 178,
    "start_time": "2022-11-22T14:37:47.600Z"
   },
   {
    "duration": 221,
    "start_time": "2022-11-22T14:37:47.780Z"
   },
   {
    "duration": 16,
    "start_time": "2022-11-22T14:37:48.003Z"
   },
   {
    "duration": 10,
    "start_time": "2022-11-22T14:37:48.021Z"
   },
   {
    "duration": 57,
    "start_time": "2022-11-22T14:37:48.033Z"
   },
   {
    "duration": 56,
    "start_time": "2022-11-22T14:37:48.093Z"
   },
   {
    "duration": 397,
    "start_time": "2022-11-22T14:37:48.151Z"
   },
   {
    "duration": 185,
    "start_time": "2022-11-22T14:37:48.550Z"
   },
   {
    "duration": 3,
    "start_time": "2022-11-22T14:37:48.737Z"
   },
   {
    "duration": 23,
    "start_time": "2022-11-22T14:37:48.742Z"
   },
   {
    "duration": 15,
    "start_time": "2022-11-22T14:37:48.767Z"
   },
   {
    "duration": 179,
    "start_time": "2022-11-22T14:37:48.784Z"
   },
   {
    "duration": 1623,
    "start_time": "2022-11-22T14:37:48.965Z"
   },
   {
    "duration": 2,
    "start_time": "2022-11-22T14:37:50.590Z"
   },
   {
    "duration": 29,
    "start_time": "2022-11-22T14:37:50.594Z"
   },
   {
    "duration": 8,
    "start_time": "2022-11-22T14:37:50.624Z"
   },
   {
    "duration": 168,
    "start_time": "2022-11-22T14:37:50.634Z"
   },
   {
    "duration": 2,
    "start_time": "2022-11-22T14:37:50.804Z"
   },
   {
    "duration": 313,
    "start_time": "2022-11-22T14:37:50.808Z"
   },
   {
    "duration": 6,
    "start_time": "2022-11-22T14:37:51.123Z"
   },
   {
    "duration": 7,
    "start_time": "2022-11-22T14:37:51.133Z"
   },
   {
    "duration": 9,
    "start_time": "2022-11-22T14:37:51.141Z"
   },
   {
    "duration": 28,
    "start_time": "2022-11-22T14:37:51.151Z"
   },
   {
    "duration": 948,
    "start_time": "2022-11-22T14:37:51.181Z"
   },
   {
    "duration": 3,
    "start_time": "2022-11-22T14:37:52.130Z"
   },
   {
    "duration": 15,
    "start_time": "2022-11-22T14:37:52.135Z"
   },
   {
    "duration": 10,
    "start_time": "2022-11-22T14:37:52.152Z"
   },
   {
    "duration": 16,
    "start_time": "2022-11-22T14:37:52.164Z"
   },
   {
    "duration": 1268,
    "start_time": "2022-11-22T14:37:52.182Z"
   },
   {
    "duration": 642,
    "start_time": "2022-11-22T14:37:53.452Z"
   },
   {
    "duration": 19,
    "start_time": "2022-11-22T14:37:54.096Z"
   },
   {
    "duration": 37,
    "start_time": "2022-11-22T14:37:54.117Z"
   },
   {
    "duration": 18,
    "start_time": "2022-11-22T14:37:54.156Z"
   },
   {
    "duration": 1406,
    "start_time": "2022-11-22T15:23:25.707Z"
   },
   {
    "duration": 95,
    "start_time": "2022-11-22T15:23:27.115Z"
   },
   {
    "duration": 17,
    "start_time": "2022-11-22T15:23:27.211Z"
   },
   {
    "duration": 18,
    "start_time": "2022-11-22T15:23:27.230Z"
   },
   {
    "duration": 3,
    "start_time": "2022-11-22T15:23:27.250Z"
   },
   {
    "duration": 66,
    "start_time": "2022-11-22T15:23:27.255Z"
   },
   {
    "duration": 9,
    "start_time": "2022-11-22T15:23:27.322Z"
   },
   {
    "duration": 19,
    "start_time": "2022-11-22T15:23:27.333Z"
   },
   {
    "duration": 5,
    "start_time": "2022-11-22T15:23:27.353Z"
   },
   {
    "duration": 13,
    "start_time": "2022-11-22T15:23:27.360Z"
   },
   {
    "duration": 6,
    "start_time": "2022-11-22T15:23:27.374Z"
   },
   {
    "duration": 41,
    "start_time": "2022-11-22T15:23:27.382Z"
   },
   {
    "duration": 8,
    "start_time": "2022-11-22T15:23:27.424Z"
   },
   {
    "duration": 8,
    "start_time": "2022-11-22T15:23:27.433Z"
   },
   {
    "duration": 12,
    "start_time": "2022-11-22T15:23:27.443Z"
   },
   {
    "duration": 13,
    "start_time": "2022-11-22T15:23:27.456Z"
   },
   {
    "duration": 7,
    "start_time": "2022-11-22T15:23:27.471Z"
   },
   {
    "duration": 37,
    "start_time": "2022-11-22T15:23:27.479Z"
   },
   {
    "duration": 14,
    "start_time": "2022-11-22T15:23:27.517Z"
   },
   {
    "duration": 9,
    "start_time": "2022-11-22T15:23:27.532Z"
   },
   {
    "duration": 170,
    "start_time": "2022-11-22T15:23:27.543Z"
   },
   {
    "duration": 192,
    "start_time": "2022-11-22T15:23:27.714Z"
   },
   {
    "duration": 19,
    "start_time": "2022-11-22T15:23:27.908Z"
   },
   {
    "duration": 8,
    "start_time": "2022-11-22T15:23:27.928Z"
   },
   {
    "duration": 25,
    "start_time": "2022-11-22T15:23:27.937Z"
   },
   {
    "duration": 58,
    "start_time": "2022-11-22T15:23:27.964Z"
   },
   {
    "duration": 316,
    "start_time": "2022-11-22T15:23:28.024Z"
   },
   {
    "duration": 152,
    "start_time": "2022-11-22T15:23:28.344Z"
   },
   {
    "duration": 2,
    "start_time": "2022-11-22T15:23:28.498Z"
   },
   {
    "duration": 18,
    "start_time": "2022-11-22T15:23:28.501Z"
   },
   {
    "duration": 7,
    "start_time": "2022-11-22T15:23:28.520Z"
   },
   {
    "duration": 157,
    "start_time": "2022-11-22T15:23:28.529Z"
   },
   {
    "duration": 1600,
    "start_time": "2022-11-22T15:23:28.688Z"
   },
   {
    "duration": 2,
    "start_time": "2022-11-22T15:23:30.290Z"
   },
   {
    "duration": 29,
    "start_time": "2022-11-22T15:23:30.293Z"
   },
   {
    "duration": 19,
    "start_time": "2022-11-22T15:23:30.323Z"
   },
   {
    "duration": 184,
    "start_time": "2022-11-22T15:23:30.343Z"
   },
   {
    "duration": 3,
    "start_time": "2022-11-22T15:23:30.528Z"
   },
   {
    "duration": 310,
    "start_time": "2022-11-22T15:23:30.532Z"
   },
   {
    "duration": 6,
    "start_time": "2022-11-22T15:23:30.844Z"
   },
   {
    "duration": 28,
    "start_time": "2022-11-22T15:23:30.852Z"
   },
   {
    "duration": 14,
    "start_time": "2022-11-22T15:23:30.882Z"
   },
   {
    "duration": 9,
    "start_time": "2022-11-22T15:23:30.898Z"
   },
   {
    "duration": 874,
    "start_time": "2022-11-22T15:23:30.909Z"
   },
   {
    "duration": 2,
    "start_time": "2022-11-22T15:23:31.785Z"
   },
   {
    "duration": 9,
    "start_time": "2022-11-22T15:23:31.789Z"
   },
   {
    "duration": 19,
    "start_time": "2022-11-22T15:23:31.800Z"
   },
   {
    "duration": 7,
    "start_time": "2022-11-22T15:23:31.820Z"
   },
   {
    "duration": 1150,
    "start_time": "2022-11-22T15:23:31.829Z"
   },
   {
    "duration": 532,
    "start_time": "2022-11-22T15:23:32.981Z"
   },
   {
    "duration": 12,
    "start_time": "2022-11-22T15:23:33.515Z"
   },
   {
    "duration": 14,
    "start_time": "2022-11-22T15:23:33.529Z"
   },
   {
    "duration": 9,
    "start_time": "2022-11-22T15:23:33.545Z"
   }
  ],
  "kernelspec": {
   "display_name": "Python 3 (ipykernel)",
   "language": "python",
   "name": "python3"
  },
  "language_info": {
   "codemirror_mode": {
    "name": "ipython",
    "version": 3
   },
   "file_extension": ".py",
   "mimetype": "text/x-python",
   "name": "python",
   "nbconvert_exporter": "python",
   "pygments_lexer": "ipython3",
   "version": "3.9.5"
  },
  "toc": {
   "base_numbering": 1,
   "nav_menu": {},
   "number_sections": true,
   "sideBar": true,
   "skip_h1_title": true,
   "title_cell": "Исследование компьютерных игр за период с 1998 по 2016 гг., выявление закономерностей с учетом рейтинга, оценки критиков и пользователей, периода и региона",
   "title_sidebar": "Оглавление",
   "toc_cell": false,
   "toc_position": {
    "height": "calc(100% - 180px)",
    "left": "10px",
    "top": "150px",
    "width": "366.188px"
   },
   "toc_section_display": true,
   "toc_window_display": true
  },
  "vscode": {
   "interpreter": {
    "hash": "018dd0b91a4a5b856624ba25609360101cdc9b0ec377251ae765dbdcc1323ecf"
   }
  }
 },
 "nbformat": 4,
 "nbformat_minor": 2
}
