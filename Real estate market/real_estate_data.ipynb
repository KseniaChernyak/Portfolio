{
 "cells": [
  {
   "cell_type": "markdown",
   "metadata": {},
   "source": [
    "# Исследование объявлений о продаже квартир\n",
    "\n",
    "В вашем распоряжении данные сервиса Яндекс.Недвижимость — архив объявлений о продаже квартир в Санкт-Петербурге и соседних населённых пунктов за несколько лет. Нужно научиться определять рыночную стоимость объектов недвижимости. Ваша задача — установить параметры. Это позволит построить автоматизированную систему: она отследит аномалии и мошенническую деятельность. \n",
    "\n",
    "По каждой квартире на продажу доступны два вида данных. Первые вписаны пользователем, вторые — получены автоматически на основе картографических данных. Например, расстояние до центра, аэропорта, ближайшего парка и водоёма. "
   ]
  },
  {
   "cell_type": "markdown",
   "metadata": {},
   "source": [
    "### Откройте файл с данными и изучите общую информацию. "
   ]
  },
  {
   "cell_type": "code",
   "execution_count": 1,
   "metadata": {},
   "outputs": [],
   "source": [
    "#1. Загрузите данные из файла в датафрейм.\n",
    "import pandas as pd\n",
    "data = pd.read_csv('/datasets/real_estate_data.csv', sep='\\t')"
   ]
  },
  {
   "cell_type": "code",
   "execution_count": 2,
   "metadata": {},
   "outputs": [
    {
     "name": "stdout",
     "output_type": "stream",
     "text": [
      "<class 'pandas.core.frame.DataFrame'>\n",
      "RangeIndex: 23699 entries, 0 to 23698\n",
      "Data columns (total 22 columns):\n",
      " #   Column                Non-Null Count  Dtype  \n",
      "---  ------                --------------  -----  \n",
      " 0   total_images          23699 non-null  int64  \n",
      " 1   last_price            23699 non-null  float64\n",
      " 2   total_area            23699 non-null  float64\n",
      " 3   first_day_exposition  23699 non-null  object \n",
      " 4   rooms                 23699 non-null  int64  \n",
      " 5   ceiling_height        14504 non-null  float64\n",
      " 6   floors_total          23613 non-null  float64\n",
      " 7   living_area           21796 non-null  float64\n",
      " 8   floor                 23699 non-null  int64  \n",
      " 9   is_apartment          2775 non-null   object \n",
      " 10  studio                23699 non-null  bool   \n",
      " 11  open_plan             23699 non-null  bool   \n",
      " 12  kitchen_area          21421 non-null  float64\n",
      " 13  balcony               12180 non-null  float64\n",
      " 14  locality_name         23650 non-null  object \n",
      " 15  airports_nearest      18157 non-null  float64\n",
      " 16  cityCenters_nearest   18180 non-null  float64\n",
      " 17  parks_around3000      18181 non-null  float64\n",
      " 18  parks_nearest         8079 non-null   float64\n",
      " 19  ponds_around3000      18181 non-null  float64\n",
      " 20  ponds_nearest         9110 non-null   float64\n",
      " 21  days_exposition       20518 non-null  float64\n",
      "dtypes: bool(2), float64(14), int64(3), object(3)\n",
      "memory usage: 3.7+ MB\n"
     ]
    }
   ],
   "source": [
    "#2. Изучите общую информацию о полученном датафрейме.\n",
    "data.info()"
   ]
  },
  {
   "cell_type": "code",
   "execution_count": 3,
   "metadata": {},
   "outputs": [
    {
     "data": {
      "text/html": [
       "<div>\n",
       "<style scoped>\n",
       "    .dataframe tbody tr th:only-of-type {\n",
       "        vertical-align: middle;\n",
       "    }\n",
       "\n",
       "    .dataframe tbody tr th {\n",
       "        vertical-align: top;\n",
       "    }\n",
       "\n",
       "    .dataframe thead th {\n",
       "        text-align: right;\n",
       "    }\n",
       "</style>\n",
       "<table border=\"1\" class=\"dataframe\">\n",
       "  <thead>\n",
       "    <tr style=\"text-align: right;\">\n",
       "      <th></th>\n",
       "      <th>total_images</th>\n",
       "      <th>last_price</th>\n",
       "      <th>total_area</th>\n",
       "      <th>first_day_exposition</th>\n",
       "      <th>rooms</th>\n",
       "      <th>ceiling_height</th>\n",
       "      <th>floors_total</th>\n",
       "      <th>living_area</th>\n",
       "      <th>floor</th>\n",
       "      <th>is_apartment</th>\n",
       "      <th>...</th>\n",
       "      <th>kitchen_area</th>\n",
       "      <th>balcony</th>\n",
       "      <th>locality_name</th>\n",
       "      <th>airports_nearest</th>\n",
       "      <th>cityCenters_nearest</th>\n",
       "      <th>parks_around3000</th>\n",
       "      <th>parks_nearest</th>\n",
       "      <th>ponds_around3000</th>\n",
       "      <th>ponds_nearest</th>\n",
       "      <th>days_exposition</th>\n",
       "    </tr>\n",
       "  </thead>\n",
       "  <tbody>\n",
       "    <tr>\n",
       "      <th>0</th>\n",
       "      <td>20</td>\n",
       "      <td>13000000.0</td>\n",
       "      <td>108.0</td>\n",
       "      <td>2019-03-07T00:00:00</td>\n",
       "      <td>3</td>\n",
       "      <td>2.70</td>\n",
       "      <td>16.0</td>\n",
       "      <td>51.0</td>\n",
       "      <td>8</td>\n",
       "      <td>NaN</td>\n",
       "      <td>...</td>\n",
       "      <td>25.0</td>\n",
       "      <td>NaN</td>\n",
       "      <td>Санкт-Петербург</td>\n",
       "      <td>18863.0</td>\n",
       "      <td>16028.0</td>\n",
       "      <td>1.0</td>\n",
       "      <td>482.0</td>\n",
       "      <td>2.0</td>\n",
       "      <td>755.0</td>\n",
       "      <td>NaN</td>\n",
       "    </tr>\n",
       "    <tr>\n",
       "      <th>1</th>\n",
       "      <td>7</td>\n",
       "      <td>3350000.0</td>\n",
       "      <td>40.4</td>\n",
       "      <td>2018-12-04T00:00:00</td>\n",
       "      <td>1</td>\n",
       "      <td>NaN</td>\n",
       "      <td>11.0</td>\n",
       "      <td>18.6</td>\n",
       "      <td>1</td>\n",
       "      <td>NaN</td>\n",
       "      <td>...</td>\n",
       "      <td>11.0</td>\n",
       "      <td>2.0</td>\n",
       "      <td>посёлок Шушары</td>\n",
       "      <td>12817.0</td>\n",
       "      <td>18603.0</td>\n",
       "      <td>0.0</td>\n",
       "      <td>NaN</td>\n",
       "      <td>0.0</td>\n",
       "      <td>NaN</td>\n",
       "      <td>81.0</td>\n",
       "    </tr>\n",
       "    <tr>\n",
       "      <th>2</th>\n",
       "      <td>10</td>\n",
       "      <td>5196000.0</td>\n",
       "      <td>56.0</td>\n",
       "      <td>2015-08-20T00:00:00</td>\n",
       "      <td>2</td>\n",
       "      <td>NaN</td>\n",
       "      <td>5.0</td>\n",
       "      <td>34.3</td>\n",
       "      <td>4</td>\n",
       "      <td>NaN</td>\n",
       "      <td>...</td>\n",
       "      <td>8.3</td>\n",
       "      <td>0.0</td>\n",
       "      <td>Санкт-Петербург</td>\n",
       "      <td>21741.0</td>\n",
       "      <td>13933.0</td>\n",
       "      <td>1.0</td>\n",
       "      <td>90.0</td>\n",
       "      <td>2.0</td>\n",
       "      <td>574.0</td>\n",
       "      <td>558.0</td>\n",
       "    </tr>\n",
       "    <tr>\n",
       "      <th>3</th>\n",
       "      <td>0</td>\n",
       "      <td>64900000.0</td>\n",
       "      <td>159.0</td>\n",
       "      <td>2015-07-24T00:00:00</td>\n",
       "      <td>3</td>\n",
       "      <td>NaN</td>\n",
       "      <td>14.0</td>\n",
       "      <td>NaN</td>\n",
       "      <td>9</td>\n",
       "      <td>NaN</td>\n",
       "      <td>...</td>\n",
       "      <td>NaN</td>\n",
       "      <td>0.0</td>\n",
       "      <td>Санкт-Петербург</td>\n",
       "      <td>28098.0</td>\n",
       "      <td>6800.0</td>\n",
       "      <td>2.0</td>\n",
       "      <td>84.0</td>\n",
       "      <td>3.0</td>\n",
       "      <td>234.0</td>\n",
       "      <td>424.0</td>\n",
       "    </tr>\n",
       "    <tr>\n",
       "      <th>4</th>\n",
       "      <td>2</td>\n",
       "      <td>10000000.0</td>\n",
       "      <td>100.0</td>\n",
       "      <td>2018-06-19T00:00:00</td>\n",
       "      <td>2</td>\n",
       "      <td>3.03</td>\n",
       "      <td>14.0</td>\n",
       "      <td>32.0</td>\n",
       "      <td>13</td>\n",
       "      <td>NaN</td>\n",
       "      <td>...</td>\n",
       "      <td>41.0</td>\n",
       "      <td>NaN</td>\n",
       "      <td>Санкт-Петербург</td>\n",
       "      <td>31856.0</td>\n",
       "      <td>8098.0</td>\n",
       "      <td>2.0</td>\n",
       "      <td>112.0</td>\n",
       "      <td>1.0</td>\n",
       "      <td>48.0</td>\n",
       "      <td>121.0</td>\n",
       "    </tr>\n",
       "  </tbody>\n",
       "</table>\n",
       "<p>5 rows × 22 columns</p>\n",
       "</div>"
      ],
      "text/plain": [
       "   total_images  last_price  total_area first_day_exposition  rooms  \\\n",
       "0            20  13000000.0       108.0  2019-03-07T00:00:00      3   \n",
       "1             7   3350000.0        40.4  2018-12-04T00:00:00      1   \n",
       "2            10   5196000.0        56.0  2015-08-20T00:00:00      2   \n",
       "3             0  64900000.0       159.0  2015-07-24T00:00:00      3   \n",
       "4             2  10000000.0       100.0  2018-06-19T00:00:00      2   \n",
       "\n",
       "   ceiling_height  floors_total  living_area  floor is_apartment  ...  \\\n",
       "0            2.70          16.0         51.0      8          NaN  ...   \n",
       "1             NaN          11.0         18.6      1          NaN  ...   \n",
       "2             NaN           5.0         34.3      4          NaN  ...   \n",
       "3             NaN          14.0          NaN      9          NaN  ...   \n",
       "4            3.03          14.0         32.0     13          NaN  ...   \n",
       "\n",
       "   kitchen_area  balcony    locality_name  airports_nearest  \\\n",
       "0          25.0      NaN  Санкт-Петербург           18863.0   \n",
       "1          11.0      2.0   посёлок Шушары           12817.0   \n",
       "2           8.3      0.0  Санкт-Петербург           21741.0   \n",
       "3           NaN      0.0  Санкт-Петербург           28098.0   \n",
       "4          41.0      NaN  Санкт-Петербург           31856.0   \n",
       "\n",
       "  cityCenters_nearest  parks_around3000  parks_nearest  ponds_around3000  \\\n",
       "0             16028.0               1.0          482.0               2.0   \n",
       "1             18603.0               0.0            NaN               0.0   \n",
       "2             13933.0               1.0           90.0               2.0   \n",
       "3              6800.0               2.0           84.0               3.0   \n",
       "4              8098.0               2.0          112.0               1.0   \n",
       "\n",
       "   ponds_nearest  days_exposition  \n",
       "0          755.0              NaN  \n",
       "1            NaN             81.0  \n",
       "2          574.0            558.0  \n",
       "3          234.0            424.0  \n",
       "4           48.0            121.0  \n",
       "\n",
       "[5 rows x 22 columns]"
      ]
     },
     "execution_count": 3,
     "metadata": {},
     "output_type": "execute_result"
    }
   ],
   "source": [
    "data.head()"
   ]
  },
  {
   "cell_type": "code",
   "execution_count": 4,
   "metadata": {
    "scrolled": false
   },
   "outputs": [
    {
     "data": {
      "image/png": "[encoded data removed]",
      "text/plain": [
       "<Figure size 1080x1440 with 20 Axes>"
      ]
     },
     "metadata": {
      "needs_background": "light"
     },
     "output_type": "display_data"
    }
   ],
   "source": [
    "#3. Постройте общую гистограмму для всех числовых столбцов\n",
    "#таблицы. Например, для датафрейма data это можно сделать\n",
    "#командой data.hist(figsize=(15, 20)).\n",
    "data.hist(figsize=(15, 20));"
   ]
  },
  {
   "cell_type": "markdown",
   "metadata": {},
   "source": [
    "### Предобработка данных"
   ]
  },
  {
   "cell_type": "markdown",
   "metadata": {},
   "source": [
    "***1 ЗАДАНИЕ***\n",
    "\n",
    "Найдите и изучите пропущенные значения в столбцах:\n",
    "\n",
    "○ Определите, в каких столбцах есть пропуски.\n",
    "\n",
    "○ Заполните пропущенные значения там, где это возможно.\n",
    "\n",
    "Например, если продавец не указал число балконов, то,\n",
    "скорее всего, в его квартире их нет. Такие пропуски\n",
    "правильно заменить на 0. Если логичную замену\n",
    "предложить невозможно, то оставьте эти значения\n",
    "пустыми. Пропуски — тоже важный сигнал, который нужно\n",
    "учитывать.\n",
    "\n",
    "○ В ячейке с типом markdown укажите причины, которые могли\n",
    "привести к пропускам в данных.\n"
   ]
  },
  {
   "cell_type": "code",
   "execution_count": 5,
   "metadata": {},
   "outputs": [
    {
     "data": {
      "text/plain": [
       "total_images                0\n",
       "last_price                  0\n",
       "total_area                  0\n",
       "first_day_exposition        0\n",
       "rooms                       0\n",
       "ceiling_height           9195\n",
       "floors_total               86\n",
       "living_area              1903\n",
       "floor                       0\n",
       "is_apartment            20924\n",
       "studio                      0\n",
       "open_plan                   0\n",
       "kitchen_area             2278\n",
       "balcony                 11519\n",
       "locality_name              49\n",
       "airports_nearest         5542\n",
       "cityCenters_nearest      5519\n",
       "parks_around3000         5518\n",
       "parks_nearest           15620\n",
       "ponds_around3000         5518\n",
       "ponds_nearest           14589\n",
       "days_exposition          3181\n",
       "dtype: int64"
      ]
     },
     "execution_count": 5,
     "metadata": {},
     "output_type": "execute_result"
    }
   ],
   "source": [
    "data.isna().sum()"
   ]
  },
  {
   "cell_type": "code",
   "execution_count": 6,
   "metadata": {},
   "outputs": [
    {
     "data": {
      "text/html": [
       "<style  type=\"text/css\" >\n",
       "#T_39c63_row0_col0,#T_39c63_row1_col0,#T_39c63_row2_col0,#T_39c63_row3_col0,#T_39c63_row4_col0,#T_39c63_row6_col0,#T_39c63_row8_col0,#T_39c63_row10_col0,#T_39c63_row11_col0,#T_39c63_row14_col0{\n",
       "            background-color:  #ffffcc;\n",
       "            color:  #000000;\n",
       "        }#T_39c63_row5_col0{\n",
       "            background-color:  #fd9e43;\n",
       "            color:  #000000;\n",
       "        }#T_39c63_row7_col0{\n",
       "            background-color:  #fff2ac;\n",
       "            color:  #000000;\n",
       "        }#T_39c63_row9_col0{\n",
       "            background-color:  #800026;\n",
       "            color:  #f1f1f1;\n",
       "        }#T_39c63_row12_col0{\n",
       "            background-color:  #ffefa4;\n",
       "            color:  #000000;\n",
       "        }#T_39c63_row13_col0{\n",
       "            background-color:  #fd7034;\n",
       "            color:  #000000;\n",
       "        }#T_39c63_row15_col0,#T_39c63_row16_col0,#T_39c63_row17_col0,#T_39c63_row19_col0{\n",
       "            background-color:  #fed673;\n",
       "            color:  #000000;\n",
       "        }#T_39c63_row18_col0{\n",
       "            background-color:  #e2191c;\n",
       "            color:  #f1f1f1;\n",
       "        }#T_39c63_row20_col0{\n",
       "            background-color:  #ec2c21;\n",
       "            color:  #f1f1f1;\n",
       "        }#T_39c63_row21_col0{\n",
       "            background-color:  #ffea99;\n",
       "            color:  #000000;\n",
       "        }</style><table id=\"T_39c63_\" ><thead>    <tr>        <th class=\"blank level0\" ></th>        <th class=\"col_heading level0 col0\" >0</th>    </tr></thead><tbody>\n",
       "                <tr>\n",
       "                        <th id=\"T_39c63_level0_row0\" class=\"row_heading level0 row0\" >total_images</th>\n",
       "                        <td id=\"T_39c63_row0_col0\" class=\"data row0 col0\" >0.000000</td>\n",
       "            </tr>\n",
       "            <tr>\n",
       "                        <th id=\"T_39c63_level0_row1\" class=\"row_heading level0 row1\" >last_price</th>\n",
       "                        <td id=\"T_39c63_row1_col0\" class=\"data row1 col0\" >0.000000</td>\n",
       "            </tr>\n",
       "            <tr>\n",
       "                        <th id=\"T_39c63_level0_row2\" class=\"row_heading level0 row2\" >total_area</th>\n",
       "                        <td id=\"T_39c63_row2_col0\" class=\"data row2 col0\" >0.000000</td>\n",
       "            </tr>\n",
       "            <tr>\n",
       "                        <th id=\"T_39c63_level0_row3\" class=\"row_heading level0 row3\" >first_day_exposition</th>\n",
       "                        <td id=\"T_39c63_row3_col0\" class=\"data row3 col0\" >0.000000</td>\n",
       "            </tr>\n",
       "            <tr>\n",
       "                        <th id=\"T_39c63_level0_row4\" class=\"row_heading level0 row4\" >rooms</th>\n",
       "                        <td id=\"T_39c63_row4_col0\" class=\"data row4 col0\" >0.000000</td>\n",
       "            </tr>\n",
       "            <tr>\n",
       "                        <th id=\"T_39c63_level0_row5\" class=\"row_heading level0 row5\" >ceiling_height</th>\n",
       "                        <td id=\"T_39c63_row5_col0\" class=\"data row5 col0\" >39.000000</td>\n",
       "            </tr>\n",
       "            <tr>\n",
       "                        <th id=\"T_39c63_level0_row6\" class=\"row_heading level0 row6\" >floors_total</th>\n",
       "                        <td id=\"T_39c63_row6_col0\" class=\"data row6 col0\" >0.000000</td>\n",
       "            </tr>\n",
       "            <tr>\n",
       "                        <th id=\"T_39c63_level0_row7\" class=\"row_heading level0 row7\" >living_area</th>\n",
       "                        <td id=\"T_39c63_row7_col0\" class=\"data row7 col0\" >8.000000</td>\n",
       "            </tr>\n",
       "            <tr>\n",
       "                        <th id=\"T_39c63_level0_row8\" class=\"row_heading level0 row8\" >floor</th>\n",
       "                        <td id=\"T_39c63_row8_col0\" class=\"data row8 col0\" >0.000000</td>\n",
       "            </tr>\n",
       "            <tr>\n",
       "                        <th id=\"T_39c63_level0_row9\" class=\"row_heading level0 row9\" >is_apartment</th>\n",
       "                        <td id=\"T_39c63_row9_col0\" class=\"data row9 col0\" >88.000000</td>\n",
       "            </tr>\n",
       "            <tr>\n",
       "                        <th id=\"T_39c63_level0_row10\" class=\"row_heading level0 row10\" >studio</th>\n",
       "                        <td id=\"T_39c63_row10_col0\" class=\"data row10 col0\" >0.000000</td>\n",
       "            </tr>\n",
       "            <tr>\n",
       "                        <th id=\"T_39c63_level0_row11\" class=\"row_heading level0 row11\" >open_plan</th>\n",
       "                        <td id=\"T_39c63_row11_col0\" class=\"data row11 col0\" >0.000000</td>\n",
       "            </tr>\n",
       "            <tr>\n",
       "                        <th id=\"T_39c63_level0_row12\" class=\"row_heading level0 row12\" >kitchen_area</th>\n",
       "                        <td id=\"T_39c63_row12_col0\" class=\"data row12 col0\" >10.000000</td>\n",
       "            </tr>\n",
       "            <tr>\n",
       "                        <th id=\"T_39c63_level0_row13\" class=\"row_heading level0 row13\" >balcony</th>\n",
       "                        <td id=\"T_39c63_row13_col0\" class=\"data row13 col0\" >49.000000</td>\n",
       "            </tr>\n",
       "            <tr>\n",
       "                        <th id=\"T_39c63_level0_row14\" class=\"row_heading level0 row14\" >locality_name</th>\n",
       "                        <td id=\"T_39c63_row14_col0\" class=\"data row14 col0\" >0.000000</td>\n",
       "            </tr>\n",
       "            <tr>\n",
       "                        <th id=\"T_39c63_level0_row15\" class=\"row_heading level0 row15\" >airports_nearest</th>\n",
       "                        <td id=\"T_39c63_row15_col0\" class=\"data row15 col0\" >23.000000</td>\n",
       "            </tr>\n",
       "            <tr>\n",
       "                        <th id=\"T_39c63_level0_row16\" class=\"row_heading level0 row16\" >cityCenters_nearest</th>\n",
       "                        <td id=\"T_39c63_row16_col0\" class=\"data row16 col0\" >23.000000</td>\n",
       "            </tr>\n",
       "            <tr>\n",
       "                        <th id=\"T_39c63_level0_row17\" class=\"row_heading level0 row17\" >parks_around3000</th>\n",
       "                        <td id=\"T_39c63_row17_col0\" class=\"data row17 col0\" >23.000000</td>\n",
       "            </tr>\n",
       "            <tr>\n",
       "                        <th id=\"T_39c63_level0_row18\" class=\"row_heading level0 row18\" >parks_nearest</th>\n",
       "                        <td id=\"T_39c63_row18_col0\" class=\"data row18 col0\" >66.000000</td>\n",
       "            </tr>\n",
       "            <tr>\n",
       "                        <th id=\"T_39c63_level0_row19\" class=\"row_heading level0 row19\" >ponds_around3000</th>\n",
       "                        <td id=\"T_39c63_row19_col0\" class=\"data row19 col0\" >23.000000</td>\n",
       "            </tr>\n",
       "            <tr>\n",
       "                        <th id=\"T_39c63_level0_row20\" class=\"row_heading level0 row20\" >ponds_nearest</th>\n",
       "                        <td id=\"T_39c63_row20_col0\" class=\"data row20 col0\" >62.000000</td>\n",
       "            </tr>\n",
       "            <tr>\n",
       "                        <th id=\"T_39c63_level0_row21\" class=\"row_heading level0 row21\" >days_exposition</th>\n",
       "                        <td id=\"T_39c63_row21_col0\" class=\"data row21 col0\" >13.000000</td>\n",
       "            </tr>\n",
       "    </tbody></table>"
      ],
      "text/plain": [
       "<pandas.io.formats.style.Styler at 0x7efcce41c340>"
      ]
     },
     "execution_count": 6,
     "metadata": {},
     "output_type": "execute_result"
    }
   ],
   "source": [
    "pd.DataFrame(round(data.isna().mean()*100)).style.background_gradient('YlOrRd')"
   ]
  },
  {
   "cell_type": "code",
   "execution_count": 7,
   "metadata": {},
   "outputs": [],
   "source": [
    "data['balcony'] = data['balcony'].fillna(0)"
   ]
  },
  {
   "cell_type": "code",
   "execution_count": 8,
   "metadata": {},
   "outputs": [],
   "source": [
    "data['living_area'] = data['living_area'].fillna(data['total_area'] - data['balcony'])"
   ]
  },
  {
   "cell_type": "code",
   "execution_count": 9,
   "metadata": {},
   "outputs": [],
   "source": [
    "data['kitchen_area'] = data['kitchen_area'].fillna(data['total_area'] - data['living_area'])"
   ]
  },
  {
   "cell_type": "markdown",
   "metadata": {},
   "source": [
    "***ПОЯСНЕНИЕ***\n",
    "- в столбце балкон вернее всего пропуск означает, что балкона нет \n",
    "- в столбцах living_area, kitchen_area пересчитаны пустые значения путем вычитания из общей площади площади балкона и жилой площади соответственно по логике расчетов площадей в квартирах"
   ]
  },
  {
   "cell_type": "markdown",
   "metadata": {},
   "source": [
    "***2 ЗАДАНИЕ***\n",
    "\n",
    "Рассмотрите типы данных в каждом столбце:\n",
    "\n",
    "○ Найдите столбцы, в которых нужно изменить тип данных.\n",
    "\n",
    "○ Преобразуйте тип данных в выбранных столбцах.\n",
    "\n",
    "○ В ячейке с типом markdown поясните, почему нужно изменить\n",
    "тип данных."
   ]
  },
  {
   "cell_type": "code",
   "execution_count": 10,
   "metadata": {},
   "outputs": [
    {
     "data": {
      "text/plain": [
       "total_images              int64\n",
       "last_price              float64\n",
       "total_area              float64\n",
       "first_day_exposition     object\n",
       "rooms                     int64\n",
       "ceiling_height          float64\n",
       "floors_total            float64\n",
       "living_area             float64\n",
       "floor                     int64\n",
       "is_apartment             object\n",
       "studio                     bool\n",
       "open_plan                  bool\n",
       "kitchen_area            float64\n",
       "balcony                 float64\n",
       "locality_name            object\n",
       "airports_nearest        float64\n",
       "cityCenters_nearest     float64\n",
       "parks_around3000        float64\n",
       "parks_nearest           float64\n",
       "ponds_around3000        float64\n",
       "ponds_nearest           float64\n",
       "days_exposition         float64\n",
       "dtype: object"
      ]
     },
     "execution_count": 10,
     "metadata": {},
     "output_type": "execute_result"
    }
   ],
   "source": [
    "data.dtypes"
   ]
  },
  {
   "cell_type": "code",
   "execution_count": 85,
   "metadata": {},
   "outputs": [],
   "source": [
    "#int\n",
    "data['floors_total'] = data['floors_total'].fillna(0).astype('int')\n",
    "data['last_price'] = data['last_price'].astype('int')\n",
    "# data['balcony'] = data['balcony'].fillna(0).astype('int')\n",
    "data['airports_nearest'] = data['airports_nearest'].fillna(0).astype('int')\n",
    "data['cityCenters_nearest'] = data['cityCenters_nearest'].fillna(0).astype('int')\n",
    "data['parks_around3000'] = data['parks_around3000'].fillna(0).astype('int')\n",
    "data['parks_nearest'] = data['parks_nearest'].fillna(0).astype('int')\n",
    "data['ponds_around3000'] = data['ponds_around3000'].fillna(0).astype('int')\n",
    "data['ponds_nearest'] = data['ponds_nearest'].fillna(0).astype('int')\n",
    "data['days_exposition'] = data['days_exposition'].fillna(0).astype('int')"
   ]
  },
  {
   "cell_type": "code",
   "execution_count": 12,
   "metadata": {},
   "outputs": [],
   "source": [
    "data['balcony'] = data['balcony'].astype('int')"
   ]
  },
  {
   "cell_type": "markdown",
   "metadata": {},
   "source": [
    "***ПОЯСНЕНИЕ***\n",
    "В вышеуказанных столбцах есть пропуски. Их заменили на 0, чтобы перевести тип данных в int. Во всех столбах значения были .0\n",
    "Логично предположить, что это целые числа. И по значению - этажи, балкон, количество прудов, аэропортов, парков и дней - это все целые значения."
   ]
  },
  {
   "cell_type": "markdown",
   "metadata": {},
   "source": [
    "***3 ЗАДАНИЕ***\n",
    "\n",
    "Изучите уникальные значения в столбце с названиями и устраните неявные дубликаты. Например, «поселок Рябово» и «поселок городского типа Рябово», «поселок Тельмана» и «посёлок Тельмана» — это обозначения одних и тех же населённых пунктов. Вы можете заменить названия в существующем столбце или создать новый с названиями без дубликатов."
   ]
  },
  {
   "cell_type": "code",
   "execution_count": 13,
   "metadata": {},
   "outputs": [],
   "source": [
    "#str\n",
    "data['locality_name'] = data['locality_name'].fillna('unknown')\n",
    "data['locality_name'] = data['locality_name'].str.lower()\n",
    "data['locality_name'] = data['locality_name'].str.replace('ё', 'е')\n",
    "data['locality_name'] = data['locality_name'].replace('поселок рябово', 'поселок городского типа рябово')"
   ]
  },
  {
   "cell_type": "code",
   "execution_count": 14,
   "metadata": {},
   "outputs": [
    {
     "data": {
      "text/plain": [
       "330"
      ]
     },
     "execution_count": 14,
     "metadata": {},
     "output_type": "execute_result"
    }
   ],
   "source": [
    "len(data['locality_name'].unique())"
   ]
  },
  {
   "cell_type": "code",
   "execution_count": 15,
   "metadata": {
    "scrolled": false
   },
   "outputs": [
    {
     "data": {
      "text/plain": [
       "array(['санкт-петербург', 'поселок шушары', 'городской поселок янино-1',\n",
       "       'поселок парголово', 'поселок мурино', 'ломоносов', 'сертолово',\n",
       "       'петергоф', 'пушкин', 'деревня кудрово', 'коммунар', 'колпино',\n",
       "       'поселок городского типа красный бор', 'гатчина',\n",
       "       'деревня федоровское', 'выборг', 'кронштадт', 'кировск',\n",
       "       'деревня новое девяткино', 'поселок металлострой',\n",
       "       'поселок городского типа лебяжье',\n",
       "       'поселок городского типа сиверский', 'поселок молодцово',\n",
       "       'поселок городского типа кузьмоловский',\n",
       "       'садовое товарищество новая ропша', 'павловск',\n",
       "       'деревня пикколово', 'всеволожск', 'волхов', 'кингисепп',\n",
       "       'приозерск', 'сестрорецк', 'деревня куттузи', 'поселок аннино',\n",
       "       'поселок городского типа ефимовский', 'поселок плодовое',\n",
       "       'деревня заклинье', 'поселок торковичи', 'поселок первомайское',\n",
       "       'красное село', 'поселок понтонный', 'сясьстрой', 'деревня старая',\n",
       "       'деревня лесколово', 'поселок новый свет', 'сланцы',\n",
       "       'село путилово', 'ивангород', 'мурино', 'шлиссельбург',\n",
       "       'никольское', 'зеленогорск', 'сосновый бор', 'деревня оржицы',\n",
       "       'деревня кальтино', 'кудрово', 'поселок романовка',\n",
       "       'поселок бугры', 'поселок городского типа рощино', 'кириши',\n",
       "       'луга', 'волосово', 'отрадное', 'село павлово', 'поселок оредеж',\n",
       "       'село копорье', 'поселок молодежное', 'тихвин', 'поселок победа',\n",
       "       'деревня нурма', 'поселок городского типа синявино', 'тосно',\n",
       "       'поселок стрельна', 'бокситогорск', 'поселок александровская',\n",
       "       'деревня лопухинка', 'пикалево', 'поселок терволово',\n",
       "       'поселок городского типа советский', 'подпорожье',\n",
       "       'поселок петровское', 'поселок городского типа токсово',\n",
       "       'поселок сельцо', 'поселок городского типа вырица',\n",
       "       'деревня кипень', 'деревня келози', 'деревня вартемяги',\n",
       "       'поселок тельмана', 'поселок севастьяново',\n",
       "       'городской поселок большая ижора', 'unknown',\n",
       "       'городской поселок павлово', 'деревня агалатово',\n",
       "       'поселок новогорелово', 'городской поселок лесогорский',\n",
       "       'деревня лаголово', 'поселок цвелодубово',\n",
       "       'поселок городского типа рахья', 'деревня белогорка',\n",
       "       'поселок заводской', 'городской поселок новоселье',\n",
       "       'деревня большие колпаны', 'деревня горбунки', 'деревня батово',\n",
       "       'деревня заневка', 'деревня иссад', 'приморск',\n",
       "       'городской поселок федоровское', 'деревня мистолово',\n",
       "       'новая ладога', 'поселок зимитицы', 'поселок барышево',\n",
       "       'деревня разметелево', 'поселок городского типа имени свердлова',\n",
       "       'деревня пеники', 'поселок городского типа рябово',\n",
       "       'деревня пудомяги', 'поселок станции корнево', 'деревня низино',\n",
       "       'деревня бегуницы', 'поселок поляны', 'городской поселок мга',\n",
       "       'поселок елизаветино', 'поселок городского типа кузнечное',\n",
       "       'деревня колтуши', 'поселок запорожское', 'деревня гостилицы',\n",
       "       'деревня малое карлино', 'поселок мичуринское',\n",
       "       'поселок городского типа имени морозова', 'поселок песочный',\n",
       "       'поселок сосново', 'деревня аро', 'поселок ильичево',\n",
       "       'поселок городского типа тайцы', 'деревня малое верево',\n",
       "       'деревня извара', 'поселок станции вещево', 'село паша',\n",
       "       'деревня калитино', 'поселок городского типа ульяновка',\n",
       "       'деревня чудской бор', 'поселок городского типа дубровка',\n",
       "       'деревня мины', 'поселок войсковицы', 'деревня коркино',\n",
       "       'поселок ропша', 'поселок городского типа приладожский',\n",
       "       'поселок щеглово', 'поселок гаврилово', 'лодейное поле',\n",
       "       'деревня рабитицы', 'поселок городского типа никольский',\n",
       "       'деревня кузьмолово', 'деревня малые колпаны',\n",
       "       'поселок петро-славянка', 'городской поселок назия',\n",
       "       'поселок репино', 'поселок углово', 'поселок старая малукса',\n",
       "       'садовое товарищество рахья', 'деревня меньково',\n",
       "       'деревня старые бегуницы', 'поселок саперный', 'поселок семрино',\n",
       "       'поселок глажево', 'поселок кобринское', 'деревня гарболово',\n",
       "       'деревня юкки', 'поселок станции приветнинское',\n",
       "       'деревня мануйлово', 'деревня пчева', 'поселок цвылево',\n",
       "       'поселок мельниково', 'поселок пудость', 'поселок усть-луга',\n",
       "       'светогорск', 'любань', 'поселок селезнево', 'каменногорск',\n",
       "       'деревня кривко', 'поселок глебычево', 'деревня парицы',\n",
       "       'поселок жилпоселок', 'поселок городского типа мга',\n",
       "       'поселок войскорово', 'село никольское', 'поселок стеклянный',\n",
       "       'поселок городского типа важины', 'поселок мыза-ивановка',\n",
       "       'село русско-высоцкое', 'поселок городского типа форносово',\n",
       "       'село старая ладога', 'поселок житково',\n",
       "       'городской поселок виллози', 'деревня лампово',\n",
       "       'деревня шпаньково', 'деревня лаврики', 'поселок сумино',\n",
       "       'поселок возрождение', 'деревня старосиверская',\n",
       "       'поселок кикерино', 'деревня старое хинколово',\n",
       "       'поселок пригородный', 'поселок торфяное',\n",
       "       'городской поселок будогощь', 'поселок суходолье',\n",
       "       'поселок красная долина', 'деревня хапо-ое',\n",
       "       'поселок городского типа дружная горка', 'поселок лисий нос',\n",
       "       'деревня яльгелево', 'село рождествено', 'деревня старополье',\n",
       "       'поселок левашово', 'деревня сяськелево', 'деревня камышовка',\n",
       "       'садоводческое некоммерческое товарищество лесная поляна',\n",
       "       'деревня хязельки', 'поселок жилгородок',\n",
       "       'поселок городского типа павлово', 'деревня ялгино',\n",
       "       'поселок новый учхоз', 'городской поселок рощино',\n",
       "       'поселок гончарово', 'поселок почап', 'поселок саперное',\n",
       "       'поселок платформа 69-й километр', 'поселок каложицы',\n",
       "       'деревня фалилеево', 'деревня пельгора',\n",
       "       'поселок городского типа лесогорский', 'деревня торошковичи',\n",
       "       'поселок белоостров', 'поселок алексеевка', 'поселок серебрянский',\n",
       "       'поселок лукаши', 'деревня щеглово', 'деревня тарасово',\n",
       "       'поселок кингисеппский',\n",
       "       'поселок при железнодорожной станции вещево', 'поселок ушаки',\n",
       "       'деревня котлы', 'деревня сижно', 'деревня торосово',\n",
       "       'поселок форт красная горка', 'деревня новолисино',\n",
       "       'поселок станции громово', 'деревня глинка',\n",
       "       'поселок городского типа назия', 'деревня старая пустошь',\n",
       "       'поселок коммунары', 'поселок починок',\n",
       "       'поселок городского типа вознесенье', 'деревня разбегаево',\n",
       "       'поселок гладкое',\n",
       "       'поселок при железнодорожной станции приветнинское',\n",
       "       'поселок тесово-4', 'деревня бор', 'поселок коробицыно',\n",
       "       'деревня большая вруда', 'деревня курковицы',\n",
       "       'городской поселок советский', 'поселок кобралово',\n",
       "       'деревня суоранда', 'поселок городского типа кондратьево',\n",
       "       'коттеджный поселок счастье', 'поселок любань', 'деревня реброво',\n",
       "       'деревня зимитицы', 'деревня тойворово', 'поселок семиозерье',\n",
       "       'поселок лесное', 'поселок совхозный', 'поселок ленинское',\n",
       "       'поселок суйда', 'деревня нижние осельки', 'поселок станции свирь',\n",
       "       'поселок перово', 'высоцк', 'поселок гарболово', 'село шум',\n",
       "       'поселок котельский', 'поселок станции лужайка',\n",
       "       'деревня большая пустомержа', 'поселок красносельское',\n",
       "       'деревня вахнова кара', 'деревня пижма',\n",
       "       'коттеджный поселок кивеннапа север', 'поселок ромашки',\n",
       "       'деревня каськово', 'деревня куровицы', 'поселок плоское',\n",
       "       'поселок городского типа большая ижора', 'поселок кирпичное',\n",
       "       'деревня ям-тесово', 'деревня раздолье', 'деревня терпилицы',\n",
       "       'поселок шугозеро', 'деревня ваганово', 'поселок пушное',\n",
       "       'садовое товарищество садко', 'поселок усть-ижора',\n",
       "       'деревня выскатка', 'городской поселок свирьстрой',\n",
       "       'поселок громово', 'деревня кисельня', 'деревня трубников бор',\n",
       "       'поселок калитино', 'поселок высокоключевой',\n",
       "       'садовое товарищество приладожский',\n",
       "       'поселок пансионат зеленый бор', 'деревня ненимяки',\n",
       "       'деревня снегиревка', 'деревня рапполово', 'деревня пустынка',\n",
       "       'поселок рабитицы', 'деревня большой сабск', 'деревня русско',\n",
       "       'деревня лупполово', 'деревня большое рейзино',\n",
       "       'деревня малая романовка', 'поселок дружноселье', 'поселок пчевжа',\n",
       "       'поселок володарское', 'деревня нижняя',\n",
       "       'коттеджный поселок лесное', 'деревня тихковицы',\n",
       "       'деревня борисова грива', 'поселок дзержинского'], dtype=object)"
      ]
     },
     "execution_count": 15,
     "metadata": {},
     "output_type": "execute_result"
    }
   ],
   "source": [
    "data['locality_name'].unique()"
   ]
  },
  {
   "cell_type": "markdown",
   "metadata": {},
   "source": [
    "***ПОЯСНЕНИЕ*** Замена всех пропусков на unknown. Перевод всех названий в строчные буквы, замена ё на е. "
   ]
  },
  {
   "cell_type": "code",
   "execution_count": 16,
   "metadata": {},
   "outputs": [],
   "source": [
    "#float\n",
    "data['ceiling_height'] = data['ceiling_height'].fillna(0)"
   ]
  },
  {
   "cell_type": "markdown",
   "metadata": {},
   "source": [
    "***ПОЯСНЕНИЕ*** Все пустующие значения в высоте потолков заполнены 0"
   ]
  },
  {
   "cell_type": "code",
   "execution_count": 17,
   "metadata": {},
   "outputs": [],
   "source": [
    "for name in data['locality_name'].unique():\n",
    "    median = data.loc[data['locality_name'] == name, 'ceiling_height'].median()\n",
    "    data.loc[(data['ceiling_height'].isna()) & (data['locality_name'] == name), 'ceiling_height'] = median\n",
    "\n",
    "data.loc[data['ceiling_height'].isna(), 'ceiling_height'] = data['ceiling_height'].median()\n",
    "\n",
    "for name in data['locality_name'].unique():\n",
    "    median = data.loc[data['locality_name'] == name, 'cityCenters_nearest'].median()\n",
    "    data.loc[(data['cityCenters_nearest'].isna()) & (data['locality_name'] == name), 'cityCenters_nearest'] = median"
   ]
  },
  {
   "cell_type": "code",
   "execution_count": 18,
   "metadata": {},
   "outputs": [],
   "source": [
    "#bool\n",
    "data['is_apartment'] = data['is_apartment'].fillna(False)"
   ]
  },
  {
   "cell_type": "markdown",
   "metadata": {},
   "source": [
    "***ПОЯСНЕНИЕ*** Все пустующие значение заменены на False для перевода в тип данных bool"
   ]
  },
  {
   "cell_type": "code",
   "execution_count": 19,
   "metadata": {},
   "outputs": [],
   "source": [
    "#datetime\n",
    "data['first_day_exposition'] = pd.to_datetime(data['first_day_exposition'])"
   ]
  },
  {
   "cell_type": "markdown",
   "metadata": {},
   "source": [
    "***ПОЯСНЕНИЕ*** Преобразован в формат даты"
   ]
  },
  {
   "cell_type": "code",
   "execution_count": 20,
   "metadata": {},
   "outputs": [
    {
     "data": {
      "text/html": [
       "<div>\n",
       "<style scoped>\n",
       "    .dataframe tbody tr th:only-of-type {\n",
       "        vertical-align: middle;\n",
       "    }\n",
       "\n",
       "    .dataframe tbody tr th {\n",
       "        vertical-align: top;\n",
       "    }\n",
       "\n",
       "    .dataframe thead th {\n",
       "        text-align: right;\n",
       "    }\n",
       "</style>\n",
       "<table border=\"1\" class=\"dataframe\">\n",
       "  <thead>\n",
       "    <tr style=\"text-align: right;\">\n",
       "      <th></th>\n",
       "      <th>total_images</th>\n",
       "      <th>last_price</th>\n",
       "      <th>total_area</th>\n",
       "      <th>first_day_exposition</th>\n",
       "      <th>rooms</th>\n",
       "      <th>ceiling_height</th>\n",
       "      <th>floors_total</th>\n",
       "      <th>living_area</th>\n",
       "      <th>floor</th>\n",
       "      <th>is_apartment</th>\n",
       "      <th>...</th>\n",
       "      <th>kitchen_area</th>\n",
       "      <th>balcony</th>\n",
       "      <th>locality_name</th>\n",
       "      <th>airports_nearest</th>\n",
       "      <th>cityCenters_nearest</th>\n",
       "      <th>parks_around3000</th>\n",
       "      <th>parks_nearest</th>\n",
       "      <th>ponds_around3000</th>\n",
       "      <th>ponds_nearest</th>\n",
       "      <th>days_exposition</th>\n",
       "    </tr>\n",
       "  </thead>\n",
       "  <tbody>\n",
       "    <tr>\n",
       "      <th>0</th>\n",
       "      <td>20</td>\n",
       "      <td>13000000</td>\n",
       "      <td>108.0</td>\n",
       "      <td>2019-03-07</td>\n",
       "      <td>3</td>\n",
       "      <td>2.70</td>\n",
       "      <td>16</td>\n",
       "      <td>51.0</td>\n",
       "      <td>8</td>\n",
       "      <td>False</td>\n",
       "      <td>...</td>\n",
       "      <td>25.0</td>\n",
       "      <td>0</td>\n",
       "      <td>санкт-петербург</td>\n",
       "      <td>18863</td>\n",
       "      <td>16028.0</td>\n",
       "      <td>1</td>\n",
       "      <td>482</td>\n",
       "      <td>2</td>\n",
       "      <td>755</td>\n",
       "      <td>0</td>\n",
       "    </tr>\n",
       "    <tr>\n",
       "      <th>1</th>\n",
       "      <td>7</td>\n",
       "      <td>3350000</td>\n",
       "      <td>40.4</td>\n",
       "      <td>2018-12-04</td>\n",
       "      <td>1</td>\n",
       "      <td>0.00</td>\n",
       "      <td>11</td>\n",
       "      <td>18.6</td>\n",
       "      <td>1</td>\n",
       "      <td>False</td>\n",
       "      <td>...</td>\n",
       "      <td>11.0</td>\n",
       "      <td>2</td>\n",
       "      <td>поселок шушары</td>\n",
       "      <td>12817</td>\n",
       "      <td>18603.0</td>\n",
       "      <td>0</td>\n",
       "      <td>0</td>\n",
       "      <td>0</td>\n",
       "      <td>0</td>\n",
       "      <td>81</td>\n",
       "    </tr>\n",
       "    <tr>\n",
       "      <th>2</th>\n",
       "      <td>10</td>\n",
       "      <td>5196000</td>\n",
       "      <td>56.0</td>\n",
       "      <td>2015-08-20</td>\n",
       "      <td>2</td>\n",
       "      <td>0.00</td>\n",
       "      <td>5</td>\n",
       "      <td>34.3</td>\n",
       "      <td>4</td>\n",
       "      <td>False</td>\n",
       "      <td>...</td>\n",
       "      <td>8.3</td>\n",
       "      <td>0</td>\n",
       "      <td>санкт-петербург</td>\n",
       "      <td>21741</td>\n",
       "      <td>13933.0</td>\n",
       "      <td>1</td>\n",
       "      <td>90</td>\n",
       "      <td>2</td>\n",
       "      <td>574</td>\n",
       "      <td>558</td>\n",
       "    </tr>\n",
       "    <tr>\n",
       "      <th>3</th>\n",
       "      <td>0</td>\n",
       "      <td>64900000</td>\n",
       "      <td>159.0</td>\n",
       "      <td>2015-07-24</td>\n",
       "      <td>3</td>\n",
       "      <td>0.00</td>\n",
       "      <td>14</td>\n",
       "      <td>159.0</td>\n",
       "      <td>9</td>\n",
       "      <td>False</td>\n",
       "      <td>...</td>\n",
       "      <td>0.0</td>\n",
       "      <td>0</td>\n",
       "      <td>санкт-петербург</td>\n",
       "      <td>28098</td>\n",
       "      <td>6800.0</td>\n",
       "      <td>2</td>\n",
       "      <td>84</td>\n",
       "      <td>3</td>\n",
       "      <td>234</td>\n",
       "      <td>424</td>\n",
       "    </tr>\n",
       "    <tr>\n",
       "      <th>4</th>\n",
       "      <td>2</td>\n",
       "      <td>10000000</td>\n",
       "      <td>100.0</td>\n",
       "      <td>2018-06-19</td>\n",
       "      <td>2</td>\n",
       "      <td>3.03</td>\n",
       "      <td>14</td>\n",
       "      <td>32.0</td>\n",
       "      <td>13</td>\n",
       "      <td>False</td>\n",
       "      <td>...</td>\n",
       "      <td>41.0</td>\n",
       "      <td>0</td>\n",
       "      <td>санкт-петербург</td>\n",
       "      <td>31856</td>\n",
       "      <td>8098.0</td>\n",
       "      <td>2</td>\n",
       "      <td>112</td>\n",
       "      <td>1</td>\n",
       "      <td>48</td>\n",
       "      <td>121</td>\n",
       "    </tr>\n",
       "  </tbody>\n",
       "</table>\n",
       "<p>5 rows × 22 columns</p>\n",
       "</div>"
      ],
      "text/plain": [
       "   total_images  last_price  total_area first_day_exposition  rooms  \\\n",
       "0            20    13000000       108.0           2019-03-07      3   \n",
       "1             7     3350000        40.4           2018-12-04      1   \n",
       "2            10     5196000        56.0           2015-08-20      2   \n",
       "3             0    64900000       159.0           2015-07-24      3   \n",
       "4             2    10000000       100.0           2018-06-19      2   \n",
       "\n",
       "   ceiling_height  floors_total  living_area  floor  is_apartment  ...  \\\n",
       "0            2.70            16         51.0      8         False  ...   \n",
       "1            0.00            11         18.6      1         False  ...   \n",
       "2            0.00             5         34.3      4         False  ...   \n",
       "3            0.00            14        159.0      9         False  ...   \n",
       "4            3.03            14         32.0     13         False  ...   \n",
       "\n",
       "   kitchen_area  balcony    locality_name  airports_nearest  \\\n",
       "0          25.0        0  санкт-петербург             18863   \n",
       "1          11.0        2   поселок шушары             12817   \n",
       "2           8.3        0  санкт-петербург             21741   \n",
       "3           0.0        0  санкт-петербург             28098   \n",
       "4          41.0        0  санкт-петербург             31856   \n",
       "\n",
       "  cityCenters_nearest  parks_around3000  parks_nearest  ponds_around3000  \\\n",
       "0             16028.0                 1            482                 2   \n",
       "1             18603.0                 0              0                 0   \n",
       "2             13933.0                 1             90                 2   \n",
       "3              6800.0                 2             84                 3   \n",
       "4              8098.0                 2            112                 1   \n",
       "\n",
       "   ponds_nearest  days_exposition  \n",
       "0            755                0  \n",
       "1              0               81  \n",
       "2            574              558  \n",
       "3            234              424  \n",
       "4             48              121  \n",
       "\n",
       "[5 rows x 22 columns]"
      ]
     },
     "execution_count": 20,
     "metadata": {},
     "output_type": "execute_result"
    }
   ],
   "source": [
    "data.head()"
   ]
  },
  {
   "cell_type": "code",
   "execution_count": 21,
   "metadata": {},
   "outputs": [
    {
     "data": {
      "text/plain": [
       "total_images            0\n",
       "last_price              0\n",
       "total_area              0\n",
       "first_day_exposition    0\n",
       "rooms                   0\n",
       "ceiling_height          0\n",
       "floors_total            0\n",
       "living_area             0\n",
       "floor                   0\n",
       "is_apartment            0\n",
       "studio                  0\n",
       "open_plan               0\n",
       "kitchen_area            0\n",
       "balcony                 0\n",
       "locality_name           0\n",
       "airports_nearest        0\n",
       "cityCenters_nearest     0\n",
       "parks_around3000        0\n",
       "parks_nearest           0\n",
       "ponds_around3000        0\n",
       "ponds_nearest           0\n",
       "days_exposition         0\n",
       "dtype: int64"
      ]
     },
     "execution_count": 21,
     "metadata": {},
     "output_type": "execute_result"
    }
   ],
   "source": [
    "data.isna().sum()"
   ]
  },
  {
   "cell_type": "code",
   "execution_count": 22,
   "metadata": {},
   "outputs": [
    {
     "data": {
      "text/plain": [
       "total_images                     int64\n",
       "last_price                       int64\n",
       "total_area                     float64\n",
       "first_day_exposition    datetime64[ns]\n",
       "rooms                            int64\n",
       "ceiling_height                 float64\n",
       "floors_total                     int64\n",
       "living_area                    float64\n",
       "floor                            int64\n",
       "is_apartment                      bool\n",
       "studio                            bool\n",
       "open_plan                         bool\n",
       "kitchen_area                   float64\n",
       "balcony                          int64\n",
       "locality_name                   object\n",
       "airports_nearest                 int64\n",
       "cityCenters_nearest            float64\n",
       "parks_around3000                 int64\n",
       "parks_nearest                    int64\n",
       "ponds_around3000                 int64\n",
       "ponds_nearest                    int64\n",
       "days_exposition                  int64\n",
       "dtype: object"
      ]
     },
     "execution_count": 22,
     "metadata": {},
     "output_type": "execute_result"
    }
   ],
   "source": [
    "data.dtypes"
   ]
  },
  {
   "cell_type": "code",
   "execution_count": 23,
   "metadata": {
    "scrolled": true
   },
   "outputs": [
    {
     "data": {
      "text/plain": [
       "0"
      ]
     },
     "execution_count": 23,
     "metadata": {},
     "output_type": "execute_result"
    }
   ],
   "source": [
    "data.duplicated().sum()"
   ]
  },
  {
   "cell_type": "markdown",
   "metadata": {},
   "source": [
    "***ПОЯСНЕНИЕ*** Пропуски устранены, форматы преобразованы, дубликаты не найдены, неявные дубликаты в наименовании преобразованы вручную."
   ]
  },
  {
   "cell_type": "markdown",
   "metadata": {},
   "source": [
    "***4 ЗАДАНИЕ***\n",
    "\n",
    "Найдите и устраните редкие и выбивающиеся значения.\n",
    "\n",
    "Например, в столбце ceiling_height может быть указана высота\n",
    "потолков 25 м и 32 м. Логично предположить, что на самом деле\n",
    "это вещественные значения: 2.5 м и 3.2 м. Попробуйте\n",
    "обработать аномалии в этом и других столбцах.\n",
    "\n",
    "○ Если природа аномалии понятна и данные действительно\n",
    "искажены, то восстановите корректное значение.\n",
    "\n",
    "○ В противном случае удалите редкие и выбивающиеся\n",
    "значения.\n",
    "\n",
    "○ В ячейке с типом markdown опишите, какие особенности в\n",
    "данных вы обнаружили."
   ]
  },
  {
   "cell_type": "code",
   "execution_count": 24,
   "metadata": {},
   "outputs": [
    {
     "data": {
      "text/plain": [
       "array([  0.  ,   1.  ,   1.2 ,   1.75,   2.  ,   2.2 ,   2.25,   2.3 ,\n",
       "         2.34,   2.4 ,   2.45,   2.46,   2.47,   2.48,   2.49,   2.5 ,\n",
       "         2.51,   2.52,   2.53,   2.54,   2.55,   2.56,   2.57,   2.58,\n",
       "         2.59,   2.6 ,   2.61,   2.62,   2.63,   2.64,   2.65,   2.66,\n",
       "         2.67,   2.68,   2.69,   2.7 ,   2.71,   2.72,   2.73,   2.74,\n",
       "         2.75,   2.76,   2.77,   2.78,   2.79,   2.8 ,   2.81,   2.82,\n",
       "         2.83,   2.84,   2.85,   2.86,   2.87,   2.88,   2.89,   2.9 ,\n",
       "         2.91,   2.92,   2.93,   2.94,   2.95,   2.96,   2.97,   2.98,\n",
       "         2.99,   3.  ,   3.01,   3.02,   3.03,   3.04,   3.05,   3.06,\n",
       "         3.07,   3.08,   3.09,   3.1 ,   3.11,   3.12,   3.13,   3.14,\n",
       "         3.15,   3.16,   3.17,   3.18,   3.2 ,   3.21,   3.22,   3.23,\n",
       "         3.24,   3.25,   3.26,   3.27,   3.28,   3.29,   3.3 ,   3.31,\n",
       "         3.32,   3.33,   3.34,   3.35,   3.36,   3.37,   3.38,   3.39,\n",
       "         3.4 ,   3.42,   3.43,   3.44,   3.45,   3.46,   3.47,   3.48,\n",
       "         3.49,   3.5 ,   3.51,   3.52,   3.53,   3.54,   3.55,   3.56,\n",
       "         3.57,   3.58,   3.59,   3.6 ,   3.62,   3.63,   3.65,   3.66,\n",
       "         3.67,   3.68,   3.69,   3.7 ,   3.75,   3.76,   3.78,   3.8 ,\n",
       "         3.82,   3.83,   3.84,   3.85,   3.86,   3.87,   3.88,   3.9 ,\n",
       "         3.93,   3.95,   3.98,   4.  ,   4.06,   4.1 ,   4.14,   4.15,\n",
       "         4.19,   4.2 ,   4.25,   4.3 ,   4.37,   4.4 ,   4.45,   4.5 ,\n",
       "         4.65,   4.7 ,   4.8 ,   4.9 ,   5.  ,   5.2 ,   5.3 ,   5.5 ,\n",
       "         5.6 ,   5.8 ,   6.  ,   8.  ,   8.3 ,  10.3 ,  14.  ,  20.  ,\n",
       "        22.6 ,  24.  ,  25.  ,  26.  ,  27.  ,  27.5 ,  32.  , 100.  ])"
      ]
     },
     "execution_count": 24,
     "metadata": {},
     "output_type": "execute_result"
    }
   ],
   "source": [
    "data.sort_values('ceiling_height')['ceiling_height'].unique()"
   ]
  },
  {
   "cell_type": "code",
   "execution_count": 25,
   "metadata": {},
   "outputs": [],
   "source": [
    "data.loc[data['ceiling_height'] >= 20, 'ceiling_height'] = data.loc[data['ceiling_height'] >= 20, 'ceiling_height'] / 10"
   ]
  },
  {
   "cell_type": "code",
   "execution_count": 26,
   "metadata": {},
   "outputs": [
    {
     "data": {
      "text/plain": [
       "array([ 0.  ,  1.  ,  1.2 ,  1.75,  2.  ,  2.2 ,  2.25,  2.26,  2.3 ,\n",
       "        2.34,  2.4 ,  2.45,  2.46,  2.47,  2.48,  2.49,  2.5 ,  2.51,\n",
       "        2.52,  2.53,  2.54,  2.55,  2.56,  2.57,  2.58,  2.59,  2.6 ,\n",
       "        2.61,  2.62,  2.63,  2.64,  2.65,  2.66,  2.67,  2.68,  2.69,\n",
       "        2.7 ,  2.71,  2.72,  2.73,  2.74,  2.75,  2.76,  2.77,  2.78,\n",
       "        2.79,  2.8 ,  2.81,  2.82,  2.83,  2.84,  2.85,  2.86,  2.87,\n",
       "        2.88,  2.89,  2.9 ,  2.91,  2.92,  2.93,  2.94,  2.95,  2.96,\n",
       "        2.97,  2.98,  2.99,  3.  ,  3.01,  3.02,  3.03,  3.04,  3.05,\n",
       "        3.06,  3.07,  3.08,  3.09,  3.1 ,  3.11,  3.12,  3.13,  3.14,\n",
       "        3.15,  3.16,  3.17,  3.18,  3.2 ,  3.21,  3.22,  3.23,  3.24,\n",
       "        3.25,  3.26,  3.27,  3.28,  3.29,  3.3 ,  3.31,  3.32,  3.33,\n",
       "        3.34,  3.35,  3.36,  3.37,  3.38,  3.39,  3.4 ,  3.42,  3.43,\n",
       "        3.44,  3.45,  3.46,  3.47,  3.48,  3.49,  3.5 ,  3.51,  3.52,\n",
       "        3.53,  3.54,  3.55,  3.56,  3.57,  3.58,  3.59,  3.6 ,  3.62,\n",
       "        3.63,  3.65,  3.66,  3.67,  3.68,  3.69,  3.7 ,  3.75,  3.76,\n",
       "        3.78,  3.8 ,  3.82,  3.83,  3.84,  3.85,  3.86,  3.87,  3.88,\n",
       "        3.9 ,  3.93,  3.95,  3.98,  4.  ,  4.06,  4.1 ,  4.14,  4.15,\n",
       "        4.19,  4.2 ,  4.25,  4.3 ,  4.37,  4.4 ,  4.45,  4.5 ,  4.65,\n",
       "        4.7 ,  4.8 ,  4.9 ,  5.  ,  5.2 ,  5.3 ,  5.5 ,  5.6 ,  5.8 ,\n",
       "        6.  ,  8.  ,  8.3 , 10.  , 10.3 , 14.  ])"
      ]
     },
     "execution_count": 26,
     "metadata": {},
     "output_type": "execute_result"
    }
   ],
   "source": [
    "data.sort_values('ceiling_height')['ceiling_height'].unique()"
   ]
  },
  {
   "cell_type": "code",
   "execution_count": 27,
   "metadata": {},
   "outputs": [
    {
     "data": {
      "text/plain": [
       "array([ 0,  1,  2,  3,  4,  5,  6,  7,  8,  9, 10, 11, 12, 13, 14, 15, 16,\n",
       "       17, 18, 19, 20, 21, 22, 23, 24, 25, 26, 27, 28, 29, 33, 34, 35, 36,\n",
       "       37, 52, 60])"
      ]
     },
     "execution_count": 27,
     "metadata": {},
     "output_type": "execute_result"
    }
   ],
   "source": [
    "data.sort_values('floors_total')['floors_total'].unique()"
   ]
  },
  {
   "cell_type": "code",
   "execution_count": 28,
   "metadata": {},
   "outputs": [
    {
     "data": {
      "text/html": [
       "<div>\n",
       "<style scoped>\n",
       "    .dataframe tbody tr th:only-of-type {\n",
       "        vertical-align: middle;\n",
       "    }\n",
       "\n",
       "    .dataframe tbody tr th {\n",
       "        vertical-align: top;\n",
       "    }\n",
       "\n",
       "    .dataframe thead th {\n",
       "        text-align: right;\n",
       "    }\n",
       "</style>\n",
       "<table border=\"1\" class=\"dataframe\">\n",
       "  <thead>\n",
       "    <tr style=\"text-align: right;\">\n",
       "      <th></th>\n",
       "      <th>total_images</th>\n",
       "      <th>last_price</th>\n",
       "      <th>total_area</th>\n",
       "      <th>first_day_exposition</th>\n",
       "      <th>rooms</th>\n",
       "      <th>ceiling_height</th>\n",
       "      <th>floors_total</th>\n",
       "      <th>living_area</th>\n",
       "      <th>floor</th>\n",
       "      <th>is_apartment</th>\n",
       "      <th>...</th>\n",
       "      <th>kitchen_area</th>\n",
       "      <th>balcony</th>\n",
       "      <th>locality_name</th>\n",
       "      <th>airports_nearest</th>\n",
       "      <th>cityCenters_nearest</th>\n",
       "      <th>parks_around3000</th>\n",
       "      <th>parks_nearest</th>\n",
       "      <th>ponds_around3000</th>\n",
       "      <th>ponds_nearest</th>\n",
       "      <th>days_exposition</th>\n",
       "    </tr>\n",
       "  </thead>\n",
       "  <tbody>\n",
       "    <tr>\n",
       "      <th>18054</th>\n",
       "      <td>1</td>\n",
       "      <td>3300000</td>\n",
       "      <td>34.5</td>\n",
       "      <td>2018-02-26</td>\n",
       "      <td>1</td>\n",
       "      <td>0.00</td>\n",
       "      <td>21</td>\n",
       "      <td>19.9</td>\n",
       "      <td>13</td>\n",
       "      <td>False</td>\n",
       "      <td>...</td>\n",
       "      <td>14.60</td>\n",
       "      <td>2</td>\n",
       "      <td>санкт-петербург</td>\n",
       "      <td>35124</td>\n",
       "      <td>15426.0</td>\n",
       "      <td>2</td>\n",
       "      <td>440</td>\n",
       "      <td>3</td>\n",
       "      <td>82</td>\n",
       "      <td>16</td>\n",
       "    </tr>\n",
       "    <tr>\n",
       "      <th>6831</th>\n",
       "      <td>7</td>\n",
       "      <td>6700000</td>\n",
       "      <td>43.0</td>\n",
       "      <td>2017-05-12</td>\n",
       "      <td>2</td>\n",
       "      <td>0.00</td>\n",
       "      <td>21</td>\n",
       "      <td>30.0</td>\n",
       "      <td>9</td>\n",
       "      <td>False</td>\n",
       "      <td>...</td>\n",
       "      <td>5.00</td>\n",
       "      <td>2</td>\n",
       "      <td>санкт-петербург</td>\n",
       "      <td>18893</td>\n",
       "      <td>4358.0</td>\n",
       "      <td>0</td>\n",
       "      <td>0</td>\n",
       "      <td>1</td>\n",
       "      <td>665</td>\n",
       "      <td>270</td>\n",
       "    </tr>\n",
       "    <tr>\n",
       "      <th>8218</th>\n",
       "      <td>4</td>\n",
       "      <td>6650000</td>\n",
       "      <td>63.5</td>\n",
       "      <td>2018-02-01</td>\n",
       "      <td>2</td>\n",
       "      <td>0.00</td>\n",
       "      <td>21</td>\n",
       "      <td>37.0</td>\n",
       "      <td>13</td>\n",
       "      <td>False</td>\n",
       "      <td>...</td>\n",
       "      <td>11.00</td>\n",
       "      <td>0</td>\n",
       "      <td>санкт-петербург</td>\n",
       "      <td>10534</td>\n",
       "      <td>12437.0</td>\n",
       "      <td>1</td>\n",
       "      <td>284</td>\n",
       "      <td>1</td>\n",
       "      <td>653</td>\n",
       "      <td>125</td>\n",
       "    </tr>\n",
       "    <tr>\n",
       "      <th>11756</th>\n",
       "      <td>6</td>\n",
       "      <td>5830007</td>\n",
       "      <td>88.9</td>\n",
       "      <td>2015-03-10</td>\n",
       "      <td>3</td>\n",
       "      <td>2.70</td>\n",
       "      <td>21</td>\n",
       "      <td>49.9</td>\n",
       "      <td>10</td>\n",
       "      <td>False</td>\n",
       "      <td>...</td>\n",
       "      <td>14.70</td>\n",
       "      <td>0</td>\n",
       "      <td>санкт-петербург</td>\n",
       "      <td>21793</td>\n",
       "      <td>17121.0</td>\n",
       "      <td>0</td>\n",
       "      <td>0</td>\n",
       "      <td>1</td>\n",
       "      <td>31</td>\n",
       "      <td>1099</td>\n",
       "    </tr>\n",
       "    <tr>\n",
       "      <th>6860</th>\n",
       "      <td>0</td>\n",
       "      <td>10000000</td>\n",
       "      <td>66.0</td>\n",
       "      <td>2016-05-28</td>\n",
       "      <td>2</td>\n",
       "      <td>0.00</td>\n",
       "      <td>21</td>\n",
       "      <td>39.0</td>\n",
       "      <td>11</td>\n",
       "      <td>False</td>\n",
       "      <td>...</td>\n",
       "      <td>9.00</td>\n",
       "      <td>1</td>\n",
       "      <td>санкт-петербург</td>\n",
       "      <td>30954</td>\n",
       "      <td>8248.0</td>\n",
       "      <td>0</td>\n",
       "      <td>0</td>\n",
       "      <td>2</td>\n",
       "      <td>495</td>\n",
       "      <td>20</td>\n",
       "    </tr>\n",
       "    <tr>\n",
       "      <th>...</th>\n",
       "      <td>...</td>\n",
       "      <td>...</td>\n",
       "      <td>...</td>\n",
       "      <td>...</td>\n",
       "      <td>...</td>\n",
       "      <td>...</td>\n",
       "      <td>...</td>\n",
       "      <td>...</td>\n",
       "      <td>...</td>\n",
       "      <td>...</td>\n",
       "      <td>...</td>\n",
       "      <td>...</td>\n",
       "      <td>...</td>\n",
       "      <td>...</td>\n",
       "      <td>...</td>\n",
       "      <td>...</td>\n",
       "      <td>...</td>\n",
       "      <td>...</td>\n",
       "      <td>...</td>\n",
       "      <td>...</td>\n",
       "      <td>...</td>\n",
       "    </tr>\n",
       "    <tr>\n",
       "      <th>11079</th>\n",
       "      <td>16</td>\n",
       "      <td>9200000</td>\n",
       "      <td>75.0</td>\n",
       "      <td>2019-02-22</td>\n",
       "      <td>2</td>\n",
       "      <td>2.70</td>\n",
       "      <td>36</td>\n",
       "      <td>40.0</td>\n",
       "      <td>29</td>\n",
       "      <td>False</td>\n",
       "      <td>...</td>\n",
       "      <td>12.00</td>\n",
       "      <td>2</td>\n",
       "      <td>санкт-петербург</td>\n",
       "      <td>18732</td>\n",
       "      <td>20444.0</td>\n",
       "      <td>0</td>\n",
       "      <td>0</td>\n",
       "      <td>3</td>\n",
       "      <td>80</td>\n",
       "      <td>0</td>\n",
       "    </tr>\n",
       "    <tr>\n",
       "      <th>397</th>\n",
       "      <td>15</td>\n",
       "      <td>5990000</td>\n",
       "      <td>54.0</td>\n",
       "      <td>2018-03-22</td>\n",
       "      <td>2</td>\n",
       "      <td>0.00</td>\n",
       "      <td>36</td>\n",
       "      <td>21.4</td>\n",
       "      <td>28</td>\n",
       "      <td>False</td>\n",
       "      <td>...</td>\n",
       "      <td>18.70</td>\n",
       "      <td>1</td>\n",
       "      <td>санкт-петербург</td>\n",
       "      <td>18732</td>\n",
       "      <td>20444.0</td>\n",
       "      <td>0</td>\n",
       "      <td>0</td>\n",
       "      <td>3</td>\n",
       "      <td>80</td>\n",
       "      <td>11</td>\n",
       "    </tr>\n",
       "    <tr>\n",
       "      <th>16934</th>\n",
       "      <td>5</td>\n",
       "      <td>4100000</td>\n",
       "      <td>40.0</td>\n",
       "      <td>2017-10-17</td>\n",
       "      <td>1</td>\n",
       "      <td>1.75</td>\n",
       "      <td>37</td>\n",
       "      <td>17.4</td>\n",
       "      <td>5</td>\n",
       "      <td>False</td>\n",
       "      <td>...</td>\n",
       "      <td>8.34</td>\n",
       "      <td>0</td>\n",
       "      <td>санкт-петербург</td>\n",
       "      <td>18732</td>\n",
       "      <td>20444.0</td>\n",
       "      <td>0</td>\n",
       "      <td>0</td>\n",
       "      <td>3</td>\n",
       "      <td>80</td>\n",
       "      <td>71</td>\n",
       "    </tr>\n",
       "    <tr>\n",
       "      <th>16731</th>\n",
       "      <td>9</td>\n",
       "      <td>3978000</td>\n",
       "      <td>40.0</td>\n",
       "      <td>2018-09-24</td>\n",
       "      <td>1</td>\n",
       "      <td>2.65</td>\n",
       "      <td>52</td>\n",
       "      <td>10.5</td>\n",
       "      <td>18</td>\n",
       "      <td>False</td>\n",
       "      <td>...</td>\n",
       "      <td>14.00</td>\n",
       "      <td>0</td>\n",
       "      <td>санкт-петербург</td>\n",
       "      <td>20728</td>\n",
       "      <td>12978.0</td>\n",
       "      <td>1</td>\n",
       "      <td>793</td>\n",
       "      <td>0</td>\n",
       "      <td>0</td>\n",
       "      <td>45</td>\n",
       "    </tr>\n",
       "    <tr>\n",
       "      <th>2253</th>\n",
       "      <td>12</td>\n",
       "      <td>3800000</td>\n",
       "      <td>45.5</td>\n",
       "      <td>2018-06-28</td>\n",
       "      <td>2</td>\n",
       "      <td>2.88</td>\n",
       "      <td>60</td>\n",
       "      <td>27.4</td>\n",
       "      <td>4</td>\n",
       "      <td>False</td>\n",
       "      <td>...</td>\n",
       "      <td>7.40</td>\n",
       "      <td>0</td>\n",
       "      <td>кронштадт</td>\n",
       "      <td>67763</td>\n",
       "      <td>49488.0</td>\n",
       "      <td>2</td>\n",
       "      <td>342</td>\n",
       "      <td>3</td>\n",
       "      <td>614</td>\n",
       "      <td>166</td>\n",
       "    </tr>\n",
       "  </tbody>\n",
       "</table>\n",
       "<p>2682 rows × 22 columns</p>\n",
       "</div>"
      ],
      "text/plain": [
       "       total_images  last_price  total_area first_day_exposition  rooms  \\\n",
       "18054             1     3300000        34.5           2018-02-26      1   \n",
       "6831              7     6700000        43.0           2017-05-12      2   \n",
       "8218              4     6650000        63.5           2018-02-01      2   \n",
       "11756             6     5830007        88.9           2015-03-10      3   \n",
       "6860              0    10000000        66.0           2016-05-28      2   \n",
       "...             ...         ...         ...                  ...    ...   \n",
       "11079            16     9200000        75.0           2019-02-22      2   \n",
       "397              15     5990000        54.0           2018-03-22      2   \n",
       "16934             5     4100000        40.0           2017-10-17      1   \n",
       "16731             9     3978000        40.0           2018-09-24      1   \n",
       "2253             12     3800000        45.5           2018-06-28      2   \n",
       "\n",
       "       ceiling_height  floors_total  living_area  floor  is_apartment  ...  \\\n",
       "18054            0.00            21         19.9     13         False  ...   \n",
       "6831             0.00            21         30.0      9         False  ...   \n",
       "8218             0.00            21         37.0     13         False  ...   \n",
       "11756            2.70            21         49.9     10         False  ...   \n",
       "6860             0.00            21         39.0     11         False  ...   \n",
       "...               ...           ...          ...    ...           ...  ...   \n",
       "11079            2.70            36         40.0     29         False  ...   \n",
       "397              0.00            36         21.4     28         False  ...   \n",
       "16934            1.75            37         17.4      5         False  ...   \n",
       "16731            2.65            52         10.5     18         False  ...   \n",
       "2253             2.88            60         27.4      4         False  ...   \n",
       "\n",
       "       kitchen_area  balcony    locality_name  airports_nearest  \\\n",
       "18054         14.60        2  санкт-петербург             35124   \n",
       "6831           5.00        2  санкт-петербург             18893   \n",
       "8218          11.00        0  санкт-петербург             10534   \n",
       "11756         14.70        0  санкт-петербург             21793   \n",
       "6860           9.00        1  санкт-петербург             30954   \n",
       "...             ...      ...              ...               ...   \n",
       "11079         12.00        2  санкт-петербург             18732   \n",
       "397           18.70        1  санкт-петербург             18732   \n",
       "16934          8.34        0  санкт-петербург             18732   \n",
       "16731         14.00        0  санкт-петербург             20728   \n",
       "2253           7.40        0        кронштадт             67763   \n",
       "\n",
       "      cityCenters_nearest  parks_around3000  parks_nearest  ponds_around3000  \\\n",
       "18054             15426.0                 2            440                 3   \n",
       "6831               4358.0                 0              0                 1   \n",
       "8218              12437.0                 1            284                 1   \n",
       "11756             17121.0                 0              0                 1   \n",
       "6860               8248.0                 0              0                 2   \n",
       "...                   ...               ...            ...               ...   \n",
       "11079             20444.0                 0              0                 3   \n",
       "397               20444.0                 0              0                 3   \n",
       "16934             20444.0                 0              0                 3   \n",
       "16731             12978.0                 1            793                 0   \n",
       "2253              49488.0                 2            342                 3   \n",
       "\n",
       "       ponds_nearest  days_exposition  \n",
       "18054             82               16  \n",
       "6831             665              270  \n",
       "8218             653              125  \n",
       "11756             31             1099  \n",
       "6860             495               20  \n",
       "...              ...              ...  \n",
       "11079             80                0  \n",
       "397               80               11  \n",
       "16934             80               71  \n",
       "16731              0               45  \n",
       "2253             614              166  \n",
       "\n",
       "[2682 rows x 22 columns]"
      ]
     },
     "execution_count": 28,
     "metadata": {},
     "output_type": "execute_result"
    }
   ],
   "source": [
    "data.sort_values('floors_total').query('floors_total > 20')"
   ]
  },
  {
   "cell_type": "code",
   "execution_count": 29,
   "metadata": {},
   "outputs": [
    {
     "data": {
      "text/plain": [
       "<AxesSubplot:>"
      ]
     },
     "execution_count": 29,
     "metadata": {},
     "output_type": "execute_result"
    },
    {
     "data": {
      "image/png": "[encoded data removed]",
      "text/plain": [
       "<Figure size 432x288 with 1 Axes>"
      ]
     },
     "metadata": {
      "needs_background": "light"
     },
     "output_type": "display_data"
    }
   ],
   "source": [
    "data.boxplot(column='floors_total')"
   ]
  },
  {
   "cell_type": "code",
   "execution_count": 30,
   "metadata": {},
   "outputs": [
    {
     "data": {
      "text/plain": [
       "<AxesSubplot:>"
      ]
     },
     "execution_count": 30,
     "metadata": {},
     "output_type": "execute_result"
    },
    {
     "data": {
      "image/png": "[encoded data removed]",
      "text/plain": [
       "<Figure size 720x720 with 1 Axes>"
      ]
     },
     "metadata": {
      "needs_background": "light"
     },
     "output_type": "display_data"
    }
   ],
   "source": [
    "data.boxplot(column='ceiling_height', figsize=(10, 10))"
   ]
  },
  {
   "cell_type": "code",
   "execution_count": 31,
   "metadata": {},
   "outputs": [
    {
     "data": {
      "text/html": [
       "<div>\n",
       "<style scoped>\n",
       "    .dataframe tbody tr th:only-of-type {\n",
       "        vertical-align: middle;\n",
       "    }\n",
       "\n",
       "    .dataframe tbody tr th {\n",
       "        vertical-align: top;\n",
       "    }\n",
       "\n",
       "    .dataframe thead th {\n",
       "        text-align: right;\n",
       "    }\n",
       "</style>\n",
       "<table border=\"1\" class=\"dataframe\">\n",
       "  <thead>\n",
       "    <tr style=\"text-align: right;\">\n",
       "      <th></th>\n",
       "      <th>total_images</th>\n",
       "      <th>last_price</th>\n",
       "      <th>total_area</th>\n",
       "      <th>first_day_exposition</th>\n",
       "      <th>rooms</th>\n",
       "      <th>ceiling_height</th>\n",
       "      <th>floors_total</th>\n",
       "      <th>living_area</th>\n",
       "      <th>floor</th>\n",
       "      <th>is_apartment</th>\n",
       "      <th>...</th>\n",
       "      <th>kitchen_area</th>\n",
       "      <th>balcony</th>\n",
       "      <th>locality_name</th>\n",
       "      <th>airports_nearest</th>\n",
       "      <th>cityCenters_nearest</th>\n",
       "      <th>parks_around3000</th>\n",
       "      <th>parks_nearest</th>\n",
       "      <th>ponds_around3000</th>\n",
       "      <th>ponds_nearest</th>\n",
       "      <th>days_exposition</th>\n",
       "    </tr>\n",
       "  </thead>\n",
       "  <tbody>\n",
       "    <tr>\n",
       "      <th>2253</th>\n",
       "      <td>12</td>\n",
       "      <td>3800000</td>\n",
       "      <td>45.5</td>\n",
       "      <td>2018-06-28</td>\n",
       "      <td>2</td>\n",
       "      <td>2.88</td>\n",
       "      <td>60</td>\n",
       "      <td>27.4</td>\n",
       "      <td>4</td>\n",
       "      <td>False</td>\n",
       "      <td>...</td>\n",
       "      <td>7.4</td>\n",
       "      <td>0</td>\n",
       "      <td>кронштадт</td>\n",
       "      <td>67763</td>\n",
       "      <td>49488.0</td>\n",
       "      <td>2</td>\n",
       "      <td>342</td>\n",
       "      <td>3</td>\n",
       "      <td>614</td>\n",
       "      <td>166</td>\n",
       "    </tr>\n",
       "  </tbody>\n",
       "</table>\n",
       "<p>1 rows × 22 columns</p>\n",
       "</div>"
      ],
      "text/plain": [
       "      total_images  last_price  total_area first_day_exposition  rooms  \\\n",
       "2253            12     3800000        45.5           2018-06-28      2   \n",
       "\n",
       "      ceiling_height  floors_total  living_area  floor  is_apartment  ...  \\\n",
       "2253            2.88            60         27.4      4         False  ...   \n",
       "\n",
       "      kitchen_area  balcony  locality_name  airports_nearest  \\\n",
       "2253           7.4        0      кронштадт             67763   \n",
       "\n",
       "     cityCenters_nearest  parks_around3000  parks_nearest  ponds_around3000  \\\n",
       "2253             49488.0                 2            342                 3   \n",
       "\n",
       "      ponds_nearest  days_exposition  \n",
       "2253            614              166  \n",
       "\n",
       "[1 rows x 22 columns]"
      ]
     },
     "execution_count": 31,
     "metadata": {},
     "output_type": "execute_result"
    }
   ],
   "source": [
    "data.query('floors_total == 60')"
   ]
  },
  {
   "cell_type": "code",
   "execution_count": 32,
   "metadata": {},
   "outputs": [],
   "source": [
    "data.loc[data['floors_total'] == 60, 'floors_total'] = data.loc[data['floors_total'] == 60, 'floors_total'] / 10"
   ]
  },
  {
   "cell_type": "code",
   "execution_count": 33,
   "metadata": {},
   "outputs": [
    {
     "data": {
      "text/html": [
       "<div>\n",
       "<style scoped>\n",
       "    .dataframe tbody tr th:only-of-type {\n",
       "        vertical-align: middle;\n",
       "    }\n",
       "\n",
       "    .dataframe tbody tr th {\n",
       "        vertical-align: top;\n",
       "    }\n",
       "\n",
       "    .dataframe thead th {\n",
       "        text-align: right;\n",
       "    }\n",
       "</style>\n",
       "<table border=\"1\" class=\"dataframe\">\n",
       "  <thead>\n",
       "    <tr style=\"text-align: right;\">\n",
       "      <th></th>\n",
       "      <th>total_images</th>\n",
       "      <th>last_price</th>\n",
       "      <th>total_area</th>\n",
       "      <th>first_day_exposition</th>\n",
       "      <th>rooms</th>\n",
       "      <th>ceiling_height</th>\n",
       "      <th>floors_total</th>\n",
       "      <th>living_area</th>\n",
       "      <th>floor</th>\n",
       "      <th>is_apartment</th>\n",
       "      <th>...</th>\n",
       "      <th>kitchen_area</th>\n",
       "      <th>balcony</th>\n",
       "      <th>locality_name</th>\n",
       "      <th>airports_nearest</th>\n",
       "      <th>cityCenters_nearest</th>\n",
       "      <th>parks_around3000</th>\n",
       "      <th>parks_nearest</th>\n",
       "      <th>ponds_around3000</th>\n",
       "      <th>ponds_nearest</th>\n",
       "      <th>days_exposition</th>\n",
       "    </tr>\n",
       "  </thead>\n",
       "  <tbody>\n",
       "  </tbody>\n",
       "</table>\n",
       "<p>0 rows × 22 columns</p>\n",
       "</div>"
      ],
      "text/plain": [
       "Empty DataFrame\n",
       "Columns: [total_images, last_price, total_area, first_day_exposition, rooms, ceiling_height, floors_total, living_area, floor, is_apartment, studio, open_plan, kitchen_area, balcony, locality_name, airports_nearest, cityCenters_nearest, parks_around3000, parks_nearest, ponds_around3000, ponds_nearest, days_exposition]\n",
       "Index: []\n",
       "\n",
       "[0 rows x 22 columns]"
      ]
     },
     "execution_count": 33,
     "metadata": {},
     "output_type": "execute_result"
    }
   ],
   "source": [
    "data.query('floors_total == 60')"
   ]
  },
  {
   "cell_type": "markdown",
   "metadata": {},
   "source": [
    "***ПОЯСНЕНИЯ*** \n",
    "\n",
    "Замена значений при высоте потолков >=20 ceiling_height/10\n",
    "\n",
    "Замена значений при этажности зданий = 60 floors_total/10 \n",
    "Предварительно проверено этаж floor объекта(4 этаж), что не противоречит тому, что вернее всего ошибка в указании этажности здания в 60 этажей floors_total.\n",
    "\n",
    "Остальная этажность floors_total> 20 визуально указана верно, т.к. указан floor достаточно высокий."
   ]
  },
  {
   "cell_type": "markdown",
   "metadata": {},
   "source": [
    "Добавьте в таблицу новые столбцы со следующими\n",
    "параметрами:\n",
    "\n",
    "● цена одного квадратного метра;\n",
    "\n",
    "● день недели публикации объявления (0 — понедельник, 1 —\n",
    "вторник и так далее);\n",
    "\n",
    "● месяц публикации объявления;\n",
    "\n",
    "● год публикации объявления;\n",
    "\n",
    "● тип этажа квартиры (значения — « первый», «последний»,\n",
    "«другой»);\n",
    "\n",
    "● расстояние до центра города в километрах (переведите из м в км\n",
    "и округлите до целых значений)."
   ]
  },
  {
   "cell_type": "code",
   "execution_count": 34,
   "metadata": {},
   "outputs": [],
   "source": [
    "data['price_one_metre'] = round(data['last_price']/data['total_area'])"
   ]
  },
  {
   "cell_type": "code",
   "execution_count": 35,
   "metadata": {},
   "outputs": [],
   "source": [
    "data['weekday'] = pd.DatetimeIndex(data['first_day_exposition']).weekday"
   ]
  },
  {
   "cell_type": "code",
   "execution_count": 36,
   "metadata": {},
   "outputs": [],
   "source": [
    "data['month'] = pd.DatetimeIndex(data['first_day_exposition']).month"
   ]
  },
  {
   "cell_type": "code",
   "execution_count": 37,
   "metadata": {},
   "outputs": [],
   "source": [
    "data['year'] = pd.DatetimeIndex(data['first_day_exposition']).year"
   ]
  },
  {
   "cell_type": "code",
   "execution_count": 38,
   "metadata": {},
   "outputs": [],
   "source": [
    "def type_floor(row):\n",
    "    if row['floor'] == 1:\n",
    "        return 'первый'\n",
    "    elif row['floor'] == row['floors_total']:\n",
    "        return 'последний'\n",
    "    else:\n",
    "        return 'другой'\n",
    "     \n",
    "data['type_floor'] = data.apply(type_floor, axis=1)"
   ]
  },
  {
   "cell_type": "code",
   "execution_count": 39,
   "metadata": {},
   "outputs": [],
   "source": [
    "data['cityCenters_nearest_km'] = data['cityCenters_nearest'] /1000"
   ]
  },
  {
   "cell_type": "code",
   "execution_count": 40,
   "metadata": {},
   "outputs": [],
   "source": [
    "data['cityCenters_nearest_km'] = data['cityCenters_nearest_km'].round()"
   ]
  },
  {
   "cell_type": "code",
   "execution_count": 41,
   "metadata": {
    "scrolled": true
   },
   "outputs": [
    {
     "data": {
      "text/html": [
       "<div>\n",
       "<style scoped>\n",
       "    .dataframe tbody tr th:only-of-type {\n",
       "        vertical-align: middle;\n",
       "    }\n",
       "\n",
       "    .dataframe tbody tr th {\n",
       "        vertical-align: top;\n",
       "    }\n",
       "\n",
       "    .dataframe thead th {\n",
       "        text-align: right;\n",
       "    }\n",
       "</style>\n",
       "<table border=\"1\" class=\"dataframe\">\n",
       "  <thead>\n",
       "    <tr style=\"text-align: right;\">\n",
       "      <th></th>\n",
       "      <th>total_images</th>\n",
       "      <th>last_price</th>\n",
       "      <th>total_area</th>\n",
       "      <th>first_day_exposition</th>\n",
       "      <th>rooms</th>\n",
       "      <th>ceiling_height</th>\n",
       "      <th>floors_total</th>\n",
       "      <th>living_area</th>\n",
       "      <th>floor</th>\n",
       "      <th>is_apartment</th>\n",
       "      <th>...</th>\n",
       "      <th>parks_nearest</th>\n",
       "      <th>ponds_around3000</th>\n",
       "      <th>ponds_nearest</th>\n",
       "      <th>days_exposition</th>\n",
       "      <th>price_one_metre</th>\n",
       "      <th>weekday</th>\n",
       "      <th>month</th>\n",
       "      <th>year</th>\n",
       "      <th>type_floor</th>\n",
       "      <th>cityCenters_nearest_km</th>\n",
       "    </tr>\n",
       "  </thead>\n",
       "  <tbody>\n",
       "    <tr>\n",
       "      <th>0</th>\n",
       "      <td>20</td>\n",
       "      <td>13000000</td>\n",
       "      <td>108.0</td>\n",
       "      <td>2019-03-07</td>\n",
       "      <td>3</td>\n",
       "      <td>2.70</td>\n",
       "      <td>16.0</td>\n",
       "      <td>51.0</td>\n",
       "      <td>8</td>\n",
       "      <td>False</td>\n",
       "      <td>...</td>\n",
       "      <td>482</td>\n",
       "      <td>2</td>\n",
       "      <td>755</td>\n",
       "      <td>0</td>\n",
       "      <td>120370.0</td>\n",
       "      <td>3</td>\n",
       "      <td>3</td>\n",
       "      <td>2019</td>\n",
       "      <td>другой</td>\n",
       "      <td>16.0</td>\n",
       "    </tr>\n",
       "    <tr>\n",
       "      <th>1</th>\n",
       "      <td>7</td>\n",
       "      <td>3350000</td>\n",
       "      <td>40.4</td>\n",
       "      <td>2018-12-04</td>\n",
       "      <td>1</td>\n",
       "      <td>0.00</td>\n",
       "      <td>11.0</td>\n",
       "      <td>18.6</td>\n",
       "      <td>1</td>\n",
       "      <td>False</td>\n",
       "      <td>...</td>\n",
       "      <td>0</td>\n",
       "      <td>0</td>\n",
       "      <td>0</td>\n",
       "      <td>81</td>\n",
       "      <td>82921.0</td>\n",
       "      <td>1</td>\n",
       "      <td>12</td>\n",
       "      <td>2018</td>\n",
       "      <td>первый</td>\n",
       "      <td>19.0</td>\n",
       "    </tr>\n",
       "    <tr>\n",
       "      <th>2</th>\n",
       "      <td>10</td>\n",
       "      <td>5196000</td>\n",
       "      <td>56.0</td>\n",
       "      <td>2015-08-20</td>\n",
       "      <td>2</td>\n",
       "      <td>0.00</td>\n",
       "      <td>5.0</td>\n",
       "      <td>34.3</td>\n",
       "      <td>4</td>\n",
       "      <td>False</td>\n",
       "      <td>...</td>\n",
       "      <td>90</td>\n",
       "      <td>2</td>\n",
       "      <td>574</td>\n",
       "      <td>558</td>\n",
       "      <td>92786.0</td>\n",
       "      <td>3</td>\n",
       "      <td>8</td>\n",
       "      <td>2015</td>\n",
       "      <td>другой</td>\n",
       "      <td>14.0</td>\n",
       "    </tr>\n",
       "    <tr>\n",
       "      <th>3</th>\n",
       "      <td>0</td>\n",
       "      <td>64900000</td>\n",
       "      <td>159.0</td>\n",
       "      <td>2015-07-24</td>\n",
       "      <td>3</td>\n",
       "      <td>0.00</td>\n",
       "      <td>14.0</td>\n",
       "      <td>159.0</td>\n",
       "      <td>9</td>\n",
       "      <td>False</td>\n",
       "      <td>...</td>\n",
       "      <td>84</td>\n",
       "      <td>3</td>\n",
       "      <td>234</td>\n",
       "      <td>424</td>\n",
       "      <td>408176.0</td>\n",
       "      <td>4</td>\n",
       "      <td>7</td>\n",
       "      <td>2015</td>\n",
       "      <td>другой</td>\n",
       "      <td>7.0</td>\n",
       "    </tr>\n",
       "    <tr>\n",
       "      <th>4</th>\n",
       "      <td>2</td>\n",
       "      <td>10000000</td>\n",
       "      <td>100.0</td>\n",
       "      <td>2018-06-19</td>\n",
       "      <td>2</td>\n",
       "      <td>3.03</td>\n",
       "      <td>14.0</td>\n",
       "      <td>32.0</td>\n",
       "      <td>13</td>\n",
       "      <td>False</td>\n",
       "      <td>...</td>\n",
       "      <td>112</td>\n",
       "      <td>1</td>\n",
       "      <td>48</td>\n",
       "      <td>121</td>\n",
       "      <td>100000.0</td>\n",
       "      <td>1</td>\n",
       "      <td>6</td>\n",
       "      <td>2018</td>\n",
       "      <td>другой</td>\n",
       "      <td>8.0</td>\n",
       "    </tr>\n",
       "  </tbody>\n",
       "</table>\n",
       "<p>5 rows × 28 columns</p>\n",
       "</div>"
      ],
      "text/plain": [
       "   total_images  last_price  total_area first_day_exposition  rooms  \\\n",
       "0            20    13000000       108.0           2019-03-07      3   \n",
       "1             7     3350000        40.4           2018-12-04      1   \n",
       "2            10     5196000        56.0           2015-08-20      2   \n",
       "3             0    64900000       159.0           2015-07-24      3   \n",
       "4             2    10000000       100.0           2018-06-19      2   \n",
       "\n",
       "   ceiling_height  floors_total  living_area  floor  is_apartment  ...  \\\n",
       "0            2.70          16.0         51.0      8         False  ...   \n",
       "1            0.00          11.0         18.6      1         False  ...   \n",
       "2            0.00           5.0         34.3      4         False  ...   \n",
       "3            0.00          14.0        159.0      9         False  ...   \n",
       "4            3.03          14.0         32.0     13         False  ...   \n",
       "\n",
       "   parks_nearest  ponds_around3000  ponds_nearest  days_exposition  \\\n",
       "0            482                 2            755                0   \n",
       "1              0                 0              0               81   \n",
       "2             90                 2            574              558   \n",
       "3             84                 3            234              424   \n",
       "4            112                 1             48              121   \n",
       "\n",
       "  price_one_metre  weekday  month  year  type_floor  cityCenters_nearest_km  \n",
       "0        120370.0        3      3  2019      другой                    16.0  \n",
       "1         82921.0        1     12  2018      первый                    19.0  \n",
       "2         92786.0        3      8  2015      другой                    14.0  \n",
       "3        408176.0        4      7  2015      другой                     7.0  \n",
       "4        100000.0        1      6  2018      другой                     8.0  \n",
       "\n",
       "[5 rows x 28 columns]"
      ]
     },
     "execution_count": 41,
     "metadata": {},
     "output_type": "execute_result"
    }
   ],
   "source": [
    "data.head()"
   ]
  },
  {
   "cell_type": "markdown",
   "metadata": {},
   "source": [
    "### Проведите исследовательский анализ данных"
   ]
  },
  {
   "cell_type": "markdown",
   "metadata": {},
   "source": [
    "***1. Изучите следующие параметры объектов:***\n",
    "\n",
    "- общая площадь;\n",
    "- жилая площадь;\n",
    "- площадь кухни;\n",
    "- цена объекта;\n",
    "- количество комнат;\n",
    "- высота потолков;\n",
    "- этаж квартиры;\n",
    "- тип этажа квартиры («первый», «последний», «другой»);\n",
    "- общее количество этажей в доме;\n",
    "- расстояние до центра города в метрах;\n",
    "- расстояние до ближайшего аэропорта;\n",
    "- расстояние до ближайшего парка;\n",
    "- день и месяц публикации объявления.\n",
    "\n",
    "Постройте отдельные гистограммы для каждого из этих параметров. Опишите все ваши наблюдения по параметрам в ячейке с типом markdown."
   ]
  },
  {
   "cell_type": "code",
   "execution_count": 42,
   "metadata": {},
   "outputs": [
    {
     "data": {
      "text/html": [
       "<div>\n",
       "<style scoped>\n",
       "    .dataframe tbody tr th:only-of-type {\n",
       "        vertical-align: middle;\n",
       "    }\n",
       "\n",
       "    .dataframe tbody tr th {\n",
       "        vertical-align: top;\n",
       "    }\n",
       "\n",
       "    .dataframe thead th {\n",
       "        text-align: right;\n",
       "    }\n",
       "</style>\n",
       "<table border=\"1\" class=\"dataframe\">\n",
       "  <thead>\n",
       "    <tr style=\"text-align: right;\">\n",
       "      <th></th>\n",
       "      <th>total_area</th>\n",
       "      <th>living_area</th>\n",
       "      <th>kitchen_area</th>\n",
       "      <th>last_price</th>\n",
       "      <th>rooms</th>\n",
       "      <th>ceiling_height</th>\n",
       "      <th>floor</th>\n",
       "      <th>type_floor</th>\n",
       "      <th>floors_total</th>\n",
       "      <th>cityCenters_nearest</th>\n",
       "      <th>airports_nearest</th>\n",
       "      <th>parks_nearest</th>\n",
       "      <th>weekday</th>\n",
       "      <th>month</th>\n",
       "    </tr>\n",
       "  </thead>\n",
       "  <tbody>\n",
       "    <tr>\n",
       "      <th>0</th>\n",
       "      <td>108.00</td>\n",
       "      <td>51.00</td>\n",
       "      <td>25.00</td>\n",
       "      <td>13000000</td>\n",
       "      <td>3</td>\n",
       "      <td>2.70</td>\n",
       "      <td>8</td>\n",
       "      <td>другой</td>\n",
       "      <td>16.0</td>\n",
       "      <td>16028.0</td>\n",
       "      <td>18863</td>\n",
       "      <td>482</td>\n",
       "      <td>3</td>\n",
       "      <td>3</td>\n",
       "    </tr>\n",
       "    <tr>\n",
       "      <th>1</th>\n",
       "      <td>40.40</td>\n",
       "      <td>18.60</td>\n",
       "      <td>11.00</td>\n",
       "      <td>3350000</td>\n",
       "      <td>1</td>\n",
       "      <td>0.00</td>\n",
       "      <td>1</td>\n",
       "      <td>первый</td>\n",
       "      <td>11.0</td>\n",
       "      <td>18603.0</td>\n",
       "      <td>12817</td>\n",
       "      <td>0</td>\n",
       "      <td>1</td>\n",
       "      <td>12</td>\n",
       "    </tr>\n",
       "    <tr>\n",
       "      <th>2</th>\n",
       "      <td>56.00</td>\n",
       "      <td>34.30</td>\n",
       "      <td>8.30</td>\n",
       "      <td>5196000</td>\n",
       "      <td>2</td>\n",
       "      <td>0.00</td>\n",
       "      <td>4</td>\n",
       "      <td>другой</td>\n",
       "      <td>5.0</td>\n",
       "      <td>13933.0</td>\n",
       "      <td>21741</td>\n",
       "      <td>90</td>\n",
       "      <td>3</td>\n",
       "      <td>8</td>\n",
       "    </tr>\n",
       "    <tr>\n",
       "      <th>3</th>\n",
       "      <td>159.00</td>\n",
       "      <td>159.00</td>\n",
       "      <td>0.00</td>\n",
       "      <td>64900000</td>\n",
       "      <td>3</td>\n",
       "      <td>0.00</td>\n",
       "      <td>9</td>\n",
       "      <td>другой</td>\n",
       "      <td>14.0</td>\n",
       "      <td>6800.0</td>\n",
       "      <td>28098</td>\n",
       "      <td>84</td>\n",
       "      <td>4</td>\n",
       "      <td>7</td>\n",
       "    </tr>\n",
       "    <tr>\n",
       "      <th>4</th>\n",
       "      <td>100.00</td>\n",
       "      <td>32.00</td>\n",
       "      <td>41.00</td>\n",
       "      <td>10000000</td>\n",
       "      <td>2</td>\n",
       "      <td>3.03</td>\n",
       "      <td>13</td>\n",
       "      <td>другой</td>\n",
       "      <td>14.0</td>\n",
       "      <td>8098.0</td>\n",
       "      <td>31856</td>\n",
       "      <td>112</td>\n",
       "      <td>1</td>\n",
       "      <td>6</td>\n",
       "    </tr>\n",
       "    <tr>\n",
       "      <th>...</th>\n",
       "      <td>...</td>\n",
       "      <td>...</td>\n",
       "      <td>...</td>\n",
       "      <td>...</td>\n",
       "      <td>...</td>\n",
       "      <td>...</td>\n",
       "      <td>...</td>\n",
       "      <td>...</td>\n",
       "      <td>...</td>\n",
       "      <td>...</td>\n",
       "      <td>...</td>\n",
       "      <td>...</td>\n",
       "      <td>...</td>\n",
       "      <td>...</td>\n",
       "    </tr>\n",
       "    <tr>\n",
       "      <th>23694</th>\n",
       "      <td>133.81</td>\n",
       "      <td>73.30</td>\n",
       "      <td>13.83</td>\n",
       "      <td>9700000</td>\n",
       "      <td>3</td>\n",
       "      <td>3.70</td>\n",
       "      <td>3</td>\n",
       "      <td>другой</td>\n",
       "      <td>5.0</td>\n",
       "      <td>4232.0</td>\n",
       "      <td>24665</td>\n",
       "      <td>796</td>\n",
       "      <td>1</td>\n",
       "      <td>3</td>\n",
       "    </tr>\n",
       "    <tr>\n",
       "      <th>23695</th>\n",
       "      <td>59.00</td>\n",
       "      <td>38.00</td>\n",
       "      <td>8.50</td>\n",
       "      <td>3100000</td>\n",
       "      <td>3</td>\n",
       "      <td>0.00</td>\n",
       "      <td>4</td>\n",
       "      <td>другой</td>\n",
       "      <td>5.0</td>\n",
       "      <td>0.0</td>\n",
       "      <td>0</td>\n",
       "      <td>0</td>\n",
       "      <td>0</td>\n",
       "      <td>1</td>\n",
       "    </tr>\n",
       "    <tr>\n",
       "      <th>23696</th>\n",
       "      <td>56.70</td>\n",
       "      <td>29.70</td>\n",
       "      <td>27.00</td>\n",
       "      <td>2500000</td>\n",
       "      <td>2</td>\n",
       "      <td>0.00</td>\n",
       "      <td>1</td>\n",
       "      <td>первый</td>\n",
       "      <td>3.0</td>\n",
       "      <td>0.0</td>\n",
       "      <td>0</td>\n",
       "      <td>0</td>\n",
       "      <td>6</td>\n",
       "      <td>2</td>\n",
       "    </tr>\n",
       "    <tr>\n",
       "      <th>23697</th>\n",
       "      <td>76.75</td>\n",
       "      <td>74.75</td>\n",
       "      <td>23.30</td>\n",
       "      <td>11475000</td>\n",
       "      <td>2</td>\n",
       "      <td>3.00</td>\n",
       "      <td>12</td>\n",
       "      <td>другой</td>\n",
       "      <td>17.0</td>\n",
       "      <td>10364.0</td>\n",
       "      <td>39140</td>\n",
       "      <td>173</td>\n",
       "      <td>1</td>\n",
       "      <td>3</td>\n",
       "    </tr>\n",
       "    <tr>\n",
       "      <th>23698</th>\n",
       "      <td>32.30</td>\n",
       "      <td>12.30</td>\n",
       "      <td>9.00</td>\n",
       "      <td>1350000</td>\n",
       "      <td>1</td>\n",
       "      <td>2.50</td>\n",
       "      <td>1</td>\n",
       "      <td>первый</td>\n",
       "      <td>5.0</td>\n",
       "      <td>0.0</td>\n",
       "      <td>0</td>\n",
       "      <td>0</td>\n",
       "      <td>4</td>\n",
       "      <td>7</td>\n",
       "    </tr>\n",
       "  </tbody>\n",
       "</table>\n",
       "<p>23699 rows × 14 columns</p>\n",
       "</div>"
      ],
      "text/plain": [
       "       total_area  living_area  kitchen_area  last_price  rooms  \\\n",
       "0          108.00        51.00         25.00    13000000      3   \n",
       "1           40.40        18.60         11.00     3350000      1   \n",
       "2           56.00        34.30          8.30     5196000      2   \n",
       "3          159.00       159.00          0.00    64900000      3   \n",
       "4          100.00        32.00         41.00    10000000      2   \n",
       "...           ...          ...           ...         ...    ...   \n",
       "23694      133.81        73.30         13.83     9700000      3   \n",
       "23695       59.00        38.00          8.50     3100000      3   \n",
       "23696       56.70        29.70         27.00     2500000      2   \n",
       "23697       76.75        74.75         23.30    11475000      2   \n",
       "23698       32.30        12.30          9.00     1350000      1   \n",
       "\n",
       "       ceiling_height  floor type_floor  floors_total  cityCenters_nearest  \\\n",
       "0                2.70      8     другой          16.0              16028.0   \n",
       "1                0.00      1     первый          11.0              18603.0   \n",
       "2                0.00      4     другой           5.0              13933.0   \n",
       "3                0.00      9     другой          14.0               6800.0   \n",
       "4                3.03     13     другой          14.0               8098.0   \n",
       "...               ...    ...        ...           ...                  ...   \n",
       "23694            3.70      3     другой           5.0               4232.0   \n",
       "23695            0.00      4     другой           5.0                  0.0   \n",
       "23696            0.00      1     первый           3.0                  0.0   \n",
       "23697            3.00     12     другой          17.0              10364.0   \n",
       "23698            2.50      1     первый           5.0                  0.0   \n",
       "\n",
       "       airports_nearest  parks_nearest  weekday  month  \n",
       "0                 18863            482        3      3  \n",
       "1                 12817              0        1     12  \n",
       "2                 21741             90        3      8  \n",
       "3                 28098             84        4      7  \n",
       "4                 31856            112        1      6  \n",
       "...                 ...            ...      ...    ...  \n",
       "23694             24665            796        1      3  \n",
       "23695                 0              0        0      1  \n",
       "23696                 0              0        6      2  \n",
       "23697             39140            173        1      3  \n",
       "23698                 0              0        4      7  \n",
       "\n",
       "[23699 rows x 14 columns]"
      ]
     },
     "execution_count": 42,
     "metadata": {},
     "output_type": "execute_result"
    }
   ],
   "source": [
    "data[['total_area', 'living_area', 'kitchen_area', 'last_price', 'rooms', 'ceiling_height', 'floor', 'type_floor', \n",
    "      'floors_total', 'cityCenters_nearest', 'airports_nearest', 'parks_nearest', 'weekday', 'month']]"
   ]
  },
  {
   "cell_type": "code",
   "execution_count": 43,
   "metadata": {},
   "outputs": [
    {
     "data": {
      "image/png": "[encoded data removed]",
      "text/plain": [
       "<Figure size 1080x1440 with 16 Axes>"
      ]
     },
     "metadata": {
      "needs_background": "light"
     },
     "output_type": "display_data"
    }
   ],
   "source": [
    "data[['total_area', 'living_area', 'kitchen_area', 'last_price', 'rooms', 'ceiling_height', 'floor', 'type_floor', \n",
    "      'floors_total', 'cityCenters_nearest', 'airports_nearest', 'parks_nearest', 'weekday', 'month']].hist(figsize=(15, 20));"
   ]
  },
  {
   "cell_type": "code",
   "execution_count": 44,
   "metadata": {},
   "outputs": [
    {
     "data": {
      "text/plain": [
       "count    23699.000000\n",
       "mean        60.348651\n",
       "std         35.654083\n",
       "min         12.000000\n",
       "25%         40.000000\n",
       "50%         52.000000\n",
       "75%         69.900000\n",
       "max        900.000000\n",
       "Name: total_area, dtype: float64"
      ]
     },
     "execution_count": 44,
     "metadata": {},
     "output_type": "execute_result"
    },
    {
     "data": {
      "image/png": "[encoded data removed]",
      "text/plain": [
       "<Figure size 504x504 with 1 Axes>"
      ]
     },
     "metadata": {
      "needs_background": "light"
     },
     "output_type": "display_data"
    }
   ],
   "source": [
    "data.plot(\n",
    "    y = 'total_area', \n",
    "    kind = 'hist',\n",
    "    bins = 40, \n",
    "    grid=True, \n",
    "    range = (data['total_area'].min(),round(data['total_area'].max()/2)), \n",
    "    figsize = (7,7))\n",
    "data['total_area'].describe()"
   ]
  },
  {
   "cell_type": "code",
   "execution_count": 45,
   "metadata": {},
   "outputs": [
    {
     "data": {
      "text/plain": [
       "count    23699.000000\n",
       "mean        36.750746\n",
       "std         25.871233\n",
       "min          2.000000\n",
       "25%         19.000000\n",
       "50%         31.000000\n",
       "75%         44.000000\n",
       "max        631.000000\n",
       "Name: living_area, dtype: float64"
      ]
     },
     "execution_count": 45,
     "metadata": {},
     "output_type": "execute_result"
    },
    {
     "data": {
      "image/png": "[encoded data removed]",
      "text/plain": [
       "<Figure size 504x504 with 1 Axes>"
      ]
     },
     "metadata": {
      "needs_background": "light"
     },
     "output_type": "display_data"
    }
   ],
   "source": [
    "data.plot(\n",
    "    y = 'living_area', \n",
    "    kind = 'hist',\n",
    "    bins = 40, \n",
    "    grid=True, \n",
    "    range = (data['living_area'].min(),round(data['living_area'].max()/4)), \n",
    "    figsize = (7,7))\n",
    "data['living_area'].describe()"
   ]
  },
  {
   "cell_type": "code",
   "execution_count": 46,
   "metadata": {},
   "outputs": [
    {
     "data": {
      "text/plain": [
       "count    23699.000000\n",
       "mean        10.201589\n",
       "std          7.080496\n",
       "min          0.000000\n",
       "25%          6.900000\n",
       "50%          9.000000\n",
       "75%         12.000000\n",
       "max        230.000000\n",
       "Name: kitchen_area, dtype: float64"
      ]
     },
     "execution_count": 46,
     "metadata": {},
     "output_type": "execute_result"
    },
    {
     "data": {
      "image/png": "[encoded data removed]",
      "text/plain": [
       "<Figure size 504x504 with 1 Axes>"
      ]
     },
     "metadata": {
      "needs_background": "light"
     },
     "output_type": "display_data"
    }
   ],
   "source": [
    "data.plot(\n",
    "    y = 'kitchen_area', \n",
    "    kind = 'hist',\n",
    "    bins = 40, \n",
    "    grid=True, \n",
    "    range = (data['kitchen_area'].min(),round(data['kitchen_area'].max()/3)), \n",
    "    figsize = (7,7))\n",
    "data['kitchen_area'].describe()"
   ]
  },
  {
   "cell_type": "code",
   "execution_count": 47,
   "metadata": {},
   "outputs": [
    {
     "data": {
      "text/plain": [
       "count    2.369900e+04\n",
       "mean     6.541549e+06\n",
       "std      1.088701e+07\n",
       "min      1.219000e+04\n",
       "25%      3.400000e+06\n",
       "50%      4.650000e+06\n",
       "75%      6.800000e+06\n",
       "max      7.630000e+08\n",
       "Name: last_price, dtype: float64"
      ]
     },
     "execution_count": 47,
     "metadata": {},
     "output_type": "execute_result"
    },
    {
     "data": {
      "image/png": "[encoded data removed]",
      "text/plain": [
       "<Figure size 504x504 with 1 Axes>"
      ]
     },
     "metadata": {
      "needs_background": "light"
     },
     "output_type": "display_data"
    }
   ],
   "source": [
    "data.plot(\n",
    "    y = 'last_price', \n",
    "    kind = 'hist',\n",
    "    bins = 40, \n",
    "    grid=True, \n",
    "    range = (data['last_price'].min(),round(data['last_price'].max()/50)), \n",
    "    figsize = (7,7))\n",
    "data['last_price'].describe()"
   ]
  },
  {
   "cell_type": "code",
   "execution_count": 48,
   "metadata": {},
   "outputs": [
    {
     "data": {
      "text/plain": [
       "count    23699.000000\n",
       "mean         2.070636\n",
       "std          1.078405\n",
       "min          0.000000\n",
       "25%          1.000000\n",
       "50%          2.000000\n",
       "75%          3.000000\n",
       "max         19.000000\n",
       "Name: rooms, dtype: float64"
      ]
     },
     "execution_count": 48,
     "metadata": {},
     "output_type": "execute_result"
    },
    {
     "data": {
      "image/png": "[encoded data removed]",
      "text/plain": [
       "<Figure size 504x504 with 1 Axes>"
      ]
     },
     "metadata": {
      "needs_background": "light"
     },
     "output_type": "display_data"
    }
   ],
   "source": [
    "data.plot(\n",
    "    y = 'rooms', \n",
    "    kind = 'hist',\n",
    "    bins = 40, \n",
    "    grid=True, \n",
    "    range = (data['rooms'].min(),round(data['rooms'].max())), \n",
    "    figsize = (7,7))\n",
    "data['rooms'].describe()"
   ]
  },
  {
   "cell_type": "code",
   "execution_count": 49,
   "metadata": {},
   "outputs": [
    {
     "data": {
      "text/plain": [
       "count    23699.000000\n",
       "mean         1.670544\n",
       "std          1.353476\n",
       "min          0.000000\n",
       "25%          0.000000\n",
       "50%          2.500000\n",
       "75%          2.700000\n",
       "max         14.000000\n",
       "Name: ceiling_height, dtype: float64"
      ]
     },
     "execution_count": 49,
     "metadata": {},
     "output_type": "execute_result"
    },
    {
     "data": {
      "image/png": "[encoded data removed]",
      "text/plain": [
       "<Figure size 504x504 with 1 Axes>"
      ]
     },
     "metadata": {
      "needs_background": "light"
     },
     "output_type": "display_data"
    }
   ],
   "source": [
    "data.plot(\n",
    "    y = 'ceiling_height', \n",
    "    kind = 'hist',\n",
    "    bins = 40, \n",
    "    grid=True, \n",
    "    range = (data['ceiling_height'].min(),round(data['ceiling_height'].max()/20)), \n",
    "    figsize = (7,7))\n",
    "data['ceiling_height'].describe()"
   ]
  },
  {
   "cell_type": "code",
   "execution_count": 50,
   "metadata": {},
   "outputs": [
    {
     "data": {
      "text/plain": [
       "count    23699.000000\n",
       "mean         5.892358\n",
       "std          4.885249\n",
       "min          1.000000\n",
       "25%          2.000000\n",
       "50%          4.000000\n",
       "75%          8.000000\n",
       "max         33.000000\n",
       "Name: floor, dtype: float64"
      ]
     },
     "execution_count": 50,
     "metadata": {},
     "output_type": "execute_result"
    },
    {
     "data": {
      "image/png": "[encoded data removed]",
      "text/plain": [
       "<Figure size 504x504 with 1 Axes>"
      ]
     },
     "metadata": {
      "needs_background": "light"
     },
     "output_type": "display_data"
    }
   ],
   "source": [
    "data.plot(\n",
    "    y = 'floor', \n",
    "    kind = 'hist',\n",
    "    bins = 40, \n",
    "    grid=True, \n",
    "    range = (data['floor'].min(),round(data['floor'].max())), \n",
    "    figsize = (7,7))\n",
    "data['floor'].describe()"
   ]
  },
  {
   "cell_type": "code",
   "execution_count": 87,
   "metadata": {},
   "outputs": [
    {
     "name": "stdout",
     "output_type": "stream",
     "text": [
      "count      23699\n",
      "unique         3\n",
      "top       другой\n",
      "freq       17446\n",
      "Name: type_floor, dtype: object\n"
     ]
    },
    {
     "data": {
      "text/plain": [
       "<AxesSubplot:>"
      ]
     },
     "execution_count": 87,
     "metadata": {},
     "output_type": "execute_result"
    },
    {
     "data": {
      "image/png": "[encoded data removed]",
      "text/plain": [
       "<Figure size 432x288 with 1 Axes>"
      ]
     },
     "metadata": {
      "needs_background": "light"
     },
     "output_type": "display_data"
    }
   ],
   "source": [
    "print(data['type_floor'].describe())\n",
    "data['type_floor'].hist()"
   ]
  },
  {
   "cell_type": "code",
   "execution_count": 52,
   "metadata": {},
   "outputs": [
    {
     "data": {
      "text/plain": [
       "count    23699.000000\n",
       "mean        10.632812\n",
       "std          6.608689\n",
       "min          0.000000\n",
       "25%          5.000000\n",
       "50%          9.000000\n",
       "75%         16.000000\n",
       "max         52.000000\n",
       "Name: floors_total, dtype: float64"
      ]
     },
     "execution_count": 52,
     "metadata": {},
     "output_type": "execute_result"
    },
    {
     "data": {
      "image/png": "[encoded data removed]",
      "text/plain": [
       "<Figure size 504x504 with 1 Axes>"
      ]
     },
     "metadata": {
      "needs_background": "light"
     },
     "output_type": "display_data"
    }
   ],
   "source": [
    "data.plot(\n",
    "    y = 'floors_total', \n",
    "    kind = 'hist',\n",
    "    bins = 40, \n",
    "    grid=True, \n",
    "    range = (data['floors_total'].min(),round(data['floors_total'].max()/2)), \n",
    "    figsize = (7,7))\n",
    "data['floors_total'].describe()"
   ]
  },
  {
   "cell_type": "code",
   "execution_count": 53,
   "metadata": {},
   "outputs": [
    {
     "data": {
      "text/plain": [
       "count    23699.000000\n",
       "mean     10886.426896\n",
       "std       9634.613697\n",
       "min          0.000000\n",
       "25%       2242.000000\n",
       "50%      11247.000000\n",
       "75%      15248.500000\n",
       "max      65968.000000\n",
       "Name: cityCenters_nearest, dtype: float64"
      ]
     },
     "execution_count": 53,
     "metadata": {},
     "output_type": "execute_result"
    },
    {
     "data": {
      "image/png": "[encoded data removed]",
      "text/plain": [
       "<Figure size 504x504 with 1 Axes>"
      ]
     },
     "metadata": {
      "needs_background": "light"
     },
     "output_type": "display_data"
    }
   ],
   "source": [
    "data.plot(\n",
    "    y = 'cityCenters_nearest', \n",
    "    kind = 'hist',\n",
    "    bins = 40, \n",
    "    grid=True, \n",
    "    range = (data['cityCenters_nearest'].min(),round(data['cityCenters_nearest'].max())), \n",
    "    figsize = (7,7))\n",
    "data['cityCenters_nearest'].describe()"
   ]
  },
  {
   "cell_type": "code",
   "execution_count": 54,
   "metadata": {},
   "outputs": [
    {
     "data": {
      "text/plain": [
       "count    23699.000000\n",
       "mean     22060.285497\n",
       "std      16455.276292\n",
       "min          0.000000\n",
       "25%      10196.500000\n",
       "50%      21869.000000\n",
       "75%      34327.000000\n",
       "max      84869.000000\n",
       "Name: airports_nearest, dtype: float64"
      ]
     },
     "execution_count": 54,
     "metadata": {},
     "output_type": "execute_result"
    },
    {
     "data": {
      "image/png": "[encoded data removed]",
      "text/plain": [
       "<Figure size 504x504 with 1 Axes>"
      ]
     },
     "metadata": {
      "needs_background": "light"
     },
     "output_type": "display_data"
    }
   ],
   "source": [
    "data.plot(\n",
    "    y = 'airports_nearest', \n",
    "    kind = 'hist',\n",
    "    bins = 40, \n",
    "    grid=True, \n",
    "    range = (data['airports_nearest'].min(),round(data['airports_nearest'].max())), \n",
    "    figsize = (7,7))\n",
    "data['airports_nearest'].describe()"
   ]
  },
  {
   "cell_type": "code",
   "execution_count": 55,
   "metadata": {},
   "outputs": [
    {
     "data": {
      "text/plain": [
       "count    23699.000000\n",
       "mean       167.315499\n",
       "std        306.709997\n",
       "min          0.000000\n",
       "25%          0.000000\n",
       "50%          0.000000\n",
       "75%        301.000000\n",
       "max       3190.000000\n",
       "Name: parks_nearest, dtype: float64"
      ]
     },
     "execution_count": 55,
     "metadata": {},
     "output_type": "execute_result"
    },
    {
     "data": {
      "image/png": "[encoded data removed]",
      "text/plain": [
       "<Figure size 504x504 with 1 Axes>"
      ]
     },
     "metadata": {
      "needs_background": "light"
     },
     "output_type": "display_data"
    }
   ],
   "source": [
    "data.plot(\n",
    "    y = 'parks_nearest', \n",
    "    kind = 'hist',\n",
    "    bins = 40, \n",
    "    grid=True, \n",
    "    range = (data['parks_nearest'].min(),round(data['parks_nearest'].max()/3)), \n",
    "    figsize = (7,7))\n",
    "data['parks_nearest'].describe()"
   ]
  },
  {
   "cell_type": "code",
   "execution_count": 56,
   "metadata": {},
   "outputs": [
    {
     "data": {
      "text/plain": [
       "count    23699.000000\n",
       "mean         2.569307\n",
       "std          1.789082\n",
       "min          0.000000\n",
       "25%          1.000000\n",
       "50%          3.000000\n",
       "75%          4.000000\n",
       "max          6.000000\n",
       "Name: weekday, dtype: float64"
      ]
     },
     "execution_count": 56,
     "metadata": {},
     "output_type": "execute_result"
    },
    {
     "data": {
      "image/png": "[encoded data removed]",
      "text/plain": [
       "<Figure size 504x504 with 1 Axes>"
      ]
     },
     "metadata": {
      "needs_background": "light"
     },
     "output_type": "display_data"
    }
   ],
   "source": [
    "data.plot(\n",
    "    y = 'weekday', \n",
    "    kind = 'hist',\n",
    "    bins = 40, \n",
    "    grid=True, \n",
    "    range = (data['weekday'].min(),round(data['weekday'].max())), \n",
    "    figsize = (7,7))\n",
    "data['weekday'].describe()"
   ]
  },
  {
   "cell_type": "code",
   "execution_count": 88,
   "metadata": {},
   "outputs": [
    {
     "data": {
      "text/plain": [
       "count    23699.000000\n",
       "mean         6.400101\n",
       "std          3.491561\n",
       "min          1.000000\n",
       "25%          3.000000\n",
       "50%          6.000000\n",
       "75%         10.000000\n",
       "max         12.000000\n",
       "Name: month, dtype: float64"
      ]
     },
     "execution_count": 88,
     "metadata": {},
     "output_type": "execute_result"
    },
    {
     "data": {
      "image/png": "[encoded data removed]",
      "text/plain": [
       "<Figure size 504x504 with 1 Axes>"
      ]
     },
     "metadata": {
      "needs_background": "light"
     },
     "output_type": "display_data"
    }
   ],
   "source": [
    "data.plot(\n",
    "    y = 'month', \n",
    "    kind = 'hist',\n",
    "    bins = 40, \n",
    "    grid=True, \n",
    "    range = (data['month'].min(),round(data['month'].max())), \n",
    "    figsize = (7,7))\n",
    "data['month'].describe()"
   ]
  },
  {
   "cell_type": "markdown",
   "metadata": {},
   "source": [
    "***ПОЯСНЕНИЕ***\n",
    "1. total_area большинство попадает в промежуток 1-100 кв.м., среднее - 60 кв.м., максимальное значение 900 кв.м.\n",
    "2. living_area 1-50 кв.м., среднее - 36,7 кв.м., максимальное значение 631 кв.м.\n",
    "3. kitchen_area 0-20, среднее 10 кв.м., максимальное значение 230 кв.м.\n",
    "4. last_price 1-1, гистограмма не информативна, минимальное значение 1.219 * 1000 = 12 190, максимальное значение 7.630000 * 100000000=763 000 000, среднее 6.541549 * 1000000= 6 541 548  \n",
    "5. rooms 0-5, среднее 2 комнаты, максимальное значение 19 комнат\n",
    "6. ceiling_height 0-4, среднее 1,67, максимальное значение 14\n",
    "7. floor 1-10, среднее 5, максимальное значение 33\n",
    "8. type_floor 1-3, большинство значений другой (не первый и не последний этаж)\n",
    "9. floors_total 0-20, среднее 10, максимальное 22\n",
    "10. cityCenters_nearest 0-20000, среднее 10886 м, максимальное 65968 м\n",
    "11. airports_nearest 0-50000, среднее 22060 м, максимальное 84869 м\n",
    "12. parks_nearest 5-500, среднее 167 м, максимальное 3190 м\n",
    "13. weekday 0-6, в выходные меньше\n",
    "14. month 1-12, в зимние месяцы больше"
   ]
  },
  {
   "cell_type": "markdown",
   "metadata": {},
   "source": [
    "***2. Изучите, как быстро продавались квартиры (столбец days_exposition). Этот параметр показывает, сколько дней было размещено каждое объявление.***\n",
    "\n",
    "- Постройте гистограмму.\n",
    "- Посчитайте среднее и медиану.\n",
    "- В ячейке типа markdown опишите, сколько времени обычно занимает продажа. Какие продажи можно считать быстрыми, а какие — необычно долгими?"
   ]
  },
  {
   "cell_type": "code",
   "execution_count": 58,
   "metadata": {},
   "outputs": [
    {
     "data": {
      "text/html": [
       "<div>\n",
       "<style scoped>\n",
       "    .dataframe tbody tr th:only-of-type {\n",
       "        vertical-align: middle;\n",
       "    }\n",
       "\n",
       "    .dataframe tbody tr th {\n",
       "        vertical-align: top;\n",
       "    }\n",
       "\n",
       "    .dataframe thead th {\n",
       "        text-align: right;\n",
       "    }\n",
       "</style>\n",
       "<table border=\"1\" class=\"dataframe\">\n",
       "  <thead>\n",
       "    <tr style=\"text-align: right;\">\n",
       "      <th></th>\n",
       "      <th>days_exposition</th>\n",
       "    </tr>\n",
       "  </thead>\n",
       "  <tbody>\n",
       "    <tr>\n",
       "      <th>0</th>\n",
       "      <td>0</td>\n",
       "    </tr>\n",
       "    <tr>\n",
       "      <th>1</th>\n",
       "      <td>81</td>\n",
       "    </tr>\n",
       "    <tr>\n",
       "      <th>2</th>\n",
       "      <td>558</td>\n",
       "    </tr>\n",
       "    <tr>\n",
       "      <th>3</th>\n",
       "      <td>424</td>\n",
       "    </tr>\n",
       "    <tr>\n",
       "      <th>4</th>\n",
       "      <td>121</td>\n",
       "    </tr>\n",
       "    <tr>\n",
       "      <th>...</th>\n",
       "      <td>...</td>\n",
       "    </tr>\n",
       "    <tr>\n",
       "      <th>23694</th>\n",
       "      <td>0</td>\n",
       "    </tr>\n",
       "    <tr>\n",
       "      <th>23695</th>\n",
       "      <td>45</td>\n",
       "    </tr>\n",
       "    <tr>\n",
       "      <th>23696</th>\n",
       "      <td>0</td>\n",
       "    </tr>\n",
       "    <tr>\n",
       "      <th>23697</th>\n",
       "      <td>602</td>\n",
       "    </tr>\n",
       "    <tr>\n",
       "      <th>23698</th>\n",
       "      <td>0</td>\n",
       "    </tr>\n",
       "  </tbody>\n",
       "</table>\n",
       "<p>23699 rows × 1 columns</p>\n",
       "</div>"
      ],
      "text/plain": [
       "       days_exposition\n",
       "0                    0\n",
       "1                   81\n",
       "2                  558\n",
       "3                  424\n",
       "4                  121\n",
       "...                ...\n",
       "23694                0\n",
       "23695               45\n",
       "23696                0\n",
       "23697              602\n",
       "23698                0\n",
       "\n",
       "[23699 rows x 1 columns]"
      ]
     },
     "execution_count": 58,
     "metadata": {},
     "output_type": "execute_result"
    }
   ],
   "source": [
    "data[['days_exposition']]"
   ]
  },
  {
   "cell_type": "code",
   "execution_count": 59,
   "metadata": {},
   "outputs": [
    {
     "data": {
      "text/plain": [
       "count    23699.000000\n",
       "mean       156.608844\n",
       "std        213.546873\n",
       "min          0.000000\n",
       "25%         22.000000\n",
       "50%         74.000000\n",
       "75%        199.000000\n",
       "max       1580.000000\n",
       "Name: days_exposition, dtype: float64"
      ]
     },
     "execution_count": 59,
     "metadata": {},
     "output_type": "execute_result"
    },
    {
     "data": {
      "image/png": "[encoded data removed]",
      "text/plain": [
       "<Figure size 504x504 with 1 Axes>"
      ]
     },
     "metadata": {
      "needs_background": "light"
     },
     "output_type": "display_data"
    }
   ],
   "source": [
    "data.plot(\n",
    "    y = 'days_exposition', \n",
    "    kind = 'hist',\n",
    "    bins = 60, \n",
    "    grid=True, \n",
    "    range = (data['days_exposition'].min(),round(data['days_exposition'].max())), \n",
    "    figsize = (7,7))\n",
    "data['days_exposition'].describe()"
   ]
  },
  {
   "cell_type": "markdown",
   "metadata": {},
   "source": [
    "***ПОЯСНЕНИЕ***\n",
    "days_exposition 0- 300, среднее - 156 дней, медиана - 74 дней, максимальное 1580 дней\n",
    "Можно считать, что быстрые продажи это все что меньше среднего, для долгих продаж - больше среднего."
   ]
  },
  {
   "cell_type": "code",
   "execution_count": 60,
   "metadata": {},
   "outputs": [
    {
     "data": {
      "image/png": "[encoded data removed]",
      "text/plain": [
       "<Figure size 432x288 with 1 Axes>"
      ]
     },
     "metadata": {
      "needs_background": "light"
     },
     "output_type": "display_data"
    }
   ],
   "source": [
    "import matplotlib.pyplot as plt\n",
    "plt.boxplot(data['days_exposition'])\n",
    "plt.ylim = (1,1000)\n",
    "plt.show()"
   ]
  },
  {
   "cell_type": "code",
   "execution_count": 61,
   "metadata": {},
   "outputs": [
    {
     "data": {
      "text/plain": [
       "<AxesSubplot:ylabel='Frequency'>"
      ]
     },
     "execution_count": 61,
     "metadata": {},
     "output_type": "execute_result"
    },
    {
     "data": {
      "image/png": "[encoded data removed]",
      "text/plain": [
       "<Figure size 504x504 with 1 Axes>"
      ]
     },
     "metadata": {
      "needs_background": "light"
     },
     "output_type": "display_data"
    }
   ],
   "source": [
    "data.plot(\n",
    "    y = 'days_exposition', \n",
    "    kind = 'hist',\n",
    "    bins = 60, \n",
    "    grid=True, \n",
    "    range = (data['days_exposition'].min(),round(data['days_exposition'].max()/10)), \n",
    "    figsize = (7,7))"
   ]
  },
  {
   "cell_type": "code",
   "execution_count": 62,
   "metadata": {},
   "outputs": [
    {
     "data": {
      "text/plain": [
       "0       3181\n",
       "45       880\n",
       "60       538\n",
       "7        234\n",
       "30       208\n",
       "        ... \n",
       "1112       1\n",
       "1080       1\n",
       "1064       1\n",
       "1032       1\n",
       "1391       1\n",
       "Name: days_exposition, Length: 1142, dtype: int64"
      ]
     },
     "execution_count": 62,
     "metadata": {},
     "output_type": "execute_result"
    }
   ],
   "source": [
    "data['days_exposition'].value_counts()"
   ]
  },
  {
   "cell_type": "markdown",
   "metadata": {},
   "source": [
    "***3. Какие факторы больше всего влияют на общую (полную) стоимость объекта?***\n",
    "\n",
    "Изучите, зависит ли цена от:\n",
    "- общей площади;\n",
    "- жилой площади;\n",
    "- площади кухни;\n",
    "- количества комнат;\n",
    "- этажа, на котором расположена квартира (первый, последний, другой);\n",
    "- даты размещения (день недели, месяц, год).\n",
    "\n",
    "Постройте графики, которые покажут зависимость цены от указанных выше параметров. Для подготовки данных перед визуализацией вы можете использовать сводные таблицы."
   ]
  },
  {
   "cell_type": "code",
   "execution_count": 63,
   "metadata": {
    "scrolled": true
   },
   "outputs": [
    {
     "data": {
      "text/plain": [
       "<AxesSubplot:xlabel='total_area'>"
      ]
     },
     "execution_count": 63,
     "metadata": {},
     "output_type": "execute_result"
    },
    {
     "data": {
      "image/png": "[encoded data removed]",
      "text/plain": [
       "<Figure size 432x288 with 1 Axes>"
      ]
     },
     "metadata": {
      "needs_background": "light"
     },
     "output_type": "display_data"
    }
   ],
   "source": [
    "data.groupby('total_area')['last_price'].agg(['mean']).plot()"
   ]
  },
  {
   "cell_type": "code",
   "execution_count": 64,
   "metadata": {},
   "outputs": [
    {
     "data": {
      "text/plain": [
       "0.6536750579657242"
      ]
     },
     "execution_count": 64,
     "metadata": {},
     "output_type": "execute_result"
    },
    {
     "data": {
      "image/png": "[encoded data removed]",
      "text/plain": [
       "<Figure size 432x288 with 1 Axes>"
      ]
     },
     "metadata": {
      "needs_background": "light"
     },
     "output_type": "display_data"
    }
   ],
   "source": [
    "data.plot(x='total_area', y='last_price', kind='scatter')\n",
    "data['total_area'].corr(data['last_price'])"
   ]
  },
  {
   "cell_type": "code",
   "execution_count": 65,
   "metadata": {},
   "outputs": [
    {
     "data": {
      "text/plain": [
       "0.5569904940837231"
      ]
     },
     "execution_count": 65,
     "metadata": {},
     "output_type": "execute_result"
    },
    {
     "data": {
      "image/png": "[encoded data removed]",
      "text/plain": [
       "<Figure size 432x288 with 1 Axes>"
      ]
     },
     "metadata": {
      "needs_background": "light"
     },
     "output_type": "display_data"
    }
   ],
   "source": [
    "data.plot(x='living_area', y='last_price', kind='scatter')\n",
    "data['living_area'].corr(data['last_price'])"
   ]
  },
  {
   "cell_type": "code",
   "execution_count": 66,
   "metadata": {},
   "outputs": [
    {
     "data": {
      "text/plain": [
       "<AxesSubplot:xlabel='living_area'>"
      ]
     },
     "execution_count": 66,
     "metadata": {},
     "output_type": "execute_result"
    },
    {
     "data": {
      "image/png": "[encoded data removed]",
      "text/plain": [
       "<Figure size 432x288 with 1 Axes>"
      ]
     },
     "metadata": {
      "needs_background": "light"
     },
     "output_type": "display_data"
    }
   ],
   "source": [
    "data.groupby('living_area')['last_price'].agg(['mean']).plot()"
   ]
  },
  {
   "cell_type": "code",
   "execution_count": 67,
   "metadata": {},
   "outputs": [
    {
     "data": {
      "text/plain": [
       "<AxesSubplot:xlabel='kitchen_area'>"
      ]
     },
     "execution_count": 67,
     "metadata": {},
     "output_type": "execute_result"
    },
    {
     "data": {
      "image/png": "[encoded data removed]",
      "text/plain": [
       "<Figure size 432x288 with 1 Axes>"
      ]
     },
     "metadata": {
      "needs_background": "light"
     },
     "output_type": "display_data"
    }
   ],
   "source": [
    "data.groupby('kitchen_area')['last_price'].agg(['mean']).plot()"
   ]
  },
  {
   "cell_type": "code",
   "execution_count": 68,
   "metadata": {},
   "outputs": [
    {
     "data": {
      "text/html": [
       "<div>\n",
       "<style scoped>\n",
       "    .dataframe tbody tr th:only-of-type {\n",
       "        vertical-align: middle;\n",
       "    }\n",
       "\n",
       "    .dataframe tbody tr th {\n",
       "        vertical-align: top;\n",
       "    }\n",
       "\n",
       "    .dataframe thead th {\n",
       "        text-align: right;\n",
       "    }\n",
       "</style>\n",
       "<table border=\"1\" class=\"dataframe\">\n",
       "  <thead>\n",
       "    <tr style=\"text-align: right;\">\n",
       "      <th></th>\n",
       "      <th>count</th>\n",
       "      <th>sum</th>\n",
       "      <th>mean</th>\n",
       "    </tr>\n",
       "    <tr>\n",
       "      <th>rooms</th>\n",
       "      <th></th>\n",
       "      <th></th>\n",
       "      <th></th>\n",
       "    </tr>\n",
       "  </thead>\n",
       "  <tbody>\n",
       "    <tr>\n",
       "      <th>0</th>\n",
       "      <td>197</td>\n",
       "      <td>657531650</td>\n",
       "      <td>3.337724e+06</td>\n",
       "    </tr>\n",
       "    <tr>\n",
       "      <th>1</th>\n",
       "      <td>8047</td>\n",
       "      <td>30863154174</td>\n",
       "      <td>3.835362e+06</td>\n",
       "    </tr>\n",
       "    <tr>\n",
       "      <th>2</th>\n",
       "      <td>7940</td>\n",
       "      <td>44397341986</td>\n",
       "      <td>5.591605e+06</td>\n",
       "    </tr>\n",
       "    <tr>\n",
       "      <th>3</th>\n",
       "      <td>5814</td>\n",
       "      <td>47553395187</td>\n",
       "      <td>8.179119e+06</td>\n",
       "    </tr>\n",
       "    <tr>\n",
       "      <th>4</th>\n",
       "      <td>1180</td>\n",
       "      <td>15839726678</td>\n",
       "      <td>1.342350e+07</td>\n",
       "    </tr>\n",
       "    <tr>\n",
       "      <th>5</th>\n",
       "      <td>326</td>\n",
       "      <td>7746438762</td>\n",
       "      <td>2.376208e+07</td>\n",
       "    </tr>\n",
       "    <tr>\n",
       "      <th>6</th>\n",
       "      <td>105</td>\n",
       "      <td>3329523924</td>\n",
       "      <td>3.170975e+07</td>\n",
       "    </tr>\n",
       "    <tr>\n",
       "      <th>7</th>\n",
       "      <td>59</td>\n",
       "      <td>3036734076</td>\n",
       "      <td>5.147007e+07</td>\n",
       "    </tr>\n",
       "    <tr>\n",
       "      <th>8</th>\n",
       "      <td>12</td>\n",
       "      <td>602690000</td>\n",
       "      <td>5.022417e+07</td>\n",
       "    </tr>\n",
       "    <tr>\n",
       "      <th>9</th>\n",
       "      <td>8</td>\n",
       "      <td>273218900</td>\n",
       "      <td>3.415236e+07</td>\n",
       "    </tr>\n",
       "    <tr>\n",
       "      <th>10</th>\n",
       "      <td>3</td>\n",
       "      <td>78500000</td>\n",
       "      <td>2.616667e+07</td>\n",
       "    </tr>\n",
       "    <tr>\n",
       "      <th>11</th>\n",
       "      <td>2</td>\n",
       "      <td>50500000</td>\n",
       "      <td>2.525000e+07</td>\n",
       "    </tr>\n",
       "    <tr>\n",
       "      <th>12</th>\n",
       "      <td>1</td>\n",
       "      <td>420000000</td>\n",
       "      <td>4.200000e+08</td>\n",
       "    </tr>\n",
       "    <tr>\n",
       "      <th>14</th>\n",
       "      <td>2</td>\n",
       "      <td>53659000</td>\n",
       "      <td>2.682950e+07</td>\n",
       "    </tr>\n",
       "    <tr>\n",
       "      <th>15</th>\n",
       "      <td>1</td>\n",
       "      <td>65000000</td>\n",
       "      <td>6.500000e+07</td>\n",
       "    </tr>\n",
       "    <tr>\n",
       "      <th>16</th>\n",
       "      <td>1</td>\n",
       "      <td>28500000</td>\n",
       "      <td>2.850000e+07</td>\n",
       "    </tr>\n",
       "    <tr>\n",
       "      <th>19</th>\n",
       "      <td>1</td>\n",
       "      <td>32250000</td>\n",
       "      <td>3.225000e+07</td>\n",
       "    </tr>\n",
       "  </tbody>\n",
       "</table>\n",
       "</div>"
      ],
      "text/plain": [
       "       count          sum          mean\n",
       "rooms                                  \n",
       "0        197    657531650  3.337724e+06\n",
       "1       8047  30863154174  3.835362e+06\n",
       "2       7940  44397341986  5.591605e+06\n",
       "3       5814  47553395187  8.179119e+06\n",
       "4       1180  15839726678  1.342350e+07\n",
       "5        326   7746438762  2.376208e+07\n",
       "6        105   3329523924  3.170975e+07\n",
       "7         59   3036734076  5.147007e+07\n",
       "8         12    602690000  5.022417e+07\n",
       "9          8    273218900  3.415236e+07\n",
       "10         3     78500000  2.616667e+07\n",
       "11         2     50500000  2.525000e+07\n",
       "12         1    420000000  4.200000e+08\n",
       "14         2     53659000  2.682950e+07\n",
       "15         1     65000000  6.500000e+07\n",
       "16         1     28500000  2.850000e+07\n",
       "19         1     32250000  3.225000e+07"
      ]
     },
     "execution_count": 68,
     "metadata": {},
     "output_type": "execute_result"
    }
   ],
   "source": [
    "data.groupby('rooms')['last_price'].agg(['count','sum','mean'])"
   ]
  },
  {
   "cell_type": "code",
   "execution_count": 69,
   "metadata": {},
   "outputs": [
    {
     "data": {
      "text/plain": [
       "<AxesSubplot:xlabel='rooms'>"
      ]
     },
     "execution_count": 69,
     "metadata": {},
     "output_type": "execute_result"
    },
    {
     "data": {
      "image/png": "[encoded data removed]",
      "text/plain": [
       "<Figure size 432x288 with 1 Axes>"
      ]
     },
     "metadata": {
      "needs_background": "light"
     },
     "output_type": "display_data"
    }
   ],
   "source": [
    "data.groupby('rooms')['last_price'].agg(['mean']).plot()"
   ]
  },
  {
   "cell_type": "code",
   "execution_count": 70,
   "metadata": {},
   "outputs": [
    {
     "data": {
      "text/html": [
       "<div>\n",
       "<style scoped>\n",
       "    .dataframe tbody tr th:only-of-type {\n",
       "        vertical-align: middle;\n",
       "    }\n",
       "\n",
       "    .dataframe tbody tr th {\n",
       "        vertical-align: top;\n",
       "    }\n",
       "\n",
       "    .dataframe thead th {\n",
       "        text-align: right;\n",
       "    }\n",
       "</style>\n",
       "<table border=\"1\" class=\"dataframe\">\n",
       "  <thead>\n",
       "    <tr style=\"text-align: right;\">\n",
       "      <th></th>\n",
       "      <th>count</th>\n",
       "      <th>sum</th>\n",
       "      <th>mean</th>\n",
       "    </tr>\n",
       "    <tr>\n",
       "      <th>type_floor</th>\n",
       "      <th></th>\n",
       "      <th></th>\n",
       "      <th></th>\n",
       "    </tr>\n",
       "  </thead>\n",
       "  <tbody>\n",
       "    <tr>\n",
       "      <th>другой</th>\n",
       "      <td>17446</td>\n",
       "      <td>116459800266</td>\n",
       "      <td>6.675444e+06</td>\n",
       "    </tr>\n",
       "    <tr>\n",
       "      <th>первый</th>\n",
       "      <td>2917</td>\n",
       "      <td>14011985190</td>\n",
       "      <td>4.803560e+06</td>\n",
       "    </tr>\n",
       "    <tr>\n",
       "      <th>последний</th>\n",
       "      <td>3336</td>\n",
       "      <td>24556378881</td>\n",
       "      <td>7.361025e+06</td>\n",
       "    </tr>\n",
       "  </tbody>\n",
       "</table>\n",
       "</div>"
      ],
      "text/plain": [
       "            count           sum          mean\n",
       "type_floor                                   \n",
       "другой      17446  116459800266  6.675444e+06\n",
       "первый       2917   14011985190  4.803560e+06\n",
       "последний    3336   24556378881  7.361025e+06"
      ]
     },
     "execution_count": 70,
     "metadata": {},
     "output_type": "execute_result"
    }
   ],
   "source": [
    "data.groupby('type_floor')['last_price'].agg(['count','sum','mean'])"
   ]
  },
  {
   "cell_type": "code",
   "execution_count": 71,
   "metadata": {
    "scrolled": false
   },
   "outputs": [
    {
     "data": {
      "text/plain": [
       "<AxesSubplot:xlabel='type_floor'>"
      ]
     },
     "execution_count": 71,
     "metadata": {},
     "output_type": "execute_result"
    },
    {
     "data": {
      "image/png": "[encoded data removed]",
      "text/plain": [
       "<Figure size 432x288 with 1 Axes>"
      ]
     },
     "metadata": {
      "needs_background": "light"
     },
     "output_type": "display_data"
    }
   ],
   "source": [
    "data.groupby('type_floor')['last_price'].agg(['mean']).plot(kind='bar')"
   ]
  },
  {
   "cell_type": "code",
   "execution_count": 72,
   "metadata": {
    "scrolled": false
   },
   "outputs": [
    {
     "data": {
      "text/plain": [
       "<AxesSubplot:xlabel='type_floor'>"
      ]
     },
     "execution_count": 72,
     "metadata": {},
     "output_type": "execute_result"
    },
    {
     "data": {
      "image/png": "[encoded data removed]",
      "text/plain": [
       "<Figure size 432x288 with 1 Axes>"
      ]
     },
     "metadata": {
      "needs_background": "light"
     },
     "output_type": "display_data"
    }
   ],
   "source": [
    "data.groupby('type_floor')['last_price'].agg(['median']).plot(kind='bar')"
   ]
  },
  {
   "cell_type": "code",
   "execution_count": 73,
   "metadata": {},
   "outputs": [
    {
     "data": {
      "text/html": [
       "<div>\n",
       "<style scoped>\n",
       "    .dataframe tbody tr th:only-of-type {\n",
       "        vertical-align: middle;\n",
       "    }\n",
       "\n",
       "    .dataframe tbody tr th {\n",
       "        vertical-align: top;\n",
       "    }\n",
       "\n",
       "    .dataframe thead tr th {\n",
       "        text-align: left;\n",
       "    }\n",
       "\n",
       "    .dataframe thead tr:last-of-type th {\n",
       "        text-align: right;\n",
       "    }\n",
       "</style>\n",
       "<table border=\"1\" class=\"dataframe\">\n",
       "  <thead>\n",
       "    <tr>\n",
       "      <th></th>\n",
       "      <th>count</th>\n",
       "      <th>sum</th>\n",
       "      <th>mean</th>\n",
       "    </tr>\n",
       "    <tr>\n",
       "      <th></th>\n",
       "      <th>last_price</th>\n",
       "      <th>last_price</th>\n",
       "      <th>last_price</th>\n",
       "    </tr>\n",
       "    <tr>\n",
       "      <th>weekday</th>\n",
       "      <th></th>\n",
       "      <th></th>\n",
       "      <th></th>\n",
       "    </tr>\n",
       "  </thead>\n",
       "  <tbody>\n",
       "    <tr>\n",
       "      <th>0</th>\n",
       "      <td>3612</td>\n",
       "      <td>23519947686</td>\n",
       "      <td>6.511613e+06</td>\n",
       "    </tr>\n",
       "    <tr>\n",
       "      <th>1</th>\n",
       "      <td>4183</td>\n",
       "      <td>26747078406</td>\n",
       "      <td>6.394233e+06</td>\n",
       "    </tr>\n",
       "    <tr>\n",
       "      <th>2</th>\n",
       "      <td>3974</td>\n",
       "      <td>26339554491</td>\n",
       "      <td>6.627970e+06</td>\n",
       "    </tr>\n",
       "    <tr>\n",
       "      <th>3</th>\n",
       "      <td>4295</td>\n",
       "      <td>28813708580</td>\n",
       "      <td>6.708663e+06</td>\n",
       "    </tr>\n",
       "    <tr>\n",
       "      <th>4</th>\n",
       "      <td>4000</td>\n",
       "      <td>25488522415</td>\n",
       "      <td>6.372131e+06</td>\n",
       "    </tr>\n",
       "    <tr>\n",
       "      <th>5</th>\n",
       "      <td>1936</td>\n",
       "      <td>13507092433</td>\n",
       "      <td>6.976804e+06</td>\n",
       "    </tr>\n",
       "    <tr>\n",
       "      <th>6</th>\n",
       "      <td>1699</td>\n",
       "      <td>10612260326</td>\n",
       "      <td>6.246180e+06</td>\n",
       "    </tr>\n",
       "  </tbody>\n",
       "</table>\n",
       "</div>"
      ],
      "text/plain": [
       "             count          sum          mean\n",
       "        last_price   last_price    last_price\n",
       "weekday                                      \n",
       "0             3612  23519947686  6.511613e+06\n",
       "1             4183  26747078406  6.394233e+06\n",
       "2             3974  26339554491  6.627970e+06\n",
       "3             4295  28813708580  6.708663e+06\n",
       "4             4000  25488522415  6.372131e+06\n",
       "5             1936  13507092433  6.976804e+06\n",
       "6             1699  10612260326  6.246180e+06"
      ]
     },
     "execution_count": 73,
     "metadata": {},
     "output_type": "execute_result"
    }
   ],
   "source": [
    "data.pivot_table(index=('weekday'),values='last_price',aggfunc=['count', 'sum', 'mean'])"
   ]
  },
  {
   "cell_type": "code",
   "execution_count": 74,
   "metadata": {},
   "outputs": [
    {
     "data": {
      "text/plain": [
       "<AxesSubplot:xlabel='weekday'>"
      ]
     },
     "execution_count": 74,
     "metadata": {},
     "output_type": "execute_result"
    },
    {
     "data": {
      "image/png": "[encoded data removed]",
      "text/plain": [
       "<Figure size 432x288 with 1 Axes>"
      ]
     },
     "metadata": {
      "needs_background": "light"
     },
     "output_type": "display_data"
    }
   ],
   "source": [
    "data.pivot_table(index=('weekday'),values='last_price',aggfunc=['mean']).plot(kind='bar')"
   ]
  },
  {
   "cell_type": "code",
   "execution_count": 75,
   "metadata": {},
   "outputs": [
    {
     "data": {
      "text/html": [
       "<div>\n",
       "<style scoped>\n",
       "    .dataframe tbody tr th:only-of-type {\n",
       "        vertical-align: middle;\n",
       "    }\n",
       "\n",
       "    .dataframe tbody tr th {\n",
       "        vertical-align: top;\n",
       "    }\n",
       "\n",
       "    .dataframe thead tr th {\n",
       "        text-align: left;\n",
       "    }\n",
       "\n",
       "    .dataframe thead tr:last-of-type th {\n",
       "        text-align: right;\n",
       "    }\n",
       "</style>\n",
       "<table border=\"1\" class=\"dataframe\">\n",
       "  <thead>\n",
       "    <tr>\n",
       "      <th></th>\n",
       "      <th>count</th>\n",
       "      <th>sum</th>\n",
       "      <th>mean</th>\n",
       "    </tr>\n",
       "    <tr>\n",
       "      <th></th>\n",
       "      <th>last_price</th>\n",
       "      <th>last_price</th>\n",
       "      <th>last_price</th>\n",
       "    </tr>\n",
       "    <tr>\n",
       "      <th>month</th>\n",
       "      <th></th>\n",
       "      <th></th>\n",
       "      <th></th>\n",
       "    </tr>\n",
       "  </thead>\n",
       "  <tbody>\n",
       "    <tr>\n",
       "      <th>1</th>\n",
       "      <td>1500</td>\n",
       "      <td>10002349688</td>\n",
       "      <td>6.668233e+06</td>\n",
       "    </tr>\n",
       "    <tr>\n",
       "      <th>2</th>\n",
       "      <td>2640</td>\n",
       "      <td>17076840283</td>\n",
       "      <td>6.468500e+06</td>\n",
       "    </tr>\n",
       "    <tr>\n",
       "      <th>3</th>\n",
       "      <td>2587</td>\n",
       "      <td>16451445628</td>\n",
       "      <td>6.359275e+06</td>\n",
       "    </tr>\n",
       "    <tr>\n",
       "      <th>4</th>\n",
       "      <td>2379</td>\n",
       "      <td>16027795155</td>\n",
       "      <td>6.737198e+06</td>\n",
       "    </tr>\n",
       "    <tr>\n",
       "      <th>5</th>\n",
       "      <td>1274</td>\n",
       "      <td>8408954507</td>\n",
       "      <td>6.600435e+06</td>\n",
       "    </tr>\n",
       "    <tr>\n",
       "      <th>6</th>\n",
       "      <td>1760</td>\n",
       "      <td>11106074136</td>\n",
       "      <td>6.310269e+06</td>\n",
       "    </tr>\n",
       "    <tr>\n",
       "      <th>7</th>\n",
       "      <td>1695</td>\n",
       "      <td>11270627038</td>\n",
       "      <td>6.649337e+06</td>\n",
       "    </tr>\n",
       "    <tr>\n",
       "      <th>8</th>\n",
       "      <td>1744</td>\n",
       "      <td>11074806306</td>\n",
       "      <td>6.350233e+06</td>\n",
       "    </tr>\n",
       "    <tr>\n",
       "      <th>9</th>\n",
       "      <td>1981</td>\n",
       "      <td>13521256423</td>\n",
       "      <td>6.825470e+06</td>\n",
       "    </tr>\n",
       "    <tr>\n",
       "      <th>10</th>\n",
       "      <td>2127</td>\n",
       "      <td>13261872852</td>\n",
       "      <td>6.235013e+06</td>\n",
       "    </tr>\n",
       "    <tr>\n",
       "      <th>11</th>\n",
       "      <td>2371</td>\n",
       "      <td>15319891040</td>\n",
       "      <td>6.461363e+06</td>\n",
       "    </tr>\n",
       "    <tr>\n",
       "      <th>12</th>\n",
       "      <td>1641</td>\n",
       "      <td>11506251281</td>\n",
       "      <td>7.011731e+06</td>\n",
       "    </tr>\n",
       "  </tbody>\n",
       "</table>\n",
       "</div>"
      ],
      "text/plain": [
       "           count          sum          mean\n",
       "      last_price   last_price    last_price\n",
       "month                                      \n",
       "1           1500  10002349688  6.668233e+06\n",
       "2           2640  17076840283  6.468500e+06\n",
       "3           2587  16451445628  6.359275e+06\n",
       "4           2379  16027795155  6.737198e+06\n",
       "5           1274   8408954507  6.600435e+06\n",
       "6           1760  11106074136  6.310269e+06\n",
       "7           1695  11270627038  6.649337e+06\n",
       "8           1744  11074806306  6.350233e+06\n",
       "9           1981  13521256423  6.825470e+06\n",
       "10          2127  13261872852  6.235013e+06\n",
       "11          2371  15319891040  6.461363e+06\n",
       "12          1641  11506251281  7.011731e+06"
      ]
     },
     "execution_count": 75,
     "metadata": {},
     "output_type": "execute_result"
    }
   ],
   "source": [
    "data.pivot_table(index=('month'),values='last_price',aggfunc=['count', 'sum', 'mean'])"
   ]
  },
  {
   "cell_type": "code",
   "execution_count": 76,
   "metadata": {},
   "outputs": [
    {
     "data": {
      "text/plain": [
       "<AxesSubplot:xlabel='month'>"
      ]
     },
     "execution_count": 76,
     "metadata": {},
     "output_type": "execute_result"
    },
    {
     "data": {
      "image/png": "[encoded data removed]",
      "text/plain": [
       "<Figure size 432x288 with 1 Axes>"
      ]
     },
     "metadata": {
      "needs_background": "light"
     },
     "output_type": "display_data"
    }
   ],
   "source": [
    "data.pivot_table(index=('month'),values='last_price',aggfunc=['mean']).plot(kind='bar')"
   ]
  },
  {
   "cell_type": "code",
   "execution_count": 77,
   "metadata": {},
   "outputs": [
    {
     "data": {
      "text/html": [
       "<div>\n",
       "<style scoped>\n",
       "    .dataframe tbody tr th:only-of-type {\n",
       "        vertical-align: middle;\n",
       "    }\n",
       "\n",
       "    .dataframe tbody tr th {\n",
       "        vertical-align: top;\n",
       "    }\n",
       "\n",
       "    .dataframe thead tr th {\n",
       "        text-align: left;\n",
       "    }\n",
       "\n",
       "    .dataframe thead tr:last-of-type th {\n",
       "        text-align: right;\n",
       "    }\n",
       "</style>\n",
       "<table border=\"1\" class=\"dataframe\">\n",
       "  <thead>\n",
       "    <tr>\n",
       "      <th></th>\n",
       "      <th>count</th>\n",
       "      <th>sum</th>\n",
       "      <th>mean</th>\n",
       "    </tr>\n",
       "    <tr>\n",
       "      <th></th>\n",
       "      <th>last_price</th>\n",
       "      <th>last_price</th>\n",
       "      <th>last_price</th>\n",
       "    </tr>\n",
       "    <tr>\n",
       "      <th>year</th>\n",
       "      <th></th>\n",
       "      <th></th>\n",
       "      <th></th>\n",
       "    </tr>\n",
       "  </thead>\n",
       "  <tbody>\n",
       "    <tr>\n",
       "      <th>2014</th>\n",
       "      <td>137</td>\n",
       "      <td>1655937624</td>\n",
       "      <td>1.208714e+07</td>\n",
       "    </tr>\n",
       "    <tr>\n",
       "      <th>2015</th>\n",
       "      <td>1191</td>\n",
       "      <td>10210244460</td>\n",
       "      <td>8.572833e+06</td>\n",
       "    </tr>\n",
       "    <tr>\n",
       "      <th>2016</th>\n",
       "      <td>2783</td>\n",
       "      <td>19002079638</td>\n",
       "      <td>6.827912e+06</td>\n",
       "    </tr>\n",
       "    <tr>\n",
       "      <th>2017</th>\n",
       "      <td>8190</td>\n",
       "      <td>53937123371</td>\n",
       "      <td>6.585729e+06</td>\n",
       "    </tr>\n",
       "    <tr>\n",
       "      <th>2018</th>\n",
       "      <td>8519</td>\n",
       "      <td>50696283055</td>\n",
       "      <td>5.950966e+06</td>\n",
       "    </tr>\n",
       "    <tr>\n",
       "      <th>2019</th>\n",
       "      <td>2879</td>\n",
       "      <td>19526496189</td>\n",
       "      <td>6.782388e+06</td>\n",
       "    </tr>\n",
       "  </tbody>\n",
       "</table>\n",
       "</div>"
      ],
      "text/plain": [
       "          count          sum          mean\n",
       "     last_price   last_price    last_price\n",
       "year                                      \n",
       "2014        137   1655937624  1.208714e+07\n",
       "2015       1191  10210244460  8.572833e+06\n",
       "2016       2783  19002079638  6.827912e+06\n",
       "2017       8190  53937123371  6.585729e+06\n",
       "2018       8519  50696283055  5.950966e+06\n",
       "2019       2879  19526496189  6.782388e+06"
      ]
     },
     "execution_count": 77,
     "metadata": {},
     "output_type": "execute_result"
    }
   ],
   "source": [
    "data.pivot_table(index=('year'),values='last_price',aggfunc=['count', 'sum', 'mean'])"
   ]
  },
  {
   "cell_type": "code",
   "execution_count": 78,
   "metadata": {},
   "outputs": [
    {
     "data": {
      "text/plain": [
       "<AxesSubplot:xlabel='year'>"
      ]
     },
     "execution_count": 78,
     "metadata": {},
     "output_type": "execute_result"
    },
    {
     "data": {
      "image/png": "[encoded data removed]",
      "text/plain": [
       "<Figure size 432x288 with 1 Axes>"
      ]
     },
     "metadata": {
      "needs_background": "light"
     },
     "output_type": "display_data"
    }
   ],
   "source": [
    "data.pivot_table(index=('year'),values='last_price',aggfunc=['mean']).plot(kind='bar')"
   ]
  },
  {
   "cell_type": "markdown",
   "metadata": {},
   "source": [
    "***ПОЯСНЕНИЕ*** \n",
    "\n",
    "- total_area/last_price тенденция среднего к увеличению с ростом площади и цены\n",
    "- living_area/last_price чем меньше площадь, тем меньше цена. Есть пиковые значения.\n",
    "- kitchen_area/last_price чем меньше площадь и цена тем плотнее график. Есть пиковые значения.\n",
    "- rooms/last_price по графику большой зависимости от количества комнат и средней цены не выявлено, средняя ровная, кроме пикового значения цены\n",
    "- type_floor/last_price первый этаж дешевле других\n",
    "- weekday/last_price вторник, пятница, воскресенье идет спад\n",
    "- month/last_price март, июнь, август, октябрь, ноябрь идет спад\n",
    "- year/last_price сильно отличается 2014 год, но и количество обьектов там было небольшое, 2018 самая низкая средняя стоимость квартир."
   ]
  },
  {
   "cell_type": "markdown",
   "metadata": {},
   "source": [
    "***4. Посчитайте среднюю цену одного квадратного метра в 10 населённых пунктах с наибольшим числом объявлений.***\n",
    "\n",
    "Выделите населённые пункты с самой высокой и низкой стоимостью квадратного метра. Эти данные можно найти по имени в столбце locality_name."
   ]
  },
  {
   "cell_type": "code",
   "execution_count": 79,
   "metadata": {},
   "outputs": [
    {
     "name": "stdout",
     "output_type": "stream",
     "text": [
      "                        count            mean             max             min\n",
      "              price_one_metre price_one_metre price_one_metre price_one_metre\n",
      "locality_name                                                                \n",
      "unknown                    49    94310.020408        196648.0         24005.0\n",
      "бокситогорск               16    17551.625000         21591.0         14444.0\n",
      "волосово                   36    40183.305556         52030.0         25000.0\n",
      "волхов                    111    35087.702703         48276.0         20064.0\n",
      "всеволожск                398    68654.474874        640422.0         31400.0\n",
      "...                       ...             ...             ...             ...\n",
      "сосновый бор               87    75220.402299        126667.0         42500.0\n",
      "сясьстрой                  24    34405.458333         40920.0         21028.0\n",
      "тихвин                     49    40048.551020         51767.0         28125.0\n",
      "тосно                     104    59004.673077        100529.0         37037.0\n",
      "шлиссельбург               57    58584.070175         86111.0         40019.0\n",
      "\n",
      "[330 rows x 4 columns]\n"
     ]
    }
   ],
   "source": [
    "data_pivot = data.pivot_table(index=('locality_name'),values='price_one_metre',aggfunc=['count', 'mean', 'max', 'min'])\n",
    "print(data_pivot)"
   ]
  },
  {
   "cell_type": "code",
   "execution_count": 80,
   "metadata": {},
   "outputs": [],
   "source": [
    "data_pivot.columns = ['count', 'mean', 'max', 'min']"
   ]
  },
  {
   "cell_type": "code",
   "execution_count": 81,
   "metadata": {},
   "outputs": [
    {
     "data": {
      "text/html": [
       "<div>\n",
       "<style scoped>\n",
       "    .dataframe tbody tr th:only-of-type {\n",
       "        vertical-align: middle;\n",
       "    }\n",
       "\n",
       "    .dataframe tbody tr th {\n",
       "        vertical-align: top;\n",
       "    }\n",
       "\n",
       "    .dataframe thead th {\n",
       "        text-align: right;\n",
       "    }\n",
       "</style>\n",
       "<table border=\"1\" class=\"dataframe\">\n",
       "  <thead>\n",
       "    <tr style=\"text-align: right;\">\n",
       "      <th></th>\n",
       "      <th>count</th>\n",
       "      <th>mean</th>\n",
       "      <th>max</th>\n",
       "      <th>min</th>\n",
       "    </tr>\n",
       "    <tr>\n",
       "      <th>locality_name</th>\n",
       "      <th></th>\n",
       "      <th></th>\n",
       "      <th></th>\n",
       "      <th></th>\n",
       "    </tr>\n",
       "  </thead>\n",
       "  <tbody>\n",
       "    <tr>\n",
       "      <th>санкт-петербург</th>\n",
       "      <td>15721</td>\n",
       "      <td>114849.005788</td>\n",
       "      <td>1907500.0</td>\n",
       "      <td>112.0</td>\n",
       "    </tr>\n",
       "    <tr>\n",
       "      <th>поселок мурино</th>\n",
       "      <td>556</td>\n",
       "      <td>85681.758993</td>\n",
       "      <td>138580.0</td>\n",
       "      <td>50000.0</td>\n",
       "    </tr>\n",
       "    <tr>\n",
       "      <th>поселок шушары</th>\n",
       "      <td>440</td>\n",
       "      <td>78677.379545</td>\n",
       "      <td>147826.0</td>\n",
       "      <td>47700.0</td>\n",
       "    </tr>\n",
       "    <tr>\n",
       "      <th>всеволожск</th>\n",
       "      <td>398</td>\n",
       "      <td>68654.474874</td>\n",
       "      <td>640422.0</td>\n",
       "      <td>31400.0</td>\n",
       "    </tr>\n",
       "    <tr>\n",
       "      <th>пушкин</th>\n",
       "      <td>369</td>\n",
       "      <td>103125.818428</td>\n",
       "      <td>256522.0</td>\n",
       "      <td>59836.0</td>\n",
       "    </tr>\n",
       "    <tr>\n",
       "      <th>колпино</th>\n",
       "      <td>338</td>\n",
       "      <td>75424.571006</td>\n",
       "      <td>125000.0</td>\n",
       "      <td>47957.0</td>\n",
       "    </tr>\n",
       "    <tr>\n",
       "      <th>поселок парголово</th>\n",
       "      <td>327</td>\n",
       "      <td>90175.886850</td>\n",
       "      <td>138522.0</td>\n",
       "      <td>39206.0</td>\n",
       "    </tr>\n",
       "    <tr>\n",
       "      <th>гатчина</th>\n",
       "      <td>307</td>\n",
       "      <td>68746.110749</td>\n",
       "      <td>146316.0</td>\n",
       "      <td>10507.0</td>\n",
       "    </tr>\n",
       "    <tr>\n",
       "      <th>деревня кудрово</th>\n",
       "      <td>299</td>\n",
       "      <td>92473.588629</td>\n",
       "      <td>142857.0</td>\n",
       "      <td>54160.0</td>\n",
       "    </tr>\n",
       "    <tr>\n",
       "      <th>выборг</th>\n",
       "      <td>237</td>\n",
       "      <td>58141.919831</td>\n",
       "      <td>107473.0</td>\n",
       "      <td>18750.0</td>\n",
       "    </tr>\n",
       "  </tbody>\n",
       "</table>\n",
       "</div>"
      ],
      "text/plain": [
       "                   count           mean        max      min\n",
       "locality_name                                              \n",
       "санкт-петербург    15721  114849.005788  1907500.0    112.0\n",
       "поселок мурино       556   85681.758993   138580.0  50000.0\n",
       "поселок шушары       440   78677.379545   147826.0  47700.0\n",
       "всеволожск           398   68654.474874   640422.0  31400.0\n",
       "пушкин               369  103125.818428   256522.0  59836.0\n",
       "колпино              338   75424.571006   125000.0  47957.0\n",
       "поселок парголово    327   90175.886850   138522.0  39206.0\n",
       "гатчина              307   68746.110749   146316.0  10507.0\n",
       "деревня кудрово      299   92473.588629   142857.0  54160.0\n",
       "выборг               237   58141.919831   107473.0  18750.0"
      ]
     },
     "execution_count": 81,
     "metadata": {},
     "output_type": "execute_result"
    }
   ],
   "source": [
    "data_pivot.sort_values('count', ascending=False).head(10)"
   ]
  },
  {
   "cell_type": "code",
   "execution_count": 82,
   "metadata": {},
   "outputs": [
    {
     "data": {
      "text/html": [
       "<div>\n",
       "<style scoped>\n",
       "    .dataframe tbody tr th:only-of-type {\n",
       "        vertical-align: middle;\n",
       "    }\n",
       "\n",
       "    .dataframe tbody tr th {\n",
       "        vertical-align: top;\n",
       "    }\n",
       "\n",
       "    .dataframe thead th {\n",
       "        text-align: right;\n",
       "    }\n",
       "</style>\n",
       "<table border=\"1\" class=\"dataframe\">\n",
       "  <thead>\n",
       "    <tr style=\"text-align: right;\">\n",
       "      <th></th>\n",
       "      <th>balcony</th>\n",
       "      <th>last_price</th>\n",
       "    </tr>\n",
       "    <tr>\n",
       "      <th>locality_name</th>\n",
       "      <th></th>\n",
       "      <th></th>\n",
       "    </tr>\n",
       "  </thead>\n",
       "  <tbody>\n",
       "    <tr>\n",
       "      <th>санкт-петербург</th>\n",
       "      <td>15721</td>\n",
       "      <td>5500000.0</td>\n",
       "    </tr>\n",
       "    <tr>\n",
       "      <th>поселок мурино</th>\n",
       "      <td>556</td>\n",
       "      <td>3400000.0</td>\n",
       "    </tr>\n",
       "    <tr>\n",
       "      <th>поселок шушары</th>\n",
       "      <td>440</td>\n",
       "      <td>3950000.0</td>\n",
       "    </tr>\n",
       "    <tr>\n",
       "      <th>всеволожск</th>\n",
       "      <td>398</td>\n",
       "      <td>3450000.0</td>\n",
       "    </tr>\n",
       "    <tr>\n",
       "      <th>пушкин</th>\n",
       "      <td>369</td>\n",
       "      <td>5180000.0</td>\n",
       "    </tr>\n",
       "    <tr>\n",
       "      <th>колпино</th>\n",
       "      <td>338</td>\n",
       "      <td>3600000.0</td>\n",
       "    </tr>\n",
       "    <tr>\n",
       "      <th>поселок парголово</th>\n",
       "      <td>327</td>\n",
       "      <td>4100000.0</td>\n",
       "    </tr>\n",
       "    <tr>\n",
       "      <th>гатчина</th>\n",
       "      <td>307</td>\n",
       "      <td>3100000.0</td>\n",
       "    </tr>\n",
       "    <tr>\n",
       "      <th>деревня кудрово</th>\n",
       "      <td>299</td>\n",
       "      <td>3790000.0</td>\n",
       "    </tr>\n",
       "    <tr>\n",
       "      <th>выборг</th>\n",
       "      <td>237</td>\n",
       "      <td>2897000.0</td>\n",
       "    </tr>\n",
       "  </tbody>\n",
       "</table>\n",
       "</div>"
      ],
      "text/plain": [
       "                   balcony  last_price\n",
       "locality_name                         \n",
       "санкт-петербург      15721   5500000.0\n",
       "поселок мурино         556   3400000.0\n",
       "поселок шушары         440   3950000.0\n",
       "всеволожск             398   3450000.0\n",
       "пушкин                 369   5180000.0\n",
       "колпино                338   3600000.0\n",
       "поселок парголово      327   4100000.0\n",
       "гатчина                307   3100000.0\n",
       "деревня кудрово        299   3790000.0\n",
       "выборг                 237   2897000.0"
      ]
     },
     "execution_count": 82,
     "metadata": {},
     "output_type": "execute_result"
    }
   ],
   "source": [
    "data.groupby('locality_name').agg({'balcony':'count', 'last_price':'median'}) \\\n",
    "    .sort_values(by = 'balcony', ascending = False) \\\n",
    "    .head(10)"
   ]
  },
  {
   "cell_type": "markdown",
   "metadata": {},
   "source": [
    "***ПОЯСНЕНИЕ***\n",
    "\n",
    "Выведено 10 населенных пунктов с наибольшим числом объявлений.\n",
    "\n",
    "Средняя цена в колонке mean\n",
    "\n",
    "Максимальная стоимость кв.м. в Санкт-Петербурге, минимальная - Гатчина (есть значение в С.Петербурге 112, понятно, что это ошибка)"
   ]
  },
  {
   "cell_type": "markdown",
   "metadata": {},
   "source": [
    "***5. Ранее вы посчитали расстояние до центра в километрах. Теперь выделите квартиры в Санкт-Петербурге с помощью столбца locality_name и вычислите среднюю цену каждого километра.***\n",
    "\n",
    "Опишите, как стоимость объектов зависит от расстояния до центра города."
   ]
  },
  {
   "cell_type": "code",
   "execution_count": 89,
   "metadata": {},
   "outputs": [
    {
     "data": {
      "image/png": "[encoded data removed]",
      "text/plain": [
       "<Figure size 432x288 with 1 Axes>"
      ]
     },
     "metadata": {
      "needs_background": "light"
     },
     "output_type": "display_data"
    }
   ],
   "source": [
    "data.query('locality_name == \"санкт-петербург\"').pivot_table(\n",
    "    index=('cityCenters_nearest_km'),values='price_one_metre',aggfunc=['mean'])\\\n",
    "    .plot(grid = True, title = 'Заголовок')\n",
    "plt.show()"
   ]
  },
  {
   "cell_type": "markdown",
   "metadata": {},
   "source": [
    "***ПОЯСНЕНИЕ*** Чем ближе к центру, тем дороже."
   ]
  },
  {
   "cell_type": "markdown",
   "metadata": {},
   "source": [
    "### Общий вывод"
   ]
  },
  {
   "cell_type": "markdown",
   "metadata": {},
   "source": [
    "В датасете много пропусков и неявных дубликатов, например, в наименовании населенного пункта. Много аномальных значений - высота потолков, этажность, количество комнат, низкая стоимость кв.м. и проч. Пропуски заменены на 0, кроме площади, она рассчитана по формуле общ.пл = жил.пл + кухня, изменены аномальные значения и дубликаты.\n",
    "\n",
    "Средние значения по датасету:\n",
    "- total_area среднее - 60 кв.м.\n",
    "- living_area среднее - 36,7 кв.м.\n",
    "- kitchen_area среднее 10 кв.м.\n",
    "- last_price 6 541 548\n",
    "- rooms среднее 2 комнаты\n",
    "- floor среднее 5\n",
    "- type_floor большинство значений другой (не первый и не последний этаж)\n",
    "- floors_total среднее 10\n",
    "- cityCenters_nearest среднее 10886 м\n",
    "- airports_nearest среднее 22060 м\n",
    "- days_exposition среднее - 156 дней, можно считать, что быстрые продажи это все что меньше среднего, для долгих продаж - больше среднего\n",
    "\n",
    "Есть зависимость от цены:\n",
    "- total_area/last_price тенденция среднего к увеличению с ростом площади и цены\n",
    "- living_area/last_price чем меньше площадь, тем меньше цена\n",
    "- kitchen_area/last_price чем меньше площадь и цена тем плотнее график\n",
    "- rooms/last_price средняя ровная\n",
    "- type_floor/last_price первый этаж дешевле других\n",
    "- weekday/last_price вторник, пятница, воскресенье идет спад\n",
    "- month/last_price март, июнь, август, октябрь, ноябрь идет спад\n",
    "- year/last_price сильно отличается 2014 год, но и количество обьектов там было небольшое, 2018 самая низкая средняя стоимость квартир\n",
    "- чем ближе к центру, тем дороже\n",
    "\n",
    "Топ-10 большинства объявлений:\n",
    "- санкт-петербург\n",
    "- поселок мурино\n",
    "- поселок шушары\n",
    "- всеволожск\n",
    "- пушкин\n",
    "- колпино\n",
    "- поселок парголово\n",
    "- гатчина\n",
    "- деревня кудрово\n",
    "- выборг\n",
    "\n"
   ]
  },
  {
   "cell_type": "code",
   "execution_count": null,
   "metadata": {},
   "outputs": [],
   "source": []
  }
 ],
 "metadata": {
  "ExecuteTimeLog": [
   {
    "duration": 672,
    "start_time": "2022-10-27T14:31:20.593Z"
   },
   {
    "duration": 90,
    "start_time": "2022-10-27T14:32:50.261Z"
   },
   {
    "duration": 17,
    "start_time": "2022-10-27T14:33:06.269Z"
   },
   {
    "duration": 8,
    "start_time": "2022-10-27T14:33:45.298Z"
   },
   {
    "duration": 3,
    "start_time": "2022-10-27T14:33:58.924Z"
   },
   {
    "duration": 4,
    "start_time": "2022-10-27T14:34:09.922Z"
   },
   {
    "duration": 8,
    "start_time": "2022-10-27T14:34:19.408Z"
   },
   {
    "duration": 7,
    "start_time": "2022-10-27T14:48:02.518Z"
   },
   {
    "duration": 91,
    "start_time": "2022-10-27T14:49:39.403Z"
   },
   {
    "duration": 15,
    "start_time": "2022-10-27T14:49:41.758Z"
   },
   {
    "duration": 27,
    "start_time": "2022-10-27T14:49:46.215Z"
   },
   {
    "duration": 32,
    "start_time": "2022-10-27T14:49:49.395Z"
   },
   {
    "duration": 50,
    "start_time": "2022-10-27T15:06:45.719Z"
   },
   {
    "duration": 2241,
    "start_time": "2022-10-27T15:06:49.868Z"
   },
   {
    "duration": 47,
    "start_time": "2022-10-28T15:25:49.926Z"
   },
   {
    "duration": 48,
    "start_time": "2022-10-28T15:26:00.626Z"
   },
   {
    "duration": 1086,
    "start_time": "2022-10-28T15:26:10.442Z"
   },
   {
    "duration": 15,
    "start_time": "2022-10-28T15:26:16.243Z"
   },
   {
    "duration": 28,
    "start_time": "2022-10-28T15:26:20.314Z"
   },
   {
    "duration": 2203,
    "start_time": "2022-10-28T15:26:25.018Z"
   },
   {
    "duration": 25,
    "start_time": "2022-10-28T16:10:08.543Z"
   },
   {
    "duration": 10,
    "start_time": "2022-10-28T16:10:57.706Z"
   },
   {
    "duration": 3,
    "start_time": "2022-10-28T16:15:04.366Z"
   },
   {
    "duration": 8,
    "start_time": "2022-10-28T16:15:12.248Z"
   },
   {
    "duration": 47,
    "start_time": "2022-10-28T16:16:24.244Z"
   },
   {
    "duration": 4,
    "start_time": "2022-10-28T16:16:31.746Z"
   },
   {
    "duration": 4,
    "start_time": "2022-10-28T16:17:38.114Z"
   },
   {
    "duration": 5,
    "start_time": "2022-10-28T16:21:31.905Z"
   },
   {
    "duration": 4,
    "start_time": "2022-10-28T16:21:45.042Z"
   },
   {
    "duration": 4,
    "start_time": "2022-10-28T16:22:50.181Z"
   },
   {
    "duration": 38,
    "start_time": "2022-10-28T16:23:33.248Z"
   },
   {
    "duration": 8,
    "start_time": "2022-10-28T16:23:39.692Z"
   },
   {
    "duration": 4,
    "start_time": "2022-10-28T16:23:48.424Z"
   },
   {
    "duration": 5,
    "start_time": "2022-10-28T16:23:53.884Z"
   },
   {
    "duration": 5,
    "start_time": "2022-10-28T16:23:59.345Z"
   },
   {
    "duration": 6,
    "start_time": "2022-10-28T16:24:39.051Z"
   },
   {
    "duration": 6,
    "start_time": "2022-10-28T16:25:31.189Z"
   },
   {
    "duration": 7,
    "start_time": "2022-10-28T16:26:14.850Z"
   },
   {
    "duration": 8,
    "start_time": "2022-10-28T16:26:36.049Z"
   },
   {
    "duration": 10,
    "start_time": "2022-10-28T16:27:41.546Z"
   },
   {
    "duration": 4,
    "start_time": "2022-10-28T16:35:06.881Z"
   },
   {
    "duration": 39,
    "start_time": "2022-10-28T16:35:18.630Z"
   },
   {
    "duration": 9,
    "start_time": "2022-10-28T16:35:26.798Z"
   },
   {
    "duration": 7,
    "start_time": "2022-10-28T16:38:11.920Z"
   },
   {
    "duration": 5,
    "start_time": "2022-10-28T16:38:47.524Z"
   },
   {
    "duration": 7,
    "start_time": "2022-10-28T16:40:14.557Z"
   },
   {
    "duration": 5,
    "start_time": "2022-10-28T16:41:14.013Z"
   },
   {
    "duration": 4,
    "start_time": "2022-10-28T16:41:22.379Z"
   },
   {
    "duration": 9,
    "start_time": "2022-10-28T16:41:34.195Z"
   },
   {
    "duration": 4,
    "start_time": "2022-10-28T16:49:51.320Z"
   },
   {
    "duration": 6,
    "start_time": "2022-10-28T16:50:06.146Z"
   },
   {
    "duration": 7,
    "start_time": "2022-10-28T17:00:40.044Z"
   },
   {
    "duration": 7,
    "start_time": "2022-10-28T17:00:44.296Z"
   },
   {
    "duration": 23,
    "start_time": "2022-10-28T17:01:08.806Z"
   },
   {
    "duration": 10,
    "start_time": "2022-10-28T17:03:24.688Z"
   },
   {
    "duration": 8,
    "start_time": "2022-10-28T17:03:30.494Z"
   },
   {
    "duration": 18,
    "start_time": "2022-10-28T17:03:49.789Z"
   },
   {
    "duration": 47,
    "start_time": "2022-10-28T17:04:53.848Z"
   },
   {
    "duration": 777,
    "start_time": "2022-10-28T17:05:04.161Z"
   },
   {
    "duration": 821,
    "start_time": "2022-10-28T17:05:24.571Z"
   },
   {
    "duration": 10,
    "start_time": "2022-10-28T17:05:50.656Z"
   },
   {
    "duration": 13,
    "start_time": "2022-10-28T17:06:06.093Z"
   },
   {
    "duration": 13,
    "start_time": "2022-10-28T17:06:11.654Z"
   },
   {
    "duration": 9,
    "start_time": "2022-10-28T17:07:17.573Z"
   },
   {
    "duration": 8,
    "start_time": "2022-10-28T17:08:03.681Z"
   },
   {
    "duration": 9,
    "start_time": "2022-10-28T17:08:30.946Z"
   },
   {
    "duration": 11,
    "start_time": "2022-10-28T17:08:43.802Z"
   },
   {
    "duration": 8,
    "start_time": "2022-10-28T17:09:02.976Z"
   },
   {
    "duration": 8,
    "start_time": "2022-10-28T17:19:06.275Z"
   },
   {
    "duration": 6,
    "start_time": "2022-10-28T17:19:11.725Z"
   },
   {
    "duration": 535,
    "start_time": "2022-11-08T20:38:36.681Z"
   },
   {
    "duration": 15,
    "start_time": "2022-11-08T20:38:38.525Z"
   },
   {
    "duration": 29,
    "start_time": "2022-11-08T20:38:41.630Z"
   },
   {
    "duration": 2020,
    "start_time": "2022-11-08T20:38:45.644Z"
   },
   {
    "duration": 9,
    "start_time": "2022-11-08T20:38:49.528Z"
   },
   {
    "duration": 4,
    "start_time": "2022-11-08T20:38:53.234Z"
   },
   {
    "duration": 7,
    "start_time": "2022-11-08T20:38:55.384Z"
   },
   {
    "duration": 5,
    "start_time": "2022-11-08T20:38:57.176Z"
   },
   {
    "duration": 5,
    "start_time": "2022-11-08T20:38:59.106Z"
   },
   {
    "duration": 5,
    "start_time": "2022-11-08T20:52:47.150Z"
   },
   {
    "duration": 24,
    "start_time": "2022-11-08T20:59:40.344Z"
   },
   {
    "duration": 129,
    "start_time": "2022-11-08T21:00:33.885Z"
   },
   {
    "duration": 14,
    "start_time": "2022-11-08T21:00:35.831Z"
   },
   {
    "duration": 24,
    "start_time": "2022-11-08T21:00:41.999Z"
   },
   {
    "duration": 1859,
    "start_time": "2022-11-08T21:00:44.965Z"
   },
   {
    "duration": 9,
    "start_time": "2022-11-08T21:01:51.670Z"
   },
   {
    "duration": 6,
    "start_time": "2022-11-08T21:05:07.997Z"
   },
   {
    "duration": 69,
    "start_time": "2022-11-08T21:15:19.591Z"
   },
   {
    "duration": 5,
    "start_time": "2022-11-08T21:15:39.461Z"
   },
   {
    "duration": 12,
    "start_time": "2022-11-08T21:15:44.192Z"
   },
   {
    "duration": 5,
    "start_time": "2022-11-08T21:16:40.340Z"
   },
   {
    "duration": 2,
    "start_time": "2022-11-08T21:16:49.618Z"
   },
   {
    "duration": 5,
    "start_time": "2022-11-08T21:16:52.953Z"
   },
   {
    "duration": 509,
    "start_time": "2022-11-08T21:17:11.599Z"
   },
   {
    "duration": 17,
    "start_time": "2022-11-08T21:17:12.110Z"
   },
   {
    "duration": 36,
    "start_time": "2022-11-08T21:17:12.129Z"
   },
   {
    "duration": 2161,
    "start_time": "2022-11-08T21:17:12.167Z"
   },
   {
    "duration": 10,
    "start_time": "2022-11-08T21:17:14.330Z"
   },
   {
    "duration": 11,
    "start_time": "2022-11-08T21:17:14.341Z"
   },
   {
    "duration": 8,
    "start_time": "2022-11-08T21:17:14.354Z"
   },
   {
    "duration": 7,
    "start_time": "2022-11-08T21:17:14.364Z"
   },
   {
    "duration": 8,
    "start_time": "2022-11-08T21:17:14.373Z"
   },
   {
    "duration": 7,
    "start_time": "2022-11-08T21:17:14.383Z"
   },
   {
    "duration": 97,
    "start_time": "2022-11-08T21:17:14.391Z"
   },
   {
    "duration": 2,
    "start_time": "2022-11-08T21:19:36.932Z"
   },
   {
    "duration": 13,
    "start_time": "2022-11-08T21:20:19.603Z"
   },
   {
    "duration": 7,
    "start_time": "2022-11-08T21:22:23.804Z"
   },
   {
    "duration": 6,
    "start_time": "2022-11-08T21:22:34.332Z"
   },
   {
    "duration": 7,
    "start_time": "2022-11-08T21:23:36.879Z"
   },
   {
    "duration": 28,
    "start_time": "2022-11-08T21:23:56.316Z"
   },
   {
    "duration": 37,
    "start_time": "2022-11-08T21:25:15.452Z"
   },
   {
    "duration": 1409,
    "start_time": "2022-11-08T21:27:06.980Z"
   },
   {
    "duration": 1661,
    "start_time": "2022-11-08T21:27:20.353Z"
   },
   {
    "duration": 35,
    "start_time": "2022-11-08T21:27:43.700Z"
   },
   {
    "duration": 27,
    "start_time": "2022-11-08T21:28:38.541Z"
   },
   {
    "duration": 36,
    "start_time": "2022-11-08T21:30:51.037Z"
   },
   {
    "duration": 24,
    "start_time": "2022-11-08T21:31:14.604Z"
   },
   {
    "duration": 16,
    "start_time": "2022-11-08T21:33:50.128Z"
   },
   {
    "duration": 14,
    "start_time": "2022-11-08T21:34:13.901Z"
   },
   {
    "duration": 11,
    "start_time": "2022-11-08T21:34:27.250Z"
   },
   {
    "duration": 23,
    "start_time": "2022-11-08T21:34:38.198Z"
   },
   {
    "duration": 6,
    "start_time": "2022-11-08T21:34:49.374Z"
   },
   {
    "duration": 17,
    "start_time": "2022-11-08T21:36:15.655Z"
   },
   {
    "duration": 22,
    "start_time": "2022-11-08T21:36:20.188Z"
   },
   {
    "duration": 2,
    "start_time": "2022-11-08T21:36:50.723Z"
   },
   {
    "duration": 9,
    "start_time": "2022-11-08T21:37:28.245Z"
   },
   {
    "duration": 7,
    "start_time": "2022-11-08T21:37:30.600Z"
   },
   {
    "duration": 22,
    "start_time": "2022-11-08T21:37:33.004Z"
   },
   {
    "duration": 486,
    "start_time": "2022-11-08T21:37:49.229Z"
   },
   {
    "duration": 16,
    "start_time": "2022-11-08T21:37:49.717Z"
   },
   {
    "duration": 35,
    "start_time": "2022-11-08T21:37:49.735Z"
   },
   {
    "duration": 2252,
    "start_time": "2022-11-08T21:37:49.773Z"
   },
   {
    "duration": 9,
    "start_time": "2022-11-08T21:37:52.026Z"
   },
   {
    "duration": 5,
    "start_time": "2022-11-08T21:37:52.037Z"
   },
   {
    "duration": 27,
    "start_time": "2022-11-08T21:37:52.043Z"
   },
   {
    "duration": 7,
    "start_time": "2022-11-08T21:37:52.072Z"
   },
   {
    "duration": 22,
    "start_time": "2022-11-08T21:37:52.080Z"
   },
   {
    "duration": 58,
    "start_time": "2022-11-08T21:37:52.105Z"
   },
   {
    "duration": 41,
    "start_time": "2022-11-08T21:37:52.165Z"
   },
   {
    "duration": 45,
    "start_time": "2022-11-08T21:37:52.208Z"
   },
   {
    "duration": 23,
    "start_time": "2022-11-08T21:37:52.254Z"
   },
   {
    "duration": 31,
    "start_time": "2022-11-08T21:38:15.418Z"
   },
   {
    "duration": 10,
    "start_time": "2022-11-08T21:38:47.231Z"
   },
   {
    "duration": 5,
    "start_time": "2022-11-08T21:39:01.424Z"
   },
   {
    "duration": 9,
    "start_time": "2022-11-08T21:39:26.003Z"
   },
   {
    "duration": 5,
    "start_time": "2022-11-08T21:39:27.838Z"
   },
   {
    "duration": 4,
    "start_time": "2022-11-08T21:39:29.628Z"
   },
   {
    "duration": 23,
    "start_time": "2022-11-08T21:39:31.885Z"
   },
   {
    "duration": 10,
    "start_time": "2022-11-08T21:39:34.322Z"
   },
   {
    "duration": 6,
    "start_time": "2022-11-08T21:39:36.479Z"
   },
   {
    "duration": 3,
    "start_time": "2022-11-08T21:46:30.345Z"
   },
   {
    "duration": 6,
    "start_time": "2022-11-08T21:47:35.587Z"
   },
   {
    "duration": 21,
    "start_time": "2022-11-08T21:49:13.483Z"
   },
   {
    "duration": 9,
    "start_time": "2022-11-08T21:49:15.925Z"
   },
   {
    "duration": 5,
    "start_time": "2022-11-08T21:49:18.587Z"
   },
   {
    "duration": 7,
    "start_time": "2022-11-08T21:51:26.644Z"
   },
   {
    "duration": 20,
    "start_time": "2022-11-08T21:51:28.599Z"
   },
   {
    "duration": 10,
    "start_time": "2022-11-08T21:51:33.835Z"
   },
   {
    "duration": 5,
    "start_time": "2022-11-08T21:51:38.001Z"
   },
   {
    "duration": 9,
    "start_time": "2022-11-08T21:52:41.348Z"
   },
   {
    "duration": 5,
    "start_time": "2022-11-08T21:52:42.758Z"
   },
   {
    "duration": 3,
    "start_time": "2022-11-08T21:52:43.463Z"
   },
   {
    "duration": 11,
    "start_time": "2022-11-08T21:52:44.073Z"
   },
   {
    "duration": 22,
    "start_time": "2022-11-08T21:52:45.019Z"
   },
   {
    "duration": 9,
    "start_time": "2022-11-08T21:52:47.281Z"
   },
   {
    "duration": 5,
    "start_time": "2022-11-08T21:52:48.341Z"
   },
   {
    "duration": 9,
    "start_time": "2022-11-08T21:54:32.448Z"
   },
   {
    "duration": 4,
    "start_time": "2022-11-08T21:54:33.326Z"
   },
   {
    "duration": 3,
    "start_time": "2022-11-08T21:54:33.889Z"
   },
   {
    "duration": 11,
    "start_time": "2022-11-08T21:54:34.354Z"
   },
   {
    "duration": 26,
    "start_time": "2022-11-08T21:54:35.580Z"
   },
   {
    "duration": 8,
    "start_time": "2022-11-08T21:54:40.281Z"
   },
   {
    "duration": 5,
    "start_time": "2022-11-08T21:54:42.034Z"
   },
   {
    "duration": 9,
    "start_time": "2022-11-08T21:55:35.281Z"
   },
   {
    "duration": 19,
    "start_time": "2022-11-08T21:56:28.022Z"
   },
   {
    "duration": 21,
    "start_time": "2022-11-08T21:56:38.787Z"
   },
   {
    "duration": 20,
    "start_time": "2022-11-08T21:56:48.624Z"
   },
   {
    "duration": 81,
    "start_time": "2022-11-08T21:56:56.632Z"
   },
   {
    "duration": 27,
    "start_time": "2022-11-08T21:57:01.637Z"
   },
   {
    "duration": 22,
    "start_time": "2022-11-08T21:57:05.939Z"
   },
   {
    "duration": 25,
    "start_time": "2022-11-08T21:57:51.211Z"
   },
   {
    "duration": 27,
    "start_time": "2022-11-08T21:57:55.573Z"
   },
   {
    "duration": 19,
    "start_time": "2022-11-08T21:58:48.520Z"
   },
   {
    "duration": 21,
    "start_time": "2022-11-08T21:58:56.827Z"
   },
   {
    "duration": 23,
    "start_time": "2022-11-08T22:01:05.153Z"
   },
   {
    "duration": 103,
    "start_time": "2022-11-08T22:02:34.688Z"
   },
   {
    "duration": 18,
    "start_time": "2022-11-08T22:02:42.904Z"
   },
   {
    "duration": 12,
    "start_time": "2022-11-08T22:03:06.936Z"
   },
   {
    "duration": 12,
    "start_time": "2022-11-08T22:03:12.222Z"
   },
   {
    "duration": 494,
    "start_time": "2022-11-08T22:03:23.745Z"
   },
   {
    "duration": 15,
    "start_time": "2022-11-08T22:03:24.240Z"
   },
   {
    "duration": 31,
    "start_time": "2022-11-08T22:03:24.256Z"
   },
   {
    "duration": 2220,
    "start_time": "2022-11-08T22:03:24.289Z"
   },
   {
    "duration": 9,
    "start_time": "2022-11-08T22:03:26.511Z"
   },
   {
    "duration": 7,
    "start_time": "2022-11-08T22:03:26.522Z"
   },
   {
    "duration": 14,
    "start_time": "2022-11-08T22:03:26.531Z"
   },
   {
    "duration": 5,
    "start_time": "2022-11-08T22:03:26.546Z"
   },
   {
    "duration": 9,
    "start_time": "2022-11-08T22:03:26.553Z"
   },
   {
    "duration": 6,
    "start_time": "2022-11-08T22:03:26.564Z"
   },
   {
    "duration": 20,
    "start_time": "2022-11-08T22:03:26.572Z"
   },
   {
    "duration": 20,
    "start_time": "2022-11-08T22:03:26.593Z"
   },
   {
    "duration": 19,
    "start_time": "2022-11-08T22:03:26.614Z"
   },
   {
    "duration": 10,
    "start_time": "2022-11-08T22:03:26.635Z"
   },
   {
    "duration": 24,
    "start_time": "2022-11-08T22:03:26.646Z"
   },
   {
    "duration": 11,
    "start_time": "2022-11-08T22:03:26.672Z"
   },
   {
    "duration": 6,
    "start_time": "2022-11-08T22:03:26.684Z"
   },
   {
    "duration": 47,
    "start_time": "2022-11-08T22:03:26.691Z"
   },
   {
    "duration": 25,
    "start_time": "2022-11-08T22:03:33.440Z"
   },
   {
    "duration": 7,
    "start_time": "2022-11-08T22:03:54.330Z"
   },
   {
    "duration": 21,
    "start_time": "2022-11-08T22:03:58.640Z"
   },
   {
    "duration": 9,
    "start_time": "2022-11-08T22:04:00.657Z"
   },
   {
    "duration": 21,
    "start_time": "2022-11-08T22:04:21.454Z"
   },
   {
    "duration": 9,
    "start_time": "2022-11-08T22:04:23.402Z"
   },
   {
    "duration": 81,
    "start_time": "2022-11-08T22:09:11.785Z"
   },
   {
    "duration": 25,
    "start_time": "2022-11-08T22:11:21.418Z"
   },
   {
    "duration": 8,
    "start_time": "2022-11-08T22:11:23.771Z"
   },
   {
    "duration": 6,
    "start_time": "2022-11-08T22:12:14.345Z"
   },
   {
    "duration": 9,
    "start_time": "2022-11-08T22:12:28.859Z"
   },
   {
    "duration": 7,
    "start_time": "2022-11-08T22:12:46.008Z"
   },
   {
    "duration": 6,
    "start_time": "2022-11-08T22:12:48.993Z"
   },
   {
    "duration": 441,
    "start_time": "2022-11-08T22:13:16.383Z"
   },
   {
    "duration": 15,
    "start_time": "2022-11-08T22:13:16.826Z"
   },
   {
    "duration": 31,
    "start_time": "2022-11-08T22:13:16.843Z"
   },
   {
    "duration": 2225,
    "start_time": "2022-11-08T22:13:16.876Z"
   },
   {
    "duration": 9,
    "start_time": "2022-11-08T22:13:19.103Z"
   },
   {
    "duration": 9,
    "start_time": "2022-11-08T22:13:19.113Z"
   },
   {
    "duration": 8,
    "start_time": "2022-11-08T22:13:19.124Z"
   },
   {
    "duration": 9,
    "start_time": "2022-11-08T22:13:19.133Z"
   },
   {
    "duration": 10,
    "start_time": "2022-11-08T22:13:19.143Z"
   },
   {
    "duration": 18,
    "start_time": "2022-11-08T22:13:19.154Z"
   },
   {
    "duration": 22,
    "start_time": "2022-11-08T22:13:19.174Z"
   },
   {
    "duration": 9,
    "start_time": "2022-11-08T22:13:19.197Z"
   },
   {
    "duration": 8,
    "start_time": "2022-11-08T22:13:19.226Z"
   },
   {
    "duration": 6,
    "start_time": "2022-11-08T22:13:19.236Z"
   },
   {
    "duration": 11,
    "start_time": "2022-11-08T22:13:19.243Z"
   },
   {
    "duration": 23,
    "start_time": "2022-11-08T22:13:19.255Z"
   },
   {
    "duration": 8,
    "start_time": "2022-11-08T22:13:19.279Z"
   },
   {
    "duration": 4,
    "start_time": "2022-11-08T22:13:19.289Z"
   },
   {
    "duration": 23,
    "start_time": "2022-11-08T22:13:19.326Z"
   },
   {
    "duration": 25,
    "start_time": "2022-11-08T22:14:18.435Z"
   },
   {
    "duration": 8,
    "start_time": "2022-11-08T22:14:20.859Z"
   },
   {
    "duration": 8,
    "start_time": "2022-11-08T22:14:22.913Z"
   },
   {
    "duration": 459,
    "start_time": "2022-11-08T22:14:50.456Z"
   },
   {
    "duration": 15,
    "start_time": "2022-11-08T22:14:50.917Z"
   },
   {
    "duration": 32,
    "start_time": "2022-11-08T22:14:50.933Z"
   },
   {
    "duration": 2123,
    "start_time": "2022-11-08T22:14:50.966Z"
   },
   {
    "duration": 10,
    "start_time": "2022-11-08T22:14:53.091Z"
   },
   {
    "duration": 8,
    "start_time": "2022-11-08T22:14:53.102Z"
   },
   {
    "duration": 11,
    "start_time": "2022-11-08T22:14:53.112Z"
   },
   {
    "duration": 8,
    "start_time": "2022-11-08T22:14:53.124Z"
   },
   {
    "duration": 12,
    "start_time": "2022-11-08T22:14:53.134Z"
   },
   {
    "duration": 21,
    "start_time": "2022-11-08T22:14:53.148Z"
   },
   {
    "duration": 23,
    "start_time": "2022-11-08T22:14:53.171Z"
   },
   {
    "duration": 13,
    "start_time": "2022-11-08T22:14:53.196Z"
   },
   {
    "duration": 17,
    "start_time": "2022-11-08T22:14:53.211Z"
   },
   {
    "duration": 6,
    "start_time": "2022-11-08T22:14:53.231Z"
   },
   {
    "duration": 16,
    "start_time": "2022-11-08T22:14:53.239Z"
   },
   {
    "duration": 25,
    "start_time": "2022-11-08T22:14:53.257Z"
   },
   {
    "duration": 8,
    "start_time": "2022-11-08T22:14:53.284Z"
   },
   {
    "duration": 7,
    "start_time": "2022-11-08T22:14:53.294Z"
   },
   {
    "duration": 47,
    "start_time": "2022-11-08T22:14:53.302Z"
   },
   {
    "duration": 9,
    "start_time": "2022-11-08T22:15:45.223Z"
   },
   {
    "duration": 3,
    "start_time": "2022-11-08T22:15:48.609Z"
   },
   {
    "duration": 511,
    "start_time": "2022-11-08T22:18:19.207Z"
   },
   {
    "duration": 15,
    "start_time": "2022-11-08T22:18:19.720Z"
   },
   {
    "duration": 32,
    "start_time": "2022-11-08T22:18:19.736Z"
   },
   {
    "duration": 2178,
    "start_time": "2022-11-08T22:18:19.771Z"
   },
   {
    "duration": 10,
    "start_time": "2022-11-08T22:18:21.950Z"
   },
   {
    "duration": 17,
    "start_time": "2022-11-08T22:18:21.961Z"
   },
   {
    "duration": 12,
    "start_time": "2022-11-08T22:18:21.980Z"
   },
   {
    "duration": 16,
    "start_time": "2022-11-08T22:18:21.994Z"
   },
   {
    "duration": 26,
    "start_time": "2022-11-08T22:18:22.012Z"
   },
   {
    "duration": 21,
    "start_time": "2022-11-08T22:18:22.042Z"
   },
   {
    "duration": 28,
    "start_time": "2022-11-08T22:18:22.065Z"
   },
   {
    "duration": 9,
    "start_time": "2022-11-08T22:18:22.094Z"
   },
   {
    "duration": 10,
    "start_time": "2022-11-08T22:18:22.105Z"
   },
   {
    "duration": 7,
    "start_time": "2022-11-08T22:18:22.125Z"
   },
   {
    "duration": 20,
    "start_time": "2022-11-08T22:18:22.134Z"
   },
   {
    "duration": 43,
    "start_time": "2022-11-08T22:18:22.156Z"
   },
   {
    "duration": 10,
    "start_time": "2022-11-08T22:18:22.201Z"
   },
   {
    "duration": 12,
    "start_time": "2022-11-08T22:18:22.213Z"
   },
   {
    "duration": 25,
    "start_time": "2022-11-08T22:18:22.226Z"
   },
   {
    "duration": 449,
    "start_time": "2022-11-08T22:24:50.480Z"
   },
   {
    "duration": 14,
    "start_time": "2022-11-08T22:24:50.931Z"
   },
   {
    "duration": 58,
    "start_time": "2022-11-08T22:24:50.946Z"
   },
   {
    "duration": 2119,
    "start_time": "2022-11-08T22:24:51.006Z"
   },
   {
    "duration": 9,
    "start_time": "2022-11-08T22:24:53.127Z"
   },
   {
    "duration": 36,
    "start_time": "2022-11-08T22:24:53.137Z"
   },
   {
    "duration": 12,
    "start_time": "2022-11-08T22:24:53.175Z"
   },
   {
    "duration": 5,
    "start_time": "2022-11-08T22:24:53.188Z"
   },
   {
    "duration": 9,
    "start_time": "2022-11-08T22:24:53.194Z"
   },
   {
    "duration": 39,
    "start_time": "2022-11-08T22:24:53.204Z"
   },
   {
    "duration": 25,
    "start_time": "2022-11-08T22:24:53.244Z"
   },
   {
    "duration": 8,
    "start_time": "2022-11-08T22:24:53.270Z"
   },
   {
    "duration": 15,
    "start_time": "2022-11-08T22:24:53.280Z"
   },
   {
    "duration": 7,
    "start_time": "2022-11-08T22:24:53.299Z"
   },
   {
    "duration": 24,
    "start_time": "2022-11-08T22:24:53.308Z"
   },
   {
    "duration": 18,
    "start_time": "2022-11-08T22:24:53.334Z"
   },
   {
    "duration": 16,
    "start_time": "2022-11-08T22:24:53.353Z"
   },
   {
    "duration": 33,
    "start_time": "2022-11-08T22:24:53.371Z"
   },
   {
    "duration": 12,
    "start_time": "2022-11-08T22:24:53.405Z"
   },
   {
    "duration": 7,
    "start_time": "2022-11-08T22:24:53.419Z"
   },
   {
    "duration": 28,
    "start_time": "2022-11-08T22:24:53.427Z"
   },
   {
    "duration": 5,
    "start_time": "2022-11-08T22:30:10.454Z"
   },
   {
    "duration": 488,
    "start_time": "2022-11-08T22:32:55.256Z"
   },
   {
    "duration": 15,
    "start_time": "2022-11-08T22:32:55.745Z"
   },
   {
    "duration": 31,
    "start_time": "2022-11-08T22:32:55.761Z"
   },
   {
    "duration": 2030,
    "start_time": "2022-11-08T22:32:55.794Z"
   },
   {
    "duration": 9,
    "start_time": "2022-11-08T22:32:57.826Z"
   },
   {
    "duration": 8,
    "start_time": "2022-11-08T22:32:57.836Z"
   },
   {
    "duration": 11,
    "start_time": "2022-11-08T22:32:57.845Z"
   },
   {
    "duration": 11,
    "start_time": "2022-11-08T22:32:57.858Z"
   },
   {
    "duration": 7,
    "start_time": "2022-11-08T22:32:57.870Z"
   },
   {
    "duration": 20,
    "start_time": "2022-11-08T22:32:57.879Z"
   },
   {
    "duration": 32,
    "start_time": "2022-11-08T22:32:57.900Z"
   },
   {
    "duration": 12,
    "start_time": "2022-11-08T22:32:57.934Z"
   },
   {
    "duration": 11,
    "start_time": "2022-11-08T22:32:57.948Z"
   },
   {
    "duration": 3,
    "start_time": "2022-11-08T22:32:57.961Z"
   },
   {
    "duration": 9,
    "start_time": "2022-11-08T22:32:57.966Z"
   },
   {
    "duration": 11,
    "start_time": "2022-11-08T22:32:57.976Z"
   },
   {
    "duration": 38,
    "start_time": "2022-11-08T22:32:57.989Z"
   },
   {
    "duration": 11,
    "start_time": "2022-11-08T22:32:58.028Z"
   },
   {
    "duration": 5,
    "start_time": "2022-11-08T22:32:58.041Z"
   },
   {
    "duration": 25,
    "start_time": "2022-11-08T22:32:58.047Z"
   },
   {
    "duration": 36,
    "start_time": "2022-11-08T22:37:20.132Z"
   },
   {
    "duration": 8,
    "start_time": "2022-11-08T22:37:21.303Z"
   },
   {
    "duration": 7,
    "start_time": "2022-11-08T22:37:22.193Z"
   },
   {
    "duration": 508,
    "start_time": "2022-11-08T22:37:39.503Z"
   },
   {
    "duration": 16,
    "start_time": "2022-11-08T22:37:40.013Z"
   },
   {
    "duration": 31,
    "start_time": "2022-11-08T22:37:40.030Z"
   },
   {
    "duration": 2110,
    "start_time": "2022-11-08T22:37:40.063Z"
   },
   {
    "duration": 9,
    "start_time": "2022-11-08T22:37:42.175Z"
   },
   {
    "duration": 4,
    "start_time": "2022-11-08T22:37:42.185Z"
   },
   {
    "duration": 7,
    "start_time": "2022-11-08T22:37:42.190Z"
   },
   {
    "duration": 3,
    "start_time": "2022-11-08T22:37:42.198Z"
   },
   {
    "duration": 6,
    "start_time": "2022-11-08T22:37:42.202Z"
   },
   {
    "duration": 18,
    "start_time": "2022-11-08T22:37:42.209Z"
   },
   {
    "duration": 37,
    "start_time": "2022-11-08T22:37:42.229Z"
   },
   {
    "duration": 7,
    "start_time": "2022-11-08T22:37:42.268Z"
   },
   {
    "duration": 8,
    "start_time": "2022-11-08T22:37:42.276Z"
   },
   {
    "duration": 3,
    "start_time": "2022-11-08T22:37:42.286Z"
   },
   {
    "duration": 9,
    "start_time": "2022-11-08T22:37:42.291Z"
   },
   {
    "duration": 28,
    "start_time": "2022-11-08T22:37:42.301Z"
   },
   {
    "duration": 25,
    "start_time": "2022-11-08T22:37:42.331Z"
   },
   {
    "duration": 18,
    "start_time": "2022-11-08T22:37:42.358Z"
   },
   {
    "duration": 4,
    "start_time": "2022-11-08T22:37:42.377Z"
   },
   {
    "duration": 59,
    "start_time": "2022-11-08T22:37:42.382Z"
   },
   {
    "duration": 26,
    "start_time": "2022-11-08T22:38:32.701Z"
   },
   {
    "duration": 16,
    "start_time": "2022-11-08T22:38:34.942Z"
   },
   {
    "duration": 8,
    "start_time": "2022-11-08T22:38:36.532Z"
   },
   {
    "duration": 6,
    "start_time": "2022-11-08T22:38:39.283Z"
   },
   {
    "duration": 6,
    "start_time": "2022-11-08T22:39:01.668Z"
   },
   {
    "duration": 6,
    "start_time": "2022-11-08T22:39:02.932Z"
   },
   {
    "duration": 7,
    "start_time": "2022-11-08T22:39:04.291Z"
   },
   {
    "duration": 442,
    "start_time": "2022-11-08T22:39:09.472Z"
   },
   {
    "duration": 18,
    "start_time": "2022-11-08T22:39:09.916Z"
   },
   {
    "duration": 30,
    "start_time": "2022-11-08T22:39:09.936Z"
   },
   {
    "duration": 2105,
    "start_time": "2022-11-08T22:39:09.968Z"
   },
   {
    "duration": 9,
    "start_time": "2022-11-08T22:39:12.076Z"
   },
   {
    "duration": 10,
    "start_time": "2022-11-08T22:39:12.087Z"
   },
   {
    "duration": 22,
    "start_time": "2022-11-08T22:39:12.098Z"
   },
   {
    "duration": 7,
    "start_time": "2022-11-08T22:39:12.122Z"
   },
   {
    "duration": 15,
    "start_time": "2022-11-08T22:39:12.130Z"
   },
   {
    "duration": 39,
    "start_time": "2022-11-08T22:39:12.147Z"
   },
   {
    "duration": 23,
    "start_time": "2022-11-08T22:39:12.188Z"
   },
   {
    "duration": 4,
    "start_time": "2022-11-08T22:39:12.213Z"
   },
   {
    "duration": 16,
    "start_time": "2022-11-08T22:39:12.219Z"
   },
   {
    "duration": 13,
    "start_time": "2022-11-08T22:39:12.238Z"
   },
   {
    "duration": 8,
    "start_time": "2022-11-08T22:39:12.253Z"
   },
   {
    "duration": 18,
    "start_time": "2022-11-08T22:39:12.263Z"
   },
   {
    "duration": 22,
    "start_time": "2022-11-08T22:39:12.283Z"
   },
   {
    "duration": 25,
    "start_time": "2022-11-08T22:39:12.307Z"
   },
   {
    "duration": 21,
    "start_time": "2022-11-08T22:39:12.334Z"
   },
   {
    "duration": 6,
    "start_time": "2022-11-08T22:39:12.356Z"
   },
   {
    "duration": 32,
    "start_time": "2022-11-08T22:39:12.363Z"
   },
   {
    "duration": 27,
    "start_time": "2022-11-08T22:40:16.865Z"
   },
   {
    "duration": 8,
    "start_time": "2022-11-08T22:40:17.674Z"
   },
   {
    "duration": 467,
    "start_time": "2022-11-08T22:41:38.178Z"
   },
   {
    "duration": 16,
    "start_time": "2022-11-08T22:41:38.647Z"
   },
   {
    "duration": 32,
    "start_time": "2022-11-08T22:41:38.664Z"
   },
   {
    "duration": 2195,
    "start_time": "2022-11-08T22:41:38.697Z"
   },
   {
    "duration": 9,
    "start_time": "2022-11-08T22:41:40.894Z"
   },
   {
    "duration": 12,
    "start_time": "2022-11-08T22:41:40.904Z"
   },
   {
    "duration": 8,
    "start_time": "2022-11-08T22:41:40.917Z"
   },
   {
    "duration": 11,
    "start_time": "2022-11-08T22:41:40.926Z"
   },
   {
    "duration": 28,
    "start_time": "2022-11-08T22:41:40.938Z"
   },
   {
    "duration": 33,
    "start_time": "2022-11-08T22:41:40.967Z"
   },
   {
    "duration": 28,
    "start_time": "2022-11-08T22:41:41.002Z"
   },
   {
    "duration": 7,
    "start_time": "2022-11-08T22:41:41.031Z"
   },
   {
    "duration": 9,
    "start_time": "2022-11-08T22:41:41.040Z"
   },
   {
    "duration": 4,
    "start_time": "2022-11-08T22:41:41.052Z"
   },
   {
    "duration": 17,
    "start_time": "2022-11-08T22:41:41.057Z"
   },
   {
    "duration": 11,
    "start_time": "2022-11-08T22:41:41.075Z"
   },
   {
    "duration": 44,
    "start_time": "2022-11-08T22:41:41.088Z"
   },
   {
    "duration": 17,
    "start_time": "2022-11-08T22:41:41.133Z"
   },
   {
    "duration": 5,
    "start_time": "2022-11-08T22:41:41.152Z"
   },
   {
    "duration": 29,
    "start_time": "2022-11-08T22:41:41.158Z"
   },
   {
    "duration": 518,
    "start_time": "2022-11-09T13:34:43.553Z"
   },
   {
    "duration": 17,
    "start_time": "2022-11-09T13:34:44.077Z"
   },
   {
    "duration": 64,
    "start_time": "2022-11-09T13:34:44.096Z"
   },
   {
    "duration": 2496,
    "start_time": "2022-11-09T13:34:44.162Z"
   },
   {
    "duration": 11,
    "start_time": "2022-11-09T13:34:46.661Z"
   },
   {
    "duration": 4,
    "start_time": "2022-11-09T13:34:46.674Z"
   },
   {
    "duration": 10,
    "start_time": "2022-11-09T13:34:46.680Z"
   },
   {
    "duration": 8,
    "start_time": "2022-11-09T13:34:46.691Z"
   },
   {
    "duration": 12,
    "start_time": "2022-11-09T13:34:46.701Z"
   },
   {
    "duration": 25,
    "start_time": "2022-11-09T13:34:46.714Z"
   },
   {
    "duration": 27,
    "start_time": "2022-11-09T13:34:46.741Z"
   },
   {
    "duration": 8,
    "start_time": "2022-11-09T13:34:46.770Z"
   },
   {
    "duration": 23,
    "start_time": "2022-11-09T13:34:46.780Z"
   },
   {
    "duration": 3,
    "start_time": "2022-11-09T13:34:46.806Z"
   },
   {
    "duration": 14,
    "start_time": "2022-11-09T13:34:46.810Z"
   },
   {
    "duration": 13,
    "start_time": "2022-11-09T13:34:46.826Z"
   },
   {
    "duration": 29,
    "start_time": "2022-11-09T13:34:46.840Z"
   },
   {
    "duration": 10,
    "start_time": "2022-11-09T13:34:46.870Z"
   },
   {
    "duration": 19,
    "start_time": "2022-11-09T13:34:46.882Z"
   },
   {
    "duration": 28,
    "start_time": "2022-11-09T13:34:46.903Z"
   },
   {
    "duration": 8,
    "start_time": "2022-11-09T13:34:46.933Z"
   },
   {
    "duration": 80,
    "start_time": "2022-11-09T13:34:46.942Z"
   },
   {
    "duration": 77,
    "start_time": "2022-11-09T13:36:02.028Z"
   },
   {
    "duration": 5,
    "start_time": "2022-11-09T13:36:15.655Z"
   },
   {
    "duration": 6,
    "start_time": "2022-11-09T13:36:22.770Z"
   },
   {
    "duration": 9,
    "start_time": "2022-11-09T13:39:50.396Z"
   },
   {
    "duration": 8,
    "start_time": "2022-11-09T13:40:04.679Z"
   },
   {
    "duration": 12,
    "start_time": "2022-11-09T13:41:43.445Z"
   },
   {
    "duration": 16,
    "start_time": "2022-11-09T13:41:59.689Z"
   },
   {
    "duration": 14,
    "start_time": "2022-11-09T13:42:12.228Z"
   },
   {
    "duration": 11,
    "start_time": "2022-11-09T13:42:52.773Z"
   },
   {
    "duration": 10,
    "start_time": "2022-11-09T13:45:01.325Z"
   },
   {
    "duration": 43,
    "start_time": "2022-11-09T13:45:07.829Z"
   },
   {
    "duration": 10,
    "start_time": "2022-11-09T13:45:42.854Z"
   },
   {
    "duration": 13,
    "start_time": "2022-11-09T13:45:50.175Z"
   },
   {
    "duration": 70,
    "start_time": "2022-11-09T13:46:07.483Z"
   },
   {
    "duration": 12,
    "start_time": "2022-11-09T13:46:12.249Z"
   },
   {
    "duration": 15,
    "start_time": "2022-11-09T13:46:21.843Z"
   },
   {
    "duration": 11,
    "start_time": "2022-11-09T13:46:41.560Z"
   },
   {
    "duration": 6,
    "start_time": "2022-11-09T13:46:49.654Z"
   },
   {
    "duration": 13,
    "start_time": "2022-11-09T13:46:51.474Z"
   },
   {
    "duration": 477,
    "start_time": "2022-11-09T13:50:50.623Z"
   },
   {
    "duration": 17,
    "start_time": "2022-11-09T13:50:51.102Z"
   },
   {
    "duration": 62,
    "start_time": "2022-11-09T13:50:51.121Z"
   },
   {
    "duration": 2224,
    "start_time": "2022-11-09T13:50:51.185Z"
   },
   {
    "duration": 8,
    "start_time": "2022-11-09T13:50:53.411Z"
   },
   {
    "duration": 12,
    "start_time": "2022-11-09T13:50:53.421Z"
   },
   {
    "duration": 10,
    "start_time": "2022-11-09T13:50:53.435Z"
   },
   {
    "duration": 7,
    "start_time": "2022-11-09T13:50:53.447Z"
   },
   {
    "duration": 14,
    "start_time": "2022-11-09T13:50:53.455Z"
   },
   {
    "duration": 21,
    "start_time": "2022-11-09T13:50:53.472Z"
   },
   {
    "duration": 22,
    "start_time": "2022-11-09T13:50:53.495Z"
   },
   {
    "duration": 6,
    "start_time": "2022-11-09T13:50:53.519Z"
   },
   {
    "duration": 8,
    "start_time": "2022-11-09T13:50:53.527Z"
   },
   {
    "duration": 3,
    "start_time": "2022-11-09T13:50:53.536Z"
   },
   {
    "duration": 7,
    "start_time": "2022-11-09T13:50:53.541Z"
   },
   {
    "duration": 10,
    "start_time": "2022-11-09T13:50:53.549Z"
   },
   {
    "duration": 40,
    "start_time": "2022-11-09T13:50:53.561Z"
   },
   {
    "duration": 10,
    "start_time": "2022-11-09T13:50:53.602Z"
   },
   {
    "duration": 11,
    "start_time": "2022-11-09T13:50:53.613Z"
   },
   {
    "duration": 24,
    "start_time": "2022-11-09T13:50:53.626Z"
   },
   {
    "duration": 17,
    "start_time": "2022-11-09T13:50:53.652Z"
   },
   {
    "duration": 6,
    "start_time": "2022-11-09T13:50:53.670Z"
   },
   {
    "duration": 12,
    "start_time": "2022-11-09T13:50:53.698Z"
   },
   {
    "duration": 6,
    "start_time": "2022-11-09T13:51:07.910Z"
   },
   {
    "duration": 11,
    "start_time": "2022-11-09T13:51:10.148Z"
   },
   {
    "duration": 1273,
    "start_time": "2022-11-09T13:52:49.594Z"
   },
   {
    "duration": 11,
    "start_time": "2022-11-09T13:53:00.425Z"
   },
   {
    "duration": 11,
    "start_time": "2022-11-09T13:53:33.786Z"
   },
   {
    "duration": 11,
    "start_time": "2022-11-09T13:53:57.669Z"
   },
   {
    "duration": 9,
    "start_time": "2022-11-09T13:54:22.706Z"
   },
   {
    "duration": 10,
    "start_time": "2022-11-09T13:57:30.758Z"
   },
   {
    "duration": 10,
    "start_time": "2022-11-09T14:10:43.728Z"
   },
   {
    "duration": 1111,
    "start_time": "2022-11-09T14:10:48.091Z"
   },
   {
    "duration": 4,
    "start_time": "2022-11-09T14:14:21.391Z"
   },
   {
    "duration": 7,
    "start_time": "2022-11-09T14:14:26.146Z"
   },
   {
    "duration": 37,
    "start_time": "2022-11-09T14:16:05.433Z"
   },
   {
    "duration": 54,
    "start_time": "2022-11-09T14:16:29.976Z"
   },
   {
    "duration": 37,
    "start_time": "2022-11-09T14:19:09.462Z"
   },
   {
    "duration": 45,
    "start_time": "2022-11-09T14:20:34.035Z"
   },
   {
    "duration": 11,
    "start_time": "2022-11-09T14:22:30.772Z"
   },
   {
    "duration": 16,
    "start_time": "2022-11-09T14:22:39.070Z"
   },
   {
    "duration": 16,
    "start_time": "2022-11-09T14:22:44.298Z"
   },
   {
    "duration": 23,
    "start_time": "2022-11-09T14:23:13.010Z"
   },
   {
    "duration": 6,
    "start_time": "2022-11-09T14:28:17.237Z"
   },
   {
    "duration": 15,
    "start_time": "2022-11-09T14:28:19.246Z"
   },
   {
    "duration": 4,
    "start_time": "2022-11-09T14:28:48.594Z"
   },
   {
    "duration": 14,
    "start_time": "2022-11-09T14:28:58.682Z"
   },
   {
    "duration": 476,
    "start_time": "2022-11-09T14:29:05.673Z"
   },
   {
    "duration": 13,
    "start_time": "2022-11-09T14:29:06.151Z"
   },
   {
    "duration": 34,
    "start_time": "2022-11-09T14:29:06.166Z"
   },
   {
    "duration": 2079,
    "start_time": "2022-11-09T14:29:06.202Z"
   },
   {
    "duration": 13,
    "start_time": "2022-11-09T14:29:08.283Z"
   },
   {
    "duration": 5,
    "start_time": "2022-11-09T14:29:08.298Z"
   },
   {
    "duration": 14,
    "start_time": "2022-11-09T14:29:08.304Z"
   },
   {
    "duration": 5,
    "start_time": "2022-11-09T14:29:08.320Z"
   },
   {
    "duration": 7,
    "start_time": "2022-11-09T14:29:08.326Z"
   },
   {
    "duration": 17,
    "start_time": "2022-11-09T14:29:08.335Z"
   },
   {
    "duration": 24,
    "start_time": "2022-11-09T14:29:08.354Z"
   },
   {
    "duration": 21,
    "start_time": "2022-11-09T14:29:08.380Z"
   },
   {
    "duration": 9,
    "start_time": "2022-11-09T14:29:08.402Z"
   },
   {
    "duration": 5,
    "start_time": "2022-11-09T14:29:08.413Z"
   },
   {
    "duration": 12,
    "start_time": "2022-11-09T14:29:08.420Z"
   },
   {
    "duration": 17,
    "start_time": "2022-11-09T14:29:08.433Z"
   },
   {
    "duration": 24,
    "start_time": "2022-11-09T14:29:08.451Z"
   },
   {
    "duration": 24,
    "start_time": "2022-11-09T14:29:08.476Z"
   },
   {
    "duration": 5,
    "start_time": "2022-11-09T14:29:08.502Z"
   },
   {
    "duration": 21,
    "start_time": "2022-11-09T14:29:08.509Z"
   },
   {
    "duration": 12,
    "start_time": "2022-11-09T14:29:08.531Z"
   },
   {
    "duration": 4,
    "start_time": "2022-11-09T14:29:08.545Z"
   },
   {
    "duration": 13,
    "start_time": "2022-11-09T14:29:08.551Z"
   },
   {
    "duration": 36,
    "start_time": "2022-11-09T14:29:08.566Z"
   },
   {
    "duration": 38,
    "start_time": "2022-11-09T14:29:08.604Z"
   },
   {
    "duration": 22,
    "start_time": "2022-11-09T14:29:08.643Z"
   },
   {
    "duration": 33,
    "start_time": "2022-11-09T14:29:08.666Z"
   },
   {
    "duration": 13,
    "start_time": "2022-11-09T14:29:08.702Z"
   },
   {
    "duration": 98,
    "start_time": "2022-11-09T14:37:58.944Z"
   },
   {
    "duration": 5,
    "start_time": "2022-11-09T14:38:07.532Z"
   },
   {
    "duration": 15,
    "start_time": "2022-11-09T14:38:15.076Z"
   },
   {
    "duration": 431,
    "start_time": "2022-11-09T14:38:23.156Z"
   },
   {
    "duration": 14,
    "start_time": "2022-11-09T14:38:23.590Z"
   },
   {
    "duration": 29,
    "start_time": "2022-11-09T14:38:23.606Z"
   },
   {
    "duration": 2152,
    "start_time": "2022-11-09T14:38:23.637Z"
   },
   {
    "duration": 9,
    "start_time": "2022-11-09T14:38:25.791Z"
   },
   {
    "duration": 3,
    "start_time": "2022-11-09T14:38:25.801Z"
   },
   {
    "duration": 8,
    "start_time": "2022-11-09T14:38:25.806Z"
   },
   {
    "duration": 4,
    "start_time": "2022-11-09T14:38:25.815Z"
   },
   {
    "duration": 8,
    "start_time": "2022-11-09T14:38:25.820Z"
   },
   {
    "duration": 16,
    "start_time": "2022-11-09T14:38:25.830Z"
   },
   {
    "duration": 23,
    "start_time": "2022-11-09T14:38:25.847Z"
   },
   {
    "duration": 31,
    "start_time": "2022-11-09T14:38:25.874Z"
   },
   {
    "duration": 11,
    "start_time": "2022-11-09T14:38:25.906Z"
   },
   {
    "duration": 8,
    "start_time": "2022-11-09T14:38:25.919Z"
   },
   {
    "duration": 7,
    "start_time": "2022-11-09T14:38:25.929Z"
   },
   {
    "duration": 8,
    "start_time": "2022-11-09T14:38:25.937Z"
   },
   {
    "duration": 20,
    "start_time": "2022-11-09T14:38:25.947Z"
   },
   {
    "duration": 8,
    "start_time": "2022-11-09T14:38:25.969Z"
   },
   {
    "duration": 23,
    "start_time": "2022-11-09T14:38:25.978Z"
   },
   {
    "duration": 24,
    "start_time": "2022-11-09T14:38:26.002Z"
   },
   {
    "duration": 12,
    "start_time": "2022-11-09T14:38:26.028Z"
   },
   {
    "duration": 5,
    "start_time": "2022-11-09T14:38:26.042Z"
   },
   {
    "duration": 11,
    "start_time": "2022-11-09T14:38:26.048Z"
   },
   {
    "duration": 9,
    "start_time": "2022-11-09T14:38:26.060Z"
   },
   {
    "duration": 61,
    "start_time": "2022-11-09T14:38:26.071Z"
   },
   {
    "duration": 21,
    "start_time": "2022-11-09T14:38:26.134Z"
   },
   {
    "duration": 6,
    "start_time": "2022-11-09T14:38:26.156Z"
   },
   {
    "duration": 46,
    "start_time": "2022-11-09T14:38:26.165Z"
   },
   {
    "duration": 13,
    "start_time": "2022-11-09T14:39:53.698Z"
   },
   {
    "duration": 9,
    "start_time": "2022-11-09T14:40:11.727Z"
   },
   {
    "duration": 8,
    "start_time": "2022-11-09T14:40:23.494Z"
   },
   {
    "duration": 9,
    "start_time": "2022-11-09T14:40:32.442Z"
   },
   {
    "duration": 10,
    "start_time": "2022-11-09T14:40:41.949Z"
   },
   {
    "duration": 8,
    "start_time": "2022-11-09T14:41:00.977Z"
   },
   {
    "duration": 30,
    "start_time": "2022-11-09T14:41:11.353Z"
   },
   {
    "duration": 10,
    "start_time": "2022-11-09T14:41:21.411Z"
   },
   {
    "duration": 13,
    "start_time": "2022-11-09T14:41:31.900Z"
   },
   {
    "duration": 9,
    "start_time": "2022-11-09T14:41:41.445Z"
   },
   {
    "duration": 11,
    "start_time": "2022-11-09T14:41:53.075Z"
   },
   {
    "duration": 10,
    "start_time": "2022-11-09T14:42:30.625Z"
   },
   {
    "duration": 9,
    "start_time": "2022-11-09T14:42:40.115Z"
   },
   {
    "duration": 10,
    "start_time": "2022-11-09T14:42:51.473Z"
   },
   {
    "duration": 36,
    "start_time": "2022-11-09T14:43:25.497Z"
   },
   {
    "duration": 30,
    "start_time": "2022-11-09T14:43:35.881Z"
   },
   {
    "duration": 30,
    "start_time": "2022-11-09T14:43:43.643Z"
   },
   {
    "duration": 32,
    "start_time": "2022-11-09T14:43:50.134Z"
   },
   {
    "duration": 14,
    "start_time": "2022-11-09T14:44:08.347Z"
   },
   {
    "duration": 36,
    "start_time": "2022-11-09T14:44:13.999Z"
   },
   {
    "duration": 35,
    "start_time": "2022-11-09T14:44:25.825Z"
   },
   {
    "duration": 25,
    "start_time": "2022-11-09T14:44:39.759Z"
   },
   {
    "duration": 24,
    "start_time": "2022-11-09T14:44:53.486Z"
   },
   {
    "duration": 413,
    "start_time": "2022-11-09T19:12:41.136Z"
   },
   {
    "duration": 13,
    "start_time": "2022-11-09T19:12:41.551Z"
   },
   {
    "duration": 39,
    "start_time": "2022-11-09T19:12:41.565Z"
   },
   {
    "duration": 1934,
    "start_time": "2022-11-09T19:12:41.607Z"
   },
   {
    "duration": 9,
    "start_time": "2022-11-09T19:12:43.543Z"
   },
   {
    "duration": 6,
    "start_time": "2022-11-09T19:12:43.553Z"
   },
   {
    "duration": 7,
    "start_time": "2022-11-09T19:12:43.560Z"
   },
   {
    "duration": 5,
    "start_time": "2022-11-09T19:12:43.568Z"
   },
   {
    "duration": 9,
    "start_time": "2022-11-09T19:12:43.574Z"
   },
   {
    "duration": 19,
    "start_time": "2022-11-09T19:12:43.585Z"
   },
   {
    "duration": 24,
    "start_time": "2022-11-09T19:12:43.605Z"
   },
   {
    "duration": 6,
    "start_time": "2022-11-09T19:12:43.630Z"
   },
   {
    "duration": 8,
    "start_time": "2022-11-09T19:12:43.637Z"
   },
   {
    "duration": 8,
    "start_time": "2022-11-09T19:12:43.646Z"
   },
   {
    "duration": 10,
    "start_time": "2022-11-09T19:12:43.655Z"
   },
   {
    "duration": 13,
    "start_time": "2022-11-09T19:12:43.666Z"
   },
   {
    "duration": 38,
    "start_time": "2022-11-09T19:12:43.681Z"
   },
   {
    "duration": 9,
    "start_time": "2022-11-09T19:12:43.720Z"
   },
   {
    "duration": 4,
    "start_time": "2022-11-09T19:12:43.730Z"
   },
   {
    "duration": 23,
    "start_time": "2022-11-09T19:12:43.736Z"
   },
   {
    "duration": 11,
    "start_time": "2022-11-09T19:12:43.760Z"
   },
   {
    "duration": 30,
    "start_time": "2022-11-09T19:12:43.772Z"
   },
   {
    "duration": 10,
    "start_time": "2022-11-09T19:12:43.804Z"
   },
   {
    "duration": 8,
    "start_time": "2022-11-09T19:12:43.816Z"
   },
   {
    "duration": 34,
    "start_time": "2022-11-09T19:12:43.826Z"
   },
   {
    "duration": 53,
    "start_time": "2022-11-09T19:12:43.861Z"
   },
   {
    "duration": 7,
    "start_time": "2022-11-09T19:12:43.916Z"
   },
   {
    "duration": 32,
    "start_time": "2022-11-09T19:12:43.925Z"
   },
   {
    "duration": 71,
    "start_time": "2022-11-09T19:12:43.958Z"
   },
   {
    "duration": 4,
    "start_time": "2022-11-09T19:29:40.340Z"
   },
   {
    "duration": 19,
    "start_time": "2022-11-09T19:30:00.780Z"
   },
   {
    "duration": 5,
    "start_time": "2022-11-09T19:30:15.707Z"
   },
   {
    "duration": 20,
    "start_time": "2022-11-09T19:30:17.559Z"
   },
   {
    "duration": 7,
    "start_time": "2022-11-09T19:33:35.810Z"
   },
   {
    "duration": 7,
    "start_time": "2022-11-09T19:33:59.865Z"
   },
   {
    "duration": 19,
    "start_time": "2022-11-09T19:34:01.786Z"
   },
   {
    "duration": 73,
    "start_time": "2022-11-09T19:36:51.478Z"
   },
   {
    "duration": 6,
    "start_time": "2022-11-09T19:37:25.057Z"
   },
   {
    "duration": 19,
    "start_time": "2022-11-09T19:37:27.914Z"
   },
   {
    "duration": 5,
    "start_time": "2022-11-09T19:39:53.443Z"
   },
   {
    "duration": 18,
    "start_time": "2022-11-09T19:39:55.351Z"
   },
   {
    "duration": 8,
    "start_time": "2022-11-09T19:43:29.534Z"
   },
   {
    "duration": 312,
    "start_time": "2022-11-09T19:43:39.940Z"
   },
   {
    "duration": 19,
    "start_time": "2022-11-09T19:43:42.909Z"
   },
   {
    "duration": 4,
    "start_time": "2022-11-09T19:45:35.694Z"
   },
   {
    "duration": 20,
    "start_time": "2022-11-09T19:45:38.219Z"
   },
   {
    "duration": 48,
    "start_time": "2022-11-10T04:51:15.882Z"
   },
   {
    "duration": 538,
    "start_time": "2022-11-10T04:51:22.710Z"
   },
   {
    "duration": 15,
    "start_time": "2022-11-10T04:51:23.250Z"
   },
   {
    "duration": 30,
    "start_time": "2022-11-10T04:51:23.266Z"
   },
   {
    "duration": 2363,
    "start_time": "2022-11-10T04:51:23.297Z"
   },
   {
    "duration": 10,
    "start_time": "2022-11-10T04:51:25.662Z"
   },
   {
    "duration": 16,
    "start_time": "2022-11-10T04:51:25.673Z"
   },
   {
    "duration": 7,
    "start_time": "2022-11-10T04:51:25.692Z"
   },
   {
    "duration": 6,
    "start_time": "2022-11-10T04:51:25.700Z"
   },
   {
    "duration": 16,
    "start_time": "2022-11-10T04:51:25.707Z"
   },
   {
    "duration": 20,
    "start_time": "2022-11-10T04:51:25.725Z"
   },
   {
    "duration": 25,
    "start_time": "2022-11-10T04:51:25.747Z"
   },
   {
    "duration": 8,
    "start_time": "2022-11-10T04:51:25.774Z"
   },
   {
    "duration": 8,
    "start_time": "2022-11-10T04:51:25.783Z"
   },
   {
    "duration": 7,
    "start_time": "2022-11-10T04:51:25.824Z"
   },
   {
    "duration": 12,
    "start_time": "2022-11-10T04:51:25.833Z"
   },
   {
    "duration": 13,
    "start_time": "2022-11-10T04:51:25.847Z"
   },
   {
    "duration": 29,
    "start_time": "2022-11-10T04:51:25.861Z"
   },
   {
    "duration": 11,
    "start_time": "2022-11-10T04:51:25.892Z"
   },
   {
    "duration": 6,
    "start_time": "2022-11-10T04:51:25.922Z"
   },
   {
    "duration": 24,
    "start_time": "2022-11-10T04:51:25.929Z"
   },
   {
    "duration": 11,
    "start_time": "2022-11-10T04:51:25.955Z"
   },
   {
    "duration": 5,
    "start_time": "2022-11-10T04:51:25.967Z"
   },
   {
    "duration": 12,
    "start_time": "2022-11-10T04:51:25.973Z"
   },
   {
    "duration": 36,
    "start_time": "2022-11-10T04:51:25.986Z"
   },
   {
    "duration": 38,
    "start_time": "2022-11-10T04:51:26.024Z"
   },
   {
    "duration": 22,
    "start_time": "2022-11-10T04:51:26.064Z"
   },
   {
    "duration": 5,
    "start_time": "2022-11-10T04:51:26.088Z"
   },
   {
    "duration": 40,
    "start_time": "2022-11-10T04:51:26.095Z"
   },
   {
    "duration": 4,
    "start_time": "2022-11-10T04:51:26.137Z"
   },
   {
    "duration": 8,
    "start_time": "2022-11-10T04:51:26.143Z"
   },
   {
    "duration": 7,
    "start_time": "2022-11-10T04:51:26.152Z"
   },
   {
    "duration": 6,
    "start_time": "2022-11-10T04:51:26.161Z"
   },
   {
    "duration": 325,
    "start_time": "2022-11-10T04:51:26.169Z"
   },
   {
    "duration": 4,
    "start_time": "2022-11-10T04:51:26.496Z"
   },
   {
    "duration": 32,
    "start_time": "2022-11-10T04:51:26.502Z"
   },
   {
    "duration": 1178,
    "start_time": "2022-11-10T04:51:26.536Z"
   },
   {
    "duration": 638,
    "start_time": "2022-11-10T04:51:49.743Z"
   },
   {
    "duration": 6,
    "start_time": "2022-11-10T04:52:08.713Z"
   },
   {
    "duration": 10,
    "start_time": "2022-11-10T04:55:31.234Z"
   },
   {
    "duration": 11,
    "start_time": "2022-11-10T04:55:51.066Z"
   },
   {
    "duration": 19,
    "start_time": "2022-11-10T04:57:10.940Z"
   },
   {
    "duration": 24,
    "start_time": "2022-11-10T05:00:23.325Z"
   },
   {
    "duration": 21,
    "start_time": "2022-11-10T05:01:14.899Z"
   },
   {
    "duration": 21,
    "start_time": "2022-11-10T05:01:38.318Z"
   },
   {
    "duration": 1526,
    "start_time": "2022-11-10T05:02:26.084Z"
   },
   {
    "duration": 9,
    "start_time": "2022-11-10T05:08:47.287Z"
   },
   {
    "duration": 8,
    "start_time": "2022-11-10T05:09:27.887Z"
   },
   {
    "duration": 8,
    "start_time": "2022-11-10T05:09:32.454Z"
   },
   {
    "duration": 9,
    "start_time": "2022-11-10T05:11:40.846Z"
   },
   {
    "duration": 9,
    "start_time": "2022-11-10T05:14:20.676Z"
   },
   {
    "duration": 8,
    "start_time": "2022-11-10T05:16:19.741Z"
   },
   {
    "duration": 497,
    "start_time": "2022-11-10T05:18:23.998Z"
   },
   {
    "duration": 394,
    "start_time": "2022-11-10T05:18:33.849Z"
   },
   {
    "duration": 209,
    "start_time": "2022-11-10T05:18:39.215Z"
   },
   {
    "duration": 4,
    "start_time": "2022-11-10T05:18:59.779Z"
   },
   {
    "duration": 193,
    "start_time": "2022-11-10T05:19:04.301Z"
   },
   {
    "duration": 146,
    "start_time": "2022-11-10T05:19:10.752Z"
   },
   {
    "duration": 222,
    "start_time": "2022-11-10T05:19:15.689Z"
   },
   {
    "duration": 147,
    "start_time": "2022-11-10T05:19:21.985Z"
   },
   {
    "duration": 143,
    "start_time": "2022-11-10T05:19:52.023Z"
   },
   {
    "duration": 4,
    "start_time": "2022-11-10T05:22:28.622Z"
   },
   {
    "duration": 4,
    "start_time": "2022-11-10T05:22:35.195Z"
   },
   {
    "duration": 4,
    "start_time": "2022-11-10T05:22:41.322Z"
   },
   {
    "duration": 4,
    "start_time": "2022-11-10T05:25:11.042Z"
   },
   {
    "duration": 10,
    "start_time": "2022-11-10T05:28:00.181Z"
   },
   {
    "duration": 12,
    "start_time": "2022-11-10T05:30:42.487Z"
   },
   {
    "duration": 8,
    "start_time": "2022-11-10T05:33:21.716Z"
   },
   {
    "duration": 8,
    "start_time": "2022-11-10T05:36:57.405Z"
   },
   {
    "duration": 8,
    "start_time": "2022-11-10T05:39:00.865Z"
   },
   {
    "duration": 9,
    "start_time": "2022-11-10T05:39:12.061Z"
   },
   {
    "duration": 8,
    "start_time": "2022-11-10T05:39:38.091Z"
   },
   {
    "duration": 10,
    "start_time": "2022-11-10T05:40:14.492Z"
   },
   {
    "duration": 11,
    "start_time": "2022-11-10T05:40:16.975Z"
   },
   {
    "duration": 8,
    "start_time": "2022-11-10T05:40:19.788Z"
   },
   {
    "duration": 9,
    "start_time": "2022-11-10T05:50:52.323Z"
   },
   {
    "duration": 6,
    "start_time": "2022-11-10T05:51:19.828Z"
   },
   {
    "duration": 5,
    "start_time": "2022-11-10T05:51:34.258Z"
   },
   {
    "duration": 5,
    "start_time": "2022-11-10T05:51:36.170Z"
   },
   {
    "duration": 16,
    "start_time": "2022-11-10T05:52:03.449Z"
   },
   {
    "duration": 15,
    "start_time": "2022-11-10T05:52:07.063Z"
   },
   {
    "duration": 234,
    "start_time": "2022-11-10T05:52:35.567Z"
   },
   {
    "duration": 166,
    "start_time": "2022-11-10T05:52:45.795Z"
   },
   {
    "duration": 122,
    "start_time": "2022-11-10T05:52:52.794Z"
   },
   {
    "duration": 90,
    "start_time": "2022-11-10T05:52:59.386Z"
   },
   {
    "duration": 103,
    "start_time": "2022-11-10T05:53:04.368Z"
   },
   {
    "duration": 126,
    "start_time": "2022-11-10T05:53:08.727Z"
   },
   {
    "duration": 139,
    "start_time": "2022-11-10T05:53:12.993Z"
   },
   {
    "duration": 137,
    "start_time": "2022-11-10T05:53:17.675Z"
   },
   {
    "duration": 200,
    "start_time": "2022-11-10T05:53:23.502Z"
   },
   {
    "duration": 8,
    "start_time": "2022-11-10T05:54:48.341Z"
   },
   {
    "duration": 711,
    "start_time": "2022-11-10T16:16:18.176Z"
   },
   {
    "duration": 17,
    "start_time": "2022-11-10T16:16:18.890Z"
   },
   {
    "duration": 34,
    "start_time": "2022-11-10T16:16:18.908Z"
   },
   {
    "duration": 2321,
    "start_time": "2022-11-10T16:16:18.944Z"
   },
   {
    "duration": 10,
    "start_time": "2022-11-10T16:16:21.267Z"
   },
   {
    "duration": 4,
    "start_time": "2022-11-10T16:16:21.278Z"
   },
   {
    "duration": 7,
    "start_time": "2022-11-10T16:16:21.283Z"
   },
   {
    "duration": 4,
    "start_time": "2022-11-10T16:16:21.292Z"
   },
   {
    "duration": 30,
    "start_time": "2022-11-10T16:16:21.298Z"
   },
   {
    "duration": 17,
    "start_time": "2022-11-10T16:16:21.331Z"
   },
   {
    "duration": 38,
    "start_time": "2022-11-10T16:16:21.349Z"
   },
   {
    "duration": 8,
    "start_time": "2022-11-10T16:16:21.389Z"
   },
   {
    "duration": 9,
    "start_time": "2022-11-10T16:16:21.398Z"
   },
   {
    "duration": 4,
    "start_time": "2022-11-10T16:16:21.408Z"
   },
   {
    "duration": 10,
    "start_time": "2022-11-10T16:16:21.414Z"
   },
   {
    "duration": 12,
    "start_time": "2022-11-10T16:16:21.425Z"
   },
   {
    "duration": 41,
    "start_time": "2022-11-10T16:16:21.438Z"
   },
   {
    "duration": 9,
    "start_time": "2022-11-10T16:16:21.481Z"
   },
   {
    "duration": 6,
    "start_time": "2022-11-10T16:16:21.491Z"
   },
   {
    "duration": 24,
    "start_time": "2022-11-10T16:16:21.498Z"
   },
   {
    "duration": 12,
    "start_time": "2022-11-10T16:16:21.523Z"
   },
   {
    "duration": 34,
    "start_time": "2022-11-10T16:16:21.537Z"
   },
   {
    "duration": 14,
    "start_time": "2022-11-10T16:16:21.572Z"
   },
   {
    "duration": 9,
    "start_time": "2022-11-10T16:16:21.587Z"
   },
   {
    "duration": 38,
    "start_time": "2022-11-10T16:16:21.598Z"
   },
   {
    "duration": 47,
    "start_time": "2022-11-10T16:16:21.637Z"
   },
   {
    "duration": 7,
    "start_time": "2022-11-10T16:16:21.686Z"
   },
   {
    "duration": 21,
    "start_time": "2022-11-10T16:16:21.696Z"
   },
   {
    "duration": 4,
    "start_time": "2022-11-10T16:16:21.718Z"
   },
   {
    "duration": 9,
    "start_time": "2022-11-10T16:16:21.724Z"
   },
   {
    "duration": 6,
    "start_time": "2022-11-10T16:16:21.735Z"
   },
   {
    "duration": 25,
    "start_time": "2022-11-10T16:16:21.743Z"
   },
   {
    "duration": 339,
    "start_time": "2022-11-10T16:16:21.770Z"
   },
   {
    "duration": 4,
    "start_time": "2022-11-10T16:16:22.111Z"
   },
   {
    "duration": 23,
    "start_time": "2022-11-10T16:16:22.116Z"
   },
   {
    "duration": 35,
    "start_time": "2022-11-10T16:16:22.141Z"
   },
   {
    "duration": 1564,
    "start_time": "2022-11-10T16:16:22.177Z"
   },
   {
    "duration": 12,
    "start_time": "2022-11-10T16:16:23.743Z"
   },
   {
    "duration": 10,
    "start_time": "2022-11-10T16:16:23.767Z"
   },
   {
    "duration": 9,
    "start_time": "2022-11-10T16:16:23.779Z"
   },
   {
    "duration": 8,
    "start_time": "2022-11-10T16:16:23.790Z"
   },
   {
    "duration": 8,
    "start_time": "2022-11-10T16:16:23.800Z"
   },
   {
    "duration": 7,
    "start_time": "2022-11-10T16:16:23.810Z"
   },
   {
    "duration": 7,
    "start_time": "2022-11-10T16:16:23.818Z"
   },
   {
    "duration": 45,
    "start_time": "2022-11-10T16:16:23.827Z"
   },
   {
    "duration": 10,
    "start_time": "2022-11-10T16:16:23.874Z"
   },
   {
    "duration": 17,
    "start_time": "2022-11-10T16:16:23.887Z"
   },
   {
    "duration": 47,
    "start_time": "2022-11-10T16:16:23.905Z"
   },
   {
    "duration": 10,
    "start_time": "2022-11-10T16:16:23.954Z"
   },
   {
    "duration": 11,
    "start_time": "2022-11-10T16:16:23.965Z"
   },
   {
    "duration": 8,
    "start_time": "2022-11-10T16:16:23.977Z"
   },
   {
    "duration": 13,
    "start_time": "2022-11-10T16:16:23.986Z"
   },
   {
    "duration": 162,
    "start_time": "2022-11-10T16:16:24.000Z"
   },
   {
    "duration": 9,
    "start_time": "2022-11-10T16:16:24.164Z"
   },
   {
    "duration": 14,
    "start_time": "2022-11-10T16:16:24.175Z"
   },
   {
    "duration": 15,
    "start_time": "2022-11-10T16:18:58.013Z"
   },
   {
    "duration": 39,
    "start_time": "2022-11-10T16:21:48.614Z"
   },
   {
    "duration": 22,
    "start_time": "2022-11-10T16:22:49.598Z"
   },
   {
    "duration": 10,
    "start_time": "2022-11-10T16:26:43.519Z"
   },
   {
    "duration": 167,
    "start_time": "2022-11-10T16:27:09.908Z"
   },
   {
    "duration": 84,
    "start_time": "2022-11-10T16:28:40.499Z"
   },
   {
    "duration": 156,
    "start_time": "2022-11-10T16:31:53.340Z"
   },
   {
    "duration": 204,
    "start_time": "2022-11-10T16:33:03.435Z"
   },
   {
    "duration": 171,
    "start_time": "2022-11-10T16:33:17.788Z"
   },
   {
    "duration": 234,
    "start_time": "2022-11-10T16:36:25.738Z"
   },
   {
    "duration": 143,
    "start_time": "2022-11-10T16:37:46.657Z"
   },
   {
    "duration": 173,
    "start_time": "2022-11-10T16:38:18.401Z"
   },
   {
    "duration": 154,
    "start_time": "2022-11-10T16:39:29.651Z"
   },
   {
    "duration": 11,
    "start_time": "2022-11-10T16:44:44.428Z"
   },
   {
    "duration": 145,
    "start_time": "2022-11-10T16:45:29.687Z"
   },
   {
    "duration": 258,
    "start_time": "2022-11-10T16:45:58.682Z"
   },
   {
    "duration": 16,
    "start_time": "2022-11-10T16:46:28.657Z"
   },
   {
    "duration": 15,
    "start_time": "2022-11-10T16:46:57.981Z"
   },
   {
    "duration": 154,
    "start_time": "2022-11-10T16:47:30.894Z"
   },
   {
    "duration": 48,
    "start_time": "2022-11-10T16:49:47.188Z"
   },
   {
    "duration": 62,
    "start_time": "2022-11-10T16:49:53.019Z"
   },
   {
    "duration": 40,
    "start_time": "2022-11-10T16:50:22.230Z"
   },
   {
    "duration": 15,
    "start_time": "2022-11-10T16:50:43.505Z"
   },
   {
    "duration": 27,
    "start_time": "2022-11-10T16:50:50.601Z"
   },
   {
    "duration": 39,
    "start_time": "2022-11-10T16:51:53.561Z"
   },
   {
    "duration": 57,
    "start_time": "2022-11-10T16:52:21.442Z"
   },
   {
    "duration": 18,
    "start_time": "2022-11-10T16:52:45.988Z"
   },
   {
    "duration": 15,
    "start_time": "2022-11-10T16:53:09.331Z"
   },
   {
    "duration": 15,
    "start_time": "2022-11-10T16:53:29.390Z"
   },
   {
    "duration": 12,
    "start_time": "2022-11-10T16:53:55.631Z"
   },
   {
    "duration": 14,
    "start_time": "2022-11-10T16:54:19.201Z"
   },
   {
    "duration": 9,
    "start_time": "2022-11-10T16:55:06.996Z"
   },
   {
    "duration": 14,
    "start_time": "2022-11-10T16:55:13.393Z"
   },
   {
    "duration": 111,
    "start_time": "2022-11-10T16:55:20.130Z"
   },
   {
    "duration": 160,
    "start_time": "2022-11-10T16:55:36.776Z"
   },
   {
    "duration": 167,
    "start_time": "2022-11-10T16:55:56.756Z"
   },
   {
    "duration": 243,
    "start_time": "2022-11-10T16:56:02.271Z"
   },
   {
    "duration": 12,
    "start_time": "2022-11-10T16:56:21.214Z"
   },
   {
    "duration": 648,
    "start_time": "2022-11-10T16:56:45.490Z"
   },
   {
    "duration": 207,
    "start_time": "2022-11-10T16:57:27.031Z"
   },
   {
    "duration": 26,
    "start_time": "2022-11-10T16:57:51.699Z"
   },
   {
    "duration": 259,
    "start_time": "2022-11-10T16:58:10.128Z"
   },
   {
    "duration": 185,
    "start_time": "2022-11-10T16:58:18.932Z"
   },
   {
    "duration": 250,
    "start_time": "2022-11-10T16:58:25.259Z"
   },
   {
    "duration": 14,
    "start_time": "2022-11-10T16:58:58.348Z"
   },
   {
    "duration": 23,
    "start_time": "2022-11-10T16:59:44.200Z"
   },
   {
    "duration": 206,
    "start_time": "2022-11-10T17:00:06.415Z"
   },
   {
    "duration": 503,
    "start_time": "2022-11-10T19:41:40.332Z"
   },
   {
    "duration": 15,
    "start_time": "2022-11-10T19:41:40.837Z"
   },
   {
    "duration": 41,
    "start_time": "2022-11-10T19:41:40.854Z"
   },
   {
    "duration": 2151,
    "start_time": "2022-11-10T19:41:40.898Z"
   },
   {
    "duration": 10,
    "start_time": "2022-11-10T19:41:43.050Z"
   },
   {
    "duration": 6,
    "start_time": "2022-11-10T19:41:43.062Z"
   },
   {
    "duration": 11,
    "start_time": "2022-11-10T19:41:43.069Z"
   },
   {
    "duration": 4,
    "start_time": "2022-11-10T19:41:43.081Z"
   },
   {
    "duration": 10,
    "start_time": "2022-11-10T19:41:43.087Z"
   },
   {
    "duration": 18,
    "start_time": "2022-11-10T19:41:43.100Z"
   },
   {
    "duration": 48,
    "start_time": "2022-11-10T19:41:43.120Z"
   },
   {
    "duration": 8,
    "start_time": "2022-11-10T19:41:43.170Z"
   },
   {
    "duration": 9,
    "start_time": "2022-11-10T19:41:43.180Z"
   },
   {
    "duration": 4,
    "start_time": "2022-11-10T19:41:43.190Z"
   },
   {
    "duration": 8,
    "start_time": "2022-11-10T19:41:43.195Z"
   },
   {
    "duration": 12,
    "start_time": "2022-11-10T19:41:43.205Z"
   },
   {
    "duration": 22,
    "start_time": "2022-11-10T19:41:43.218Z"
   },
   {
    "duration": 10,
    "start_time": "2022-11-10T19:41:43.269Z"
   },
   {
    "duration": 5,
    "start_time": "2022-11-10T19:41:43.281Z"
   },
   {
    "duration": 22,
    "start_time": "2022-11-10T19:41:43.288Z"
   },
   {
    "duration": 13,
    "start_time": "2022-11-10T19:41:43.312Z"
   },
   {
    "duration": 5,
    "start_time": "2022-11-10T19:41:43.327Z"
   },
   {
    "duration": 11,
    "start_time": "2022-11-10T19:41:43.368Z"
   },
   {
    "duration": 9,
    "start_time": "2022-11-10T19:41:43.380Z"
   },
   {
    "duration": 37,
    "start_time": "2022-11-10T19:41:43.390Z"
   },
   {
    "duration": 49,
    "start_time": "2022-11-10T19:41:43.429Z"
   },
   {
    "duration": 15,
    "start_time": "2022-11-10T19:41:43.480Z"
   },
   {
    "duration": 53,
    "start_time": "2022-11-10T19:41:43.500Z"
   },
   {
    "duration": 4,
    "start_time": "2022-11-10T19:41:43.555Z"
   },
   {
    "duration": 9,
    "start_time": "2022-11-10T19:41:43.561Z"
   },
   {
    "duration": 7,
    "start_time": "2022-11-10T19:41:43.572Z"
   },
   {
    "duration": 7,
    "start_time": "2022-11-10T19:41:43.581Z"
   },
   {
    "duration": 327,
    "start_time": "2022-11-10T19:41:43.590Z"
   },
   {
    "duration": 5,
    "start_time": "2022-11-10T19:41:43.918Z"
   },
   {
    "duration": 24,
    "start_time": "2022-11-10T19:41:43.924Z"
   },
   {
    "duration": 32,
    "start_time": "2022-11-10T19:41:43.949Z"
   },
   {
    "duration": 1556,
    "start_time": "2022-11-10T19:41:43.983Z"
   },
   {
    "duration": 9,
    "start_time": "2022-11-10T19:41:45.541Z"
   },
   {
    "duration": 24,
    "start_time": "2022-11-10T19:41:45.552Z"
   },
   {
    "duration": 11,
    "start_time": "2022-11-10T19:41:45.578Z"
   },
   {
    "duration": 10,
    "start_time": "2022-11-10T19:41:45.591Z"
   },
   {
    "duration": 9,
    "start_time": "2022-11-10T19:41:45.602Z"
   },
   {
    "duration": 8,
    "start_time": "2022-11-10T19:41:45.612Z"
   },
   {
    "duration": 8,
    "start_time": "2022-11-10T19:41:45.622Z"
   },
   {
    "duration": 42,
    "start_time": "2022-11-10T19:41:45.631Z"
   },
   {
    "duration": 11,
    "start_time": "2022-11-10T19:41:45.674Z"
   },
   {
    "duration": 8,
    "start_time": "2022-11-10T19:41:45.687Z"
   },
   {
    "duration": 9,
    "start_time": "2022-11-10T19:41:45.696Z"
   },
   {
    "duration": 7,
    "start_time": "2022-11-10T19:41:45.706Z"
   },
   {
    "duration": 8,
    "start_time": "2022-11-10T19:41:45.715Z"
   },
   {
    "duration": 50,
    "start_time": "2022-11-10T19:41:45.725Z"
   },
   {
    "duration": 11,
    "start_time": "2022-11-10T19:41:45.776Z"
   },
   {
    "duration": 198,
    "start_time": "2022-11-10T19:41:45.789Z"
   },
   {
    "duration": 8,
    "start_time": "2022-11-10T19:41:45.989Z"
   },
   {
    "duration": 176,
    "start_time": "2022-11-10T19:41:45.999Z"
   },
   {
    "duration": 184,
    "start_time": "2022-11-10T19:41:46.177Z"
   },
   {
    "duration": 196,
    "start_time": "2022-11-10T19:41:46.363Z"
   },
   {
    "duration": 20,
    "start_time": "2022-11-10T19:41:46.561Z"
   },
   {
    "duration": 185,
    "start_time": "2022-11-10T19:41:46.583Z"
   },
   {
    "duration": 12,
    "start_time": "2022-11-10T19:41:46.770Z"
   },
   {
    "duration": 165,
    "start_time": "2022-11-10T19:41:46.784Z"
   },
   {
    "duration": 30,
    "start_time": "2022-11-10T19:41:46.950Z"
   },
   {
    "duration": 288,
    "start_time": "2022-11-10T19:41:46.982Z"
   },
   {
    "duration": 30,
    "start_time": "2022-11-10T19:41:47.272Z"
   },
   {
    "duration": 268,
    "start_time": "2022-11-10T19:41:47.304Z"
   },
   {
    "duration": 26,
    "start_time": "2022-11-10T19:41:47.574Z"
   },
   {
    "duration": 200,
    "start_time": "2022-11-10T19:41:47.602Z"
   },
   {
    "duration": 136,
    "start_time": "2022-11-10T19:45:54.798Z"
   },
   {
    "duration": 143,
    "start_time": "2022-11-10T19:48:06.303Z"
   },
   {
    "duration": 135,
    "start_time": "2022-11-10T19:48:44.375Z"
   },
   {
    "duration": 131,
    "start_time": "2022-11-10T19:49:03.473Z"
   },
   {
    "duration": 135,
    "start_time": "2022-11-10T19:49:22.523Z"
   },
   {
    "duration": 140,
    "start_time": "2022-11-10T19:51:04.151Z"
   },
   {
    "duration": 122,
    "start_time": "2022-11-10T19:53:31.807Z"
   },
   {
    "duration": 140,
    "start_time": "2022-11-10T19:53:42.935Z"
   },
   {
    "duration": 185,
    "start_time": "2022-11-10T19:53:48.034Z"
   },
   {
    "duration": 140,
    "start_time": "2022-11-10T19:54:10.069Z"
   },
   {
    "duration": 123,
    "start_time": "2022-11-10T19:54:17.397Z"
   },
   {
    "duration": 153,
    "start_time": "2022-11-10T19:55:38.498Z"
   },
   {
    "duration": 175,
    "start_time": "2022-11-10T19:57:12.437Z"
   },
   {
    "duration": 142,
    "start_time": "2022-11-10T19:58:04.305Z"
   },
   {
    "duration": 127,
    "start_time": "2022-11-10T20:00:28.053Z"
   },
   {
    "duration": 16,
    "start_time": "2022-11-10T20:15:02.699Z"
   },
   {
    "duration": 42,
    "start_time": "2022-11-10T20:18:33.069Z"
   },
   {
    "duration": 33,
    "start_time": "2022-11-10T20:18:51.200Z"
   },
   {
    "duration": 30,
    "start_time": "2022-11-10T20:19:02.159Z"
   },
   {
    "duration": 4,
    "start_time": "2022-11-10T20:20:14.145Z"
   },
   {
    "duration": 44,
    "start_time": "2022-11-10T20:21:37.458Z"
   },
   {
    "duration": 3,
    "start_time": "2022-11-10T20:21:48.565Z"
   },
   {
    "duration": 4,
    "start_time": "2022-11-10T20:21:54.327Z"
   },
   {
    "duration": 3,
    "start_time": "2022-11-10T20:22:18.542Z"
   },
   {
    "duration": 12,
    "start_time": "2022-11-10T20:22:25.863Z"
   },
   {
    "duration": 52,
    "start_time": "2022-11-10T20:24:28.607Z"
   },
   {
    "duration": 37,
    "start_time": "2022-11-10T20:24:43.912Z"
   },
   {
    "duration": 3,
    "start_time": "2022-11-10T20:24:51.445Z"
   },
   {
    "duration": 10,
    "start_time": "2022-11-10T20:24:53.810Z"
   },
   {
    "duration": 67,
    "start_time": "2022-11-10T20:28:36.760Z"
   },
   {
    "duration": 710,
    "start_time": "2022-11-10T20:28:46.405Z"
   },
   {
    "duration": 34,
    "start_time": "2022-11-10T20:29:35.263Z"
   },
   {
    "duration": 49,
    "start_time": "2022-11-10T20:29:46.300Z"
   },
   {
    "duration": 44,
    "start_time": "2022-11-10T20:30:02.923Z"
   },
   {
    "duration": 661,
    "start_time": "2022-11-10T20:35:51.579Z"
   },
   {
    "duration": 11,
    "start_time": "2022-11-10T20:36:10.667Z"
   },
   {
    "duration": 355,
    "start_time": "2022-11-10T20:37:23.156Z"
   },
   {
    "duration": 10,
    "start_time": "2022-11-10T20:39:27.979Z"
   },
   {
    "duration": 463,
    "start_time": "2022-11-10T20:40:00.719Z"
   },
   {
    "duration": 14,
    "start_time": "2022-11-10T20:40:01.184Z"
   },
   {
    "duration": 62,
    "start_time": "2022-11-10T20:40:01.200Z"
   },
   {
    "duration": 2177,
    "start_time": "2022-11-10T20:40:01.264Z"
   },
   {
    "duration": 10,
    "start_time": "2022-11-10T20:40:03.442Z"
   },
   {
    "duration": 4,
    "start_time": "2022-11-10T20:40:03.453Z"
   },
   {
    "duration": 7,
    "start_time": "2022-11-10T20:40:03.458Z"
   },
   {
    "duration": 8,
    "start_time": "2022-11-10T20:40:03.466Z"
   },
   {
    "duration": 10,
    "start_time": "2022-11-10T20:40:03.476Z"
   },
   {
    "duration": 21,
    "start_time": "2022-11-10T20:40:03.489Z"
   },
   {
    "duration": 29,
    "start_time": "2022-11-10T20:40:03.512Z"
   },
   {
    "duration": 7,
    "start_time": "2022-11-10T20:40:03.543Z"
   },
   {
    "duration": 18,
    "start_time": "2022-11-10T20:40:03.551Z"
   },
   {
    "duration": 6,
    "start_time": "2022-11-10T20:40:03.571Z"
   },
   {
    "duration": 7,
    "start_time": "2022-11-10T20:40:03.579Z"
   },
   {
    "duration": 10,
    "start_time": "2022-11-10T20:40:03.587Z"
   },
   {
    "duration": 32,
    "start_time": "2022-11-10T20:40:03.598Z"
   },
   {
    "duration": 8,
    "start_time": "2022-11-10T20:40:03.632Z"
   },
   {
    "duration": 28,
    "start_time": "2022-11-10T20:40:03.642Z"
   },
   {
    "duration": 25,
    "start_time": "2022-11-10T20:40:03.671Z"
   },
   {
    "duration": 13,
    "start_time": "2022-11-10T20:40:03.698Z"
   },
   {
    "duration": 5,
    "start_time": "2022-11-10T20:40:03.712Z"
   },
   {
    "duration": 15,
    "start_time": "2022-11-10T20:40:03.719Z"
   },
   {
    "duration": 33,
    "start_time": "2022-11-10T20:40:03.736Z"
   },
   {
    "duration": 37,
    "start_time": "2022-11-10T20:40:03.771Z"
   },
   {
    "duration": 19,
    "start_time": "2022-11-10T20:40:03.810Z"
   },
   {
    "duration": 5,
    "start_time": "2022-11-10T20:40:03.830Z"
   },
   {
    "duration": 35,
    "start_time": "2022-11-10T20:40:03.839Z"
   },
   {
    "duration": 4,
    "start_time": "2022-11-10T20:40:03.876Z"
   },
   {
    "duration": 8,
    "start_time": "2022-11-10T20:40:03.881Z"
   },
   {
    "duration": 5,
    "start_time": "2022-11-10T20:40:03.891Z"
   },
   {
    "duration": 5,
    "start_time": "2022-11-10T20:40:03.898Z"
   },
   {
    "duration": 366,
    "start_time": "2022-11-10T20:40:03.904Z"
   },
   {
    "duration": 4,
    "start_time": "2022-11-10T20:40:04.271Z"
   },
   {
    "duration": 25,
    "start_time": "2022-11-10T20:40:04.277Z"
   },
   {
    "duration": 23,
    "start_time": "2022-11-10T20:40:04.304Z"
   },
   {
    "duration": 1543,
    "start_time": "2022-11-10T20:40:04.329Z"
   },
   {
    "duration": 8,
    "start_time": "2022-11-10T20:40:05.874Z"
   },
   {
    "duration": 8,
    "start_time": "2022-11-10T20:40:05.884Z"
   },
   {
    "duration": 8,
    "start_time": "2022-11-10T20:40:05.893Z"
   },
   {
    "duration": 8,
    "start_time": "2022-11-10T20:40:05.903Z"
   },
   {
    "duration": 7,
    "start_time": "2022-11-10T20:40:05.912Z"
   },
   {
    "duration": 29,
    "start_time": "2022-11-10T20:40:05.921Z"
   },
   {
    "duration": 8,
    "start_time": "2022-11-10T20:40:05.968Z"
   },
   {
    "duration": 11,
    "start_time": "2022-11-10T20:40:05.977Z"
   },
   {
    "duration": 14,
    "start_time": "2022-11-10T20:40:05.989Z"
   },
   {
    "duration": 8,
    "start_time": "2022-11-10T20:40:06.004Z"
   },
   {
    "duration": 12,
    "start_time": "2022-11-10T20:40:06.014Z"
   },
   {
    "duration": 7,
    "start_time": "2022-11-10T20:40:06.028Z"
   },
   {
    "duration": 32,
    "start_time": "2022-11-10T20:40:06.037Z"
   },
   {
    "duration": 9,
    "start_time": "2022-11-10T20:40:06.070Z"
   },
   {
    "duration": 8,
    "start_time": "2022-11-10T20:40:06.081Z"
   },
   {
    "duration": 184,
    "start_time": "2022-11-10T20:40:06.091Z"
   },
   {
    "duration": 12,
    "start_time": "2022-11-10T20:40:06.277Z"
   },
   {
    "duration": 183,
    "start_time": "2022-11-10T20:40:06.291Z"
   },
   {
    "duration": 148,
    "start_time": "2022-11-10T20:40:06.476Z"
   },
   {
    "duration": 146,
    "start_time": "2022-11-10T20:40:06.626Z"
   },
   {
    "duration": 12,
    "start_time": "2022-11-10T20:40:06.773Z"
   },
   {
    "duration": 148,
    "start_time": "2022-11-10T20:40:06.787Z"
   },
   {
    "duration": 12,
    "start_time": "2022-11-10T20:40:06.937Z"
   },
   {
    "duration": 146,
    "start_time": "2022-11-10T20:40:06.951Z"
   },
   {
    "duration": 26,
    "start_time": "2022-11-10T20:40:07.098Z"
   },
   {
    "duration": 243,
    "start_time": "2022-11-10T20:40:07.126Z"
   },
   {
    "duration": 25,
    "start_time": "2022-11-10T20:40:07.371Z"
   },
   {
    "duration": 184,
    "start_time": "2022-11-10T20:40:07.398Z"
   },
   {
    "duration": 26,
    "start_time": "2022-11-10T20:40:07.584Z"
   },
   {
    "duration": 160,
    "start_time": "2022-11-10T20:40:07.611Z"
   },
   {
    "duration": 42,
    "start_time": "2022-11-10T20:40:07.773Z"
   },
   {
    "duration": 3,
    "start_time": "2022-11-10T20:40:07.817Z"
   },
   {
    "duration": 38,
    "start_time": "2022-11-10T20:40:07.823Z"
   },
   {
    "duration": 94,
    "start_time": "2022-11-10T20:40:07.863Z"
   },
   {
    "duration": 0,
    "start_time": "2022-11-10T20:40:07.959Z"
   },
   {
    "duration": 374,
    "start_time": "2022-11-10T20:40:37.946Z"
   },
   {
    "duration": 43,
    "start_time": "2022-11-10T20:40:47.993Z"
   },
   {
    "duration": 40,
    "start_time": "2022-11-10T20:41:19.560Z"
   },
   {
    "duration": 44,
    "start_time": "2022-11-10T20:49:28.367Z"
   },
   {
    "duration": 31,
    "start_time": "2022-11-10T20:49:51.380Z"
   },
   {
    "duration": 186,
    "start_time": "2022-11-10T20:50:05.822Z"
   },
   {
    "duration": 44,
    "start_time": "2022-11-10T20:50:14.939Z"
   },
   {
    "duration": 179,
    "start_time": "2022-11-10T20:50:23.127Z"
   },
   {
    "duration": 163,
    "start_time": "2022-11-10T20:50:35.257Z"
   },
   {
    "duration": 24,
    "start_time": "2022-11-10T20:54:56.255Z"
   },
   {
    "duration": 17,
    "start_time": "2022-11-10T20:55:17.464Z"
   },
   {
    "duration": 20,
    "start_time": "2022-11-10T20:55:25.361Z"
   },
   {
    "duration": 24,
    "start_time": "2022-11-10T20:56:25.231Z"
   },
   {
    "duration": 190,
    "start_time": "2022-11-10T20:59:00.269Z"
   },
   {
    "duration": 34,
    "start_time": "2022-11-10T20:59:06.834Z"
   },
   {
    "duration": 29,
    "start_time": "2022-11-10T20:59:28.836Z"
   },
   {
    "duration": 168,
    "start_time": "2022-11-10T21:00:22.155Z"
   },
   {
    "duration": 25,
    "start_time": "2022-11-10T21:00:50.748Z"
   },
   {
    "duration": 493,
    "start_time": "2022-11-10T21:16:39.852Z"
   },
   {
    "duration": 15,
    "start_time": "2022-11-10T21:16:40.346Z"
   },
   {
    "duration": 30,
    "start_time": "2022-11-10T21:16:40.363Z"
   },
   {
    "duration": 2133,
    "start_time": "2022-11-10T21:16:40.396Z"
   },
   {
    "duration": 8,
    "start_time": "2022-11-10T21:16:42.531Z"
   },
   {
    "duration": 9,
    "start_time": "2022-11-10T21:16:42.541Z"
   },
   {
    "duration": 7,
    "start_time": "2022-11-10T21:16:42.551Z"
   },
   {
    "duration": 5,
    "start_time": "2022-11-10T21:16:42.559Z"
   },
   {
    "duration": 11,
    "start_time": "2022-11-10T21:16:42.565Z"
   },
   {
    "duration": 21,
    "start_time": "2022-11-10T21:16:42.578Z"
   },
   {
    "duration": 22,
    "start_time": "2022-11-10T21:16:42.600Z"
   },
   {
    "duration": 7,
    "start_time": "2022-11-10T21:16:42.624Z"
   },
   {
    "duration": 9,
    "start_time": "2022-11-10T21:16:42.632Z"
   },
   {
    "duration": 15,
    "start_time": "2022-11-10T21:16:42.642Z"
   },
   {
    "duration": 18,
    "start_time": "2022-11-10T21:16:42.658Z"
   },
   {
    "duration": 11,
    "start_time": "2022-11-10T21:16:42.677Z"
   },
   {
    "duration": 22,
    "start_time": "2022-11-10T21:16:42.690Z"
   },
   {
    "duration": 9,
    "start_time": "2022-11-10T21:16:42.714Z"
   },
   {
    "duration": 8,
    "start_time": "2022-11-10T21:16:42.725Z"
   },
   {
    "duration": 42,
    "start_time": "2022-11-10T21:16:42.735Z"
   },
   {
    "duration": 15,
    "start_time": "2022-11-10T21:16:42.779Z"
   },
   {
    "duration": 6,
    "start_time": "2022-11-10T21:16:42.796Z"
   },
   {
    "duration": 11,
    "start_time": "2022-11-10T21:16:42.803Z"
   },
   {
    "duration": 10,
    "start_time": "2022-11-10T21:16:42.816Z"
   },
   {
    "duration": 72,
    "start_time": "2022-11-10T21:16:42.828Z"
   },
   {
    "duration": 21,
    "start_time": "2022-11-10T21:16:42.902Z"
   },
   {
    "duration": 6,
    "start_time": "2022-11-10T21:16:42.925Z"
   },
   {
    "duration": 40,
    "start_time": "2022-11-10T21:16:42.936Z"
   },
   {
    "duration": 4,
    "start_time": "2022-11-10T21:16:42.978Z"
   },
   {
    "duration": 10,
    "start_time": "2022-11-10T21:16:42.984Z"
   },
   {
    "duration": 6,
    "start_time": "2022-11-10T21:16:42.996Z"
   },
   {
    "duration": 6,
    "start_time": "2022-11-10T21:16:43.003Z"
   },
   {
    "duration": 339,
    "start_time": "2022-11-10T21:16:43.010Z"
   },
   {
    "duration": 5,
    "start_time": "2022-11-10T21:16:43.351Z"
   },
   {
    "duration": 22,
    "start_time": "2022-11-10T21:16:43.368Z"
   },
   {
    "duration": 23,
    "start_time": "2022-11-10T21:16:43.392Z"
   },
   {
    "duration": 1549,
    "start_time": "2022-11-10T21:16:43.416Z"
   },
   {
    "duration": 9,
    "start_time": "2022-11-10T21:16:44.968Z"
   },
   {
    "duration": 9,
    "start_time": "2022-11-10T21:16:44.979Z"
   },
   {
    "duration": 9,
    "start_time": "2022-11-10T21:16:44.990Z"
   },
   {
    "duration": 8,
    "start_time": "2022-11-10T21:16:45.000Z"
   },
   {
    "duration": 13,
    "start_time": "2022-11-10T21:16:45.009Z"
   },
   {
    "duration": 45,
    "start_time": "2022-11-10T21:16:45.024Z"
   },
   {
    "duration": 8,
    "start_time": "2022-11-10T21:16:45.070Z"
   },
   {
    "duration": 9,
    "start_time": "2022-11-10T21:16:45.080Z"
   },
   {
    "duration": 12,
    "start_time": "2022-11-10T21:16:45.091Z"
   },
   {
    "duration": 7,
    "start_time": "2022-11-10T21:16:45.105Z"
   },
   {
    "duration": 9,
    "start_time": "2022-11-10T21:16:45.114Z"
   },
   {
    "duration": 7,
    "start_time": "2022-11-10T21:16:45.125Z"
   },
   {
    "duration": 41,
    "start_time": "2022-11-10T21:16:45.134Z"
   },
   {
    "duration": 9,
    "start_time": "2022-11-10T21:16:45.177Z"
   },
   {
    "duration": 8,
    "start_time": "2022-11-10T21:16:45.188Z"
   },
   {
    "duration": 171,
    "start_time": "2022-11-10T21:16:45.198Z"
   },
   {
    "duration": 9,
    "start_time": "2022-11-10T21:16:45.371Z"
   },
   {
    "duration": 147,
    "start_time": "2022-11-10T21:16:45.382Z"
   },
   {
    "duration": 153,
    "start_time": "2022-11-10T21:16:45.531Z"
   },
   {
    "duration": 141,
    "start_time": "2022-11-10T21:16:45.685Z"
   },
   {
    "duration": 11,
    "start_time": "2022-11-10T21:16:45.828Z"
   },
   {
    "duration": 152,
    "start_time": "2022-11-10T21:16:45.840Z"
   },
   {
    "duration": 15,
    "start_time": "2022-11-10T21:16:45.993Z"
   },
   {
    "duration": 180,
    "start_time": "2022-11-10T21:16:46.010Z"
   },
   {
    "duration": 24,
    "start_time": "2022-11-10T21:16:46.192Z"
   },
   {
    "duration": 240,
    "start_time": "2022-11-10T21:16:46.217Z"
   },
   {
    "duration": 31,
    "start_time": "2022-11-10T21:16:46.458Z"
   },
   {
    "duration": 191,
    "start_time": "2022-11-10T21:16:46.491Z"
   },
   {
    "duration": 26,
    "start_time": "2022-11-10T21:16:46.684Z"
   },
   {
    "duration": 160,
    "start_time": "2022-11-10T21:16:46.712Z"
   },
   {
    "duration": 39,
    "start_time": "2022-11-10T21:16:46.874Z"
   },
   {
    "duration": 3,
    "start_time": "2022-11-10T21:16:46.915Z"
   },
   {
    "duration": 13,
    "start_time": "2022-11-10T21:16:46.920Z"
   },
   {
    "duration": 196,
    "start_time": "2022-11-10T21:16:46.935Z"
   },
   {
    "duration": 479,
    "start_time": "2022-11-10T21:22:10.134Z"
   },
   {
    "duration": 14,
    "start_time": "2022-11-10T21:22:10.615Z"
   },
   {
    "duration": 39,
    "start_time": "2022-11-10T21:22:10.631Z"
   },
   {
    "duration": 2130,
    "start_time": "2022-11-10T21:22:10.673Z"
   },
   {
    "duration": 9,
    "start_time": "2022-11-10T21:22:12.804Z"
   },
   {
    "duration": 4,
    "start_time": "2022-11-10T21:22:12.814Z"
   },
   {
    "duration": 8,
    "start_time": "2022-11-10T21:22:12.819Z"
   },
   {
    "duration": 5,
    "start_time": "2022-11-10T21:22:12.851Z"
   },
   {
    "duration": 33,
    "start_time": "2022-11-10T21:22:12.857Z"
   },
   {
    "duration": 21,
    "start_time": "2022-11-10T21:22:12.894Z"
   },
   {
    "duration": 25,
    "start_time": "2022-11-10T21:22:12.917Z"
   },
   {
    "duration": 10,
    "start_time": "2022-11-10T21:22:12.944Z"
   },
   {
    "duration": 17,
    "start_time": "2022-11-10T21:22:12.955Z"
   },
   {
    "duration": 19,
    "start_time": "2022-11-10T21:22:12.974Z"
   },
   {
    "duration": 11,
    "start_time": "2022-11-10T21:22:12.995Z"
   },
   {
    "duration": 18,
    "start_time": "2022-11-10T21:22:13.007Z"
   },
   {
    "duration": 36,
    "start_time": "2022-11-10T21:22:13.027Z"
   },
   {
    "duration": 10,
    "start_time": "2022-11-10T21:22:13.065Z"
   },
   {
    "duration": 8,
    "start_time": "2022-11-10T21:22:13.076Z"
   },
   {
    "duration": 24,
    "start_time": "2022-11-10T21:22:13.085Z"
   },
   {
    "duration": 12,
    "start_time": "2022-11-10T21:22:13.110Z"
   },
   {
    "duration": 5,
    "start_time": "2022-11-10T21:22:13.123Z"
   },
   {
    "duration": 30,
    "start_time": "2022-11-10T21:22:13.130Z"
   },
   {
    "duration": 9,
    "start_time": "2022-11-10T21:22:13.161Z"
   },
   {
    "duration": 34,
    "start_time": "2022-11-10T21:22:13.171Z"
   },
   {
    "duration": 47,
    "start_time": "2022-11-10T21:22:13.207Z"
   },
   {
    "duration": 6,
    "start_time": "2022-11-10T21:22:13.256Z"
   },
   {
    "duration": 27,
    "start_time": "2022-11-10T21:22:13.265Z"
   },
   {
    "duration": 4,
    "start_time": "2022-11-10T21:22:13.294Z"
   },
   {
    "duration": 13,
    "start_time": "2022-11-10T21:22:13.299Z"
   },
   {
    "duration": 6,
    "start_time": "2022-11-10T21:22:13.313Z"
   },
   {
    "duration": 33,
    "start_time": "2022-11-10T21:22:13.320Z"
   },
   {
    "duration": 310,
    "start_time": "2022-11-10T21:22:13.355Z"
   },
   {
    "duration": 3,
    "start_time": "2022-11-10T21:22:13.667Z"
   },
   {
    "duration": 26,
    "start_time": "2022-11-10T21:22:13.672Z"
   },
   {
    "duration": 21,
    "start_time": "2022-11-10T21:22:13.699Z"
   },
   {
    "duration": 1516,
    "start_time": "2022-11-10T21:22:13.721Z"
   },
   {
    "duration": 15,
    "start_time": "2022-11-10T21:22:15.238Z"
   },
   {
    "duration": 20,
    "start_time": "2022-11-10T21:22:15.255Z"
   },
   {
    "duration": 15,
    "start_time": "2022-11-10T21:22:15.276Z"
   },
   {
    "duration": 11,
    "start_time": "2022-11-10T21:22:15.292Z"
   },
   {
    "duration": 10,
    "start_time": "2022-11-10T21:22:15.305Z"
   },
   {
    "duration": 23,
    "start_time": "2022-11-10T21:22:15.316Z"
   },
   {
    "duration": 8,
    "start_time": "2022-11-10T21:22:15.340Z"
   },
   {
    "duration": 9,
    "start_time": "2022-11-10T21:22:15.349Z"
   },
   {
    "duration": 13,
    "start_time": "2022-11-10T21:22:15.359Z"
   },
   {
    "duration": 13,
    "start_time": "2022-11-10T21:22:15.373Z"
   },
   {
    "duration": 14,
    "start_time": "2022-11-10T21:22:15.388Z"
   },
   {
    "duration": 7,
    "start_time": "2022-11-10T21:22:15.403Z"
   },
   {
    "duration": 16,
    "start_time": "2022-11-10T21:22:15.411Z"
   },
   {
    "duration": 23,
    "start_time": "2022-11-10T21:22:15.428Z"
   },
   {
    "duration": 22,
    "start_time": "2022-11-10T21:22:15.453Z"
   },
   {
    "duration": 135,
    "start_time": "2022-11-10T21:22:15.477Z"
   },
   {
    "duration": 8,
    "start_time": "2022-11-10T21:22:15.613Z"
   },
   {
    "duration": 135,
    "start_time": "2022-11-10T21:22:15.623Z"
   },
   {
    "duration": 153,
    "start_time": "2022-11-10T21:22:15.760Z"
   },
   {
    "duration": 198,
    "start_time": "2022-11-10T21:22:15.915Z"
   },
   {
    "duration": 14,
    "start_time": "2022-11-10T21:22:16.115Z"
   },
   {
    "duration": 146,
    "start_time": "2022-11-10T21:22:16.131Z"
   },
   {
    "duration": 12,
    "start_time": "2022-11-10T21:22:16.278Z"
   },
   {
    "duration": 137,
    "start_time": "2022-11-10T21:22:16.291Z"
   },
   {
    "duration": 36,
    "start_time": "2022-11-10T21:22:16.429Z"
   },
   {
    "duration": 239,
    "start_time": "2022-11-10T21:22:16.467Z"
   },
   {
    "duration": 26,
    "start_time": "2022-11-10T21:22:16.708Z"
   },
   {
    "duration": 193,
    "start_time": "2022-11-10T21:22:16.736Z"
   },
   {
    "duration": 33,
    "start_time": "2022-11-10T21:22:16.931Z"
   },
   {
    "duration": 211,
    "start_time": "2022-11-10T21:22:16.966Z"
   },
   {
    "duration": 36,
    "start_time": "2022-11-10T21:22:17.179Z"
   },
   {
    "duration": 3,
    "start_time": "2022-11-10T21:22:17.216Z"
   },
   {
    "duration": 35,
    "start_time": "2022-11-10T21:22:17.220Z"
   },
   {
    "duration": 173,
    "start_time": "2022-11-10T21:22:17.257Z"
   },
   {
    "duration": 21,
    "start_time": "2022-11-10T21:23:25.160Z"
   },
   {
    "duration": 14,
    "start_time": "2022-11-10T21:28:08.878Z"
   },
   {
    "duration": 564,
    "start_time": "2022-11-11T21:48:38.092Z"
   },
   {
    "duration": 17,
    "start_time": "2022-11-11T21:48:38.658Z"
   },
   {
    "duration": 51,
    "start_time": "2022-11-11T21:48:38.677Z"
   },
   {
    "duration": 2225,
    "start_time": "2022-11-11T21:48:38.730Z"
   },
   {
    "duration": 10,
    "start_time": "2022-11-11T21:48:40.956Z"
   },
   {
    "duration": 54,
    "start_time": "2022-11-11T21:48:40.967Z"
   },
   {
    "duration": 3,
    "start_time": "2022-11-11T21:48:41.023Z"
   },
   {
    "duration": 7,
    "start_time": "2022-11-11T21:48:41.028Z"
   },
   {
    "duration": 7,
    "start_time": "2022-11-11T21:48:41.036Z"
   },
   {
    "duration": 7,
    "start_time": "2022-11-11T21:48:41.045Z"
   },
   {
    "duration": 18,
    "start_time": "2022-11-11T21:48:41.053Z"
   },
   {
    "duration": 3,
    "start_time": "2022-11-11T21:48:41.073Z"
   },
   {
    "duration": 62,
    "start_time": "2022-11-11T21:48:41.078Z"
   },
   {
    "duration": 7,
    "start_time": "2022-11-11T21:48:41.142Z"
   },
   {
    "duration": 9,
    "start_time": "2022-11-11T21:48:41.150Z"
   },
   {
    "duration": 9,
    "start_time": "2022-11-11T21:48:41.161Z"
   },
   {
    "duration": 2400,
    "start_time": "2022-11-11T21:48:41.172Z"
   },
   {
    "duration": 6,
    "start_time": "2022-11-11T21:48:43.574Z"
   },
   {
    "duration": 12,
    "start_time": "2022-11-11T21:48:43.582Z"
   },
   {
    "duration": 38,
    "start_time": "2022-11-11T21:48:43.596Z"
   },
   {
    "duration": 10,
    "start_time": "2022-11-11T21:48:43.636Z"
   },
   {
    "duration": 6,
    "start_time": "2022-11-11T21:48:43.648Z"
   },
   {
    "duration": 39,
    "start_time": "2022-11-11T21:48:43.656Z"
   },
   {
    "duration": 29,
    "start_time": "2022-11-11T21:48:43.696Z"
   },
   {
    "duration": 7,
    "start_time": "2022-11-11T21:48:43.726Z"
   },
   {
    "duration": 26,
    "start_time": "2022-11-11T21:48:43.734Z"
   },
   {
    "duration": 10,
    "start_time": "2022-11-11T21:48:43.762Z"
   },
   {
    "duration": 60,
    "start_time": "2022-11-11T21:48:43.777Z"
   },
   {
    "duration": 137,
    "start_time": "2022-11-11T21:48:43.839Z"
   },
   {
    "duration": 160,
    "start_time": "2022-11-11T21:48:43.978Z"
   },
   {
    "duration": 26,
    "start_time": "2022-11-11T21:48:44.141Z"
   },
   {
    "duration": 12,
    "start_time": "2022-11-11T21:48:44.170Z"
   },
   {
    "duration": 55,
    "start_time": "2022-11-11T21:48:44.184Z"
   },
   {
    "duration": 4,
    "start_time": "2022-11-11T21:48:44.241Z"
   },
   {
    "duration": 15,
    "start_time": "2022-11-11T21:48:44.247Z"
   },
   {
    "duration": 11,
    "start_time": "2022-11-11T21:48:44.264Z"
   },
   {
    "duration": 8,
    "start_time": "2022-11-11T21:48:44.278Z"
   },
   {
    "duration": 340,
    "start_time": "2022-11-11T21:48:44.288Z"
   },
   {
    "duration": 4,
    "start_time": "2022-11-11T21:48:44.630Z"
   },
   {
    "duration": 7,
    "start_time": "2022-11-11T21:48:44.636Z"
   },
   {
    "duration": 24,
    "start_time": "2022-11-11T21:48:44.644Z"
   },
   {
    "duration": 23,
    "start_time": "2022-11-11T21:48:44.670Z"
   },
   {
    "duration": 1686,
    "start_time": "2022-11-11T21:48:44.695Z"
   },
   {
    "duration": 283,
    "start_time": "2022-11-11T21:48:46.383Z"
   },
   {
    "duration": 264,
    "start_time": "2022-11-11T21:48:46.668Z"
   },
   {
    "duration": 238,
    "start_time": "2022-11-11T21:48:46.934Z"
   },
   {
    "duration": 272,
    "start_time": "2022-11-11T21:48:47.174Z"
   },
   {
    "duration": 366,
    "start_time": "2022-11-11T21:48:47.448Z"
   },
   {
    "duration": 248,
    "start_time": "2022-11-11T21:48:47.819Z"
   },
   {
    "duration": 239,
    "start_time": "2022-11-11T21:48:48.069Z"
   },
   {
    "duration": 12,
    "start_time": "2022-11-11T21:48:48.319Z"
   },
   {
    "duration": 233,
    "start_time": "2022-11-11T21:48:48.333Z"
   },
   {
    "duration": 265,
    "start_time": "2022-11-11T21:48:48.567Z"
   },
   {
    "duration": 247,
    "start_time": "2022-11-11T21:48:48.834Z"
   },
   {
    "duration": 262,
    "start_time": "2022-11-11T21:48:49.083Z"
   },
   {
    "duration": 215,
    "start_time": "2022-11-11T21:48:49.347Z"
   },
   {
    "duration": 236,
    "start_time": "2022-11-11T21:48:49.563Z"
   },
   {
    "duration": 8,
    "start_time": "2022-11-11T21:48:49.801Z"
   },
   {
    "duration": 274,
    "start_time": "2022-11-11T21:48:49.820Z"
   },
   {
    "duration": 212,
    "start_time": "2022-11-11T21:48:50.096Z"
   },
   {
    "duration": 267,
    "start_time": "2022-11-11T21:48:50.310Z"
   },
   {
    "duration": 6,
    "start_time": "2022-11-11T21:48:50.579Z"
   },
   {
    "duration": 152,
    "start_time": "2022-11-11T21:48:50.586Z"
   },
   {
    "duration": 199,
    "start_time": "2022-11-11T21:48:50.740Z"
   },
   {
    "duration": 210,
    "start_time": "2022-11-11T21:48:50.942Z"
   },
   {
    "duration": 150,
    "start_time": "2022-11-11T21:48:51.154Z"
   },
   {
    "duration": 157,
    "start_time": "2022-11-11T21:48:51.306Z"
   },
   {
    "duration": 12,
    "start_time": "2022-11-11T21:48:51.465Z"
   },
   {
    "duration": 155,
    "start_time": "2022-11-11T21:48:51.479Z"
   },
   {
    "duration": 12,
    "start_time": "2022-11-11T21:48:51.636Z"
   },
   {
    "duration": 155,
    "start_time": "2022-11-11T21:48:51.650Z"
   },
   {
    "duration": 143,
    "start_time": "2022-11-11T21:48:51.806Z"
   },
   {
    "duration": 31,
    "start_time": "2022-11-11T21:48:51.952Z"
   },
   {
    "duration": 263,
    "start_time": "2022-11-11T21:48:51.984Z"
   },
   {
    "duration": 27,
    "start_time": "2022-11-11T21:48:52.249Z"
   },
   {
    "duration": 218,
    "start_time": "2022-11-11T21:48:52.278Z"
   },
   {
    "duration": 35,
    "start_time": "2022-11-11T21:48:52.497Z"
   },
   {
    "duration": 165,
    "start_time": "2022-11-11T21:48:52.535Z"
   },
   {
    "duration": 53,
    "start_time": "2022-11-11T21:48:52.702Z"
   },
   {
    "duration": 3,
    "start_time": "2022-11-11T21:48:52.757Z"
   },
   {
    "duration": 16,
    "start_time": "2022-11-11T21:48:52.762Z"
   },
   {
    "duration": 25,
    "start_time": "2022-11-11T21:48:52.784Z"
   },
   {
    "duration": 174,
    "start_time": "2022-11-11T21:48:52.811Z"
   },
   {
    "duration": 488,
    "start_time": "2022-11-11T21:49:27.469Z"
   },
   {
    "duration": 16,
    "start_time": "2022-11-11T21:49:27.959Z"
   },
   {
    "duration": 32,
    "start_time": "2022-11-11T21:49:27.976Z"
   },
   {
    "duration": 3480,
    "start_time": "2022-11-11T21:49:28.010Z"
   },
   {
    "duration": 10,
    "start_time": "2022-11-11T21:49:31.492Z"
   },
   {
    "duration": 88,
    "start_time": "2022-11-11T21:49:31.503Z"
   },
   {
    "duration": 3,
    "start_time": "2022-11-11T21:49:31.593Z"
   },
   {
    "duration": 11,
    "start_time": "2022-11-11T21:49:31.597Z"
   },
   {
    "duration": 18,
    "start_time": "2022-11-11T21:49:31.609Z"
   },
   {
    "duration": 13,
    "start_time": "2022-11-11T21:49:31.630Z"
   },
   {
    "duration": 18,
    "start_time": "2022-11-11T21:49:31.644Z"
   },
   {
    "duration": 4,
    "start_time": "2022-11-11T21:49:31.663Z"
   },
   {
    "duration": 34,
    "start_time": "2022-11-11T21:49:31.668Z"
   },
   {
    "duration": 8,
    "start_time": "2022-11-11T21:49:31.704Z"
   },
   {
    "duration": 20,
    "start_time": "2022-11-11T21:49:31.718Z"
   },
   {
    "duration": 3,
    "start_time": "2022-11-11T21:49:31.739Z"
   },
   {
    "duration": 2410,
    "start_time": "2022-11-11T21:49:31.743Z"
   },
   {
    "duration": 6,
    "start_time": "2022-11-11T21:49:34.155Z"
   },
   {
    "duration": 9,
    "start_time": "2022-11-11T21:49:34.163Z"
   },
   {
    "duration": 24,
    "start_time": "2022-11-11T21:49:34.174Z"
   },
   {
    "duration": 22,
    "start_time": "2022-11-11T21:49:34.200Z"
   },
   {
    "duration": 8,
    "start_time": "2022-11-11T21:49:34.223Z"
   },
   {
    "duration": 26,
    "start_time": "2022-11-11T21:49:34.234Z"
   },
   {
    "duration": 12,
    "start_time": "2022-11-11T21:49:34.262Z"
   },
   {
    "duration": 4,
    "start_time": "2022-11-11T21:49:34.276Z"
   },
   {
    "duration": 12,
    "start_time": "2022-11-11T21:49:34.282Z"
   },
   {
    "duration": 13,
    "start_time": "2022-11-11T21:49:34.321Z"
   },
   {
    "duration": 39,
    "start_time": "2022-11-11T21:49:34.338Z"
   },
   {
    "duration": 150,
    "start_time": "2022-11-11T21:49:34.378Z"
   },
   {
    "duration": 162,
    "start_time": "2022-11-11T21:49:34.530Z"
   },
   {
    "duration": 32,
    "start_time": "2022-11-11T21:49:34.694Z"
   },
   {
    "duration": 7,
    "start_time": "2022-11-11T21:49:34.728Z"
   },
   {
    "duration": 18,
    "start_time": "2022-11-11T21:49:34.737Z"
   },
   {
    "duration": 7,
    "start_time": "2022-11-11T21:49:34.756Z"
   },
   {
    "duration": 9,
    "start_time": "2022-11-11T21:49:34.765Z"
   },
   {
    "duration": 6,
    "start_time": "2022-11-11T21:49:34.775Z"
   },
   {
    "duration": 6,
    "start_time": "2022-11-11T21:49:34.782Z"
   },
   {
    "duration": 399,
    "start_time": "2022-11-11T21:49:34.790Z"
   },
   {
    "duration": 5,
    "start_time": "2022-11-11T21:49:35.191Z"
   },
   {
    "duration": 18,
    "start_time": "2022-11-11T21:49:35.198Z"
   },
   {
    "duration": 30,
    "start_time": "2022-11-11T21:49:35.218Z"
   },
   {
    "duration": 22,
    "start_time": "2022-11-11T21:49:35.250Z"
   },
   {
    "duration": 1703,
    "start_time": "2022-11-11T21:49:35.273Z"
   },
   {
    "duration": 276,
    "start_time": "2022-11-11T21:49:36.978Z"
   },
   {
    "duration": 340,
    "start_time": "2022-11-11T21:49:37.255Z"
   },
   {
    "duration": 234,
    "start_time": "2022-11-11T21:49:37.619Z"
   },
   {
    "duration": 424,
    "start_time": "2022-11-11T21:49:37.855Z"
   },
   {
    "duration": 343,
    "start_time": "2022-11-11T21:49:38.281Z"
   },
   {
    "duration": 231,
    "start_time": "2022-11-11T21:49:38.626Z"
   },
   {
    "duration": 240,
    "start_time": "2022-11-11T21:49:38.859Z"
   },
   {
    "duration": 8,
    "start_time": "2022-11-11T21:49:39.102Z"
   },
   {
    "duration": 246,
    "start_time": "2022-11-11T21:49:39.121Z"
   },
   {
    "duration": 224,
    "start_time": "2022-11-11T21:49:39.368Z"
   },
   {
    "duration": 231,
    "start_time": "2022-11-11T21:49:39.593Z"
   },
   {
    "duration": 246,
    "start_time": "2022-11-11T21:49:39.827Z"
   },
   {
    "duration": 221,
    "start_time": "2022-11-11T21:49:40.075Z"
   },
   {
    "duration": 247,
    "start_time": "2022-11-11T21:49:40.298Z"
   },
   {
    "duration": 8,
    "start_time": "2022-11-11T21:49:40.547Z"
   },
   {
    "duration": 322,
    "start_time": "2022-11-11T21:49:40.557Z"
   },
   {
    "duration": 217,
    "start_time": "2022-11-11T21:49:40.881Z"
   },
   {
    "duration": 274,
    "start_time": "2022-11-11T21:49:41.100Z"
   },
   {
    "duration": 7,
    "start_time": "2022-11-11T21:49:41.376Z"
   },
   {
    "duration": 155,
    "start_time": "2022-11-11T21:49:41.384Z"
   },
   {
    "duration": 190,
    "start_time": "2022-11-11T21:49:41.541Z"
   },
   {
    "duration": 206,
    "start_time": "2022-11-11T21:49:41.733Z"
   },
   {
    "duration": 155,
    "start_time": "2022-11-11T21:49:41.941Z"
   },
   {
    "duration": 161,
    "start_time": "2022-11-11T21:49:42.098Z"
   },
   {
    "duration": 13,
    "start_time": "2022-11-11T21:49:42.260Z"
   },
   {
    "duration": 165,
    "start_time": "2022-11-11T21:49:42.274Z"
   },
   {
    "duration": 12,
    "start_time": "2022-11-11T21:49:42.441Z"
   },
   {
    "duration": 147,
    "start_time": "2022-11-11T21:49:42.454Z"
   },
   {
    "duration": 142,
    "start_time": "2022-11-11T21:49:42.602Z"
   },
   {
    "duration": 29,
    "start_time": "2022-11-11T21:49:42.745Z"
   },
   {
    "duration": 267,
    "start_time": "2022-11-11T21:49:42.776Z"
   },
   {
    "duration": 28,
    "start_time": "2022-11-11T21:49:43.044Z"
   },
   {
    "duration": 210,
    "start_time": "2022-11-11T21:49:43.074Z"
   },
   {
    "duration": 41,
    "start_time": "2022-11-11T21:49:43.286Z"
   },
   {
    "duration": 178,
    "start_time": "2022-11-11T21:49:43.329Z"
   },
   {
    "duration": 52,
    "start_time": "2022-11-11T21:49:43.509Z"
   },
   {
    "duration": 3,
    "start_time": "2022-11-11T21:49:43.563Z"
   },
   {
    "duration": 13,
    "start_time": "2022-11-11T21:49:43.568Z"
   },
   {
    "duration": 44,
    "start_time": "2022-11-11T21:49:43.587Z"
   },
   {
    "duration": 172,
    "start_time": "2022-11-11T21:49:43.633Z"
   },
   {
    "duration": 14,
    "start_time": "2022-11-11T21:50:09.152Z"
   },
   {
    "duration": 11,
    "start_time": "2022-11-11T21:50:21.759Z"
   },
   {
    "duration": 15,
    "start_time": "2022-11-11T21:50:24.235Z"
   },
   {
    "duration": 533,
    "start_time": "2022-11-11T21:51:03.369Z"
   },
   {
    "duration": 22,
    "start_time": "2022-11-11T21:51:03.905Z"
   },
   {
    "duration": 46,
    "start_time": "2022-11-11T21:51:03.931Z"
   },
   {
    "duration": 3871,
    "start_time": "2022-11-11T21:51:03.980Z"
   },
   {
    "duration": 11,
    "start_time": "2022-11-11T21:51:07.852Z"
   },
   {
    "duration": 61,
    "start_time": "2022-11-11T21:51:07.864Z"
   },
   {
    "duration": 6,
    "start_time": "2022-11-11T21:51:07.928Z"
   },
   {
    "duration": 25,
    "start_time": "2022-11-11T21:51:07.936Z"
   },
   {
    "duration": 18,
    "start_time": "2022-11-11T21:51:07.963Z"
   },
   {
    "duration": 15,
    "start_time": "2022-11-11T21:51:07.983Z"
   },
   {
    "duration": 23,
    "start_time": "2022-11-11T21:51:07.999Z"
   },
   {
    "duration": 23,
    "start_time": "2022-11-11T21:51:08.024Z"
   },
   {
    "duration": 27,
    "start_time": "2022-11-11T21:51:08.050Z"
   },
   {
    "duration": 7,
    "start_time": "2022-11-11T21:51:08.079Z"
   },
   {
    "duration": 12,
    "start_time": "2022-11-11T21:51:08.087Z"
   },
   {
    "duration": 3,
    "start_time": "2022-11-11T21:51:08.100Z"
   },
   {
    "duration": 2529,
    "start_time": "2022-11-11T21:51:08.105Z"
   },
   {
    "duration": 5,
    "start_time": "2022-11-11T21:51:10.636Z"
   },
   {
    "duration": 10,
    "start_time": "2022-11-11T21:51:10.643Z"
   },
   {
    "duration": 24,
    "start_time": "2022-11-11T21:51:10.655Z"
   },
   {
    "duration": 9,
    "start_time": "2022-11-11T21:51:10.681Z"
   },
   {
    "duration": 5,
    "start_time": "2022-11-11T21:51:10.691Z"
   },
   {
    "duration": 26,
    "start_time": "2022-11-11T21:51:10.718Z"
   },
   {
    "duration": 14,
    "start_time": "2022-11-11T21:51:10.746Z"
   },
   {
    "duration": 6,
    "start_time": "2022-11-11T21:51:10.762Z"
   },
   {
    "duration": 14,
    "start_time": "2022-11-11T21:51:10.770Z"
   },
   {
    "duration": 52,
    "start_time": "2022-11-11T21:51:10.786Z"
   },
   {
    "duration": 40,
    "start_time": "2022-11-11T21:51:10.843Z"
   },
   {
    "duration": 127,
    "start_time": "2022-11-11T21:51:10.885Z"
   },
   {
    "duration": 155,
    "start_time": "2022-11-11T21:51:11.025Z"
   },
   {
    "duration": 23,
    "start_time": "2022-11-11T21:51:11.182Z"
   },
   {
    "duration": 12,
    "start_time": "2022-11-11T21:51:11.223Z"
   },
   {
    "duration": 17,
    "start_time": "2022-11-11T21:51:11.236Z"
   },
   {
    "duration": 4,
    "start_time": "2022-11-11T21:51:11.255Z"
   },
   {
    "duration": 8,
    "start_time": "2022-11-11T21:51:11.260Z"
   },
   {
    "duration": 5,
    "start_time": "2022-11-11T21:51:11.270Z"
   },
   {
    "duration": 5,
    "start_time": "2022-11-11T21:51:11.278Z"
   },
   {
    "duration": 389,
    "start_time": "2022-11-11T21:51:11.284Z"
   },
   {
    "duration": 4,
    "start_time": "2022-11-11T21:51:11.674Z"
   },
   {
    "duration": 7,
    "start_time": "2022-11-11T21:51:11.680Z"
   },
   {
    "duration": 23,
    "start_time": "2022-11-11T21:51:11.688Z"
   },
   {
    "duration": 29,
    "start_time": "2022-11-11T21:51:11.720Z"
   },
   {
    "duration": 1651,
    "start_time": "2022-11-11T21:51:11.751Z"
   },
   {
    "duration": 259,
    "start_time": "2022-11-11T21:51:13.403Z"
   },
   {
    "duration": 246,
    "start_time": "2022-11-11T21:51:13.664Z"
   },
   {
    "duration": 250,
    "start_time": "2022-11-11T21:51:13.912Z"
   },
   {
    "duration": 289,
    "start_time": "2022-11-11T21:51:14.163Z"
   },
   {
    "duration": 336,
    "start_time": "2022-11-11T21:51:14.454Z"
   },
   {
    "duration": 246,
    "start_time": "2022-11-11T21:51:14.792Z"
   },
   {
    "duration": 244,
    "start_time": "2022-11-11T21:51:15.040Z"
   },
   {
    "duration": 8,
    "start_time": "2022-11-11T21:51:15.286Z"
   },
   {
    "duration": 247,
    "start_time": "2022-11-11T21:51:15.296Z"
   },
   {
    "duration": 235,
    "start_time": "2022-11-11T21:51:15.545Z"
   },
   {
    "duration": 214,
    "start_time": "2022-11-11T21:51:15.782Z"
   },
   {
    "duration": 249,
    "start_time": "2022-11-11T21:51:15.998Z"
   },
   {
    "duration": 217,
    "start_time": "2022-11-11T21:51:16.248Z"
   },
   {
    "duration": 275,
    "start_time": "2022-11-11T21:51:16.467Z"
   },
   {
    "duration": 10,
    "start_time": "2022-11-11T21:51:16.744Z"
   },
   {
    "duration": 325,
    "start_time": "2022-11-11T21:51:16.756Z"
   },
   {
    "duration": 205,
    "start_time": "2022-11-11T21:51:17.083Z"
   },
   {
    "duration": 280,
    "start_time": "2022-11-11T21:51:17.289Z"
   },
   {
    "duration": 6,
    "start_time": "2022-11-11T21:51:17.571Z"
   },
   {
    "duration": 151,
    "start_time": "2022-11-11T21:51:17.578Z"
   },
   {
    "duration": 234,
    "start_time": "2022-11-11T21:51:17.731Z"
   },
   {
    "duration": 197,
    "start_time": "2022-11-11T21:51:17.966Z"
   },
   {
    "duration": 147,
    "start_time": "2022-11-11T21:51:18.166Z"
   },
   {
    "duration": 163,
    "start_time": "2022-11-11T21:51:18.319Z"
   },
   {
    "duration": 13,
    "start_time": "2022-11-11T21:51:18.484Z"
   },
   {
    "duration": 166,
    "start_time": "2022-11-11T21:51:18.498Z"
   },
   {
    "duration": 12,
    "start_time": "2022-11-11T21:51:18.666Z"
   },
   {
    "duration": 159,
    "start_time": "2022-11-11T21:51:18.680Z"
   },
   {
    "duration": 132,
    "start_time": "2022-11-11T21:51:18.840Z"
   },
   {
    "duration": 27,
    "start_time": "2022-11-11T21:51:18.974Z"
   },
   {
    "duration": 265,
    "start_time": "2022-11-11T21:51:19.003Z"
   },
   {
    "duration": 25,
    "start_time": "2022-11-11T21:51:19.270Z"
   },
   {
    "duration": 208,
    "start_time": "2022-11-11T21:51:19.297Z"
   },
   {
    "duration": 33,
    "start_time": "2022-11-11T21:51:19.506Z"
   },
   {
    "duration": 167,
    "start_time": "2022-11-11T21:51:19.541Z"
   },
   {
    "duration": 47,
    "start_time": "2022-11-11T21:51:19.710Z"
   },
   {
    "duration": 3,
    "start_time": "2022-11-11T21:51:19.759Z"
   },
   {
    "duration": 21,
    "start_time": "2022-11-11T21:51:19.763Z"
   },
   {
    "duration": 14,
    "start_time": "2022-11-11T21:51:19.788Z"
   },
   {
    "duration": 187,
    "start_time": "2022-11-11T21:51:19.803Z"
   },
   {
    "duration": 15,
    "start_time": "2022-11-11T21:51:21.336Z"
   },
   {
    "duration": 11,
    "start_time": "2022-11-11T21:51:30.031Z"
   },
   {
    "duration": 15,
    "start_time": "2022-11-11T21:51:31.932Z"
   },
   {
    "duration": 140,
    "start_time": "2022-11-11T21:53:09.491Z"
   },
   {
    "duration": 217,
    "start_time": "2022-11-11T21:53:44.122Z"
   },
   {
    "duration": 171,
    "start_time": "2022-11-11T21:56:10.203Z"
   }
  ],
  "kernelspec": {
   "display_name": "Python 3 (ipykernel)",
   "language": "python",
   "name": "python3"
  },
  "language_info": {
   "codemirror_mode": {
    "name": "ipython",
    "version": 3
   },
   "file_extension": ".py",
   "mimetype": "text/x-python",
   "name": "python",
   "nbconvert_exporter": "python",
   "pygments_lexer": "ipython3",
   "version": "3.9.5"
  },
  "toc": {
   "base_numbering": 1,
   "nav_menu": {},
   "number_sections": true,
   "sideBar": true,
   "skip_h1_title": true,
   "title_cell": "Table of Contents",
   "title_sidebar": "Contents",
   "toc_cell": false,
   "toc_position": {},
   "toc_section_display": true,
   "toc_window_display": true
  },
  "vscode": {
   "interpreter": {
    "hash": "018dd0b91a4a5b856624ba25609360101cdc9b0ec377251ae765dbdcc1323ecf"
   }
  }
 },
 "nbformat": 4,
 "nbformat_minor": 2
}
